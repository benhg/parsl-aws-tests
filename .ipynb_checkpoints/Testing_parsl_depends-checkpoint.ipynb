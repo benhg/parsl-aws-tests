{
 "cells": [
  {
   "cell_type": "code",
   "execution_count": 2,
   "metadata": {},
   "outputs": [
    {
     "name": "stdout",
     "output_type": "stream",
     "text": [
      "0.2.2-alpha\n"
     ]
    }
   ],
   "source": [
    "import parsl\n",
    "from parsl import *\n",
    "print(parsl.__version__)"
   ]
  },
  {
   "cell_type": "code",
   "execution_count": 3,
   "metadata": {
    "collapsed": true
   },
   "outputs": [],
   "source": [
    "workers = ThreadPoolExecutor(max_workers=8)\n",
    "dfk = DataFlowKernel(workers)\n",
    "\n",
    "@App('python', dfk)\n",
    "def add(x, y):  \n",
    "    import time\n",
    "    time.sleep(1)\n",
    "    return x+y"
   ]
  },
  {
   "cell_type": "code",
   "execution_count": 4,
   "metadata": {},
   "outputs": [
    {
     "name": "stdout",
     "output_type": "stream",
     "text": [
      "Index[2] : <AppFuture at 0x10cd48278 state=running>\n",
      "Index[3] : <AppFuture at 0x10d079cf8 state=pending>\n",
      "Index[4] : <AppFuture at 0x10d079c88 state=pending>\n",
      "Index[5] : <AppFuture at 0x10d079e48 state=pending>\n",
      "Index[6] : <AppFuture at 0x10d079ef0 state=pending>\n",
      "Index[7] : <AppFuture at 0x10d079d68 state=pending>\n",
      "Index[8] : <AppFuture at 0x10d03ca58 state=pending>\n",
      "Index[9] : <AppFuture at 0x10d03c860 state=pending>\n",
      "Index[10] : <AppFuture at 0x10bdb6f28 state=pending>\n"
     ]
    }
   ],
   "source": [
    "\n",
    "fibs = [0,1]\n",
    "for i in range(0,9):\n",
    "    cur = add(fibs[i], fibs[i+1])\n",
    "    print(\"Index[{0}] : {1}\".format(i+2, cur))\n",
    "    fibs.extend([cur])\n"
   ]
  },
  {
   "cell_type": "code",
   "execution_count": 5,
   "metadata": {},
   "outputs": [
    {
     "name": "stdout",
     "output_type": "stream",
     "text": [
      "[1, 2, 3, 5, 8, 13, 21, 34, 55]\n"
     ]
    }
   ],
   "source": [
    "print([i.result() for i in fibs if not isinstance(i, int)]) "
   ]
  },
  {
   "cell_type": "code",
   "execution_count": 5,
   "metadata": {},
   "outputs": [
    {
     "name": "stdout",
     "output_type": "stream",
     "text": [
      "{'depends': [<AppFuture at 0x7fa1102b70f0 state=finished returned int>, <AppFuture at 0x7fa1102b71d0 state=finished returned int>], 'kwargs': {}, 'status': <States.done: 3>, 'app_fu': <AppFuture at 0x7fa1102b72b0 state=finished returned int>, 'func': <function add at 0x7fa1102a7e18>, 'dep_cnt': 2, 'exec_fu': <Future at 0x7fa1102b7a58 state=finished returned int>, 'args': (<AppFuture at 0x7fa1102b70f0 state=finished returned int>, <AppFuture at 0x7fa1102b71d0 state=finished returned int>), 'callback': None}\n"
     ]
    }
   ],
   "source": [
    "print(dfk.tasks[3])"
   ]
  }
 ],
 "metadata": {
  "kernelspec": {
   "display_name": "Python 3",
   "language": "python",
   "name": "python3"
  },
  "language_info": {
   "codemirror_mode": {
    "name": "ipython",
    "version": 3
   },
   "file_extension": ".py",
   "mimetype": "text/x-python",
   "name": "python",
   "nbconvert_exporter": "python",
   "pygments_lexer": "ipython3",
   "version": "3.6.1"
  }
 },
 "nbformat": 4,
 "nbformat_minor": 2
}
