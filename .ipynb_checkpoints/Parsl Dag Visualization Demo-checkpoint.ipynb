{
 "cells": [
  {
   "cell_type": "code",
   "execution_count": 2,
   "metadata": {},
   "outputs": [],
   "source": [
    "import random\n",
    "import parsl\n",
    "from parsl import *\n",
    "import pprint\n",
    "import json\n",
    "\n",
    "workers = ThreadPoolExecutor(max_workers=8)\n",
    "dfk = DataFlowKernel(workers)"
   ]
  },
  {
   "cell_type": "code",
   "execution_count": 2,
   "metadata": {
    "collapsed": true
   },
   "outputs": [],
   "source": [
    "@App('python', dfk)\n",
    "def sleep_fail(sleep_dur, sleep_rand_max, fail_prob, inputs=[]):\n",
    "    import time\n",
    "    import random\n",
    "\n",
    "    s = sleep_dur + random.randint(-sleep_rand_max, sleep_rand_max)\n",
    "    print(\"Sleeping for : \", s)\n",
    "    time.sleep(s)\n",
    "    x = float(random.randint(0,100)) / 100\n",
    "    if x <= fail_prob :\n",
    "        print(\"Fail\")\n",
    "        raise Exception(\"App failure\")\n",
    "    else:\n",
    "        print(\"Succeed\")\n",
    "\n",
    "\n",
    "\n",
    "def test1 (numtasks ) :\n",
    "    fus = []\n",
    "    for i in range(0,10):\n",
    "\n",
    "        fu = sleep_fail(0, 0, .0)\n",
    "        fus.extend([fu])\n",
    "\n",
    "\n",
    "    count = 0\n",
    "    for fu in fus :\n",
    "        try:\n",
    "            x = fu.result()\n",
    "        except Exception as e:\n",
    "            count += 1\n",
    "            print(\"Caught fail \")\n",
    "\n",
    "    print(\"Caught failures of  {0}/{1}\".format(count, len(fus)))\n",
    "\n",
    "\n",
    "def test_deps (numtasks) :\n",
    "\n",
    "    '''\n",
    "    App1   App2  ... AppN\n",
    "    '''\n",
    "    fus = []\n",
    "    for i in range(0,10):\n",
    "        fu = sleep_fail(1, 0, .0)\n",
    "        fus.extend([fu])\n",
    "\n",
    "    '''\n",
    "    App1   App2  ... AppN\n",
    "    |       |        |\n",
    "    V       V        V\n",
    "    App1   App2  ... AppN\n",
    "    '''\n",
    "\n",
    "    fus_2 = []\n",
    "    for fu in fus:\n",
    "        fu = sleep_fail(0, 0, .0, inputs=[fu])\n",
    "        fus_2.extend([fu])\n",
    "\n",
    "    '''\n",
    "    App1   App2  ... AppN\n",
    "      |       |        |\n",
    "      V       V        V\n",
    "    App1   App2  ... AppN\n",
    "       \\      |       /\n",
    "        \\     |      /\n",
    "          App_Final\n",
    "    '''\n",
    "    fu_final = sleep_fail(1, 0, 0, inputs=fus_2)\n",
    "\n",
    "\n",
    "    print(\"Final status : \", fu_final.result())"
   ]
  },
  {
   "cell_type": "code",
   "execution_count": 3,
   "metadata": {},
   "outputs": [
    {
     "name": "stdout",
     "output_type": "stream",
     "text": [
      "Sleeping for :  1\n",
      "Sleeping for :  1\n",
      "Sleeping for :  1\n",
      "Sleeping for :  Sleeping for : Sleeping for : 1  \n",
      "11\n",
      "\n",
      "Sleeping for :  Sleeping for : 1 \n",
      "1\n",
      "Succeed\n",
      "Sleeping for :  1\n",
      "SucceedSucceed\n",
      "\n",
      "Sleeping for : Sleeping for :  Succeed 1\n",
      "\n",
      "0Sleeping for : \n",
      "Succeed\n",
      "Sleeping for :  0\n",
      "Succeed\n",
      " Sleeping for : 0\n",
      "Succeed\n",
      " 0\n",
      "Succeed\n",
      "Succeed\n",
      "SucceedSucceed\n",
      "Succeed\n",
      "Sleeping for :  0\n",
      "Succeed\n",
      "\n",
      "Sleeping for :  Sleeping for : Sleeping for : 0\n",
      "Succeed 0\n",
      "\n",
      " 0\n",
      "SucceedSucceed\n",
      "\n",
      "Succeed\n",
      "Sleeping for :  0\n",
      "Succeed\n",
      "Succeed\n",
      "Sleeping for :  0\n",
      "Succeed\n",
      "Sleeping for :  1\n",
      "Succeed\n",
      "Final status :  None\n"
     ]
    }
   ],
   "source": [
    "test_deps(100)"
   ]
  },
  {
   "cell_type": "code",
   "execution_count": 49,
   "metadata": {
    "collapsed": true
   },
   "outputs": [],
   "source": [
    "from parsl.dataflow.states import States\n",
    "class DFKListener():\n",
    "    def __init__(self, dfk):\n",
    "        self.dfk = dfk\n",
    "        self.nodes_list = []\n",
    "        self.edges_list = []\n",
    "        self.color_lookup_table = {\n",
    "                     States.unsched : \"Pink\",\n",
    "                      States.pending : \"Yellow\",\n",
    "                      States.runnable: \"Blue\",\n",
    "                      States.running : \"Lime\",\n",
    "                      States.done: \"Green\",\n",
    "                      States.failed  : \"Red\",\n",
    "                      States.dep_fail: \"orange\"\n",
    "        }\n",
    "        self.state_lookup_table = {\n",
    "                     States.unsched : \"Unscheduled\",\n",
    "                      States.pending : \"Pending\",\n",
    "                      States.runnable: \"Runnable\",\n",
    "                      States.running : \"Running\",\n",
    "                      States.done: \"Finished\",\n",
    "                      States.failed  : \"Failed\",\n",
    "                      States.dep_fail: \"Dependency Failure\"\n",
    "        }\n",
    "\n",
    "\n",
    "    @property\n",
    "    def nodes(self):\n",
    "        return self.nodes_list\n",
    "        \n",
    "    @property\n",
    "    def edges(self):\n",
    "        return self.edges_list\n",
    "    \n",
    "    \n",
    "    def create_nodes(self, dfke=None):\n",
    "        dfk = dfke if dfke else self.dfk\n",
    "        for task in dfk.tasks:\n",
    "            state = dfk.tasks[task]['status']\n",
    "            tid = dfk.tasks[task]['app_fu'].tid\n",
    "            task = {\"id\": tid, \"label\": tid, \"color\": self.color_lookup_table[state], \"font\": {\"background\": \"white\"}, \"title\": self.state_lookup_table[state]}\n",
    "            self.nodes_list.append(task)\n",
    "        return self.nodes\n",
    "    \n",
    "    def create_edges(self, dfke=None):\n",
    "        dfk = dfke if dfke else self.dfk\n",
    "        for task in dfk.tasks:\n",
    "            deps = state = dfk.tasks[task]['depends']\n",
    "            for dep in deps:\n",
    "                edge = {\"from\" : dep, \"to\": task, \"arrows\":'to'}\n",
    "                self.edges_list.append(edge)\n",
    "        return self.edges\n",
    "            \n"
   ]
  },
  {
   "cell_type": "code",
   "execution_count": 50,
   "metadata": {
    "collapsed": true
   },
   "outputs": [],
   "source": [
    "dfkl = DFKListener(dfk)"
   ]
  },
  {
   "cell_type": "code",
   "execution_count": 51,
   "metadata": {},
   "outputs": [
    {
     "data": {
      "text/plain": [
       "[{'color': 'Green',\n",
       "  'font': {'background': 'white'},\n",
       "  'id': 0,\n",
       "  'label': 0,\n",
       "  'title': 'Finished'},\n",
       " {'color': 'Green',\n",
       "  'font': {'background': 'white'},\n",
       "  'id': 1,\n",
       "  'label': 1,\n",
       "  'title': 'Finished'},\n",
       " {'color': 'Green',\n",
       "  'font': {'background': 'white'},\n",
       "  'id': 2,\n",
       "  'label': 2,\n",
       "  'title': 'Finished'},\n",
       " {'color': 'Green',\n",
       "  'font': {'background': 'white'},\n",
       "  'id': 3,\n",
       "  'label': 3,\n",
       "  'title': 'Finished'},\n",
       " {'color': 'Green',\n",
       "  'font': {'background': 'white'},\n",
       "  'id': 4,\n",
       "  'label': 4,\n",
       "  'title': 'Finished'},\n",
       " {'color': 'Green',\n",
       "  'font': {'background': 'white'},\n",
       "  'id': 5,\n",
       "  'label': 5,\n",
       "  'title': 'Finished'},\n",
       " {'color': 'Green',\n",
       "  'font': {'background': 'white'},\n",
       "  'id': 6,\n",
       "  'label': 6,\n",
       "  'title': 'Finished'},\n",
       " {'color': 'Green',\n",
       "  'font': {'background': 'white'},\n",
       "  'id': 7,\n",
       "  'label': 7,\n",
       "  'title': 'Finished'},\n",
       " {'color': 'Green',\n",
       "  'font': {'background': 'white'},\n",
       "  'id': 8,\n",
       "  'label': 8,\n",
       "  'title': 'Finished'},\n",
       " {'color': 'Green',\n",
       "  'font': {'background': 'white'},\n",
       "  'id': 9,\n",
       "  'label': 9,\n",
       "  'title': 'Finished'},\n",
       " {'color': 'Green',\n",
       "  'font': {'background': 'white'},\n",
       "  'id': 10,\n",
       "  'label': 10,\n",
       "  'title': 'Finished'},\n",
       " {'color': 'Green',\n",
       "  'font': {'background': 'white'},\n",
       "  'id': 11,\n",
       "  'label': 11,\n",
       "  'title': 'Finished'},\n",
       " {'color': 'Green',\n",
       "  'font': {'background': 'white'},\n",
       "  'id': 12,\n",
       "  'label': 12,\n",
       "  'title': 'Finished'},\n",
       " {'color': 'Green',\n",
       "  'font': {'background': 'white'},\n",
       "  'id': 13,\n",
       "  'label': 13,\n",
       "  'title': 'Finished'},\n",
       " {'color': 'Green',\n",
       "  'font': {'background': 'white'},\n",
       "  'id': 14,\n",
       "  'label': 14,\n",
       "  'title': 'Finished'},\n",
       " {'color': 'Green',\n",
       "  'font': {'background': 'white'},\n",
       "  'id': 15,\n",
       "  'label': 15,\n",
       "  'title': 'Finished'},\n",
       " {'color': 'Green',\n",
       "  'font': {'background': 'white'},\n",
       "  'id': 16,\n",
       "  'label': 16,\n",
       "  'title': 'Finished'},\n",
       " {'color': 'Green',\n",
       "  'font': {'background': 'white'},\n",
       "  'id': 17,\n",
       "  'label': 17,\n",
       "  'title': 'Finished'},\n",
       " {'color': 'Green',\n",
       "  'font': {'background': 'white'},\n",
       "  'id': 18,\n",
       "  'label': 18,\n",
       "  'title': 'Finished'},\n",
       " {'color': 'Green',\n",
       "  'font': {'background': 'white'},\n",
       "  'id': 19,\n",
       "  'label': 19,\n",
       "  'title': 'Finished'},\n",
       " {'color': 'Green',\n",
       "  'font': {'background': 'white'},\n",
       "  'id': 20,\n",
       "  'label': 20,\n",
       "  'title': 'Finished'}]"
      ]
     },
     "execution_count": 51,
     "metadata": {},
     "output_type": "execute_result"
    }
   ],
   "source": [
    "dfkl.create_edges()\n",
    "dfkl.create_nodes()"
   ]
  },
  {
   "cell_type": "code",
   "execution_count": 5,
   "metadata": {},
   "outputs": [
    {
     "data": {
      "application/javascript": [
       "window.nodesList=[{\"font\": {\"background\": \"white\"}, \"title\": \"Finished\", \"color\": \"Green\", \"label\": 0, \"id\": 0}, {\"font\": {\"background\": \"white\"}, \"title\": \"Finished\", \"color\": \"Green\", \"label\": 1, \"id\": 1}, {\"font\": {\"background\": \"white\"}, \"title\": \"Failed\", \"color\": \"Red\", \"label\": 2, \"id\": 2}, {\"font\": {\"background\": \"white\"}, \"title\": \"Cancelled\", \"color\": \"Pink\", \"label\": 3, \"id\": 3}, {\"font\": {\"background\": \"white\"}, \"title\": \"Running\", \"color\": \"Blue\", \"label\": 4, \"id\": 4}, {\"font\": {\"background\": \"white\"}, \"title\": \"Dependency Failure\", \"color\": \"Orange\", \"label\": 5, \"id\": 5}, {\"font\": {\"background\": \"white\"}, \"title\": \"Dependency Failure\", \"color\": \"Orange\", \"label\": 6, \"id\": 6}, {\"font\": {\"background\": \"white\"}, \"title\": \"Dependency Failure\", \"color\": \"Orange\", \"label\": 7, \"id\": 7}, {\"font\": {\"background\": \"white\"}, \"title\": \"Pending\", \"color\": \"Yellow\", \"label\": 8, \"id\": 8}, {\"font\": {\"background\": \"white\"}, \"title\": \"Dependency Failure\", \"color\": \"Orange\", \"label\": 9, \"id\": 9}]; window.edgesList=[{\"from\": 0, \"arrows\": \"to\", \"to\": 3}, {\"from\": 1, \"arrows\": \"to\", \"to\": 4}, {\"from\": 2, \"arrows\": \"to\", \"to\": 5}, {\"from\": 3, \"arrows\": \"to\", \"to\": 7}, {\"from\": 4, \"arrows\": \"to\", \"to\": 8}, {\"from\": 5, \"arrows\": \"to\", \"to\": 6}, {\"from\": 6, \"arrows\": \"to\", \"to\": 9}, {\"from\": 7, \"arrows\": \"to\", \"to\": 9}, {\"from\": 8, \"arrows\": \"to\", \"to\": 9}];"
      ],
      "text/plain": [
       "<IPython.core.display.Javascript object>"
      ]
     },
     "execution_count": 5,
     "metadata": {},
     "output_type": "execute_result"
    }
   ],
   "source": [
    "from IPython.display import Javascript\n",
    "import json\n",
    "nodes = json.dumps([{'color': 'Green', 'font': {'background': 'white'}, 'id': 0, 'label': 0, 'title': 'Finished'}, {'color': 'Green', 'font': {'background': 'white'}, 'id': 1, 'label': 1, 'title': 'Finished'}, {'color': 'Red', 'font': {'background': 'white'}, 'id': 2, 'label': 2, 'title': 'Failed'}, {'color': 'Pink', 'font': {'background': 'white'}, 'id': 3, 'label': 3, 'title': 'Cancelled'}, {'color': 'Blue', 'font': {'background': 'white'}, 'id': 4, 'label': 4, 'title': 'Running'}, {'color': 'Orange', 'font': {'background': 'white'}, 'id': 5, 'label': 5, 'title': 'Dependency Failure'}, {'color': 'Orange', 'font': {'background': 'white'}, 'id': 6, 'label': 6, 'title': 'Dependency Failure'}, {'color': 'Orange', 'font': {'background': 'white'}, 'id': 7, 'label': 7, 'title': 'Dependency Failure'}, {'color': 'Yellow', 'font': {'background': 'white'}, 'id': 8, 'label': 8, 'title': 'Pending'}, {'color': 'Orange', 'font': {'background': 'white'}, 'id': 9, 'label': 9, 'title': 'Dependency Failure'}]) \n",
    "edges = json.dumps([{\"from\" : 0, \"to\": 3, \"arrows\":'to'},{\"from\" : 1, \"to\": 4, \"arrows\":'to'},{\"from\" : 2, \"to\": 5, \"arrows\":'to'},{\"from\" : 3, \"to\": 7, \"arrows\":'to'},{\"from\" : 4, \"to\": 8, \"arrows\":'to'},{\"from\" : 5, \"to\": 6, \"arrows\":'to'},{\"from\" : 6, \"to\": 9, \"arrows\":'to'},{\"from\" : 7, \"to\": 9, \"arrows\":'to'},{\"from\" : 8, \"to\": 9, \"arrows\":'to'}])\n",
    "#nodes = json.dumps(dfkl.nodes)\n",
    "#edges = json.dumps(dfkl.edges)\n",
    "Javascript(\"\"\"window.nodesList={}; window.edgesList={};\"\"\".format(nodes,edges))"
   ]
  },
  {
   "cell_type": "code",
   "execution_count": 21,
   "metadata": {},
   "outputs": [
    {
     "data": {
      "application/javascript": [
       "require.config({\n",
       "  paths: {\n",
       "    vis: 'https://visjs.org/dist/vis'\n",
       "  }\n",
       "});\n",
       "require(['vis'], function (vis) {\n",
       "    element.append('<div id=\"mynetwork\" style=\"width:950px;height:750px;border:1px solid lightgray;\"></div>')\n",
       "    var nodes = new vis.DataSet(nodesList);\n",
       "    var edges = new vis.DataSet(edgesList);\n",
       "    var container = document.getElementById('mynetwork');\n",
       "    var data = {\n",
       "         nodes: nodes,\n",
       "         edges: edges\n",
       "     };\n",
       "     var options = {interaction:{hover:true}, \n",
       "                   layout: {\n",
       "                    hierarchical: {\n",
       "                        direction: 'DU'\n",
       "                    }}\n",
       "                   };\n",
       "     var network = new vis.Network(container, data, options);\n",
       "     network.on(\"hoverNode\", function (params) {\n",
       "             \n",
       "     });\n",
       "     network.on(\"hoverEdge\", function (params) {\n",
       "            \n",
       "     });\n",
       "     network.on(\"blurNode\", function (params) {\n",
       "             \n",
       "     });\n",
       "     network.on(\"blurEdge\", function (params) {\n",
       "             \n",
       "     });\n",
       "});"
      ],
      "text/plain": [
       "<IPython.core.display.Javascript object>"
      ]
     },
     "metadata": {},
     "output_type": "display_data"
    }
   ],
   "source": [
    "%%javascript\n",
    "require.config({\n",
    "  paths: {\n",
    "    vis: 'https://visjs.org/dist/vis'\n",
    "  }\n",
    "});\n",
    "require(['vis'], function (vis) {\n",
    "    element.append('<div id=\"mynetwork\" style=\"width:950px;height:750px;border:1px solid lightgray;\"></div>')\n",
    "    var nodes = new vis.DataSet(nodesList);\n",
    "    var edges = new vis.DataSet(edgesList);\n",
    "    var container = document.getElementById('mynetwork');\n",
    "    var data = {\n",
    "         nodes: nodes,\n",
    "         edges: edges\n",
    "     };\n",
    "     var options = {interaction:{hover:true}, \n",
    "                   layout: {\n",
    "                    hierarchical: {\n",
    "                        direction: 'DU'\n",
    "                    }}\n",
    "                   };\n",
    "     var network = new vis.Network(container, data, options);\n",
    "     network.on(\"hoverNode\", function (params) {\n",
    "             \n",
    "     });\n",
    "     network.on(\"hoverEdge\", function (params) {\n",
    "            \n",
    "     });\n",
    "     network.on(\"blurNode\", function (params) {\n",
    "             \n",
    "     });\n",
    "     network.on(\"blurEdge\", function (params) {\n",
    "             \n",
    "     });\n",
    "});\n"
   ]
  },
  {
   "cell_type": "code",
   "execution_count": 24,
   "metadata": {},
   "outputs": [
    {
     "data": {
      "application/javascript": [
       "$(\".vis-tooltip\").insertBefore($(\".vis-network\"))"
      ],
      "text/plain": [
       "<IPython.core.display.Javascript object>"
      ]
     },
     "metadata": {},
     "output_type": "display_data"
    }
   ],
   "source": [
    "%%javascript \n",
    "$(\".vis-tooltip\").insertBefore($(\".vis-network\"))"
   ]
  },
  {
   "cell_type": "code",
   "execution_count": null,
   "metadata": {
    "collapsed": true
   },
   "outputs": [],
   "source": []
  },
  {
   "cell_type": "code",
   "execution_count": null,
   "metadata": {
    "collapsed": true
   },
   "outputs": [],
   "source": []
  }
 ],
 "metadata": {
  "kernelspec": {
   "display_name": "Python 3",
   "language": "python",
   "name": "python3"
  },
  "language_info": {
   "codemirror_mode": {
    "name": "ipython",
    "version": 3
   },
   "file_extension": ".py",
   "mimetype": "text/x-python",
   "name": "python",
   "nbconvert_exporter": "python",
   "pygments_lexer": "ipython3",
   "version": "3.6.1"
  }
 },
 "nbformat": 4,
 "nbformat_minor": 2
}
