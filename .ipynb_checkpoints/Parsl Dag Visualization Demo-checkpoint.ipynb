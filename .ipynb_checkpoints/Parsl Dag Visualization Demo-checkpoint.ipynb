{
 "cells": [
  {
   "cell_type": "code",
   "execution_count": 1,
   "metadata": {},
   "outputs": [],
   "source": [
    "import random\n",
    "from parsl import *\n",
    "import pprint\n",
    "import json\n",
    "\n",
    "workers = ThreadPoolExecutor(max_workers=4)\n",
    "dfk = DataFlowKernel(executors=[workers])"
   ]
  },
  {
   "cell_type": "code",
   "execution_count": 2,
   "metadata": {},
   "outputs": [],
   "source": [
    "import time    \n",
    "@App('python', dfk)\n",
    "def sleep_fail(sleep_dur, sleep_rand_max, fail_prob, inputs=[]):\n",
    "    import time\n",
    "    import random\n",
    "\n",
    "    s = sleep_dur + random.randint(-sleep_rand_max, sleep_rand_max)\n",
    "    print(\"Sleeping for : \", s)\n",
    "    time.sleep(s)\n",
    "    x = float(random.randint(0,100)) / 100\n",
    "    if x <= fail_prob :\n",
    "        print(\"Fail\")\n",
    "        raise Exception(\"App failure\")\n",
    "    else:\n",
    "        print(\"Succeed\")\n",
    "\n",
    "@App('python', dfk)\n",
    "def test1 (numtasks ) :\n",
    "    fus = []\n",
    "    for i in range(0,10):\n",
    "\n",
    "        fu = sleep_fail(0, 0, .1)\n",
    "        fus.extend([fu])\n",
    "\n",
    "\n",
    "    count = 0\n",
    "    for fu in fus :\n",
    "        try:\n",
    "            x = fu.result()\n",
    "        except Exception as e:\n",
    "            count += 1\n",
    "            print(\"Caught fail \")\n",
    "\n",
    "    print(\"Caught failures of  {0}/{1}\".format(count, len(fus)))\n",
    "\n",
    "@App('python', dfk)\n",
    "def test_deps (numtasks) :\n",
    "\n",
    "    '''\n",
    "    App1   App2  ... AppN\n",
    "    '''\n",
    "    fus = []\n",
    "    for i in range(0,numtasks):\n",
    "        fu = sleep_fail(1, 0, .4)\n",
    "        fus.extend([fu])\n",
    "\n",
    "    '''\n",
    "    App1   App2  ... AppN\n",
    "    |       |        |\n",
    "    V       V        V\n",
    "    App1   App2  ... AppN\n",
    "    '''\n",
    "\n",
    "    fus_2 = []\n",
    "    for fu in fus:\n",
    "        fu = sleep_fail(0, 0, .1, inputs=[fu])\n",
    "        fus_2.extend([fu])\n",
    "\n",
    "    '''\n",
    "    App1   App2  ... AppN\n",
    "      |       |        |\n",
    "      V       V        V\n",
    "    App1   App2  ... AppN\n",
    "       \\      |       /\n",
    "        \\     |      /\n",
    "          App_Final\n",
    "    '''\n",
    "    fu_final = sleep_fail(1, 0, 0, inputs=fus_2)\n",
    "\n",
    "\n",
    "    print(\"Final status : \", fu_final.result())\n",
    "    time.sleep(1)"
   ]
  },
  {
   "cell_type": "code",
   "execution_count": 3,
   "metadata": {},
   "outputs": [
    {
     "name": "stdout",
     "output_type": "stream",
     "text": [
      "Sleeping for : Sleeping for : Sleeping for : "
     ]
    },
    {
     "data": {
      "text/plain": [
       "<AppFuture at 0x107bac400 state=running>"
      ]
     },
     "execution_count": 3,
     "metadata": {},
     "output_type": "execute_result"
    },
    {
     "name": "stdout",
     "output_type": "stream",
     "text": [
      "   111\n",
      "\n",
      "\n"
     ]
    }
   ],
   "source": [
    "test_deps(15)"
   ]
  },
  {
   "cell_type": "code",
   "execution_count": 4,
   "metadata": {},
   "outputs": [],
   "source": [
    "from parsl.dataflow.states import States\n",
    "from IPython.core.display import Javascript, HTML, Javascript, display\n",
    "import json\n",
    "from threading import Thread\n",
    "import time\n",
    "\n",
    "class DFKListener():\n",
    "    def __init__(self, dfk):\n",
    "        self.dfk = dfk\n",
    "        self.nodes_list = []\n",
    "        self.edges_list = []\n",
    "        self.color_lookup_table = {\n",
    "                     States.unsched : \"Pink\",\n",
    "                      States.pending : \"Yellow\",\n",
    "                      States.runnable: \"Blue\",\n",
    "                      States.running : \"Lime\",\n",
    "                      States.done: \"Green\",\n",
    "                      States.failed  : \"Red\",\n",
    "                      States.dep_fail: \"orange\"\n",
    "        }\n",
    "        self.state_lookup_table = {\n",
    "                     States.unsched : \"Unscheduled\",\n",
    "                      States.pending : \"Pending\",\n",
    "                      States.runnable: \"Runnable\",\n",
    "                      States.running : \"Running\",\n",
    "                      States.done: \"Finished\",\n",
    "                      States.failed  : \"Failed\",\n",
    "                      States.dep_fail: \"Dependency Failure\"\n",
    "        }\n",
    "\n",
    "\n",
    "    @property\n",
    "    def nodes(self):\n",
    "        return self.nodes_list\n",
    "        \n",
    "    @property\n",
    "    def edges(self):\n",
    "        return self.edges_list\n",
    "    \n",
    "    \n",
    "    def create_nodes(self, dfke=None):\n",
    "        dfk = dfke if dfke else self.dfk\n",
    "        for task in dfk.tasks:\n",
    "            state = dfk.tasks[task]['status']\n",
    "            if state == States.done:\n",
    "                if dfk.tasks[task][\"exec_fu\"]._exception is not None:\n",
    "                    state = States.failed\n",
    "            tid = dfk.tasks[task]['app_fu'].tid\n",
    "            fname = dfk.tasks[task]['func'].__name__\n",
    "            task = {\"id\": tid, \"label\": \"{}\\n{}\".format(str(tid),fname), \"color\": self.color_lookup_table[state], \"font\": {\"background\": \"white\"}, \"title\": self.state_lookup_table[state]}\n",
    "            self.nodes_list.append(task)\n",
    "            self.nodes_list = list({v['id']:v for v in self.nodes_list}.values())\n",
    "        return self.nodes_list\n",
    "    \n",
    "    def create_edges(self, dfke=None):\n",
    "        dfk = dfke if dfke else self.dfk\n",
    "        for task in dfk.tasks:\n",
    "            deps = state = dfk.tasks[task]['depends']\n",
    "            for dep in deps:\n",
    "                edge = {\"from\" : dep.tid, \"to\": task, \"arrows\":'to'}\n",
    "                self.edges_list.append(edge)\n",
    "        return self.edges\n",
    "    \n",
    "    def update(self):\n",
    "        self.nodes_list = []\n",
    "        self.edges_list = []\n",
    "        self.create_nodes()\n",
    "        self.create_edges()\n",
    "        return json.dumps({\"nodes\":self.nodes,\"edges\":self.edges})\n",
    "    \n",
    "    def set_javascript(self):\n",
    "        self.update()\n",
    "        nodes = json.dumps(self.nodes)\n",
    "        edges = json.dumps(self.edges)\n",
    "        display(Javascript(\"\"\"window.nodesList={};\n",
    "                      window.edgesList={};\n",
    "                   \"\"\".format(nodes,edges)))\n",
    "    def show_window(self):\n",
    "        display(Javascript(\"\"\"require.config({paths: {vis: 'https://cdnjs.cloudflare.com/ajax/libs/vis/4.21.0/vis.min'}});\n",
    "require(['vis'], function (vis){\n",
    "    if (document.getElementById(\"mynetwork\") == null) {\n",
    "        element.append('<div id=\"mynetwork\" style=\"width:950px;height:750px;border:1px solid lightgray;\"></div>');\n",
    "    }\n",
    "    var nodes = new vis.DataSet(window.nodesList);\n",
    "    var edges = new vis.DataSet(window.edgesList);\n",
    "    var container = document.getElementById('mynetwork');\n",
    "    var data = {\n",
    "         nodes: nodes,\n",
    "         edges: edges\n",
    "     };\n",
    "     var options = {interaction:{hover:true}, \n",
    "                   layout: {\n",
    "                    hierarchical: {\n",
    "                        direction: 'UD'\n",
    "                    }}\n",
    "                   };\n",
    "     var network = new vis.Network(container, data, options);\n",
    "     network.on(\"hoverNode\", function (params) {\n",
    "             \n",
    "     });\n",
    "     network.on(\"hoverEdge\", function (params) {\n",
    "            \n",
    "     });\n",
    "     network.on(\"blurNode\", function (params) {\n",
    "             \n",
    "     });\n",
    "     network.on(\"blurEdge\", function (params) {\n",
    "             \n",
    "     });\n",
    "});\"\"\"))\n",
    "    \n",
    "    def update_thread_handler(self, secs):\n",
    "        while True:\n",
    "            self.set_javascript()\n",
    "            self.show_window()\n",
    "            time.sleep(secs)\n",
    "\n",
    "    def auto_updater(self, time):\n",
    "        threads = []\n",
    "        t = Thread(target=self.update_thread_handler, args=(time,))\n",
    "        threads.append(t)\n",
    "        t.start()\n",
    "        "
   ]
  },
  {
   "cell_type": "code",
   "execution_count": 8,
   "metadata": {},
   "outputs": [],
   "source": [
    "dfkl = DFKListener(dfk)"
   ]
  },
  {
   "cell_type": "code",
   "execution_count": 9,
   "metadata": {},
   "outputs": [
    {
     "data": {
      "application/javascript": [
       "window.nodesList=[{\"id\": 0, \"label\": \"0\\ntest_deps\", \"color\": \"Red\", \"font\": {\"background\": \"white\"}, \"title\": \"Failed\"}, {\"id\": 1, \"label\": \"1\\nsleep_fail\", \"color\": \"Green\", \"font\": {\"background\": \"white\"}, \"title\": \"Finished\"}, {\"id\": 2, \"label\": \"2\\nsleep_fail\", \"color\": \"Red\", \"font\": {\"background\": \"white\"}, \"title\": \"Failed\"}, {\"id\": 3, \"label\": \"3\\nsleep_fail\", \"color\": \"Green\", \"font\": {\"background\": \"white\"}, \"title\": \"Finished\"}, {\"id\": 4, \"label\": \"4\\nsleep_fail\", \"color\": \"Green\", \"font\": {\"background\": \"white\"}, \"title\": \"Finished\"}, {\"id\": 5, \"label\": \"5\\nsleep_fail\", \"color\": \"Green\", \"font\": {\"background\": \"white\"}, \"title\": \"Finished\"}, {\"id\": 6, \"label\": \"6\\nsleep_fail\", \"color\": \"Green\", \"font\": {\"background\": \"white\"}, \"title\": \"Finished\"}, {\"id\": 7, \"label\": \"7\\nsleep_fail\", \"color\": \"Green\", \"font\": {\"background\": \"white\"}, \"title\": \"Finished\"}, {\"id\": 8, \"label\": \"8\\nsleep_fail\", \"color\": \"Red\", \"font\": {\"background\": \"white\"}, \"title\": \"Failed\"}, {\"id\": 9, \"label\": \"9\\nsleep_fail\", \"color\": \"Red\", \"font\": {\"background\": \"white\"}, \"title\": \"Failed\"}, {\"id\": 10, \"label\": \"10\\nsleep_fail\", \"color\": \"Red\", \"font\": {\"background\": \"white\"}, \"title\": \"Failed\"}, {\"id\": 11, \"label\": \"11\\nsleep_fail\", \"color\": \"Green\", \"font\": {\"background\": \"white\"}, \"title\": \"Finished\"}, {\"id\": 12, \"label\": \"12\\nsleep_fail\", \"color\": \"Red\", \"font\": {\"background\": \"white\"}, \"title\": \"Failed\"}, {\"id\": 13, \"label\": \"13\\nsleep_fail\", \"color\": \"Red\", \"font\": {\"background\": \"white\"}, \"title\": \"Failed\"}, {\"id\": 14, \"label\": \"14\\nsleep_fail\", \"color\": \"Green\", \"font\": {\"background\": \"white\"}, \"title\": \"Finished\"}, {\"id\": 15, \"label\": \"15\\nsleep_fail\", \"color\": \"Green\", \"font\": {\"background\": \"white\"}, \"title\": \"Finished\"}, {\"id\": 16, \"label\": \"16\\nsleep_fail\", \"color\": \"Green\", \"font\": {\"background\": \"white\"}, \"title\": \"Finished\"}, {\"id\": 17, \"label\": \"17\\nsleep_fail\", \"color\": \"orange\", \"font\": {\"background\": \"white\"}, \"title\": \"Dependency Failure\"}, {\"id\": 18, \"label\": \"18\\nsleep_fail\", \"color\": \"Green\", \"font\": {\"background\": \"white\"}, \"title\": \"Finished\"}, {\"id\": 19, \"label\": \"19\\nsleep_fail\", \"color\": \"Green\", \"font\": {\"background\": \"white\"}, \"title\": \"Finished\"}, {\"id\": 20, \"label\": \"20\\nsleep_fail\", \"color\": \"Green\", \"font\": {\"background\": \"white\"}, \"title\": \"Finished\"}, {\"id\": 21, \"label\": \"21\\nsleep_fail\", \"color\": \"Green\", \"font\": {\"background\": \"white\"}, \"title\": \"Finished\"}, {\"id\": 22, \"label\": \"22\\nsleep_fail\", \"color\": \"Green\", \"font\": {\"background\": \"white\"}, \"title\": \"Finished\"}, {\"id\": 23, \"label\": \"23\\nsleep_fail\", \"color\": \"orange\", \"font\": {\"background\": \"white\"}, \"title\": \"Dependency Failure\"}, {\"id\": 24, \"label\": \"24\\nsleep_fail\", \"color\": \"Red\", \"font\": {\"background\": \"white\"}, \"title\": \"Failed\"}, {\"id\": 25, \"label\": \"25\\nsleep_fail\", \"color\": \"orange\", \"font\": {\"background\": \"white\"}, \"title\": \"Dependency Failure\"}, {\"id\": 26, \"label\": \"26\\nsleep_fail\", \"color\": \"Green\", \"font\": {\"background\": \"white\"}, \"title\": \"Finished\"}, {\"id\": 27, \"label\": \"27\\nsleep_fail\", \"color\": \"orange\", \"font\": {\"background\": \"white\"}, \"title\": \"Dependency Failure\"}, {\"id\": 28, \"label\": \"28\\nsleep_fail\", \"color\": \"orange\", \"font\": {\"background\": \"white\"}, \"title\": \"Dependency Failure\"}, {\"id\": 29, \"label\": \"29\\nsleep_fail\", \"color\": \"Green\", \"font\": {\"background\": \"white\"}, \"title\": \"Finished\"}, {\"id\": 30, \"label\": \"30\\nsleep_fail\", \"color\": \"Green\", \"font\": {\"background\": \"white\"}, \"title\": \"Finished\"}, {\"id\": 31, \"label\": \"31\\nsleep_fail\", \"color\": \"orange\", \"font\": {\"background\": \"white\"}, \"title\": \"Dependency Failure\"}];\n",
       "                      window.edgesList=[{\"from\": 1, \"to\": 16, \"arrows\": \"to\"}, {\"from\": 2, \"to\": 17, \"arrows\": \"to\"}, {\"from\": 3, \"to\": 18, \"arrows\": \"to\"}, {\"from\": 4, \"to\": 19, \"arrows\": \"to\"}, {\"from\": 5, \"to\": 20, \"arrows\": \"to\"}, {\"from\": 6, \"to\": 21, \"arrows\": \"to\"}, {\"from\": 7, \"to\": 22, \"arrows\": \"to\"}, {\"from\": 8, \"to\": 23, \"arrows\": \"to\"}, {\"from\": 9, \"to\": 24, \"arrows\": \"to\"}, {\"from\": 10, \"to\": 25, \"arrows\": \"to\"}, {\"from\": 11, \"to\": 26, \"arrows\": \"to\"}, {\"from\": 12, \"to\": 27, \"arrows\": \"to\"}, {\"from\": 13, \"to\": 28, \"arrows\": \"to\"}, {\"from\": 14, \"to\": 29, \"arrows\": \"to\"}, {\"from\": 15, \"to\": 30, \"arrows\": \"to\"}, {\"from\": 16, \"to\": 31, \"arrows\": \"to\"}, {\"from\": 17, \"to\": 31, \"arrows\": \"to\"}, {\"from\": 18, \"to\": 31, \"arrows\": \"to\"}, {\"from\": 19, \"to\": 31, \"arrows\": \"to\"}, {\"from\": 20, \"to\": 31, \"arrows\": \"to\"}, {\"from\": 21, \"to\": 31, \"arrows\": \"to\"}, {\"from\": 22, \"to\": 31, \"arrows\": \"to\"}, {\"from\": 23, \"to\": 31, \"arrows\": \"to\"}, {\"from\": 24, \"to\": 31, \"arrows\": \"to\"}, {\"from\": 25, \"to\": 31, \"arrows\": \"to\"}, {\"from\": 26, \"to\": 31, \"arrows\": \"to\"}, {\"from\": 27, \"to\": 31, \"arrows\": \"to\"}, {\"from\": 28, \"to\": 31, \"arrows\": \"to\"}, {\"from\": 29, \"to\": 31, \"arrows\": \"to\"}, {\"from\": 30, \"to\": 31, \"arrows\": \"to\"}];\n",
       "                   "
      ],
      "text/plain": [
       "<IPython.core.display.Javascript object>"
      ]
     },
     "metadata": {},
     "output_type": "display_data"
    },
    {
     "data": {
      "application/javascript": [
       "require.config({paths: {vis: 'https://cdnjs.cloudflare.com/ajax/libs/vis/4.21.0/vis.min'}});\n",
       "require(['vis'], function (vis){\n",
       "    if (document.getElementById(\"mynetwork\") == null) {\n",
       "        element.append('<div id=\"mynetwork\" style=\"width:950px;height:750px;border:1px solid lightgray;\"></div>');\n",
       "    }\n",
       "    var nodes = new vis.DataSet(window.nodesList);\n",
       "    var edges = new vis.DataSet(window.edgesList);\n",
       "    var container = document.getElementById('mynetwork');\n",
       "    var data = {\n",
       "         nodes: nodes,\n",
       "         edges: edges\n",
       "     };\n",
       "     var options = {interaction:{hover:true}, \n",
       "                   layout: {\n",
       "                    hierarchical: {\n",
       "                        direction: 'UD'\n",
       "                    }}\n",
       "                   };\n",
       "     var network = new vis.Network(container, data, options);\n",
       "     network.on(\"hoverNode\", function (params) {\n",
       "             \n",
       "     });\n",
       "     network.on(\"hoverEdge\", function (params) {\n",
       "            \n",
       "     });\n",
       "     network.on(\"blurNode\", function (params) {\n",
       "             \n",
       "     });\n",
       "     network.on(\"blurEdge\", function (params) {\n",
       "             \n",
       "     });\n",
       "});"
      ],
      "text/plain": [
       "<IPython.core.display.Javascript object>"
      ]
     },
     "metadata": {},
     "output_type": "display_data"
    },
    {
     "data": {
      "application/javascript": [
       "window.nodesList=[{\"id\": 0, \"label\": \"0\\ntest_deps\", \"color\": \"Red\", \"font\": {\"background\": \"white\"}, \"title\": \"Failed\"}, {\"id\": 1, \"label\": \"1\\nsleep_fail\", \"color\": \"Green\", \"font\": {\"background\": \"white\"}, \"title\": \"Finished\"}, {\"id\": 2, \"label\": \"2\\nsleep_fail\", \"color\": \"Red\", \"font\": {\"background\": \"white\"}, \"title\": \"Failed\"}, {\"id\": 3, \"label\": \"3\\nsleep_fail\", \"color\": \"Green\", \"font\": {\"background\": \"white\"}, \"title\": \"Finished\"}, {\"id\": 4, \"label\": \"4\\nsleep_fail\", \"color\": \"Green\", \"font\": {\"background\": \"white\"}, \"title\": \"Finished\"}, {\"id\": 5, \"label\": \"5\\nsleep_fail\", \"color\": \"Green\", \"font\": {\"background\": \"white\"}, \"title\": \"Finished\"}, {\"id\": 6, \"label\": \"6\\nsleep_fail\", \"color\": \"Green\", \"font\": {\"background\": \"white\"}, \"title\": \"Finished\"}, {\"id\": 7, \"label\": \"7\\nsleep_fail\", \"color\": \"Green\", \"font\": {\"background\": \"white\"}, \"title\": \"Finished\"}, {\"id\": 8, \"label\": \"8\\nsleep_fail\", \"color\": \"Red\", \"font\": {\"background\": \"white\"}, \"title\": \"Failed\"}, {\"id\": 9, \"label\": \"9\\nsleep_fail\", \"color\": \"Red\", \"font\": {\"background\": \"white\"}, \"title\": \"Failed\"}, {\"id\": 10, \"label\": \"10\\nsleep_fail\", \"color\": \"Red\", \"font\": {\"background\": \"white\"}, \"title\": \"Failed\"}, {\"id\": 11, \"label\": \"11\\nsleep_fail\", \"color\": \"Green\", \"font\": {\"background\": \"white\"}, \"title\": \"Finished\"}, {\"id\": 12, \"label\": \"12\\nsleep_fail\", \"color\": \"Red\", \"font\": {\"background\": \"white\"}, \"title\": \"Failed\"}, {\"id\": 13, \"label\": \"13\\nsleep_fail\", \"color\": \"Red\", \"font\": {\"background\": \"white\"}, \"title\": \"Failed\"}, {\"id\": 14, \"label\": \"14\\nsleep_fail\", \"color\": \"Green\", \"font\": {\"background\": \"white\"}, \"title\": \"Finished\"}, {\"id\": 15, \"label\": \"15\\nsleep_fail\", \"color\": \"Green\", \"font\": {\"background\": \"white\"}, \"title\": \"Finished\"}, {\"id\": 16, \"label\": \"16\\nsleep_fail\", \"color\": \"Green\", \"font\": {\"background\": \"white\"}, \"title\": \"Finished\"}, {\"id\": 17, \"label\": \"17\\nsleep_fail\", \"color\": \"orange\", \"font\": {\"background\": \"white\"}, \"title\": \"Dependency Failure\"}, {\"id\": 18, \"label\": \"18\\nsleep_fail\", \"color\": \"Green\", \"font\": {\"background\": \"white\"}, \"title\": \"Finished\"}, {\"id\": 19, \"label\": \"19\\nsleep_fail\", \"color\": \"Green\", \"font\": {\"background\": \"white\"}, \"title\": \"Finished\"}, {\"id\": 20, \"label\": \"20\\nsleep_fail\", \"color\": \"Green\", \"font\": {\"background\": \"white\"}, \"title\": \"Finished\"}, {\"id\": 21, \"label\": \"21\\nsleep_fail\", \"color\": \"Green\", \"font\": {\"background\": \"white\"}, \"title\": \"Finished\"}, {\"id\": 22, \"label\": \"22\\nsleep_fail\", \"color\": \"Green\", \"font\": {\"background\": \"white\"}, \"title\": \"Finished\"}, {\"id\": 23, \"label\": \"23\\nsleep_fail\", \"color\": \"orange\", \"font\": {\"background\": \"white\"}, \"title\": \"Dependency Failure\"}, {\"id\": 24, \"label\": \"24\\nsleep_fail\", \"color\": \"Red\", \"font\": {\"background\": \"white\"}, \"title\": \"Failed\"}, {\"id\": 25, \"label\": \"25\\nsleep_fail\", \"color\": \"orange\", \"font\": {\"background\": \"white\"}, \"title\": \"Dependency Failure\"}, {\"id\": 26, \"label\": \"26\\nsleep_fail\", \"color\": \"Green\", \"font\": {\"background\": \"white\"}, \"title\": \"Finished\"}, {\"id\": 27, \"label\": \"27\\nsleep_fail\", \"color\": \"orange\", \"font\": {\"background\": \"white\"}, \"title\": \"Dependency Failure\"}, {\"id\": 28, \"label\": \"28\\nsleep_fail\", \"color\": \"orange\", \"font\": {\"background\": \"white\"}, \"title\": \"Dependency Failure\"}, {\"id\": 29, \"label\": \"29\\nsleep_fail\", \"color\": \"Green\", \"font\": {\"background\": \"white\"}, \"title\": \"Finished\"}, {\"id\": 30, \"label\": \"30\\nsleep_fail\", \"color\": \"Green\", \"font\": {\"background\": \"white\"}, \"title\": \"Finished\"}, {\"id\": 31, \"label\": \"31\\nsleep_fail\", \"color\": \"orange\", \"font\": {\"background\": \"white\"}, \"title\": \"Dependency Failure\"}];\n",
       "                      window.edgesList=[{\"from\": 1, \"to\": 16, \"arrows\": \"to\"}, {\"from\": 2, \"to\": 17, \"arrows\": \"to\"}, {\"from\": 3, \"to\": 18, \"arrows\": \"to\"}, {\"from\": 4, \"to\": 19, \"arrows\": \"to\"}, {\"from\": 5, \"to\": 20, \"arrows\": \"to\"}, {\"from\": 6, \"to\": 21, \"arrows\": \"to\"}, {\"from\": 7, \"to\": 22, \"arrows\": \"to\"}, {\"from\": 8, \"to\": 23, \"arrows\": \"to\"}, {\"from\": 9, \"to\": 24, \"arrows\": \"to\"}, {\"from\": 10, \"to\": 25, \"arrows\": \"to\"}, {\"from\": 11, \"to\": 26, \"arrows\": \"to\"}, {\"from\": 12, \"to\": 27, \"arrows\": \"to\"}, {\"from\": 13, \"to\": 28, \"arrows\": \"to\"}, {\"from\": 14, \"to\": 29, \"arrows\": \"to\"}, {\"from\": 15, \"to\": 30, \"arrows\": \"to\"}, {\"from\": 16, \"to\": 31, \"arrows\": \"to\"}, {\"from\": 17, \"to\": 31, \"arrows\": \"to\"}, {\"from\": 18, \"to\": 31, \"arrows\": \"to\"}, {\"from\": 19, \"to\": 31, \"arrows\": \"to\"}, {\"from\": 20, \"to\": 31, \"arrows\": \"to\"}, {\"from\": 21, \"to\": 31, \"arrows\": \"to\"}, {\"from\": 22, \"to\": 31, \"arrows\": \"to\"}, {\"from\": 23, \"to\": 31, \"arrows\": \"to\"}, {\"from\": 24, \"to\": 31, \"arrows\": \"to\"}, {\"from\": 25, \"to\": 31, \"arrows\": \"to\"}, {\"from\": 26, \"to\": 31, \"arrows\": \"to\"}, {\"from\": 27, \"to\": 31, \"arrows\": \"to\"}, {\"from\": 28, \"to\": 31, \"arrows\": \"to\"}, {\"from\": 29, \"to\": 31, \"arrows\": \"to\"}, {\"from\": 30, \"to\": 31, \"arrows\": \"to\"}];\n",
       "                   "
      ],
      "text/plain": [
       "<IPython.core.display.Javascript object>"
      ]
     },
     "metadata": {},
     "output_type": "display_data"
    },
    {
     "data": {
      "application/javascript": [
       "require.config({paths: {vis: 'https://cdnjs.cloudflare.com/ajax/libs/vis/4.21.0/vis.min'}});\n",
       "require(['vis'], function (vis){\n",
       "    if (document.getElementById(\"mynetwork\") == null) {\n",
       "        element.append('<div id=\"mynetwork\" style=\"width:950px;height:750px;border:1px solid lightgray;\"></div>');\n",
       "    }\n",
       "    var nodes = new vis.DataSet(window.nodesList);\n",
       "    var edges = new vis.DataSet(window.edgesList);\n",
       "    var container = document.getElementById('mynetwork');\n",
       "    var data = {\n",
       "         nodes: nodes,\n",
       "         edges: edges\n",
       "     };\n",
       "     var options = {interaction:{hover:true}, \n",
       "                   layout: {\n",
       "                    hierarchical: {\n",
       "                        direction: 'UD'\n",
       "                    }}\n",
       "                   };\n",
       "     var network = new vis.Network(container, data, options);\n",
       "     network.on(\"hoverNode\", function (params) {\n",
       "             \n",
       "     });\n",
       "     network.on(\"hoverEdge\", function (params) {\n",
       "            \n",
       "     });\n",
       "     network.on(\"blurNode\", function (params) {\n",
       "             \n",
       "     });\n",
       "     network.on(\"blurEdge\", function (params) {\n",
       "             \n",
       "     });\n",
       "});"
      ],
      "text/plain": [
       "<IPython.core.display.Javascript object>"
      ]
     },
     "metadata": {},
     "output_type": "display_data"
    },
    {
     "data": {
      "application/javascript": [
       "window.nodesList=[{\"id\": 0, \"label\": \"0\\ntest_deps\", \"color\": \"Red\", \"font\": {\"background\": \"white\"}, \"title\": \"Failed\"}, {\"id\": 1, \"label\": \"1\\nsleep_fail\", \"color\": \"Green\", \"font\": {\"background\": \"white\"}, \"title\": \"Finished\"}, {\"id\": 2, \"label\": \"2\\nsleep_fail\", \"color\": \"Red\", \"font\": {\"background\": \"white\"}, \"title\": \"Failed\"}, {\"id\": 3, \"label\": \"3\\nsleep_fail\", \"color\": \"Green\", \"font\": {\"background\": \"white\"}, \"title\": \"Finished\"}, {\"id\": 4, \"label\": \"4\\nsleep_fail\", \"color\": \"Green\", \"font\": {\"background\": \"white\"}, \"title\": \"Finished\"}, {\"id\": 5, \"label\": \"5\\nsleep_fail\", \"color\": \"Green\", \"font\": {\"background\": \"white\"}, \"title\": \"Finished\"}, {\"id\": 6, \"label\": \"6\\nsleep_fail\", \"color\": \"Green\", \"font\": {\"background\": \"white\"}, \"title\": \"Finished\"}, {\"id\": 7, \"label\": \"7\\nsleep_fail\", \"color\": \"Green\", \"font\": {\"background\": \"white\"}, \"title\": \"Finished\"}, {\"id\": 8, \"label\": \"8\\nsleep_fail\", \"color\": \"Red\", \"font\": {\"background\": \"white\"}, \"title\": \"Failed\"}, {\"id\": 9, \"label\": \"9\\nsleep_fail\", \"color\": \"Red\", \"font\": {\"background\": \"white\"}, \"title\": \"Failed\"}, {\"id\": 10, \"label\": \"10\\nsleep_fail\", \"color\": \"Red\", \"font\": {\"background\": \"white\"}, \"title\": \"Failed\"}, {\"id\": 11, \"label\": \"11\\nsleep_fail\", \"color\": \"Green\", \"font\": {\"background\": \"white\"}, \"title\": \"Finished\"}, {\"id\": 12, \"label\": \"12\\nsleep_fail\", \"color\": \"Red\", \"font\": {\"background\": \"white\"}, \"title\": \"Failed\"}, {\"id\": 13, \"label\": \"13\\nsleep_fail\", \"color\": \"Red\", \"font\": {\"background\": \"white\"}, \"title\": \"Failed\"}, {\"id\": 14, \"label\": \"14\\nsleep_fail\", \"color\": \"Green\", \"font\": {\"background\": \"white\"}, \"title\": \"Finished\"}, {\"id\": 15, \"label\": \"15\\nsleep_fail\", \"color\": \"Green\", \"font\": {\"background\": \"white\"}, \"title\": \"Finished\"}, {\"id\": 16, \"label\": \"16\\nsleep_fail\", \"color\": \"Green\", \"font\": {\"background\": \"white\"}, \"title\": \"Finished\"}, {\"id\": 17, \"label\": \"17\\nsleep_fail\", \"color\": \"orange\", \"font\": {\"background\": \"white\"}, \"title\": \"Dependency Failure\"}, {\"id\": 18, \"label\": \"18\\nsleep_fail\", \"color\": \"Green\", \"font\": {\"background\": \"white\"}, \"title\": \"Finished\"}, {\"id\": 19, \"label\": \"19\\nsleep_fail\", \"color\": \"Green\", \"font\": {\"background\": \"white\"}, \"title\": \"Finished\"}, {\"id\": 20, \"label\": \"20\\nsleep_fail\", \"color\": \"Green\", \"font\": {\"background\": \"white\"}, \"title\": \"Finished\"}, {\"id\": 21, \"label\": \"21\\nsleep_fail\", \"color\": \"Green\", \"font\": {\"background\": \"white\"}, \"title\": \"Finished\"}, {\"id\": 22, \"label\": \"22\\nsleep_fail\", \"color\": \"Green\", \"font\": {\"background\": \"white\"}, \"title\": \"Finished\"}, {\"id\": 23, \"label\": \"23\\nsleep_fail\", \"color\": \"orange\", \"font\": {\"background\": \"white\"}, \"title\": \"Dependency Failure\"}, {\"id\": 24, \"label\": \"24\\nsleep_fail\", \"color\": \"Red\", \"font\": {\"background\": \"white\"}, \"title\": \"Failed\"}, {\"id\": 25, \"label\": \"25\\nsleep_fail\", \"color\": \"orange\", \"font\": {\"background\": \"white\"}, \"title\": \"Dependency Failure\"}, {\"id\": 26, \"label\": \"26\\nsleep_fail\", \"color\": \"Green\", \"font\": {\"background\": \"white\"}, \"title\": \"Finished\"}, {\"id\": 27, \"label\": \"27\\nsleep_fail\", \"color\": \"orange\", \"font\": {\"background\": \"white\"}, \"title\": \"Dependency Failure\"}, {\"id\": 28, \"label\": \"28\\nsleep_fail\", \"color\": \"orange\", \"font\": {\"background\": \"white\"}, \"title\": \"Dependency Failure\"}, {\"id\": 29, \"label\": \"29\\nsleep_fail\", \"color\": \"Green\", \"font\": {\"background\": \"white\"}, \"title\": \"Finished\"}, {\"id\": 30, \"label\": \"30\\nsleep_fail\", \"color\": \"Green\", \"font\": {\"background\": \"white\"}, \"title\": \"Finished\"}, {\"id\": 31, \"label\": \"31\\nsleep_fail\", \"color\": \"orange\", \"font\": {\"background\": \"white\"}, \"title\": \"Dependency Failure\"}];\n",
       "                      window.edgesList=[{\"from\": 1, \"to\": 16, \"arrows\": \"to\"}, {\"from\": 2, \"to\": 17, \"arrows\": \"to\"}, {\"from\": 3, \"to\": 18, \"arrows\": \"to\"}, {\"from\": 4, \"to\": 19, \"arrows\": \"to\"}, {\"from\": 5, \"to\": 20, \"arrows\": \"to\"}, {\"from\": 6, \"to\": 21, \"arrows\": \"to\"}, {\"from\": 7, \"to\": 22, \"arrows\": \"to\"}, {\"from\": 8, \"to\": 23, \"arrows\": \"to\"}, {\"from\": 9, \"to\": 24, \"arrows\": \"to\"}, {\"from\": 10, \"to\": 25, \"arrows\": \"to\"}, {\"from\": 11, \"to\": 26, \"arrows\": \"to\"}, {\"from\": 12, \"to\": 27, \"arrows\": \"to\"}, {\"from\": 13, \"to\": 28, \"arrows\": \"to\"}, {\"from\": 14, \"to\": 29, \"arrows\": \"to\"}, {\"from\": 15, \"to\": 30, \"arrows\": \"to\"}, {\"from\": 16, \"to\": 31, \"arrows\": \"to\"}, {\"from\": 17, \"to\": 31, \"arrows\": \"to\"}, {\"from\": 18, \"to\": 31, \"arrows\": \"to\"}, {\"from\": 19, \"to\": 31, \"arrows\": \"to\"}, {\"from\": 20, \"to\": 31, \"arrows\": \"to\"}, {\"from\": 21, \"to\": 31, \"arrows\": \"to\"}, {\"from\": 22, \"to\": 31, \"arrows\": \"to\"}, {\"from\": 23, \"to\": 31, \"arrows\": \"to\"}, {\"from\": 24, \"to\": 31, \"arrows\": \"to\"}, {\"from\": 25, \"to\": 31, \"arrows\": \"to\"}, {\"from\": 26, \"to\": 31, \"arrows\": \"to\"}, {\"from\": 27, \"to\": 31, \"arrows\": \"to\"}, {\"from\": 28, \"to\": 31, \"arrows\": \"to\"}, {\"from\": 29, \"to\": 31, \"arrows\": \"to\"}, {\"from\": 30, \"to\": 31, \"arrows\": \"to\"}];\n",
       "                   "
      ],
      "text/plain": [
       "<IPython.core.display.Javascript object>"
      ]
     },
     "metadata": {},
     "output_type": "display_data"
    },
    {
     "data": {
      "application/javascript": [
       "require.config({paths: {vis: 'https://cdnjs.cloudflare.com/ajax/libs/vis/4.21.0/vis.min'}});\n",
       "require(['vis'], function (vis){\n",
       "    if (document.getElementById(\"mynetwork\") == null) {\n",
       "        element.append('<div id=\"mynetwork\" style=\"width:950px;height:750px;border:1px solid lightgray;\"></div>');\n",
       "    }\n",
       "    var nodes = new vis.DataSet(window.nodesList);\n",
       "    var edges = new vis.DataSet(window.edgesList);\n",
       "    var container = document.getElementById('mynetwork');\n",
       "    var data = {\n",
       "         nodes: nodes,\n",
       "         edges: edges\n",
       "     };\n",
       "     var options = {interaction:{hover:true}, \n",
       "                   layout: {\n",
       "                    hierarchical: {\n",
       "                        direction: 'UD'\n",
       "                    }}\n",
       "                   };\n",
       "     var network = new vis.Network(container, data, options);\n",
       "     network.on(\"hoverNode\", function (params) {\n",
       "             \n",
       "     });\n",
       "     network.on(\"hoverEdge\", function (params) {\n",
       "            \n",
       "     });\n",
       "     network.on(\"blurNode\", function (params) {\n",
       "             \n",
       "     });\n",
       "     network.on(\"blurEdge\", function (params) {\n",
       "             \n",
       "     });\n",
       "});"
      ],
      "text/plain": [
       "<IPython.core.display.Javascript object>"
      ]
     },
     "metadata": {},
     "output_type": "display_data"
    },
    {
     "data": {
      "application/javascript": [
       "window.nodesList=[{\"id\": 0, \"label\": \"0\\ntest_deps\", \"color\": \"Red\", \"font\": {\"background\": \"white\"}, \"title\": \"Failed\"}, {\"id\": 1, \"label\": \"1\\nsleep_fail\", \"color\": \"Green\", \"font\": {\"background\": \"white\"}, \"title\": \"Finished\"}, {\"id\": 2, \"label\": \"2\\nsleep_fail\", \"color\": \"Red\", \"font\": {\"background\": \"white\"}, \"title\": \"Failed\"}, {\"id\": 3, \"label\": \"3\\nsleep_fail\", \"color\": \"Green\", \"font\": {\"background\": \"white\"}, \"title\": \"Finished\"}, {\"id\": 4, \"label\": \"4\\nsleep_fail\", \"color\": \"Green\", \"font\": {\"background\": \"white\"}, \"title\": \"Finished\"}, {\"id\": 5, \"label\": \"5\\nsleep_fail\", \"color\": \"Green\", \"font\": {\"background\": \"white\"}, \"title\": \"Finished\"}, {\"id\": 6, \"label\": \"6\\nsleep_fail\", \"color\": \"Green\", \"font\": {\"background\": \"white\"}, \"title\": \"Finished\"}, {\"id\": 7, \"label\": \"7\\nsleep_fail\", \"color\": \"Green\", \"font\": {\"background\": \"white\"}, \"title\": \"Finished\"}, {\"id\": 8, \"label\": \"8\\nsleep_fail\", \"color\": \"Red\", \"font\": {\"background\": \"white\"}, \"title\": \"Failed\"}, {\"id\": 9, \"label\": \"9\\nsleep_fail\", \"color\": \"Red\", \"font\": {\"background\": \"white\"}, \"title\": \"Failed\"}, {\"id\": 10, \"label\": \"10\\nsleep_fail\", \"color\": \"Red\", \"font\": {\"background\": \"white\"}, \"title\": \"Failed\"}, {\"id\": 11, \"label\": \"11\\nsleep_fail\", \"color\": \"Green\", \"font\": {\"background\": \"white\"}, \"title\": \"Finished\"}, {\"id\": 12, \"label\": \"12\\nsleep_fail\", \"color\": \"Red\", \"font\": {\"background\": \"white\"}, \"title\": \"Failed\"}, {\"id\": 13, \"label\": \"13\\nsleep_fail\", \"color\": \"Red\", \"font\": {\"background\": \"white\"}, \"title\": \"Failed\"}, {\"id\": 14, \"label\": \"14\\nsleep_fail\", \"color\": \"Green\", \"font\": {\"background\": \"white\"}, \"title\": \"Finished\"}, {\"id\": 15, \"label\": \"15\\nsleep_fail\", \"color\": \"Green\", \"font\": {\"background\": \"white\"}, \"title\": \"Finished\"}, {\"id\": 16, \"label\": \"16\\nsleep_fail\", \"color\": \"Green\", \"font\": {\"background\": \"white\"}, \"title\": \"Finished\"}, {\"id\": 17, \"label\": \"17\\nsleep_fail\", \"color\": \"orange\", \"font\": {\"background\": \"white\"}, \"title\": \"Dependency Failure\"}, {\"id\": 18, \"label\": \"18\\nsleep_fail\", \"color\": \"Green\", \"font\": {\"background\": \"white\"}, \"title\": \"Finished\"}, {\"id\": 19, \"label\": \"19\\nsleep_fail\", \"color\": \"Green\", \"font\": {\"background\": \"white\"}, \"title\": \"Finished\"}, {\"id\": 20, \"label\": \"20\\nsleep_fail\", \"color\": \"Green\", \"font\": {\"background\": \"white\"}, \"title\": \"Finished\"}, {\"id\": 21, \"label\": \"21\\nsleep_fail\", \"color\": \"Green\", \"font\": {\"background\": \"white\"}, \"title\": \"Finished\"}, {\"id\": 22, \"label\": \"22\\nsleep_fail\", \"color\": \"Green\", \"font\": {\"background\": \"white\"}, \"title\": \"Finished\"}, {\"id\": 23, \"label\": \"23\\nsleep_fail\", \"color\": \"orange\", \"font\": {\"background\": \"white\"}, \"title\": \"Dependency Failure\"}, {\"id\": 24, \"label\": \"24\\nsleep_fail\", \"color\": \"Red\", \"font\": {\"background\": \"white\"}, \"title\": \"Failed\"}, {\"id\": 25, \"label\": \"25\\nsleep_fail\", \"color\": \"orange\", \"font\": {\"background\": \"white\"}, \"title\": \"Dependency Failure\"}, {\"id\": 26, \"label\": \"26\\nsleep_fail\", \"color\": \"Green\", \"font\": {\"background\": \"white\"}, \"title\": \"Finished\"}, {\"id\": 27, \"label\": \"27\\nsleep_fail\", \"color\": \"orange\", \"font\": {\"background\": \"white\"}, \"title\": \"Dependency Failure\"}, {\"id\": 28, \"label\": \"28\\nsleep_fail\", \"color\": \"orange\", \"font\": {\"background\": \"white\"}, \"title\": \"Dependency Failure\"}, {\"id\": 29, \"label\": \"29\\nsleep_fail\", \"color\": \"Green\", \"font\": {\"background\": \"white\"}, \"title\": \"Finished\"}, {\"id\": 30, \"label\": \"30\\nsleep_fail\", \"color\": \"Green\", \"font\": {\"background\": \"white\"}, \"title\": \"Finished\"}, {\"id\": 31, \"label\": \"31\\nsleep_fail\", \"color\": \"orange\", \"font\": {\"background\": \"white\"}, \"title\": \"Dependency Failure\"}];\n",
       "                      window.edgesList=[{\"from\": 1, \"to\": 16, \"arrows\": \"to\"}, {\"from\": 2, \"to\": 17, \"arrows\": \"to\"}, {\"from\": 3, \"to\": 18, \"arrows\": \"to\"}, {\"from\": 4, \"to\": 19, \"arrows\": \"to\"}, {\"from\": 5, \"to\": 20, \"arrows\": \"to\"}, {\"from\": 6, \"to\": 21, \"arrows\": \"to\"}, {\"from\": 7, \"to\": 22, \"arrows\": \"to\"}, {\"from\": 8, \"to\": 23, \"arrows\": \"to\"}, {\"from\": 9, \"to\": 24, \"arrows\": \"to\"}, {\"from\": 10, \"to\": 25, \"arrows\": \"to\"}, {\"from\": 11, \"to\": 26, \"arrows\": \"to\"}, {\"from\": 12, \"to\": 27, \"arrows\": \"to\"}, {\"from\": 13, \"to\": 28, \"arrows\": \"to\"}, {\"from\": 14, \"to\": 29, \"arrows\": \"to\"}, {\"from\": 15, \"to\": 30, \"arrows\": \"to\"}, {\"from\": 16, \"to\": 31, \"arrows\": \"to\"}, {\"from\": 17, \"to\": 31, \"arrows\": \"to\"}, {\"from\": 18, \"to\": 31, \"arrows\": \"to\"}, {\"from\": 19, \"to\": 31, \"arrows\": \"to\"}, {\"from\": 20, \"to\": 31, \"arrows\": \"to\"}, {\"from\": 21, \"to\": 31, \"arrows\": \"to\"}, {\"from\": 22, \"to\": 31, \"arrows\": \"to\"}, {\"from\": 23, \"to\": 31, \"arrows\": \"to\"}, {\"from\": 24, \"to\": 31, \"arrows\": \"to\"}, {\"from\": 25, \"to\": 31, \"arrows\": \"to\"}, {\"from\": 26, \"to\": 31, \"arrows\": \"to\"}, {\"from\": 27, \"to\": 31, \"arrows\": \"to\"}, {\"from\": 28, \"to\": 31, \"arrows\": \"to\"}, {\"from\": 29, \"to\": 31, \"arrows\": \"to\"}, {\"from\": 30, \"to\": 31, \"arrows\": \"to\"}];\n",
       "                   "
      ],
      "text/plain": [
       "<IPython.core.display.Javascript object>"
      ]
     },
     "metadata": {},
     "output_type": "display_data"
    },
    {
     "data": {
      "application/javascript": [
       "require.config({paths: {vis: 'https://cdnjs.cloudflare.com/ajax/libs/vis/4.21.0/vis.min'}});\n",
       "require(['vis'], function (vis){\n",
       "    if (document.getElementById(\"mynetwork\") == null) {\n",
       "        element.append('<div id=\"mynetwork\" style=\"width:950px;height:750px;border:1px solid lightgray;\"></div>');\n",
       "    }\n",
       "    var nodes = new vis.DataSet(window.nodesList);\n",
       "    var edges = new vis.DataSet(window.edgesList);\n",
       "    var container = document.getElementById('mynetwork');\n",
       "    var data = {\n",
       "         nodes: nodes,\n",
       "         edges: edges\n",
       "     };\n",
       "     var options = {interaction:{hover:true}, \n",
       "                   layout: {\n",
       "                    hierarchical: {\n",
       "                        direction: 'UD'\n",
       "                    }}\n",
       "                   };\n",
       "     var network = new vis.Network(container, data, options);\n",
       "     network.on(\"hoverNode\", function (params) {\n",
       "             \n",
       "     });\n",
       "     network.on(\"hoverEdge\", function (params) {\n",
       "            \n",
       "     });\n",
       "     network.on(\"blurNode\", function (params) {\n",
       "             \n",
       "     });\n",
       "     network.on(\"blurEdge\", function (params) {\n",
       "             \n",
       "     });\n",
       "});"
      ],
      "text/plain": [
       "<IPython.core.display.Javascript object>"
      ]
     },
     "metadata": {},
     "output_type": "display_data"
    },
    {
     "data": {
      "application/javascript": [
       "window.nodesList=[{\"id\": 0, \"label\": \"0\\ntest_deps\", \"color\": \"Red\", \"font\": {\"background\": \"white\"}, \"title\": \"Failed\"}, {\"id\": 1, \"label\": \"1\\nsleep_fail\", \"color\": \"Green\", \"font\": {\"background\": \"white\"}, \"title\": \"Finished\"}, {\"id\": 2, \"label\": \"2\\nsleep_fail\", \"color\": \"Red\", \"font\": {\"background\": \"white\"}, \"title\": \"Failed\"}, {\"id\": 3, \"label\": \"3\\nsleep_fail\", \"color\": \"Green\", \"font\": {\"background\": \"white\"}, \"title\": \"Finished\"}, {\"id\": 4, \"label\": \"4\\nsleep_fail\", \"color\": \"Green\", \"font\": {\"background\": \"white\"}, \"title\": \"Finished\"}, {\"id\": 5, \"label\": \"5\\nsleep_fail\", \"color\": \"Green\", \"font\": {\"background\": \"white\"}, \"title\": \"Finished\"}, {\"id\": 6, \"label\": \"6\\nsleep_fail\", \"color\": \"Green\", \"font\": {\"background\": \"white\"}, \"title\": \"Finished\"}, {\"id\": 7, \"label\": \"7\\nsleep_fail\", \"color\": \"Green\", \"font\": {\"background\": \"white\"}, \"title\": \"Finished\"}, {\"id\": 8, \"label\": \"8\\nsleep_fail\", \"color\": \"Red\", \"font\": {\"background\": \"white\"}, \"title\": \"Failed\"}, {\"id\": 9, \"label\": \"9\\nsleep_fail\", \"color\": \"Red\", \"font\": {\"background\": \"white\"}, \"title\": \"Failed\"}, {\"id\": 10, \"label\": \"10\\nsleep_fail\", \"color\": \"Red\", \"font\": {\"background\": \"white\"}, \"title\": \"Failed\"}, {\"id\": 11, \"label\": \"11\\nsleep_fail\", \"color\": \"Green\", \"font\": {\"background\": \"white\"}, \"title\": \"Finished\"}, {\"id\": 12, \"label\": \"12\\nsleep_fail\", \"color\": \"Red\", \"font\": {\"background\": \"white\"}, \"title\": \"Failed\"}, {\"id\": 13, \"label\": \"13\\nsleep_fail\", \"color\": \"Red\", \"font\": {\"background\": \"white\"}, \"title\": \"Failed\"}, {\"id\": 14, \"label\": \"14\\nsleep_fail\", \"color\": \"Green\", \"font\": {\"background\": \"white\"}, \"title\": \"Finished\"}, {\"id\": 15, \"label\": \"15\\nsleep_fail\", \"color\": \"Green\", \"font\": {\"background\": \"white\"}, \"title\": \"Finished\"}, {\"id\": 16, \"label\": \"16\\nsleep_fail\", \"color\": \"Green\", \"font\": {\"background\": \"white\"}, \"title\": \"Finished\"}, {\"id\": 17, \"label\": \"17\\nsleep_fail\", \"color\": \"orange\", \"font\": {\"background\": \"white\"}, \"title\": \"Dependency Failure\"}, {\"id\": 18, \"label\": \"18\\nsleep_fail\", \"color\": \"Green\", \"font\": {\"background\": \"white\"}, \"title\": \"Finished\"}, {\"id\": 19, \"label\": \"19\\nsleep_fail\", \"color\": \"Green\", \"font\": {\"background\": \"white\"}, \"title\": \"Finished\"}, {\"id\": 20, \"label\": \"20\\nsleep_fail\", \"color\": \"Green\", \"font\": {\"background\": \"white\"}, \"title\": \"Finished\"}, {\"id\": 21, \"label\": \"21\\nsleep_fail\", \"color\": \"Green\", \"font\": {\"background\": \"white\"}, \"title\": \"Finished\"}, {\"id\": 22, \"label\": \"22\\nsleep_fail\", \"color\": \"Green\", \"font\": {\"background\": \"white\"}, \"title\": \"Finished\"}, {\"id\": 23, \"label\": \"23\\nsleep_fail\", \"color\": \"orange\", \"font\": {\"background\": \"white\"}, \"title\": \"Dependency Failure\"}, {\"id\": 24, \"label\": \"24\\nsleep_fail\", \"color\": \"Red\", \"font\": {\"background\": \"white\"}, \"title\": \"Failed\"}, {\"id\": 25, \"label\": \"25\\nsleep_fail\", \"color\": \"orange\", \"font\": {\"background\": \"white\"}, \"title\": \"Dependency Failure\"}, {\"id\": 26, \"label\": \"26\\nsleep_fail\", \"color\": \"Green\", \"font\": {\"background\": \"white\"}, \"title\": \"Finished\"}, {\"id\": 27, \"label\": \"27\\nsleep_fail\", \"color\": \"orange\", \"font\": {\"background\": \"white\"}, \"title\": \"Dependency Failure\"}, {\"id\": 28, \"label\": \"28\\nsleep_fail\", \"color\": \"orange\", \"font\": {\"background\": \"white\"}, \"title\": \"Dependency Failure\"}, {\"id\": 29, \"label\": \"29\\nsleep_fail\", \"color\": \"Green\", \"font\": {\"background\": \"white\"}, \"title\": \"Finished\"}, {\"id\": 30, \"label\": \"30\\nsleep_fail\", \"color\": \"Green\", \"font\": {\"background\": \"white\"}, \"title\": \"Finished\"}, {\"id\": 31, \"label\": \"31\\nsleep_fail\", \"color\": \"orange\", \"font\": {\"background\": \"white\"}, \"title\": \"Dependency Failure\"}];\n",
       "                      window.edgesList=[{\"from\": 1, \"to\": 16, \"arrows\": \"to\"}, {\"from\": 2, \"to\": 17, \"arrows\": \"to\"}, {\"from\": 3, \"to\": 18, \"arrows\": \"to\"}, {\"from\": 4, \"to\": 19, \"arrows\": \"to\"}, {\"from\": 5, \"to\": 20, \"arrows\": \"to\"}, {\"from\": 6, \"to\": 21, \"arrows\": \"to\"}, {\"from\": 7, \"to\": 22, \"arrows\": \"to\"}, {\"from\": 8, \"to\": 23, \"arrows\": \"to\"}, {\"from\": 9, \"to\": 24, \"arrows\": \"to\"}, {\"from\": 10, \"to\": 25, \"arrows\": \"to\"}, {\"from\": 11, \"to\": 26, \"arrows\": \"to\"}, {\"from\": 12, \"to\": 27, \"arrows\": \"to\"}, {\"from\": 13, \"to\": 28, \"arrows\": \"to\"}, {\"from\": 14, \"to\": 29, \"arrows\": \"to\"}, {\"from\": 15, \"to\": 30, \"arrows\": \"to\"}, {\"from\": 16, \"to\": 31, \"arrows\": \"to\"}, {\"from\": 17, \"to\": 31, \"arrows\": \"to\"}, {\"from\": 18, \"to\": 31, \"arrows\": \"to\"}, {\"from\": 19, \"to\": 31, \"arrows\": \"to\"}, {\"from\": 20, \"to\": 31, \"arrows\": \"to\"}, {\"from\": 21, \"to\": 31, \"arrows\": \"to\"}, {\"from\": 22, \"to\": 31, \"arrows\": \"to\"}, {\"from\": 23, \"to\": 31, \"arrows\": \"to\"}, {\"from\": 24, \"to\": 31, \"arrows\": \"to\"}, {\"from\": 25, \"to\": 31, \"arrows\": \"to\"}, {\"from\": 26, \"to\": 31, \"arrows\": \"to\"}, {\"from\": 27, \"to\": 31, \"arrows\": \"to\"}, {\"from\": 28, \"to\": 31, \"arrows\": \"to\"}, {\"from\": 29, \"to\": 31, \"arrows\": \"to\"}, {\"from\": 30, \"to\": 31, \"arrows\": \"to\"}];\n",
       "                   "
      ],
      "text/plain": [
       "<IPython.core.display.Javascript object>"
      ]
     },
     "metadata": {},
     "output_type": "display_data"
    },
    {
     "data": {
      "application/javascript": [
       "require.config({paths: {vis: 'https://cdnjs.cloudflare.com/ajax/libs/vis/4.21.0/vis.min'}});\n",
       "require(['vis'], function (vis){\n",
       "    if (document.getElementById(\"mynetwork\") == null) {\n",
       "        element.append('<div id=\"mynetwork\" style=\"width:950px;height:750px;border:1px solid lightgray;\"></div>');\n",
       "    }\n",
       "    var nodes = new vis.DataSet(window.nodesList);\n",
       "    var edges = new vis.DataSet(window.edgesList);\n",
       "    var container = document.getElementById('mynetwork');\n",
       "    var data = {\n",
       "         nodes: nodes,\n",
       "         edges: edges\n",
       "     };\n",
       "     var options = {interaction:{hover:true}, \n",
       "                   layout: {\n",
       "                    hierarchical: {\n",
       "                        direction: 'UD'\n",
       "                    }}\n",
       "                   };\n",
       "     var network = new vis.Network(container, data, options);\n",
       "     network.on(\"hoverNode\", function (params) {\n",
       "             \n",
       "     });\n",
       "     network.on(\"hoverEdge\", function (params) {\n",
       "            \n",
       "     });\n",
       "     network.on(\"blurNode\", function (params) {\n",
       "             \n",
       "     });\n",
       "     network.on(\"blurEdge\", function (params) {\n",
       "             \n",
       "     });\n",
       "});"
      ],
      "text/plain": [
       "<IPython.core.display.Javascript object>"
      ]
     },
     "metadata": {},
     "output_type": "display_data"
    },
    {
     "data": {
      "application/javascript": [
       "window.nodesList=[{\"id\": 0, \"label\": \"0\\ntest_deps\", \"color\": \"Red\", \"font\": {\"background\": \"white\"}, \"title\": \"Failed\"}, {\"id\": 1, \"label\": \"1\\nsleep_fail\", \"color\": \"Green\", \"font\": {\"background\": \"white\"}, \"title\": \"Finished\"}, {\"id\": 2, \"label\": \"2\\nsleep_fail\", \"color\": \"Red\", \"font\": {\"background\": \"white\"}, \"title\": \"Failed\"}, {\"id\": 3, \"label\": \"3\\nsleep_fail\", \"color\": \"Green\", \"font\": {\"background\": \"white\"}, \"title\": \"Finished\"}, {\"id\": 4, \"label\": \"4\\nsleep_fail\", \"color\": \"Green\", \"font\": {\"background\": \"white\"}, \"title\": \"Finished\"}, {\"id\": 5, \"label\": \"5\\nsleep_fail\", \"color\": \"Green\", \"font\": {\"background\": \"white\"}, \"title\": \"Finished\"}, {\"id\": 6, \"label\": \"6\\nsleep_fail\", \"color\": \"Green\", \"font\": {\"background\": \"white\"}, \"title\": \"Finished\"}, {\"id\": 7, \"label\": \"7\\nsleep_fail\", \"color\": \"Green\", \"font\": {\"background\": \"white\"}, \"title\": \"Finished\"}, {\"id\": 8, \"label\": \"8\\nsleep_fail\", \"color\": \"Red\", \"font\": {\"background\": \"white\"}, \"title\": \"Failed\"}, {\"id\": 9, \"label\": \"9\\nsleep_fail\", \"color\": \"Red\", \"font\": {\"background\": \"white\"}, \"title\": \"Failed\"}, {\"id\": 10, \"label\": \"10\\nsleep_fail\", \"color\": \"Red\", \"font\": {\"background\": \"white\"}, \"title\": \"Failed\"}, {\"id\": 11, \"label\": \"11\\nsleep_fail\", \"color\": \"Green\", \"font\": {\"background\": \"white\"}, \"title\": \"Finished\"}, {\"id\": 12, \"label\": \"12\\nsleep_fail\", \"color\": \"Red\", \"font\": {\"background\": \"white\"}, \"title\": \"Failed\"}, {\"id\": 13, \"label\": \"13\\nsleep_fail\", \"color\": \"Red\", \"font\": {\"background\": \"white\"}, \"title\": \"Failed\"}, {\"id\": 14, \"label\": \"14\\nsleep_fail\", \"color\": \"Green\", \"font\": {\"background\": \"white\"}, \"title\": \"Finished\"}, {\"id\": 15, \"label\": \"15\\nsleep_fail\", \"color\": \"Green\", \"font\": {\"background\": \"white\"}, \"title\": \"Finished\"}, {\"id\": 16, \"label\": \"16\\nsleep_fail\", \"color\": \"Green\", \"font\": {\"background\": \"white\"}, \"title\": \"Finished\"}, {\"id\": 17, \"label\": \"17\\nsleep_fail\", \"color\": \"orange\", \"font\": {\"background\": \"white\"}, \"title\": \"Dependency Failure\"}, {\"id\": 18, \"label\": \"18\\nsleep_fail\", \"color\": \"Green\", \"font\": {\"background\": \"white\"}, \"title\": \"Finished\"}, {\"id\": 19, \"label\": \"19\\nsleep_fail\", \"color\": \"Green\", \"font\": {\"background\": \"white\"}, \"title\": \"Finished\"}, {\"id\": 20, \"label\": \"20\\nsleep_fail\", \"color\": \"Green\", \"font\": {\"background\": \"white\"}, \"title\": \"Finished\"}, {\"id\": 21, \"label\": \"21\\nsleep_fail\", \"color\": \"Green\", \"font\": {\"background\": \"white\"}, \"title\": \"Finished\"}, {\"id\": 22, \"label\": \"22\\nsleep_fail\", \"color\": \"Green\", \"font\": {\"background\": \"white\"}, \"title\": \"Finished\"}, {\"id\": 23, \"label\": \"23\\nsleep_fail\", \"color\": \"orange\", \"font\": {\"background\": \"white\"}, \"title\": \"Dependency Failure\"}, {\"id\": 24, \"label\": \"24\\nsleep_fail\", \"color\": \"Red\", \"font\": {\"background\": \"white\"}, \"title\": \"Failed\"}, {\"id\": 25, \"label\": \"25\\nsleep_fail\", \"color\": \"orange\", \"font\": {\"background\": \"white\"}, \"title\": \"Dependency Failure\"}, {\"id\": 26, \"label\": \"26\\nsleep_fail\", \"color\": \"Green\", \"font\": {\"background\": \"white\"}, \"title\": \"Finished\"}, {\"id\": 27, \"label\": \"27\\nsleep_fail\", \"color\": \"orange\", \"font\": {\"background\": \"white\"}, \"title\": \"Dependency Failure\"}, {\"id\": 28, \"label\": \"28\\nsleep_fail\", \"color\": \"orange\", \"font\": {\"background\": \"white\"}, \"title\": \"Dependency Failure\"}, {\"id\": 29, \"label\": \"29\\nsleep_fail\", \"color\": \"Green\", \"font\": {\"background\": \"white\"}, \"title\": \"Finished\"}, {\"id\": 30, \"label\": \"30\\nsleep_fail\", \"color\": \"Green\", \"font\": {\"background\": \"white\"}, \"title\": \"Finished\"}, {\"id\": 31, \"label\": \"31\\nsleep_fail\", \"color\": \"orange\", \"font\": {\"background\": \"white\"}, \"title\": \"Dependency Failure\"}];\n",
       "                      window.edgesList=[{\"from\": 1, \"to\": 16, \"arrows\": \"to\"}, {\"from\": 2, \"to\": 17, \"arrows\": \"to\"}, {\"from\": 3, \"to\": 18, \"arrows\": \"to\"}, {\"from\": 4, \"to\": 19, \"arrows\": \"to\"}, {\"from\": 5, \"to\": 20, \"arrows\": \"to\"}, {\"from\": 6, \"to\": 21, \"arrows\": \"to\"}, {\"from\": 7, \"to\": 22, \"arrows\": \"to\"}, {\"from\": 8, \"to\": 23, \"arrows\": \"to\"}, {\"from\": 9, \"to\": 24, \"arrows\": \"to\"}, {\"from\": 10, \"to\": 25, \"arrows\": \"to\"}, {\"from\": 11, \"to\": 26, \"arrows\": \"to\"}, {\"from\": 12, \"to\": 27, \"arrows\": \"to\"}, {\"from\": 13, \"to\": 28, \"arrows\": \"to\"}, {\"from\": 14, \"to\": 29, \"arrows\": \"to\"}, {\"from\": 15, \"to\": 30, \"arrows\": \"to\"}, {\"from\": 16, \"to\": 31, \"arrows\": \"to\"}, {\"from\": 17, \"to\": 31, \"arrows\": \"to\"}, {\"from\": 18, \"to\": 31, \"arrows\": \"to\"}, {\"from\": 19, \"to\": 31, \"arrows\": \"to\"}, {\"from\": 20, \"to\": 31, \"arrows\": \"to\"}, {\"from\": 21, \"to\": 31, \"arrows\": \"to\"}, {\"from\": 22, \"to\": 31, \"arrows\": \"to\"}, {\"from\": 23, \"to\": 31, \"arrows\": \"to\"}, {\"from\": 24, \"to\": 31, \"arrows\": \"to\"}, {\"from\": 25, \"to\": 31, \"arrows\": \"to\"}, {\"from\": 26, \"to\": 31, \"arrows\": \"to\"}, {\"from\": 27, \"to\": 31, \"arrows\": \"to\"}, {\"from\": 28, \"to\": 31, \"arrows\": \"to\"}, {\"from\": 29, \"to\": 31, \"arrows\": \"to\"}, {\"from\": 30, \"to\": 31, \"arrows\": \"to\"}];\n",
       "                   "
      ],
      "text/plain": [
       "<IPython.core.display.Javascript object>"
      ]
     },
     "metadata": {},
     "output_type": "display_data"
    },
    {
     "data": {
      "application/javascript": [
       "require.config({paths: {vis: 'https://cdnjs.cloudflare.com/ajax/libs/vis/4.21.0/vis.min'}});\n",
       "require(['vis'], function (vis){\n",
       "    if (document.getElementById(\"mynetwork\") == null) {\n",
       "        element.append('<div id=\"mynetwork\" style=\"width:950px;height:750px;border:1px solid lightgray;\"></div>');\n",
       "    }\n",
       "    var nodes = new vis.DataSet(window.nodesList);\n",
       "    var edges = new vis.DataSet(window.edgesList);\n",
       "    var container = document.getElementById('mynetwork');\n",
       "    var data = {\n",
       "         nodes: nodes,\n",
       "         edges: edges\n",
       "     };\n",
       "     var options = {interaction:{hover:true}, \n",
       "                   layout: {\n",
       "                    hierarchical: {\n",
       "                        direction: 'UD'\n",
       "                    }}\n",
       "                   };\n",
       "     var network = new vis.Network(container, data, options);\n",
       "     network.on(\"hoverNode\", function (params) {\n",
       "             \n",
       "     });\n",
       "     network.on(\"hoverEdge\", function (params) {\n",
       "            \n",
       "     });\n",
       "     network.on(\"blurNode\", function (params) {\n",
       "             \n",
       "     });\n",
       "     network.on(\"blurEdge\", function (params) {\n",
       "             \n",
       "     });\n",
       "});"
      ],
      "text/plain": [
       "<IPython.core.display.Javascript object>"
      ]
     },
     "metadata": {},
     "output_type": "display_data"
    },
    {
     "data": {
      "application/javascript": [
       "window.nodesList=[{\"id\": 0, \"label\": \"0\\ntest_deps\", \"color\": \"Red\", \"font\": {\"background\": \"white\"}, \"title\": \"Failed\"}, {\"id\": 1, \"label\": \"1\\nsleep_fail\", \"color\": \"Green\", \"font\": {\"background\": \"white\"}, \"title\": \"Finished\"}, {\"id\": 2, \"label\": \"2\\nsleep_fail\", \"color\": \"Red\", \"font\": {\"background\": \"white\"}, \"title\": \"Failed\"}, {\"id\": 3, \"label\": \"3\\nsleep_fail\", \"color\": \"Green\", \"font\": {\"background\": \"white\"}, \"title\": \"Finished\"}, {\"id\": 4, \"label\": \"4\\nsleep_fail\", \"color\": \"Green\", \"font\": {\"background\": \"white\"}, \"title\": \"Finished\"}, {\"id\": 5, \"label\": \"5\\nsleep_fail\", \"color\": \"Green\", \"font\": {\"background\": \"white\"}, \"title\": \"Finished\"}, {\"id\": 6, \"label\": \"6\\nsleep_fail\", \"color\": \"Green\", \"font\": {\"background\": \"white\"}, \"title\": \"Finished\"}, {\"id\": 7, \"label\": \"7\\nsleep_fail\", \"color\": \"Green\", \"font\": {\"background\": \"white\"}, \"title\": \"Finished\"}, {\"id\": 8, \"label\": \"8\\nsleep_fail\", \"color\": \"Red\", \"font\": {\"background\": \"white\"}, \"title\": \"Failed\"}, {\"id\": 9, \"label\": \"9\\nsleep_fail\", \"color\": \"Red\", \"font\": {\"background\": \"white\"}, \"title\": \"Failed\"}, {\"id\": 10, \"label\": \"10\\nsleep_fail\", \"color\": \"Red\", \"font\": {\"background\": \"white\"}, \"title\": \"Failed\"}, {\"id\": 11, \"label\": \"11\\nsleep_fail\", \"color\": \"Green\", \"font\": {\"background\": \"white\"}, \"title\": \"Finished\"}, {\"id\": 12, \"label\": \"12\\nsleep_fail\", \"color\": \"Red\", \"font\": {\"background\": \"white\"}, \"title\": \"Failed\"}, {\"id\": 13, \"label\": \"13\\nsleep_fail\", \"color\": \"Red\", \"font\": {\"background\": \"white\"}, \"title\": \"Failed\"}, {\"id\": 14, \"label\": \"14\\nsleep_fail\", \"color\": \"Green\", \"font\": {\"background\": \"white\"}, \"title\": \"Finished\"}, {\"id\": 15, \"label\": \"15\\nsleep_fail\", \"color\": \"Green\", \"font\": {\"background\": \"white\"}, \"title\": \"Finished\"}, {\"id\": 16, \"label\": \"16\\nsleep_fail\", \"color\": \"Green\", \"font\": {\"background\": \"white\"}, \"title\": \"Finished\"}, {\"id\": 17, \"label\": \"17\\nsleep_fail\", \"color\": \"orange\", \"font\": {\"background\": \"white\"}, \"title\": \"Dependency Failure\"}, {\"id\": 18, \"label\": \"18\\nsleep_fail\", \"color\": \"Green\", \"font\": {\"background\": \"white\"}, \"title\": \"Finished\"}, {\"id\": 19, \"label\": \"19\\nsleep_fail\", \"color\": \"Green\", \"font\": {\"background\": \"white\"}, \"title\": \"Finished\"}, {\"id\": 20, \"label\": \"20\\nsleep_fail\", \"color\": \"Green\", \"font\": {\"background\": \"white\"}, \"title\": \"Finished\"}, {\"id\": 21, \"label\": \"21\\nsleep_fail\", \"color\": \"Green\", \"font\": {\"background\": \"white\"}, \"title\": \"Finished\"}, {\"id\": 22, \"label\": \"22\\nsleep_fail\", \"color\": \"Green\", \"font\": {\"background\": \"white\"}, \"title\": \"Finished\"}, {\"id\": 23, \"label\": \"23\\nsleep_fail\", \"color\": \"orange\", \"font\": {\"background\": \"white\"}, \"title\": \"Dependency Failure\"}, {\"id\": 24, \"label\": \"24\\nsleep_fail\", \"color\": \"Red\", \"font\": {\"background\": \"white\"}, \"title\": \"Failed\"}, {\"id\": 25, \"label\": \"25\\nsleep_fail\", \"color\": \"orange\", \"font\": {\"background\": \"white\"}, \"title\": \"Dependency Failure\"}, {\"id\": 26, \"label\": \"26\\nsleep_fail\", \"color\": \"Green\", \"font\": {\"background\": \"white\"}, \"title\": \"Finished\"}, {\"id\": 27, \"label\": \"27\\nsleep_fail\", \"color\": \"orange\", \"font\": {\"background\": \"white\"}, \"title\": \"Dependency Failure\"}, {\"id\": 28, \"label\": \"28\\nsleep_fail\", \"color\": \"orange\", \"font\": {\"background\": \"white\"}, \"title\": \"Dependency Failure\"}, {\"id\": 29, \"label\": \"29\\nsleep_fail\", \"color\": \"Green\", \"font\": {\"background\": \"white\"}, \"title\": \"Finished\"}, {\"id\": 30, \"label\": \"30\\nsleep_fail\", \"color\": \"Green\", \"font\": {\"background\": \"white\"}, \"title\": \"Finished\"}, {\"id\": 31, \"label\": \"31\\nsleep_fail\", \"color\": \"orange\", \"font\": {\"background\": \"white\"}, \"title\": \"Dependency Failure\"}];\n",
       "                      window.edgesList=[{\"from\": 1, \"to\": 16, \"arrows\": \"to\"}, {\"from\": 2, \"to\": 17, \"arrows\": \"to\"}, {\"from\": 3, \"to\": 18, \"arrows\": \"to\"}, {\"from\": 4, \"to\": 19, \"arrows\": \"to\"}, {\"from\": 5, \"to\": 20, \"arrows\": \"to\"}, {\"from\": 6, \"to\": 21, \"arrows\": \"to\"}, {\"from\": 7, \"to\": 22, \"arrows\": \"to\"}, {\"from\": 8, \"to\": 23, \"arrows\": \"to\"}, {\"from\": 9, \"to\": 24, \"arrows\": \"to\"}, {\"from\": 10, \"to\": 25, \"arrows\": \"to\"}, {\"from\": 11, \"to\": 26, \"arrows\": \"to\"}, {\"from\": 12, \"to\": 27, \"arrows\": \"to\"}, {\"from\": 13, \"to\": 28, \"arrows\": \"to\"}, {\"from\": 14, \"to\": 29, \"arrows\": \"to\"}, {\"from\": 15, \"to\": 30, \"arrows\": \"to\"}, {\"from\": 16, \"to\": 31, \"arrows\": \"to\"}, {\"from\": 17, \"to\": 31, \"arrows\": \"to\"}, {\"from\": 18, \"to\": 31, \"arrows\": \"to\"}, {\"from\": 19, \"to\": 31, \"arrows\": \"to\"}, {\"from\": 20, \"to\": 31, \"arrows\": \"to\"}, {\"from\": 21, \"to\": 31, \"arrows\": \"to\"}, {\"from\": 22, \"to\": 31, \"arrows\": \"to\"}, {\"from\": 23, \"to\": 31, \"arrows\": \"to\"}, {\"from\": 24, \"to\": 31, \"arrows\": \"to\"}, {\"from\": 25, \"to\": 31, \"arrows\": \"to\"}, {\"from\": 26, \"to\": 31, \"arrows\": \"to\"}, {\"from\": 27, \"to\": 31, \"arrows\": \"to\"}, {\"from\": 28, \"to\": 31, \"arrows\": \"to\"}, {\"from\": 29, \"to\": 31, \"arrows\": \"to\"}, {\"from\": 30, \"to\": 31, \"arrows\": \"to\"}];\n",
       "                   "
      ],
      "text/plain": [
       "<IPython.core.display.Javascript object>"
      ]
     },
     "metadata": {},
     "output_type": "display_data"
    },
    {
     "data": {
      "application/javascript": [
       "require.config({paths: {vis: 'https://cdnjs.cloudflare.com/ajax/libs/vis/4.21.0/vis.min'}});\n",
       "require(['vis'], function (vis){\n",
       "    if (document.getElementById(\"mynetwork\") == null) {\n",
       "        element.append('<div id=\"mynetwork\" style=\"width:950px;height:750px;border:1px solid lightgray;\"></div>');\n",
       "    }\n",
       "    var nodes = new vis.DataSet(window.nodesList);\n",
       "    var edges = new vis.DataSet(window.edgesList);\n",
       "    var container = document.getElementById('mynetwork');\n",
       "    var data = {\n",
       "         nodes: nodes,\n",
       "         edges: edges\n",
       "     };\n",
       "     var options = {interaction:{hover:true}, \n",
       "                   layout: {\n",
       "                    hierarchical: {\n",
       "                        direction: 'UD'\n",
       "                    }}\n",
       "                   };\n",
       "     var network = new vis.Network(container, data, options);\n",
       "     network.on(\"hoverNode\", function (params) {\n",
       "             \n",
       "     });\n",
       "     network.on(\"hoverEdge\", function (params) {\n",
       "            \n",
       "     });\n",
       "     network.on(\"blurNode\", function (params) {\n",
       "             \n",
       "     });\n",
       "     network.on(\"blurEdge\", function (params) {\n",
       "             \n",
       "     });\n",
       "});"
      ],
      "text/plain": [
       "<IPython.core.display.Javascript object>"
      ]
     },
     "metadata": {},
     "output_type": "display_data"
    },
    {
     "data": {
      "application/javascript": [
       "window.nodesList=[{\"id\": 0, \"label\": \"0\\ntest_deps\", \"color\": \"Red\", \"font\": {\"background\": \"white\"}, \"title\": \"Failed\"}, {\"id\": 1, \"label\": \"1\\nsleep_fail\", \"color\": \"Green\", \"font\": {\"background\": \"white\"}, \"title\": \"Finished\"}, {\"id\": 2, \"label\": \"2\\nsleep_fail\", \"color\": \"Red\", \"font\": {\"background\": \"white\"}, \"title\": \"Failed\"}, {\"id\": 3, \"label\": \"3\\nsleep_fail\", \"color\": \"Green\", \"font\": {\"background\": \"white\"}, \"title\": \"Finished\"}, {\"id\": 4, \"label\": \"4\\nsleep_fail\", \"color\": \"Green\", \"font\": {\"background\": \"white\"}, \"title\": \"Finished\"}, {\"id\": 5, \"label\": \"5\\nsleep_fail\", \"color\": \"Green\", \"font\": {\"background\": \"white\"}, \"title\": \"Finished\"}, {\"id\": 6, \"label\": \"6\\nsleep_fail\", \"color\": \"Green\", \"font\": {\"background\": \"white\"}, \"title\": \"Finished\"}, {\"id\": 7, \"label\": \"7\\nsleep_fail\", \"color\": \"Green\", \"font\": {\"background\": \"white\"}, \"title\": \"Finished\"}, {\"id\": 8, \"label\": \"8\\nsleep_fail\", \"color\": \"Red\", \"font\": {\"background\": \"white\"}, \"title\": \"Failed\"}, {\"id\": 9, \"label\": \"9\\nsleep_fail\", \"color\": \"Red\", \"font\": {\"background\": \"white\"}, \"title\": \"Failed\"}, {\"id\": 10, \"label\": \"10\\nsleep_fail\", \"color\": \"Red\", \"font\": {\"background\": \"white\"}, \"title\": \"Failed\"}, {\"id\": 11, \"label\": \"11\\nsleep_fail\", \"color\": \"Green\", \"font\": {\"background\": \"white\"}, \"title\": \"Finished\"}, {\"id\": 12, \"label\": \"12\\nsleep_fail\", \"color\": \"Red\", \"font\": {\"background\": \"white\"}, \"title\": \"Failed\"}, {\"id\": 13, \"label\": \"13\\nsleep_fail\", \"color\": \"Red\", \"font\": {\"background\": \"white\"}, \"title\": \"Failed\"}, {\"id\": 14, \"label\": \"14\\nsleep_fail\", \"color\": \"Green\", \"font\": {\"background\": \"white\"}, \"title\": \"Finished\"}, {\"id\": 15, \"label\": \"15\\nsleep_fail\", \"color\": \"Green\", \"font\": {\"background\": \"white\"}, \"title\": \"Finished\"}, {\"id\": 16, \"label\": \"16\\nsleep_fail\", \"color\": \"Green\", \"font\": {\"background\": \"white\"}, \"title\": \"Finished\"}, {\"id\": 17, \"label\": \"17\\nsleep_fail\", \"color\": \"orange\", \"font\": {\"background\": \"white\"}, \"title\": \"Dependency Failure\"}, {\"id\": 18, \"label\": \"18\\nsleep_fail\", \"color\": \"Green\", \"font\": {\"background\": \"white\"}, \"title\": \"Finished\"}, {\"id\": 19, \"label\": \"19\\nsleep_fail\", \"color\": \"Green\", \"font\": {\"background\": \"white\"}, \"title\": \"Finished\"}, {\"id\": 20, \"label\": \"20\\nsleep_fail\", \"color\": \"Green\", \"font\": {\"background\": \"white\"}, \"title\": \"Finished\"}, {\"id\": 21, \"label\": \"21\\nsleep_fail\", \"color\": \"Green\", \"font\": {\"background\": \"white\"}, \"title\": \"Finished\"}, {\"id\": 22, \"label\": \"22\\nsleep_fail\", \"color\": \"Green\", \"font\": {\"background\": \"white\"}, \"title\": \"Finished\"}, {\"id\": 23, \"label\": \"23\\nsleep_fail\", \"color\": \"orange\", \"font\": {\"background\": \"white\"}, \"title\": \"Dependency Failure\"}, {\"id\": 24, \"label\": \"24\\nsleep_fail\", \"color\": \"Red\", \"font\": {\"background\": \"white\"}, \"title\": \"Failed\"}, {\"id\": 25, \"label\": \"25\\nsleep_fail\", \"color\": \"orange\", \"font\": {\"background\": \"white\"}, \"title\": \"Dependency Failure\"}, {\"id\": 26, \"label\": \"26\\nsleep_fail\", \"color\": \"Green\", \"font\": {\"background\": \"white\"}, \"title\": \"Finished\"}, {\"id\": 27, \"label\": \"27\\nsleep_fail\", \"color\": \"orange\", \"font\": {\"background\": \"white\"}, \"title\": \"Dependency Failure\"}, {\"id\": 28, \"label\": \"28\\nsleep_fail\", \"color\": \"orange\", \"font\": {\"background\": \"white\"}, \"title\": \"Dependency Failure\"}, {\"id\": 29, \"label\": \"29\\nsleep_fail\", \"color\": \"Green\", \"font\": {\"background\": \"white\"}, \"title\": \"Finished\"}, {\"id\": 30, \"label\": \"30\\nsleep_fail\", \"color\": \"Green\", \"font\": {\"background\": \"white\"}, \"title\": \"Finished\"}, {\"id\": 31, \"label\": \"31\\nsleep_fail\", \"color\": \"orange\", \"font\": {\"background\": \"white\"}, \"title\": \"Dependency Failure\"}];\n",
       "                      window.edgesList=[{\"from\": 1, \"to\": 16, \"arrows\": \"to\"}, {\"from\": 2, \"to\": 17, \"arrows\": \"to\"}, {\"from\": 3, \"to\": 18, \"arrows\": \"to\"}, {\"from\": 4, \"to\": 19, \"arrows\": \"to\"}, {\"from\": 5, \"to\": 20, \"arrows\": \"to\"}, {\"from\": 6, \"to\": 21, \"arrows\": \"to\"}, {\"from\": 7, \"to\": 22, \"arrows\": \"to\"}, {\"from\": 8, \"to\": 23, \"arrows\": \"to\"}, {\"from\": 9, \"to\": 24, \"arrows\": \"to\"}, {\"from\": 10, \"to\": 25, \"arrows\": \"to\"}, {\"from\": 11, \"to\": 26, \"arrows\": \"to\"}, {\"from\": 12, \"to\": 27, \"arrows\": \"to\"}, {\"from\": 13, \"to\": 28, \"arrows\": \"to\"}, {\"from\": 14, \"to\": 29, \"arrows\": \"to\"}, {\"from\": 15, \"to\": 30, \"arrows\": \"to\"}, {\"from\": 16, \"to\": 31, \"arrows\": \"to\"}, {\"from\": 17, \"to\": 31, \"arrows\": \"to\"}, {\"from\": 18, \"to\": 31, \"arrows\": \"to\"}, {\"from\": 19, \"to\": 31, \"arrows\": \"to\"}, {\"from\": 20, \"to\": 31, \"arrows\": \"to\"}, {\"from\": 21, \"to\": 31, \"arrows\": \"to\"}, {\"from\": 22, \"to\": 31, \"arrows\": \"to\"}, {\"from\": 23, \"to\": 31, \"arrows\": \"to\"}, {\"from\": 24, \"to\": 31, \"arrows\": \"to\"}, {\"from\": 25, \"to\": 31, \"arrows\": \"to\"}, {\"from\": 26, \"to\": 31, \"arrows\": \"to\"}, {\"from\": 27, \"to\": 31, \"arrows\": \"to\"}, {\"from\": 28, \"to\": 31, \"arrows\": \"to\"}, {\"from\": 29, \"to\": 31, \"arrows\": \"to\"}, {\"from\": 30, \"to\": 31, \"arrows\": \"to\"}];\n",
       "                   "
      ],
      "text/plain": [
       "<IPython.core.display.Javascript object>"
      ]
     },
     "metadata": {},
     "output_type": "display_data"
    },
    {
     "data": {
      "application/javascript": [
       "require.config({paths: {vis: 'https://cdnjs.cloudflare.com/ajax/libs/vis/4.21.0/vis.min'}});\n",
       "require(['vis'], function (vis){\n",
       "    if (document.getElementById(\"mynetwork\") == null) {\n",
       "        element.append('<div id=\"mynetwork\" style=\"width:950px;height:750px;border:1px solid lightgray;\"></div>');\n",
       "    }\n",
       "    var nodes = new vis.DataSet(window.nodesList);\n",
       "    var edges = new vis.DataSet(window.edgesList);\n",
       "    var container = document.getElementById('mynetwork');\n",
       "    var data = {\n",
       "         nodes: nodes,\n",
       "         edges: edges\n",
       "     };\n",
       "     var options = {interaction:{hover:true}, \n",
       "                   layout: {\n",
       "                    hierarchical: {\n",
       "                        direction: 'UD'\n",
       "                    }}\n",
       "                   };\n",
       "     var network = new vis.Network(container, data, options);\n",
       "     network.on(\"hoverNode\", function (params) {\n",
       "             \n",
       "     });\n",
       "     network.on(\"hoverEdge\", function (params) {\n",
       "            \n",
       "     });\n",
       "     network.on(\"blurNode\", function (params) {\n",
       "             \n",
       "     });\n",
       "     network.on(\"blurEdge\", function (params) {\n",
       "             \n",
       "     });\n",
       "});"
      ],
      "text/plain": [
       "<IPython.core.display.Javascript object>"
      ]
     },
     "metadata": {},
     "output_type": "display_data"
    },
    {
     "data": {
      "application/javascript": [
       "window.nodesList=[{\"id\": 0, \"label\": \"0\\ntest_deps\", \"color\": \"Red\", \"font\": {\"background\": \"white\"}, \"title\": \"Failed\"}, {\"id\": 1, \"label\": \"1\\nsleep_fail\", \"color\": \"Green\", \"font\": {\"background\": \"white\"}, \"title\": \"Finished\"}, {\"id\": 2, \"label\": \"2\\nsleep_fail\", \"color\": \"Red\", \"font\": {\"background\": \"white\"}, \"title\": \"Failed\"}, {\"id\": 3, \"label\": \"3\\nsleep_fail\", \"color\": \"Green\", \"font\": {\"background\": \"white\"}, \"title\": \"Finished\"}, {\"id\": 4, \"label\": \"4\\nsleep_fail\", \"color\": \"Green\", \"font\": {\"background\": \"white\"}, \"title\": \"Finished\"}, {\"id\": 5, \"label\": \"5\\nsleep_fail\", \"color\": \"Green\", \"font\": {\"background\": \"white\"}, \"title\": \"Finished\"}, {\"id\": 6, \"label\": \"6\\nsleep_fail\", \"color\": \"Green\", \"font\": {\"background\": \"white\"}, \"title\": \"Finished\"}, {\"id\": 7, \"label\": \"7\\nsleep_fail\", \"color\": \"Green\", \"font\": {\"background\": \"white\"}, \"title\": \"Finished\"}, {\"id\": 8, \"label\": \"8\\nsleep_fail\", \"color\": \"Red\", \"font\": {\"background\": \"white\"}, \"title\": \"Failed\"}, {\"id\": 9, \"label\": \"9\\nsleep_fail\", \"color\": \"Red\", \"font\": {\"background\": \"white\"}, \"title\": \"Failed\"}, {\"id\": 10, \"label\": \"10\\nsleep_fail\", \"color\": \"Red\", \"font\": {\"background\": \"white\"}, \"title\": \"Failed\"}, {\"id\": 11, \"label\": \"11\\nsleep_fail\", \"color\": \"Green\", \"font\": {\"background\": \"white\"}, \"title\": \"Finished\"}, {\"id\": 12, \"label\": \"12\\nsleep_fail\", \"color\": \"Red\", \"font\": {\"background\": \"white\"}, \"title\": \"Failed\"}, {\"id\": 13, \"label\": \"13\\nsleep_fail\", \"color\": \"Red\", \"font\": {\"background\": \"white\"}, \"title\": \"Failed\"}, {\"id\": 14, \"label\": \"14\\nsleep_fail\", \"color\": \"Green\", \"font\": {\"background\": \"white\"}, \"title\": \"Finished\"}, {\"id\": 15, \"label\": \"15\\nsleep_fail\", \"color\": \"Green\", \"font\": {\"background\": \"white\"}, \"title\": \"Finished\"}, {\"id\": 16, \"label\": \"16\\nsleep_fail\", \"color\": \"Green\", \"font\": {\"background\": \"white\"}, \"title\": \"Finished\"}, {\"id\": 17, \"label\": \"17\\nsleep_fail\", \"color\": \"orange\", \"font\": {\"background\": \"white\"}, \"title\": \"Dependency Failure\"}, {\"id\": 18, \"label\": \"18\\nsleep_fail\", \"color\": \"Green\", \"font\": {\"background\": \"white\"}, \"title\": \"Finished\"}, {\"id\": 19, \"label\": \"19\\nsleep_fail\", \"color\": \"Green\", \"font\": {\"background\": \"white\"}, \"title\": \"Finished\"}, {\"id\": 20, \"label\": \"20\\nsleep_fail\", \"color\": \"Green\", \"font\": {\"background\": \"white\"}, \"title\": \"Finished\"}, {\"id\": 21, \"label\": \"21\\nsleep_fail\", \"color\": \"Green\", \"font\": {\"background\": \"white\"}, \"title\": \"Finished\"}, {\"id\": 22, \"label\": \"22\\nsleep_fail\", \"color\": \"Green\", \"font\": {\"background\": \"white\"}, \"title\": \"Finished\"}, {\"id\": 23, \"label\": \"23\\nsleep_fail\", \"color\": \"orange\", \"font\": {\"background\": \"white\"}, \"title\": \"Dependency Failure\"}, {\"id\": 24, \"label\": \"24\\nsleep_fail\", \"color\": \"Red\", \"font\": {\"background\": \"white\"}, \"title\": \"Failed\"}, {\"id\": 25, \"label\": \"25\\nsleep_fail\", \"color\": \"orange\", \"font\": {\"background\": \"white\"}, \"title\": \"Dependency Failure\"}, {\"id\": 26, \"label\": \"26\\nsleep_fail\", \"color\": \"Green\", \"font\": {\"background\": \"white\"}, \"title\": \"Finished\"}, {\"id\": 27, \"label\": \"27\\nsleep_fail\", \"color\": \"orange\", \"font\": {\"background\": \"white\"}, \"title\": \"Dependency Failure\"}, {\"id\": 28, \"label\": \"28\\nsleep_fail\", \"color\": \"orange\", \"font\": {\"background\": \"white\"}, \"title\": \"Dependency Failure\"}, {\"id\": 29, \"label\": \"29\\nsleep_fail\", \"color\": \"Green\", \"font\": {\"background\": \"white\"}, \"title\": \"Finished\"}, {\"id\": 30, \"label\": \"30\\nsleep_fail\", \"color\": \"Green\", \"font\": {\"background\": \"white\"}, \"title\": \"Finished\"}, {\"id\": 31, \"label\": \"31\\nsleep_fail\", \"color\": \"orange\", \"font\": {\"background\": \"white\"}, \"title\": \"Dependency Failure\"}];\n",
       "                      window.edgesList=[{\"from\": 1, \"to\": 16, \"arrows\": \"to\"}, {\"from\": 2, \"to\": 17, \"arrows\": \"to\"}, {\"from\": 3, \"to\": 18, \"arrows\": \"to\"}, {\"from\": 4, \"to\": 19, \"arrows\": \"to\"}, {\"from\": 5, \"to\": 20, \"arrows\": \"to\"}, {\"from\": 6, \"to\": 21, \"arrows\": \"to\"}, {\"from\": 7, \"to\": 22, \"arrows\": \"to\"}, {\"from\": 8, \"to\": 23, \"arrows\": \"to\"}, {\"from\": 9, \"to\": 24, \"arrows\": \"to\"}, {\"from\": 10, \"to\": 25, \"arrows\": \"to\"}, {\"from\": 11, \"to\": 26, \"arrows\": \"to\"}, {\"from\": 12, \"to\": 27, \"arrows\": \"to\"}, {\"from\": 13, \"to\": 28, \"arrows\": \"to\"}, {\"from\": 14, \"to\": 29, \"arrows\": \"to\"}, {\"from\": 15, \"to\": 30, \"arrows\": \"to\"}, {\"from\": 16, \"to\": 31, \"arrows\": \"to\"}, {\"from\": 17, \"to\": 31, \"arrows\": \"to\"}, {\"from\": 18, \"to\": 31, \"arrows\": \"to\"}, {\"from\": 19, \"to\": 31, \"arrows\": \"to\"}, {\"from\": 20, \"to\": 31, \"arrows\": \"to\"}, {\"from\": 21, \"to\": 31, \"arrows\": \"to\"}, {\"from\": 22, \"to\": 31, \"arrows\": \"to\"}, {\"from\": 23, \"to\": 31, \"arrows\": \"to\"}, {\"from\": 24, \"to\": 31, \"arrows\": \"to\"}, {\"from\": 25, \"to\": 31, \"arrows\": \"to\"}, {\"from\": 26, \"to\": 31, \"arrows\": \"to\"}, {\"from\": 27, \"to\": 31, \"arrows\": \"to\"}, {\"from\": 28, \"to\": 31, \"arrows\": \"to\"}, {\"from\": 29, \"to\": 31, \"arrows\": \"to\"}, {\"from\": 30, \"to\": 31, \"arrows\": \"to\"}];\n",
       "                   "
      ],
      "text/plain": [
       "<IPython.core.display.Javascript object>"
      ]
     },
     "metadata": {},
     "output_type": "display_data"
    },
    {
     "data": {
      "application/javascript": [
       "require.config({paths: {vis: 'https://cdnjs.cloudflare.com/ajax/libs/vis/4.21.0/vis.min'}});\n",
       "require(['vis'], function (vis){\n",
       "    if (document.getElementById(\"mynetwork\") == null) {\n",
       "        element.append('<div id=\"mynetwork\" style=\"width:950px;height:750px;border:1px solid lightgray;\"></div>');\n",
       "    }\n",
       "    var nodes = new vis.DataSet(window.nodesList);\n",
       "    var edges = new vis.DataSet(window.edgesList);\n",
       "    var container = document.getElementById('mynetwork');\n",
       "    var data = {\n",
       "         nodes: nodes,\n",
       "         edges: edges\n",
       "     };\n",
       "     var options = {interaction:{hover:true}, \n",
       "                   layout: {\n",
       "                    hierarchical: {\n",
       "                        direction: 'UD'\n",
       "                    }}\n",
       "                   };\n",
       "     var network = new vis.Network(container, data, options);\n",
       "     network.on(\"hoverNode\", function (params) {\n",
       "             \n",
       "     });\n",
       "     network.on(\"hoverEdge\", function (params) {\n",
       "            \n",
       "     });\n",
       "     network.on(\"blurNode\", function (params) {\n",
       "             \n",
       "     });\n",
       "     network.on(\"blurEdge\", function (params) {\n",
       "             \n",
       "     });\n",
       "});"
      ],
      "text/plain": [
       "<IPython.core.display.Javascript object>"
      ]
     },
     "metadata": {},
     "output_type": "display_data"
    },
    {
     "data": {
      "application/javascript": [
       "window.nodesList=[{\"id\": 0, \"label\": \"0\\ntest_deps\", \"color\": \"Red\", \"font\": {\"background\": \"white\"}, \"title\": \"Failed\"}, {\"id\": 1, \"label\": \"1\\nsleep_fail\", \"color\": \"Green\", \"font\": {\"background\": \"white\"}, \"title\": \"Finished\"}, {\"id\": 2, \"label\": \"2\\nsleep_fail\", \"color\": \"Red\", \"font\": {\"background\": \"white\"}, \"title\": \"Failed\"}, {\"id\": 3, \"label\": \"3\\nsleep_fail\", \"color\": \"Green\", \"font\": {\"background\": \"white\"}, \"title\": \"Finished\"}, {\"id\": 4, \"label\": \"4\\nsleep_fail\", \"color\": \"Green\", \"font\": {\"background\": \"white\"}, \"title\": \"Finished\"}, {\"id\": 5, \"label\": \"5\\nsleep_fail\", \"color\": \"Green\", \"font\": {\"background\": \"white\"}, \"title\": \"Finished\"}, {\"id\": 6, \"label\": \"6\\nsleep_fail\", \"color\": \"Green\", \"font\": {\"background\": \"white\"}, \"title\": \"Finished\"}, {\"id\": 7, \"label\": \"7\\nsleep_fail\", \"color\": \"Green\", \"font\": {\"background\": \"white\"}, \"title\": \"Finished\"}, {\"id\": 8, \"label\": \"8\\nsleep_fail\", \"color\": \"Red\", \"font\": {\"background\": \"white\"}, \"title\": \"Failed\"}, {\"id\": 9, \"label\": \"9\\nsleep_fail\", \"color\": \"Red\", \"font\": {\"background\": \"white\"}, \"title\": \"Failed\"}, {\"id\": 10, \"label\": \"10\\nsleep_fail\", \"color\": \"Red\", \"font\": {\"background\": \"white\"}, \"title\": \"Failed\"}, {\"id\": 11, \"label\": \"11\\nsleep_fail\", \"color\": \"Green\", \"font\": {\"background\": \"white\"}, \"title\": \"Finished\"}, {\"id\": 12, \"label\": \"12\\nsleep_fail\", \"color\": \"Red\", \"font\": {\"background\": \"white\"}, \"title\": \"Failed\"}, {\"id\": 13, \"label\": \"13\\nsleep_fail\", \"color\": \"Red\", \"font\": {\"background\": \"white\"}, \"title\": \"Failed\"}, {\"id\": 14, \"label\": \"14\\nsleep_fail\", \"color\": \"Green\", \"font\": {\"background\": \"white\"}, \"title\": \"Finished\"}, {\"id\": 15, \"label\": \"15\\nsleep_fail\", \"color\": \"Green\", \"font\": {\"background\": \"white\"}, \"title\": \"Finished\"}, {\"id\": 16, \"label\": \"16\\nsleep_fail\", \"color\": \"Green\", \"font\": {\"background\": \"white\"}, \"title\": \"Finished\"}, {\"id\": 17, \"label\": \"17\\nsleep_fail\", \"color\": \"orange\", \"font\": {\"background\": \"white\"}, \"title\": \"Dependency Failure\"}, {\"id\": 18, \"label\": \"18\\nsleep_fail\", \"color\": \"Green\", \"font\": {\"background\": \"white\"}, \"title\": \"Finished\"}, {\"id\": 19, \"label\": \"19\\nsleep_fail\", \"color\": \"Green\", \"font\": {\"background\": \"white\"}, \"title\": \"Finished\"}, {\"id\": 20, \"label\": \"20\\nsleep_fail\", \"color\": \"Green\", \"font\": {\"background\": \"white\"}, \"title\": \"Finished\"}, {\"id\": 21, \"label\": \"21\\nsleep_fail\", \"color\": \"Green\", \"font\": {\"background\": \"white\"}, \"title\": \"Finished\"}, {\"id\": 22, \"label\": \"22\\nsleep_fail\", \"color\": \"Green\", \"font\": {\"background\": \"white\"}, \"title\": \"Finished\"}, {\"id\": 23, \"label\": \"23\\nsleep_fail\", \"color\": \"orange\", \"font\": {\"background\": \"white\"}, \"title\": \"Dependency Failure\"}, {\"id\": 24, \"label\": \"24\\nsleep_fail\", \"color\": \"Red\", \"font\": {\"background\": \"white\"}, \"title\": \"Failed\"}, {\"id\": 25, \"label\": \"25\\nsleep_fail\", \"color\": \"orange\", \"font\": {\"background\": \"white\"}, \"title\": \"Dependency Failure\"}, {\"id\": 26, \"label\": \"26\\nsleep_fail\", \"color\": \"Green\", \"font\": {\"background\": \"white\"}, \"title\": \"Finished\"}, {\"id\": 27, \"label\": \"27\\nsleep_fail\", \"color\": \"orange\", \"font\": {\"background\": \"white\"}, \"title\": \"Dependency Failure\"}, {\"id\": 28, \"label\": \"28\\nsleep_fail\", \"color\": \"orange\", \"font\": {\"background\": \"white\"}, \"title\": \"Dependency Failure\"}, {\"id\": 29, \"label\": \"29\\nsleep_fail\", \"color\": \"Green\", \"font\": {\"background\": \"white\"}, \"title\": \"Finished\"}, {\"id\": 30, \"label\": \"30\\nsleep_fail\", \"color\": \"Green\", \"font\": {\"background\": \"white\"}, \"title\": \"Finished\"}, {\"id\": 31, \"label\": \"31\\nsleep_fail\", \"color\": \"orange\", \"font\": {\"background\": \"white\"}, \"title\": \"Dependency Failure\"}];\n",
       "                      window.edgesList=[{\"from\": 1, \"to\": 16, \"arrows\": \"to\"}, {\"from\": 2, \"to\": 17, \"arrows\": \"to\"}, {\"from\": 3, \"to\": 18, \"arrows\": \"to\"}, {\"from\": 4, \"to\": 19, \"arrows\": \"to\"}, {\"from\": 5, \"to\": 20, \"arrows\": \"to\"}, {\"from\": 6, \"to\": 21, \"arrows\": \"to\"}, {\"from\": 7, \"to\": 22, \"arrows\": \"to\"}, {\"from\": 8, \"to\": 23, \"arrows\": \"to\"}, {\"from\": 9, \"to\": 24, \"arrows\": \"to\"}, {\"from\": 10, \"to\": 25, \"arrows\": \"to\"}, {\"from\": 11, \"to\": 26, \"arrows\": \"to\"}, {\"from\": 12, \"to\": 27, \"arrows\": \"to\"}, {\"from\": 13, \"to\": 28, \"arrows\": \"to\"}, {\"from\": 14, \"to\": 29, \"arrows\": \"to\"}, {\"from\": 15, \"to\": 30, \"arrows\": \"to\"}, {\"from\": 16, \"to\": 31, \"arrows\": \"to\"}, {\"from\": 17, \"to\": 31, \"arrows\": \"to\"}, {\"from\": 18, \"to\": 31, \"arrows\": \"to\"}, {\"from\": 19, \"to\": 31, \"arrows\": \"to\"}, {\"from\": 20, \"to\": 31, \"arrows\": \"to\"}, {\"from\": 21, \"to\": 31, \"arrows\": \"to\"}, {\"from\": 22, \"to\": 31, \"arrows\": \"to\"}, {\"from\": 23, \"to\": 31, \"arrows\": \"to\"}, {\"from\": 24, \"to\": 31, \"arrows\": \"to\"}, {\"from\": 25, \"to\": 31, \"arrows\": \"to\"}, {\"from\": 26, \"to\": 31, \"arrows\": \"to\"}, {\"from\": 27, \"to\": 31, \"arrows\": \"to\"}, {\"from\": 28, \"to\": 31, \"arrows\": \"to\"}, {\"from\": 29, \"to\": 31, \"arrows\": \"to\"}, {\"from\": 30, \"to\": 31, \"arrows\": \"to\"}];\n",
       "                   "
      ],
      "text/plain": [
       "<IPython.core.display.Javascript object>"
      ]
     },
     "metadata": {},
     "output_type": "display_data"
    },
    {
     "data": {
      "application/javascript": [
       "require.config({paths: {vis: 'https://cdnjs.cloudflare.com/ajax/libs/vis/4.21.0/vis.min'}});\n",
       "require(['vis'], function (vis){\n",
       "    if (document.getElementById(\"mynetwork\") == null) {\n",
       "        element.append('<div id=\"mynetwork\" style=\"width:950px;height:750px;border:1px solid lightgray;\"></div>');\n",
       "    }\n",
       "    var nodes = new vis.DataSet(window.nodesList);\n",
       "    var edges = new vis.DataSet(window.edgesList);\n",
       "    var container = document.getElementById('mynetwork');\n",
       "    var data = {\n",
       "         nodes: nodes,\n",
       "         edges: edges\n",
       "     };\n",
       "     var options = {interaction:{hover:true}, \n",
       "                   layout: {\n",
       "                    hierarchical: {\n",
       "                        direction: 'UD'\n",
       "                    }}\n",
       "                   };\n",
       "     var network = new vis.Network(container, data, options);\n",
       "     network.on(\"hoverNode\", function (params) {\n",
       "             \n",
       "     });\n",
       "     network.on(\"hoverEdge\", function (params) {\n",
       "            \n",
       "     });\n",
       "     network.on(\"blurNode\", function (params) {\n",
       "             \n",
       "     });\n",
       "     network.on(\"blurEdge\", function (params) {\n",
       "             \n",
       "     });\n",
       "});"
      ],
      "text/plain": [
       "<IPython.core.display.Javascript object>"
      ]
     },
     "metadata": {},
     "output_type": "display_data"
    },
    {
     "data": {
      "application/javascript": [
       "window.nodesList=[{\"id\": 0, \"label\": \"0\\ntest_deps\", \"color\": \"Red\", \"font\": {\"background\": \"white\"}, \"title\": \"Failed\"}, {\"id\": 1, \"label\": \"1\\nsleep_fail\", \"color\": \"Green\", \"font\": {\"background\": \"white\"}, \"title\": \"Finished\"}, {\"id\": 2, \"label\": \"2\\nsleep_fail\", \"color\": \"Red\", \"font\": {\"background\": \"white\"}, \"title\": \"Failed\"}, {\"id\": 3, \"label\": \"3\\nsleep_fail\", \"color\": \"Green\", \"font\": {\"background\": \"white\"}, \"title\": \"Finished\"}, {\"id\": 4, \"label\": \"4\\nsleep_fail\", \"color\": \"Green\", \"font\": {\"background\": \"white\"}, \"title\": \"Finished\"}, {\"id\": 5, \"label\": \"5\\nsleep_fail\", \"color\": \"Green\", \"font\": {\"background\": \"white\"}, \"title\": \"Finished\"}, {\"id\": 6, \"label\": \"6\\nsleep_fail\", \"color\": \"Green\", \"font\": {\"background\": \"white\"}, \"title\": \"Finished\"}, {\"id\": 7, \"label\": \"7\\nsleep_fail\", \"color\": \"Green\", \"font\": {\"background\": \"white\"}, \"title\": \"Finished\"}, {\"id\": 8, \"label\": \"8\\nsleep_fail\", \"color\": \"Red\", \"font\": {\"background\": \"white\"}, \"title\": \"Failed\"}, {\"id\": 9, \"label\": \"9\\nsleep_fail\", \"color\": \"Red\", \"font\": {\"background\": \"white\"}, \"title\": \"Failed\"}, {\"id\": 10, \"label\": \"10\\nsleep_fail\", \"color\": \"Red\", \"font\": {\"background\": \"white\"}, \"title\": \"Failed\"}, {\"id\": 11, \"label\": \"11\\nsleep_fail\", \"color\": \"Green\", \"font\": {\"background\": \"white\"}, \"title\": \"Finished\"}, {\"id\": 12, \"label\": \"12\\nsleep_fail\", \"color\": \"Red\", \"font\": {\"background\": \"white\"}, \"title\": \"Failed\"}, {\"id\": 13, \"label\": \"13\\nsleep_fail\", \"color\": \"Red\", \"font\": {\"background\": \"white\"}, \"title\": \"Failed\"}, {\"id\": 14, \"label\": \"14\\nsleep_fail\", \"color\": \"Green\", \"font\": {\"background\": \"white\"}, \"title\": \"Finished\"}, {\"id\": 15, \"label\": \"15\\nsleep_fail\", \"color\": \"Green\", \"font\": {\"background\": \"white\"}, \"title\": \"Finished\"}, {\"id\": 16, \"label\": \"16\\nsleep_fail\", \"color\": \"Green\", \"font\": {\"background\": \"white\"}, \"title\": \"Finished\"}, {\"id\": 17, \"label\": \"17\\nsleep_fail\", \"color\": \"orange\", \"font\": {\"background\": \"white\"}, \"title\": \"Dependency Failure\"}, {\"id\": 18, \"label\": \"18\\nsleep_fail\", \"color\": \"Green\", \"font\": {\"background\": \"white\"}, \"title\": \"Finished\"}, {\"id\": 19, \"label\": \"19\\nsleep_fail\", \"color\": \"Green\", \"font\": {\"background\": \"white\"}, \"title\": \"Finished\"}, {\"id\": 20, \"label\": \"20\\nsleep_fail\", \"color\": \"Green\", \"font\": {\"background\": \"white\"}, \"title\": \"Finished\"}, {\"id\": 21, \"label\": \"21\\nsleep_fail\", \"color\": \"Green\", \"font\": {\"background\": \"white\"}, \"title\": \"Finished\"}, {\"id\": 22, \"label\": \"22\\nsleep_fail\", \"color\": \"Green\", \"font\": {\"background\": \"white\"}, \"title\": \"Finished\"}, {\"id\": 23, \"label\": \"23\\nsleep_fail\", \"color\": \"orange\", \"font\": {\"background\": \"white\"}, \"title\": \"Dependency Failure\"}, {\"id\": 24, \"label\": \"24\\nsleep_fail\", \"color\": \"Red\", \"font\": {\"background\": \"white\"}, \"title\": \"Failed\"}, {\"id\": 25, \"label\": \"25\\nsleep_fail\", \"color\": \"orange\", \"font\": {\"background\": \"white\"}, \"title\": \"Dependency Failure\"}, {\"id\": 26, \"label\": \"26\\nsleep_fail\", \"color\": \"Green\", \"font\": {\"background\": \"white\"}, \"title\": \"Finished\"}, {\"id\": 27, \"label\": \"27\\nsleep_fail\", \"color\": \"orange\", \"font\": {\"background\": \"white\"}, \"title\": \"Dependency Failure\"}, {\"id\": 28, \"label\": \"28\\nsleep_fail\", \"color\": \"orange\", \"font\": {\"background\": \"white\"}, \"title\": \"Dependency Failure\"}, {\"id\": 29, \"label\": \"29\\nsleep_fail\", \"color\": \"Green\", \"font\": {\"background\": \"white\"}, \"title\": \"Finished\"}, {\"id\": 30, \"label\": \"30\\nsleep_fail\", \"color\": \"Green\", \"font\": {\"background\": \"white\"}, \"title\": \"Finished\"}, {\"id\": 31, \"label\": \"31\\nsleep_fail\", \"color\": \"orange\", \"font\": {\"background\": \"white\"}, \"title\": \"Dependency Failure\"}];\n",
       "                      window.edgesList=[{\"from\": 1, \"to\": 16, \"arrows\": \"to\"}, {\"from\": 2, \"to\": 17, \"arrows\": \"to\"}, {\"from\": 3, \"to\": 18, \"arrows\": \"to\"}, {\"from\": 4, \"to\": 19, \"arrows\": \"to\"}, {\"from\": 5, \"to\": 20, \"arrows\": \"to\"}, {\"from\": 6, \"to\": 21, \"arrows\": \"to\"}, {\"from\": 7, \"to\": 22, \"arrows\": \"to\"}, {\"from\": 8, \"to\": 23, \"arrows\": \"to\"}, {\"from\": 9, \"to\": 24, \"arrows\": \"to\"}, {\"from\": 10, \"to\": 25, \"arrows\": \"to\"}, {\"from\": 11, \"to\": 26, \"arrows\": \"to\"}, {\"from\": 12, \"to\": 27, \"arrows\": \"to\"}, {\"from\": 13, \"to\": 28, \"arrows\": \"to\"}, {\"from\": 14, \"to\": 29, \"arrows\": \"to\"}, {\"from\": 15, \"to\": 30, \"arrows\": \"to\"}, {\"from\": 16, \"to\": 31, \"arrows\": \"to\"}, {\"from\": 17, \"to\": 31, \"arrows\": \"to\"}, {\"from\": 18, \"to\": 31, \"arrows\": \"to\"}, {\"from\": 19, \"to\": 31, \"arrows\": \"to\"}, {\"from\": 20, \"to\": 31, \"arrows\": \"to\"}, {\"from\": 21, \"to\": 31, \"arrows\": \"to\"}, {\"from\": 22, \"to\": 31, \"arrows\": \"to\"}, {\"from\": 23, \"to\": 31, \"arrows\": \"to\"}, {\"from\": 24, \"to\": 31, \"arrows\": \"to\"}, {\"from\": 25, \"to\": 31, \"arrows\": \"to\"}, {\"from\": 26, \"to\": 31, \"arrows\": \"to\"}, {\"from\": 27, \"to\": 31, \"arrows\": \"to\"}, {\"from\": 28, \"to\": 31, \"arrows\": \"to\"}, {\"from\": 29, \"to\": 31, \"arrows\": \"to\"}, {\"from\": 30, \"to\": 31, \"arrows\": \"to\"}];\n",
       "                   "
      ],
      "text/plain": [
       "<IPython.core.display.Javascript object>"
      ]
     },
     "metadata": {},
     "output_type": "display_data"
    },
    {
     "data": {
      "application/javascript": [
       "require.config({paths: {vis: 'https://cdnjs.cloudflare.com/ajax/libs/vis/4.21.0/vis.min'}});\n",
       "require(['vis'], function (vis){\n",
       "    if (document.getElementById(\"mynetwork\") == null) {\n",
       "        element.append('<div id=\"mynetwork\" style=\"width:950px;height:750px;border:1px solid lightgray;\"></div>');\n",
       "    }\n",
       "    var nodes = new vis.DataSet(window.nodesList);\n",
       "    var edges = new vis.DataSet(window.edgesList);\n",
       "    var container = document.getElementById('mynetwork');\n",
       "    var data = {\n",
       "         nodes: nodes,\n",
       "         edges: edges\n",
       "     };\n",
       "     var options = {interaction:{hover:true}, \n",
       "                   layout: {\n",
       "                    hierarchical: {\n",
       "                        direction: 'UD'\n",
       "                    }}\n",
       "                   };\n",
       "     var network = new vis.Network(container, data, options);\n",
       "     network.on(\"hoverNode\", function (params) {\n",
       "             \n",
       "     });\n",
       "     network.on(\"hoverEdge\", function (params) {\n",
       "            \n",
       "     });\n",
       "     network.on(\"blurNode\", function (params) {\n",
       "             \n",
       "     });\n",
       "     network.on(\"blurEdge\", function (params) {\n",
       "             \n",
       "     });\n",
       "});"
      ],
      "text/plain": [
       "<IPython.core.display.Javascript object>"
      ]
     },
     "metadata": {},
     "output_type": "display_data"
    },
    {
     "data": {
      "application/javascript": [
       "window.nodesList=[{\"id\": 0, \"label\": \"0\\ntest_deps\", \"color\": \"Red\", \"font\": {\"background\": \"white\"}, \"title\": \"Failed\"}, {\"id\": 1, \"label\": \"1\\nsleep_fail\", \"color\": \"Green\", \"font\": {\"background\": \"white\"}, \"title\": \"Finished\"}, {\"id\": 2, \"label\": \"2\\nsleep_fail\", \"color\": \"Red\", \"font\": {\"background\": \"white\"}, \"title\": \"Failed\"}, {\"id\": 3, \"label\": \"3\\nsleep_fail\", \"color\": \"Green\", \"font\": {\"background\": \"white\"}, \"title\": \"Finished\"}, {\"id\": 4, \"label\": \"4\\nsleep_fail\", \"color\": \"Green\", \"font\": {\"background\": \"white\"}, \"title\": \"Finished\"}, {\"id\": 5, \"label\": \"5\\nsleep_fail\", \"color\": \"Green\", \"font\": {\"background\": \"white\"}, \"title\": \"Finished\"}, {\"id\": 6, \"label\": \"6\\nsleep_fail\", \"color\": \"Green\", \"font\": {\"background\": \"white\"}, \"title\": \"Finished\"}, {\"id\": 7, \"label\": \"7\\nsleep_fail\", \"color\": \"Green\", \"font\": {\"background\": \"white\"}, \"title\": \"Finished\"}, {\"id\": 8, \"label\": \"8\\nsleep_fail\", \"color\": \"Red\", \"font\": {\"background\": \"white\"}, \"title\": \"Failed\"}, {\"id\": 9, \"label\": \"9\\nsleep_fail\", \"color\": \"Red\", \"font\": {\"background\": \"white\"}, \"title\": \"Failed\"}, {\"id\": 10, \"label\": \"10\\nsleep_fail\", \"color\": \"Red\", \"font\": {\"background\": \"white\"}, \"title\": \"Failed\"}, {\"id\": 11, \"label\": \"11\\nsleep_fail\", \"color\": \"Green\", \"font\": {\"background\": \"white\"}, \"title\": \"Finished\"}, {\"id\": 12, \"label\": \"12\\nsleep_fail\", \"color\": \"Red\", \"font\": {\"background\": \"white\"}, \"title\": \"Failed\"}, {\"id\": 13, \"label\": \"13\\nsleep_fail\", \"color\": \"Red\", \"font\": {\"background\": \"white\"}, \"title\": \"Failed\"}, {\"id\": 14, \"label\": \"14\\nsleep_fail\", \"color\": \"Green\", \"font\": {\"background\": \"white\"}, \"title\": \"Finished\"}, {\"id\": 15, \"label\": \"15\\nsleep_fail\", \"color\": \"Green\", \"font\": {\"background\": \"white\"}, \"title\": \"Finished\"}, {\"id\": 16, \"label\": \"16\\nsleep_fail\", \"color\": \"Green\", \"font\": {\"background\": \"white\"}, \"title\": \"Finished\"}, {\"id\": 17, \"label\": \"17\\nsleep_fail\", \"color\": \"orange\", \"font\": {\"background\": \"white\"}, \"title\": \"Dependency Failure\"}, {\"id\": 18, \"label\": \"18\\nsleep_fail\", \"color\": \"Green\", \"font\": {\"background\": \"white\"}, \"title\": \"Finished\"}, {\"id\": 19, \"label\": \"19\\nsleep_fail\", \"color\": \"Green\", \"font\": {\"background\": \"white\"}, \"title\": \"Finished\"}, {\"id\": 20, \"label\": \"20\\nsleep_fail\", \"color\": \"Green\", \"font\": {\"background\": \"white\"}, \"title\": \"Finished\"}, {\"id\": 21, \"label\": \"21\\nsleep_fail\", \"color\": \"Green\", \"font\": {\"background\": \"white\"}, \"title\": \"Finished\"}, {\"id\": 22, \"label\": \"22\\nsleep_fail\", \"color\": \"Green\", \"font\": {\"background\": \"white\"}, \"title\": \"Finished\"}, {\"id\": 23, \"label\": \"23\\nsleep_fail\", \"color\": \"orange\", \"font\": {\"background\": \"white\"}, \"title\": \"Dependency Failure\"}, {\"id\": 24, \"label\": \"24\\nsleep_fail\", \"color\": \"Red\", \"font\": {\"background\": \"white\"}, \"title\": \"Failed\"}, {\"id\": 25, \"label\": \"25\\nsleep_fail\", \"color\": \"orange\", \"font\": {\"background\": \"white\"}, \"title\": \"Dependency Failure\"}, {\"id\": 26, \"label\": \"26\\nsleep_fail\", \"color\": \"Green\", \"font\": {\"background\": \"white\"}, \"title\": \"Finished\"}, {\"id\": 27, \"label\": \"27\\nsleep_fail\", \"color\": \"orange\", \"font\": {\"background\": \"white\"}, \"title\": \"Dependency Failure\"}, {\"id\": 28, \"label\": \"28\\nsleep_fail\", \"color\": \"orange\", \"font\": {\"background\": \"white\"}, \"title\": \"Dependency Failure\"}, {\"id\": 29, \"label\": \"29\\nsleep_fail\", \"color\": \"Green\", \"font\": {\"background\": \"white\"}, \"title\": \"Finished\"}, {\"id\": 30, \"label\": \"30\\nsleep_fail\", \"color\": \"Green\", \"font\": {\"background\": \"white\"}, \"title\": \"Finished\"}, {\"id\": 31, \"label\": \"31\\nsleep_fail\", \"color\": \"orange\", \"font\": {\"background\": \"white\"}, \"title\": \"Dependency Failure\"}];\n",
       "                      window.edgesList=[{\"from\": 1, \"to\": 16, \"arrows\": \"to\"}, {\"from\": 2, \"to\": 17, \"arrows\": \"to\"}, {\"from\": 3, \"to\": 18, \"arrows\": \"to\"}, {\"from\": 4, \"to\": 19, \"arrows\": \"to\"}, {\"from\": 5, \"to\": 20, \"arrows\": \"to\"}, {\"from\": 6, \"to\": 21, \"arrows\": \"to\"}, {\"from\": 7, \"to\": 22, \"arrows\": \"to\"}, {\"from\": 8, \"to\": 23, \"arrows\": \"to\"}, {\"from\": 9, \"to\": 24, \"arrows\": \"to\"}, {\"from\": 10, \"to\": 25, \"arrows\": \"to\"}, {\"from\": 11, \"to\": 26, \"arrows\": \"to\"}, {\"from\": 12, \"to\": 27, \"arrows\": \"to\"}, {\"from\": 13, \"to\": 28, \"arrows\": \"to\"}, {\"from\": 14, \"to\": 29, \"arrows\": \"to\"}, {\"from\": 15, \"to\": 30, \"arrows\": \"to\"}, {\"from\": 16, \"to\": 31, \"arrows\": \"to\"}, {\"from\": 17, \"to\": 31, \"arrows\": \"to\"}, {\"from\": 18, \"to\": 31, \"arrows\": \"to\"}, {\"from\": 19, \"to\": 31, \"arrows\": \"to\"}, {\"from\": 20, \"to\": 31, \"arrows\": \"to\"}, {\"from\": 21, \"to\": 31, \"arrows\": \"to\"}, {\"from\": 22, \"to\": 31, \"arrows\": \"to\"}, {\"from\": 23, \"to\": 31, \"arrows\": \"to\"}, {\"from\": 24, \"to\": 31, \"arrows\": \"to\"}, {\"from\": 25, \"to\": 31, \"arrows\": \"to\"}, {\"from\": 26, \"to\": 31, \"arrows\": \"to\"}, {\"from\": 27, \"to\": 31, \"arrows\": \"to\"}, {\"from\": 28, \"to\": 31, \"arrows\": \"to\"}, {\"from\": 29, \"to\": 31, \"arrows\": \"to\"}, {\"from\": 30, \"to\": 31, \"arrows\": \"to\"}];\n",
       "                   "
      ],
      "text/plain": [
       "<IPython.core.display.Javascript object>"
      ]
     },
     "metadata": {},
     "output_type": "display_data"
    },
    {
     "data": {
      "application/javascript": [
       "require.config({paths: {vis: 'https://cdnjs.cloudflare.com/ajax/libs/vis/4.21.0/vis.min'}});\n",
       "require(['vis'], function (vis){\n",
       "    if (document.getElementById(\"mynetwork\") == null) {\n",
       "        element.append('<div id=\"mynetwork\" style=\"width:950px;height:750px;border:1px solid lightgray;\"></div>');\n",
       "    }\n",
       "    var nodes = new vis.DataSet(window.nodesList);\n",
       "    var edges = new vis.DataSet(window.edgesList);\n",
       "    var container = document.getElementById('mynetwork');\n",
       "    var data = {\n",
       "         nodes: nodes,\n",
       "         edges: edges\n",
       "     };\n",
       "     var options = {interaction:{hover:true}, \n",
       "                   layout: {\n",
       "                    hierarchical: {\n",
       "                        direction: 'UD'\n",
       "                    }}\n",
       "                   };\n",
       "     var network = new vis.Network(container, data, options);\n",
       "     network.on(\"hoverNode\", function (params) {\n",
       "             \n",
       "     });\n",
       "     network.on(\"hoverEdge\", function (params) {\n",
       "            \n",
       "     });\n",
       "     network.on(\"blurNode\", function (params) {\n",
       "             \n",
       "     });\n",
       "     network.on(\"blurEdge\", function (params) {\n",
       "             \n",
       "     });\n",
       "});"
      ],
      "text/plain": [
       "<IPython.core.display.Javascript object>"
      ]
     },
     "metadata": {},
     "output_type": "display_data"
    },
    {
     "data": {
      "application/javascript": [
       "window.nodesList=[{\"id\": 0, \"label\": \"0\\ntest_deps\", \"color\": \"Red\", \"font\": {\"background\": \"white\"}, \"title\": \"Failed\"}, {\"id\": 1, \"label\": \"1\\nsleep_fail\", \"color\": \"Green\", \"font\": {\"background\": \"white\"}, \"title\": \"Finished\"}, {\"id\": 2, \"label\": \"2\\nsleep_fail\", \"color\": \"Red\", \"font\": {\"background\": \"white\"}, \"title\": \"Failed\"}, {\"id\": 3, \"label\": \"3\\nsleep_fail\", \"color\": \"Green\", \"font\": {\"background\": \"white\"}, \"title\": \"Finished\"}, {\"id\": 4, \"label\": \"4\\nsleep_fail\", \"color\": \"Green\", \"font\": {\"background\": \"white\"}, \"title\": \"Finished\"}, {\"id\": 5, \"label\": \"5\\nsleep_fail\", \"color\": \"Green\", \"font\": {\"background\": \"white\"}, \"title\": \"Finished\"}, {\"id\": 6, \"label\": \"6\\nsleep_fail\", \"color\": \"Green\", \"font\": {\"background\": \"white\"}, \"title\": \"Finished\"}, {\"id\": 7, \"label\": \"7\\nsleep_fail\", \"color\": \"Green\", \"font\": {\"background\": \"white\"}, \"title\": \"Finished\"}, {\"id\": 8, \"label\": \"8\\nsleep_fail\", \"color\": \"Red\", \"font\": {\"background\": \"white\"}, \"title\": \"Failed\"}, {\"id\": 9, \"label\": \"9\\nsleep_fail\", \"color\": \"Red\", \"font\": {\"background\": \"white\"}, \"title\": \"Failed\"}, {\"id\": 10, \"label\": \"10\\nsleep_fail\", \"color\": \"Red\", \"font\": {\"background\": \"white\"}, \"title\": \"Failed\"}, {\"id\": 11, \"label\": \"11\\nsleep_fail\", \"color\": \"Green\", \"font\": {\"background\": \"white\"}, \"title\": \"Finished\"}, {\"id\": 12, \"label\": \"12\\nsleep_fail\", \"color\": \"Red\", \"font\": {\"background\": \"white\"}, \"title\": \"Failed\"}, {\"id\": 13, \"label\": \"13\\nsleep_fail\", \"color\": \"Red\", \"font\": {\"background\": \"white\"}, \"title\": \"Failed\"}, {\"id\": 14, \"label\": \"14\\nsleep_fail\", \"color\": \"Green\", \"font\": {\"background\": \"white\"}, \"title\": \"Finished\"}, {\"id\": 15, \"label\": \"15\\nsleep_fail\", \"color\": \"Green\", \"font\": {\"background\": \"white\"}, \"title\": \"Finished\"}, {\"id\": 16, \"label\": \"16\\nsleep_fail\", \"color\": \"Green\", \"font\": {\"background\": \"white\"}, \"title\": \"Finished\"}, {\"id\": 17, \"label\": \"17\\nsleep_fail\", \"color\": \"orange\", \"font\": {\"background\": \"white\"}, \"title\": \"Dependency Failure\"}, {\"id\": 18, \"label\": \"18\\nsleep_fail\", \"color\": \"Green\", \"font\": {\"background\": \"white\"}, \"title\": \"Finished\"}, {\"id\": 19, \"label\": \"19\\nsleep_fail\", \"color\": \"Green\", \"font\": {\"background\": \"white\"}, \"title\": \"Finished\"}, {\"id\": 20, \"label\": \"20\\nsleep_fail\", \"color\": \"Green\", \"font\": {\"background\": \"white\"}, \"title\": \"Finished\"}, {\"id\": 21, \"label\": \"21\\nsleep_fail\", \"color\": \"Green\", \"font\": {\"background\": \"white\"}, \"title\": \"Finished\"}, {\"id\": 22, \"label\": \"22\\nsleep_fail\", \"color\": \"Green\", \"font\": {\"background\": \"white\"}, \"title\": \"Finished\"}, {\"id\": 23, \"label\": \"23\\nsleep_fail\", \"color\": \"orange\", \"font\": {\"background\": \"white\"}, \"title\": \"Dependency Failure\"}, {\"id\": 24, \"label\": \"24\\nsleep_fail\", \"color\": \"Red\", \"font\": {\"background\": \"white\"}, \"title\": \"Failed\"}, {\"id\": 25, \"label\": \"25\\nsleep_fail\", \"color\": \"orange\", \"font\": {\"background\": \"white\"}, \"title\": \"Dependency Failure\"}, {\"id\": 26, \"label\": \"26\\nsleep_fail\", \"color\": \"Green\", \"font\": {\"background\": \"white\"}, \"title\": \"Finished\"}, {\"id\": 27, \"label\": \"27\\nsleep_fail\", \"color\": \"orange\", \"font\": {\"background\": \"white\"}, \"title\": \"Dependency Failure\"}, {\"id\": 28, \"label\": \"28\\nsleep_fail\", \"color\": \"orange\", \"font\": {\"background\": \"white\"}, \"title\": \"Dependency Failure\"}, {\"id\": 29, \"label\": \"29\\nsleep_fail\", \"color\": \"Green\", \"font\": {\"background\": \"white\"}, \"title\": \"Finished\"}, {\"id\": 30, \"label\": \"30\\nsleep_fail\", \"color\": \"Green\", \"font\": {\"background\": \"white\"}, \"title\": \"Finished\"}, {\"id\": 31, \"label\": \"31\\nsleep_fail\", \"color\": \"orange\", \"font\": {\"background\": \"white\"}, \"title\": \"Dependency Failure\"}];\n",
       "                      window.edgesList=[{\"from\": 1, \"to\": 16, \"arrows\": \"to\"}, {\"from\": 2, \"to\": 17, \"arrows\": \"to\"}, {\"from\": 3, \"to\": 18, \"arrows\": \"to\"}, {\"from\": 4, \"to\": 19, \"arrows\": \"to\"}, {\"from\": 5, \"to\": 20, \"arrows\": \"to\"}, {\"from\": 6, \"to\": 21, \"arrows\": \"to\"}, {\"from\": 7, \"to\": 22, \"arrows\": \"to\"}, {\"from\": 8, \"to\": 23, \"arrows\": \"to\"}, {\"from\": 9, \"to\": 24, \"arrows\": \"to\"}, {\"from\": 10, \"to\": 25, \"arrows\": \"to\"}, {\"from\": 11, \"to\": 26, \"arrows\": \"to\"}, {\"from\": 12, \"to\": 27, \"arrows\": \"to\"}, {\"from\": 13, \"to\": 28, \"arrows\": \"to\"}, {\"from\": 14, \"to\": 29, \"arrows\": \"to\"}, {\"from\": 15, \"to\": 30, \"arrows\": \"to\"}, {\"from\": 16, \"to\": 31, \"arrows\": \"to\"}, {\"from\": 17, \"to\": 31, \"arrows\": \"to\"}, {\"from\": 18, \"to\": 31, \"arrows\": \"to\"}, {\"from\": 19, \"to\": 31, \"arrows\": \"to\"}, {\"from\": 20, \"to\": 31, \"arrows\": \"to\"}, {\"from\": 21, \"to\": 31, \"arrows\": \"to\"}, {\"from\": 22, \"to\": 31, \"arrows\": \"to\"}, {\"from\": 23, \"to\": 31, \"arrows\": \"to\"}, {\"from\": 24, \"to\": 31, \"arrows\": \"to\"}, {\"from\": 25, \"to\": 31, \"arrows\": \"to\"}, {\"from\": 26, \"to\": 31, \"arrows\": \"to\"}, {\"from\": 27, \"to\": 31, \"arrows\": \"to\"}, {\"from\": 28, \"to\": 31, \"arrows\": \"to\"}, {\"from\": 29, \"to\": 31, \"arrows\": \"to\"}, {\"from\": 30, \"to\": 31, \"arrows\": \"to\"}];\n",
       "                   "
      ],
      "text/plain": [
       "<IPython.core.display.Javascript object>"
      ]
     },
     "metadata": {},
     "output_type": "display_data"
    },
    {
     "data": {
      "application/javascript": [
       "require.config({paths: {vis: 'https://cdnjs.cloudflare.com/ajax/libs/vis/4.21.0/vis.min'}});\n",
       "require(['vis'], function (vis){\n",
       "    if (document.getElementById(\"mynetwork\") == null) {\n",
       "        element.append('<div id=\"mynetwork\" style=\"width:950px;height:750px;border:1px solid lightgray;\"></div>');\n",
       "    }\n",
       "    var nodes = new vis.DataSet(window.nodesList);\n",
       "    var edges = new vis.DataSet(window.edgesList);\n",
       "    var container = document.getElementById('mynetwork');\n",
       "    var data = {\n",
       "         nodes: nodes,\n",
       "         edges: edges\n",
       "     };\n",
       "     var options = {interaction:{hover:true}, \n",
       "                   layout: {\n",
       "                    hierarchical: {\n",
       "                        direction: 'UD'\n",
       "                    }}\n",
       "                   };\n",
       "     var network = new vis.Network(container, data, options);\n",
       "     network.on(\"hoverNode\", function (params) {\n",
       "             \n",
       "     });\n",
       "     network.on(\"hoverEdge\", function (params) {\n",
       "            \n",
       "     });\n",
       "     network.on(\"blurNode\", function (params) {\n",
       "             \n",
       "     });\n",
       "     network.on(\"blurEdge\", function (params) {\n",
       "             \n",
       "     });\n",
       "});"
      ],
      "text/plain": [
       "<IPython.core.display.Javascript object>"
      ]
     },
     "metadata": {},
     "output_type": "display_data"
    },
    {
     "data": {
      "application/javascript": [
       "window.nodesList=[{\"id\": 0, \"label\": \"0\\ntest_deps\", \"color\": \"Red\", \"font\": {\"background\": \"white\"}, \"title\": \"Failed\"}, {\"id\": 1, \"label\": \"1\\nsleep_fail\", \"color\": \"Green\", \"font\": {\"background\": \"white\"}, \"title\": \"Finished\"}, {\"id\": 2, \"label\": \"2\\nsleep_fail\", \"color\": \"Red\", \"font\": {\"background\": \"white\"}, \"title\": \"Failed\"}, {\"id\": 3, \"label\": \"3\\nsleep_fail\", \"color\": \"Green\", \"font\": {\"background\": \"white\"}, \"title\": \"Finished\"}, {\"id\": 4, \"label\": \"4\\nsleep_fail\", \"color\": \"Green\", \"font\": {\"background\": \"white\"}, \"title\": \"Finished\"}, {\"id\": 5, \"label\": \"5\\nsleep_fail\", \"color\": \"Green\", \"font\": {\"background\": \"white\"}, \"title\": \"Finished\"}, {\"id\": 6, \"label\": \"6\\nsleep_fail\", \"color\": \"Green\", \"font\": {\"background\": \"white\"}, \"title\": \"Finished\"}, {\"id\": 7, \"label\": \"7\\nsleep_fail\", \"color\": \"Green\", \"font\": {\"background\": \"white\"}, \"title\": \"Finished\"}, {\"id\": 8, \"label\": \"8\\nsleep_fail\", \"color\": \"Red\", \"font\": {\"background\": \"white\"}, \"title\": \"Failed\"}, {\"id\": 9, \"label\": \"9\\nsleep_fail\", \"color\": \"Red\", \"font\": {\"background\": \"white\"}, \"title\": \"Failed\"}, {\"id\": 10, \"label\": \"10\\nsleep_fail\", \"color\": \"Red\", \"font\": {\"background\": \"white\"}, \"title\": \"Failed\"}, {\"id\": 11, \"label\": \"11\\nsleep_fail\", \"color\": \"Green\", \"font\": {\"background\": \"white\"}, \"title\": \"Finished\"}, {\"id\": 12, \"label\": \"12\\nsleep_fail\", \"color\": \"Red\", \"font\": {\"background\": \"white\"}, \"title\": \"Failed\"}, {\"id\": 13, \"label\": \"13\\nsleep_fail\", \"color\": \"Red\", \"font\": {\"background\": \"white\"}, \"title\": \"Failed\"}, {\"id\": 14, \"label\": \"14\\nsleep_fail\", \"color\": \"Green\", \"font\": {\"background\": \"white\"}, \"title\": \"Finished\"}, {\"id\": 15, \"label\": \"15\\nsleep_fail\", \"color\": \"Green\", \"font\": {\"background\": \"white\"}, \"title\": \"Finished\"}, {\"id\": 16, \"label\": \"16\\nsleep_fail\", \"color\": \"Green\", \"font\": {\"background\": \"white\"}, \"title\": \"Finished\"}, {\"id\": 17, \"label\": \"17\\nsleep_fail\", \"color\": \"orange\", \"font\": {\"background\": \"white\"}, \"title\": \"Dependency Failure\"}, {\"id\": 18, \"label\": \"18\\nsleep_fail\", \"color\": \"Green\", \"font\": {\"background\": \"white\"}, \"title\": \"Finished\"}, {\"id\": 19, \"label\": \"19\\nsleep_fail\", \"color\": \"Green\", \"font\": {\"background\": \"white\"}, \"title\": \"Finished\"}, {\"id\": 20, \"label\": \"20\\nsleep_fail\", \"color\": \"Green\", \"font\": {\"background\": \"white\"}, \"title\": \"Finished\"}, {\"id\": 21, \"label\": \"21\\nsleep_fail\", \"color\": \"Green\", \"font\": {\"background\": \"white\"}, \"title\": \"Finished\"}, {\"id\": 22, \"label\": \"22\\nsleep_fail\", \"color\": \"Green\", \"font\": {\"background\": \"white\"}, \"title\": \"Finished\"}, {\"id\": 23, \"label\": \"23\\nsleep_fail\", \"color\": \"orange\", \"font\": {\"background\": \"white\"}, \"title\": \"Dependency Failure\"}, {\"id\": 24, \"label\": \"24\\nsleep_fail\", \"color\": \"Red\", \"font\": {\"background\": \"white\"}, \"title\": \"Failed\"}, {\"id\": 25, \"label\": \"25\\nsleep_fail\", \"color\": \"orange\", \"font\": {\"background\": \"white\"}, \"title\": \"Dependency Failure\"}, {\"id\": 26, \"label\": \"26\\nsleep_fail\", \"color\": \"Green\", \"font\": {\"background\": \"white\"}, \"title\": \"Finished\"}, {\"id\": 27, \"label\": \"27\\nsleep_fail\", \"color\": \"orange\", \"font\": {\"background\": \"white\"}, \"title\": \"Dependency Failure\"}, {\"id\": 28, \"label\": \"28\\nsleep_fail\", \"color\": \"orange\", \"font\": {\"background\": \"white\"}, \"title\": \"Dependency Failure\"}, {\"id\": 29, \"label\": \"29\\nsleep_fail\", \"color\": \"Green\", \"font\": {\"background\": \"white\"}, \"title\": \"Finished\"}, {\"id\": 30, \"label\": \"30\\nsleep_fail\", \"color\": \"Green\", \"font\": {\"background\": \"white\"}, \"title\": \"Finished\"}, {\"id\": 31, \"label\": \"31\\nsleep_fail\", \"color\": \"orange\", \"font\": {\"background\": \"white\"}, \"title\": \"Dependency Failure\"}];\n",
       "                      window.edgesList=[{\"from\": 1, \"to\": 16, \"arrows\": \"to\"}, {\"from\": 2, \"to\": 17, \"arrows\": \"to\"}, {\"from\": 3, \"to\": 18, \"arrows\": \"to\"}, {\"from\": 4, \"to\": 19, \"arrows\": \"to\"}, {\"from\": 5, \"to\": 20, \"arrows\": \"to\"}, {\"from\": 6, \"to\": 21, \"arrows\": \"to\"}, {\"from\": 7, \"to\": 22, \"arrows\": \"to\"}, {\"from\": 8, \"to\": 23, \"arrows\": \"to\"}, {\"from\": 9, \"to\": 24, \"arrows\": \"to\"}, {\"from\": 10, \"to\": 25, \"arrows\": \"to\"}, {\"from\": 11, \"to\": 26, \"arrows\": \"to\"}, {\"from\": 12, \"to\": 27, \"arrows\": \"to\"}, {\"from\": 13, \"to\": 28, \"arrows\": \"to\"}, {\"from\": 14, \"to\": 29, \"arrows\": \"to\"}, {\"from\": 15, \"to\": 30, \"arrows\": \"to\"}, {\"from\": 16, \"to\": 31, \"arrows\": \"to\"}, {\"from\": 17, \"to\": 31, \"arrows\": \"to\"}, {\"from\": 18, \"to\": 31, \"arrows\": \"to\"}, {\"from\": 19, \"to\": 31, \"arrows\": \"to\"}, {\"from\": 20, \"to\": 31, \"arrows\": \"to\"}, {\"from\": 21, \"to\": 31, \"arrows\": \"to\"}, {\"from\": 22, \"to\": 31, \"arrows\": \"to\"}, {\"from\": 23, \"to\": 31, \"arrows\": \"to\"}, {\"from\": 24, \"to\": 31, \"arrows\": \"to\"}, {\"from\": 25, \"to\": 31, \"arrows\": \"to\"}, {\"from\": 26, \"to\": 31, \"arrows\": \"to\"}, {\"from\": 27, \"to\": 31, \"arrows\": \"to\"}, {\"from\": 28, \"to\": 31, \"arrows\": \"to\"}, {\"from\": 29, \"to\": 31, \"arrows\": \"to\"}, {\"from\": 30, \"to\": 31, \"arrows\": \"to\"}];\n",
       "                   "
      ],
      "text/plain": [
       "<IPython.core.display.Javascript object>"
      ]
     },
     "metadata": {},
     "output_type": "display_data"
    },
    {
     "data": {
      "application/javascript": [
       "require.config({paths: {vis: 'https://cdnjs.cloudflare.com/ajax/libs/vis/4.21.0/vis.min'}});\n",
       "require(['vis'], function (vis){\n",
       "    if (document.getElementById(\"mynetwork\") == null) {\n",
       "        element.append('<div id=\"mynetwork\" style=\"width:950px;height:750px;border:1px solid lightgray;\"></div>');\n",
       "    }\n",
       "    var nodes = new vis.DataSet(window.nodesList);\n",
       "    var edges = new vis.DataSet(window.edgesList);\n",
       "    var container = document.getElementById('mynetwork');\n",
       "    var data = {\n",
       "         nodes: nodes,\n",
       "         edges: edges\n",
       "     };\n",
       "     var options = {interaction:{hover:true}, \n",
       "                   layout: {\n",
       "                    hierarchical: {\n",
       "                        direction: 'UD'\n",
       "                    }}\n",
       "                   };\n",
       "     var network = new vis.Network(container, data, options);\n",
       "     network.on(\"hoverNode\", function (params) {\n",
       "             \n",
       "     });\n",
       "     network.on(\"hoverEdge\", function (params) {\n",
       "            \n",
       "     });\n",
       "     network.on(\"blurNode\", function (params) {\n",
       "             \n",
       "     });\n",
       "     network.on(\"blurEdge\", function (params) {\n",
       "             \n",
       "     });\n",
       "});"
      ],
      "text/plain": [
       "<IPython.core.display.Javascript object>"
      ]
     },
     "metadata": {},
     "output_type": "display_data"
    },
    {
     "data": {
      "application/javascript": [
       "window.nodesList=[{\"id\": 0, \"label\": \"0\\ntest_deps\", \"color\": \"Red\", \"font\": {\"background\": \"white\"}, \"title\": \"Failed\"}, {\"id\": 1, \"label\": \"1\\nsleep_fail\", \"color\": \"Green\", \"font\": {\"background\": \"white\"}, \"title\": \"Finished\"}, {\"id\": 2, \"label\": \"2\\nsleep_fail\", \"color\": \"Red\", \"font\": {\"background\": \"white\"}, \"title\": \"Failed\"}, {\"id\": 3, \"label\": \"3\\nsleep_fail\", \"color\": \"Green\", \"font\": {\"background\": \"white\"}, \"title\": \"Finished\"}, {\"id\": 4, \"label\": \"4\\nsleep_fail\", \"color\": \"Green\", \"font\": {\"background\": \"white\"}, \"title\": \"Finished\"}, {\"id\": 5, \"label\": \"5\\nsleep_fail\", \"color\": \"Green\", \"font\": {\"background\": \"white\"}, \"title\": \"Finished\"}, {\"id\": 6, \"label\": \"6\\nsleep_fail\", \"color\": \"Green\", \"font\": {\"background\": \"white\"}, \"title\": \"Finished\"}, {\"id\": 7, \"label\": \"7\\nsleep_fail\", \"color\": \"Green\", \"font\": {\"background\": \"white\"}, \"title\": \"Finished\"}, {\"id\": 8, \"label\": \"8\\nsleep_fail\", \"color\": \"Red\", \"font\": {\"background\": \"white\"}, \"title\": \"Failed\"}, {\"id\": 9, \"label\": \"9\\nsleep_fail\", \"color\": \"Red\", \"font\": {\"background\": \"white\"}, \"title\": \"Failed\"}, {\"id\": 10, \"label\": \"10\\nsleep_fail\", \"color\": \"Red\", \"font\": {\"background\": \"white\"}, \"title\": \"Failed\"}, {\"id\": 11, \"label\": \"11\\nsleep_fail\", \"color\": \"Green\", \"font\": {\"background\": \"white\"}, \"title\": \"Finished\"}, {\"id\": 12, \"label\": \"12\\nsleep_fail\", \"color\": \"Red\", \"font\": {\"background\": \"white\"}, \"title\": \"Failed\"}, {\"id\": 13, \"label\": \"13\\nsleep_fail\", \"color\": \"Red\", \"font\": {\"background\": \"white\"}, \"title\": \"Failed\"}, {\"id\": 14, \"label\": \"14\\nsleep_fail\", \"color\": \"Green\", \"font\": {\"background\": \"white\"}, \"title\": \"Finished\"}, {\"id\": 15, \"label\": \"15\\nsleep_fail\", \"color\": \"Green\", \"font\": {\"background\": \"white\"}, \"title\": \"Finished\"}, {\"id\": 16, \"label\": \"16\\nsleep_fail\", \"color\": \"Green\", \"font\": {\"background\": \"white\"}, \"title\": \"Finished\"}, {\"id\": 17, \"label\": \"17\\nsleep_fail\", \"color\": \"orange\", \"font\": {\"background\": \"white\"}, \"title\": \"Dependency Failure\"}, {\"id\": 18, \"label\": \"18\\nsleep_fail\", \"color\": \"Green\", \"font\": {\"background\": \"white\"}, \"title\": \"Finished\"}, {\"id\": 19, \"label\": \"19\\nsleep_fail\", \"color\": \"Green\", \"font\": {\"background\": \"white\"}, \"title\": \"Finished\"}, {\"id\": 20, \"label\": \"20\\nsleep_fail\", \"color\": \"Green\", \"font\": {\"background\": \"white\"}, \"title\": \"Finished\"}, {\"id\": 21, \"label\": \"21\\nsleep_fail\", \"color\": \"Green\", \"font\": {\"background\": \"white\"}, \"title\": \"Finished\"}, {\"id\": 22, \"label\": \"22\\nsleep_fail\", \"color\": \"Green\", \"font\": {\"background\": \"white\"}, \"title\": \"Finished\"}, {\"id\": 23, \"label\": \"23\\nsleep_fail\", \"color\": \"orange\", \"font\": {\"background\": \"white\"}, \"title\": \"Dependency Failure\"}, {\"id\": 24, \"label\": \"24\\nsleep_fail\", \"color\": \"Red\", \"font\": {\"background\": \"white\"}, \"title\": \"Failed\"}, {\"id\": 25, \"label\": \"25\\nsleep_fail\", \"color\": \"orange\", \"font\": {\"background\": \"white\"}, \"title\": \"Dependency Failure\"}, {\"id\": 26, \"label\": \"26\\nsleep_fail\", \"color\": \"Green\", \"font\": {\"background\": \"white\"}, \"title\": \"Finished\"}, {\"id\": 27, \"label\": \"27\\nsleep_fail\", \"color\": \"orange\", \"font\": {\"background\": \"white\"}, \"title\": \"Dependency Failure\"}, {\"id\": 28, \"label\": \"28\\nsleep_fail\", \"color\": \"orange\", \"font\": {\"background\": \"white\"}, \"title\": \"Dependency Failure\"}, {\"id\": 29, \"label\": \"29\\nsleep_fail\", \"color\": \"Green\", \"font\": {\"background\": \"white\"}, \"title\": \"Finished\"}, {\"id\": 30, \"label\": \"30\\nsleep_fail\", \"color\": \"Green\", \"font\": {\"background\": \"white\"}, \"title\": \"Finished\"}, {\"id\": 31, \"label\": \"31\\nsleep_fail\", \"color\": \"orange\", \"font\": {\"background\": \"white\"}, \"title\": \"Dependency Failure\"}];\n",
       "                      window.edgesList=[{\"from\": 1, \"to\": 16, \"arrows\": \"to\"}, {\"from\": 2, \"to\": 17, \"arrows\": \"to\"}, {\"from\": 3, \"to\": 18, \"arrows\": \"to\"}, {\"from\": 4, \"to\": 19, \"arrows\": \"to\"}, {\"from\": 5, \"to\": 20, \"arrows\": \"to\"}, {\"from\": 6, \"to\": 21, \"arrows\": \"to\"}, {\"from\": 7, \"to\": 22, \"arrows\": \"to\"}, {\"from\": 8, \"to\": 23, \"arrows\": \"to\"}, {\"from\": 9, \"to\": 24, \"arrows\": \"to\"}, {\"from\": 10, \"to\": 25, \"arrows\": \"to\"}, {\"from\": 11, \"to\": 26, \"arrows\": \"to\"}, {\"from\": 12, \"to\": 27, \"arrows\": \"to\"}, {\"from\": 13, \"to\": 28, \"arrows\": \"to\"}, {\"from\": 14, \"to\": 29, \"arrows\": \"to\"}, {\"from\": 15, \"to\": 30, \"arrows\": \"to\"}, {\"from\": 16, \"to\": 31, \"arrows\": \"to\"}, {\"from\": 17, \"to\": 31, \"arrows\": \"to\"}, {\"from\": 18, \"to\": 31, \"arrows\": \"to\"}, {\"from\": 19, \"to\": 31, \"arrows\": \"to\"}, {\"from\": 20, \"to\": 31, \"arrows\": \"to\"}, {\"from\": 21, \"to\": 31, \"arrows\": \"to\"}, {\"from\": 22, \"to\": 31, \"arrows\": \"to\"}, {\"from\": 23, \"to\": 31, \"arrows\": \"to\"}, {\"from\": 24, \"to\": 31, \"arrows\": \"to\"}, {\"from\": 25, \"to\": 31, \"arrows\": \"to\"}, {\"from\": 26, \"to\": 31, \"arrows\": \"to\"}, {\"from\": 27, \"to\": 31, \"arrows\": \"to\"}, {\"from\": 28, \"to\": 31, \"arrows\": \"to\"}, {\"from\": 29, \"to\": 31, \"arrows\": \"to\"}, {\"from\": 30, \"to\": 31, \"arrows\": \"to\"}];\n",
       "                   "
      ],
      "text/plain": [
       "<IPython.core.display.Javascript object>"
      ]
     },
     "metadata": {},
     "output_type": "display_data"
    },
    {
     "data": {
      "application/javascript": [
       "require.config({paths: {vis: 'https://cdnjs.cloudflare.com/ajax/libs/vis/4.21.0/vis.min'}});\n",
       "require(['vis'], function (vis){\n",
       "    if (document.getElementById(\"mynetwork\") == null) {\n",
       "        element.append('<div id=\"mynetwork\" style=\"width:950px;height:750px;border:1px solid lightgray;\"></div>');\n",
       "    }\n",
       "    var nodes = new vis.DataSet(window.nodesList);\n",
       "    var edges = new vis.DataSet(window.edgesList);\n",
       "    var container = document.getElementById('mynetwork');\n",
       "    var data = {\n",
       "         nodes: nodes,\n",
       "         edges: edges\n",
       "     };\n",
       "     var options = {interaction:{hover:true}, \n",
       "                   layout: {\n",
       "                    hierarchical: {\n",
       "                        direction: 'UD'\n",
       "                    }}\n",
       "                   };\n",
       "     var network = new vis.Network(container, data, options);\n",
       "     network.on(\"hoverNode\", function (params) {\n",
       "             \n",
       "     });\n",
       "     network.on(\"hoverEdge\", function (params) {\n",
       "            \n",
       "     });\n",
       "     network.on(\"blurNode\", function (params) {\n",
       "             \n",
       "     });\n",
       "     network.on(\"blurEdge\", function (params) {\n",
       "             \n",
       "     });\n",
       "});"
      ],
      "text/plain": [
       "<IPython.core.display.Javascript object>"
      ]
     },
     "metadata": {},
     "output_type": "display_data"
    },
    {
     "data": {
      "application/javascript": [
       "window.nodesList=[{\"id\": 0, \"label\": \"0\\ntest_deps\", \"color\": \"Red\", \"font\": {\"background\": \"white\"}, \"title\": \"Failed\"}, {\"id\": 1, \"label\": \"1\\nsleep_fail\", \"color\": \"Green\", \"font\": {\"background\": \"white\"}, \"title\": \"Finished\"}, {\"id\": 2, \"label\": \"2\\nsleep_fail\", \"color\": \"Red\", \"font\": {\"background\": \"white\"}, \"title\": \"Failed\"}, {\"id\": 3, \"label\": \"3\\nsleep_fail\", \"color\": \"Green\", \"font\": {\"background\": \"white\"}, \"title\": \"Finished\"}, {\"id\": 4, \"label\": \"4\\nsleep_fail\", \"color\": \"Green\", \"font\": {\"background\": \"white\"}, \"title\": \"Finished\"}, {\"id\": 5, \"label\": \"5\\nsleep_fail\", \"color\": \"Green\", \"font\": {\"background\": \"white\"}, \"title\": \"Finished\"}, {\"id\": 6, \"label\": \"6\\nsleep_fail\", \"color\": \"Green\", \"font\": {\"background\": \"white\"}, \"title\": \"Finished\"}, {\"id\": 7, \"label\": \"7\\nsleep_fail\", \"color\": \"Green\", \"font\": {\"background\": \"white\"}, \"title\": \"Finished\"}, {\"id\": 8, \"label\": \"8\\nsleep_fail\", \"color\": \"Red\", \"font\": {\"background\": \"white\"}, \"title\": \"Failed\"}, {\"id\": 9, \"label\": \"9\\nsleep_fail\", \"color\": \"Red\", \"font\": {\"background\": \"white\"}, \"title\": \"Failed\"}, {\"id\": 10, \"label\": \"10\\nsleep_fail\", \"color\": \"Red\", \"font\": {\"background\": \"white\"}, \"title\": \"Failed\"}, {\"id\": 11, \"label\": \"11\\nsleep_fail\", \"color\": \"Green\", \"font\": {\"background\": \"white\"}, \"title\": \"Finished\"}, {\"id\": 12, \"label\": \"12\\nsleep_fail\", \"color\": \"Red\", \"font\": {\"background\": \"white\"}, \"title\": \"Failed\"}, {\"id\": 13, \"label\": \"13\\nsleep_fail\", \"color\": \"Red\", \"font\": {\"background\": \"white\"}, \"title\": \"Failed\"}, {\"id\": 14, \"label\": \"14\\nsleep_fail\", \"color\": \"Green\", \"font\": {\"background\": \"white\"}, \"title\": \"Finished\"}, {\"id\": 15, \"label\": \"15\\nsleep_fail\", \"color\": \"Green\", \"font\": {\"background\": \"white\"}, \"title\": \"Finished\"}, {\"id\": 16, \"label\": \"16\\nsleep_fail\", \"color\": \"Green\", \"font\": {\"background\": \"white\"}, \"title\": \"Finished\"}, {\"id\": 17, \"label\": \"17\\nsleep_fail\", \"color\": \"orange\", \"font\": {\"background\": \"white\"}, \"title\": \"Dependency Failure\"}, {\"id\": 18, \"label\": \"18\\nsleep_fail\", \"color\": \"Green\", \"font\": {\"background\": \"white\"}, \"title\": \"Finished\"}, {\"id\": 19, \"label\": \"19\\nsleep_fail\", \"color\": \"Green\", \"font\": {\"background\": \"white\"}, \"title\": \"Finished\"}, {\"id\": 20, \"label\": \"20\\nsleep_fail\", \"color\": \"Green\", \"font\": {\"background\": \"white\"}, \"title\": \"Finished\"}, {\"id\": 21, \"label\": \"21\\nsleep_fail\", \"color\": \"Green\", \"font\": {\"background\": \"white\"}, \"title\": \"Finished\"}, {\"id\": 22, \"label\": \"22\\nsleep_fail\", \"color\": \"Green\", \"font\": {\"background\": \"white\"}, \"title\": \"Finished\"}, {\"id\": 23, \"label\": \"23\\nsleep_fail\", \"color\": \"orange\", \"font\": {\"background\": \"white\"}, \"title\": \"Dependency Failure\"}, {\"id\": 24, \"label\": \"24\\nsleep_fail\", \"color\": \"Red\", \"font\": {\"background\": \"white\"}, \"title\": \"Failed\"}, {\"id\": 25, \"label\": \"25\\nsleep_fail\", \"color\": \"orange\", \"font\": {\"background\": \"white\"}, \"title\": \"Dependency Failure\"}, {\"id\": 26, \"label\": \"26\\nsleep_fail\", \"color\": \"Green\", \"font\": {\"background\": \"white\"}, \"title\": \"Finished\"}, {\"id\": 27, \"label\": \"27\\nsleep_fail\", \"color\": \"orange\", \"font\": {\"background\": \"white\"}, \"title\": \"Dependency Failure\"}, {\"id\": 28, \"label\": \"28\\nsleep_fail\", \"color\": \"orange\", \"font\": {\"background\": \"white\"}, \"title\": \"Dependency Failure\"}, {\"id\": 29, \"label\": \"29\\nsleep_fail\", \"color\": \"Green\", \"font\": {\"background\": \"white\"}, \"title\": \"Finished\"}, {\"id\": 30, \"label\": \"30\\nsleep_fail\", \"color\": \"Green\", \"font\": {\"background\": \"white\"}, \"title\": \"Finished\"}, {\"id\": 31, \"label\": \"31\\nsleep_fail\", \"color\": \"orange\", \"font\": {\"background\": \"white\"}, \"title\": \"Dependency Failure\"}];\n",
       "                      window.edgesList=[{\"from\": 1, \"to\": 16, \"arrows\": \"to\"}, {\"from\": 2, \"to\": 17, \"arrows\": \"to\"}, {\"from\": 3, \"to\": 18, \"arrows\": \"to\"}, {\"from\": 4, \"to\": 19, \"arrows\": \"to\"}, {\"from\": 5, \"to\": 20, \"arrows\": \"to\"}, {\"from\": 6, \"to\": 21, \"arrows\": \"to\"}, {\"from\": 7, \"to\": 22, \"arrows\": \"to\"}, {\"from\": 8, \"to\": 23, \"arrows\": \"to\"}, {\"from\": 9, \"to\": 24, \"arrows\": \"to\"}, {\"from\": 10, \"to\": 25, \"arrows\": \"to\"}, {\"from\": 11, \"to\": 26, \"arrows\": \"to\"}, {\"from\": 12, \"to\": 27, \"arrows\": \"to\"}, {\"from\": 13, \"to\": 28, \"arrows\": \"to\"}, {\"from\": 14, \"to\": 29, \"arrows\": \"to\"}, {\"from\": 15, \"to\": 30, \"arrows\": \"to\"}, {\"from\": 16, \"to\": 31, \"arrows\": \"to\"}, {\"from\": 17, \"to\": 31, \"arrows\": \"to\"}, {\"from\": 18, \"to\": 31, \"arrows\": \"to\"}, {\"from\": 19, \"to\": 31, \"arrows\": \"to\"}, {\"from\": 20, \"to\": 31, \"arrows\": \"to\"}, {\"from\": 21, \"to\": 31, \"arrows\": \"to\"}, {\"from\": 22, \"to\": 31, \"arrows\": \"to\"}, {\"from\": 23, \"to\": 31, \"arrows\": \"to\"}, {\"from\": 24, \"to\": 31, \"arrows\": \"to\"}, {\"from\": 25, \"to\": 31, \"arrows\": \"to\"}, {\"from\": 26, \"to\": 31, \"arrows\": \"to\"}, {\"from\": 27, \"to\": 31, \"arrows\": \"to\"}, {\"from\": 28, \"to\": 31, \"arrows\": \"to\"}, {\"from\": 29, \"to\": 31, \"arrows\": \"to\"}, {\"from\": 30, \"to\": 31, \"arrows\": \"to\"}];\n",
       "                   "
      ],
      "text/plain": [
       "<IPython.core.display.Javascript object>"
      ]
     },
     "metadata": {},
     "output_type": "display_data"
    },
    {
     "data": {
      "application/javascript": [
       "require.config({paths: {vis: 'https://cdnjs.cloudflare.com/ajax/libs/vis/4.21.0/vis.min'}});\n",
       "require(['vis'], function (vis){\n",
       "    if (document.getElementById(\"mynetwork\") == null) {\n",
       "        element.append('<div id=\"mynetwork\" style=\"width:950px;height:750px;border:1px solid lightgray;\"></div>');\n",
       "    }\n",
       "    var nodes = new vis.DataSet(window.nodesList);\n",
       "    var edges = new vis.DataSet(window.edgesList);\n",
       "    var container = document.getElementById('mynetwork');\n",
       "    var data = {\n",
       "         nodes: nodes,\n",
       "         edges: edges\n",
       "     };\n",
       "     var options = {interaction:{hover:true}, \n",
       "                   layout: {\n",
       "                    hierarchical: {\n",
       "                        direction: 'UD'\n",
       "                    }}\n",
       "                   };\n",
       "     var network = new vis.Network(container, data, options);\n",
       "     network.on(\"hoverNode\", function (params) {\n",
       "             \n",
       "     });\n",
       "     network.on(\"hoverEdge\", function (params) {\n",
       "            \n",
       "     });\n",
       "     network.on(\"blurNode\", function (params) {\n",
       "             \n",
       "     });\n",
       "     network.on(\"blurEdge\", function (params) {\n",
       "             \n",
       "     });\n",
       "});"
      ],
      "text/plain": [
       "<IPython.core.display.Javascript object>"
      ]
     },
     "metadata": {},
     "output_type": "display_data"
    },
    {
     "data": {
      "application/javascript": [
       "window.nodesList=[{\"id\": 0, \"label\": \"0\\ntest_deps\", \"color\": \"Red\", \"font\": {\"background\": \"white\"}, \"title\": \"Failed\"}, {\"id\": 1, \"label\": \"1\\nsleep_fail\", \"color\": \"Green\", \"font\": {\"background\": \"white\"}, \"title\": \"Finished\"}, {\"id\": 2, \"label\": \"2\\nsleep_fail\", \"color\": \"Red\", \"font\": {\"background\": \"white\"}, \"title\": \"Failed\"}, {\"id\": 3, \"label\": \"3\\nsleep_fail\", \"color\": \"Green\", \"font\": {\"background\": \"white\"}, \"title\": \"Finished\"}, {\"id\": 4, \"label\": \"4\\nsleep_fail\", \"color\": \"Green\", \"font\": {\"background\": \"white\"}, \"title\": \"Finished\"}, {\"id\": 5, \"label\": \"5\\nsleep_fail\", \"color\": \"Green\", \"font\": {\"background\": \"white\"}, \"title\": \"Finished\"}, {\"id\": 6, \"label\": \"6\\nsleep_fail\", \"color\": \"Green\", \"font\": {\"background\": \"white\"}, \"title\": \"Finished\"}, {\"id\": 7, \"label\": \"7\\nsleep_fail\", \"color\": \"Green\", \"font\": {\"background\": \"white\"}, \"title\": \"Finished\"}, {\"id\": 8, \"label\": \"8\\nsleep_fail\", \"color\": \"Red\", \"font\": {\"background\": \"white\"}, \"title\": \"Failed\"}, {\"id\": 9, \"label\": \"9\\nsleep_fail\", \"color\": \"Red\", \"font\": {\"background\": \"white\"}, \"title\": \"Failed\"}, {\"id\": 10, \"label\": \"10\\nsleep_fail\", \"color\": \"Red\", \"font\": {\"background\": \"white\"}, \"title\": \"Failed\"}, {\"id\": 11, \"label\": \"11\\nsleep_fail\", \"color\": \"Green\", \"font\": {\"background\": \"white\"}, \"title\": \"Finished\"}, {\"id\": 12, \"label\": \"12\\nsleep_fail\", \"color\": \"Red\", \"font\": {\"background\": \"white\"}, \"title\": \"Failed\"}, {\"id\": 13, \"label\": \"13\\nsleep_fail\", \"color\": \"Red\", \"font\": {\"background\": \"white\"}, \"title\": \"Failed\"}, {\"id\": 14, \"label\": \"14\\nsleep_fail\", \"color\": \"Green\", \"font\": {\"background\": \"white\"}, \"title\": \"Finished\"}, {\"id\": 15, \"label\": \"15\\nsleep_fail\", \"color\": \"Green\", \"font\": {\"background\": \"white\"}, \"title\": \"Finished\"}, {\"id\": 16, \"label\": \"16\\nsleep_fail\", \"color\": \"Green\", \"font\": {\"background\": \"white\"}, \"title\": \"Finished\"}, {\"id\": 17, \"label\": \"17\\nsleep_fail\", \"color\": \"orange\", \"font\": {\"background\": \"white\"}, \"title\": \"Dependency Failure\"}, {\"id\": 18, \"label\": \"18\\nsleep_fail\", \"color\": \"Green\", \"font\": {\"background\": \"white\"}, \"title\": \"Finished\"}, {\"id\": 19, \"label\": \"19\\nsleep_fail\", \"color\": \"Green\", \"font\": {\"background\": \"white\"}, \"title\": \"Finished\"}, {\"id\": 20, \"label\": \"20\\nsleep_fail\", \"color\": \"Green\", \"font\": {\"background\": \"white\"}, \"title\": \"Finished\"}, {\"id\": 21, \"label\": \"21\\nsleep_fail\", \"color\": \"Green\", \"font\": {\"background\": \"white\"}, \"title\": \"Finished\"}, {\"id\": 22, \"label\": \"22\\nsleep_fail\", \"color\": \"Green\", \"font\": {\"background\": \"white\"}, \"title\": \"Finished\"}, {\"id\": 23, \"label\": \"23\\nsleep_fail\", \"color\": \"orange\", \"font\": {\"background\": \"white\"}, \"title\": \"Dependency Failure\"}, {\"id\": 24, \"label\": \"24\\nsleep_fail\", \"color\": \"Red\", \"font\": {\"background\": \"white\"}, \"title\": \"Failed\"}, {\"id\": 25, \"label\": \"25\\nsleep_fail\", \"color\": \"orange\", \"font\": {\"background\": \"white\"}, \"title\": \"Dependency Failure\"}, {\"id\": 26, \"label\": \"26\\nsleep_fail\", \"color\": \"Green\", \"font\": {\"background\": \"white\"}, \"title\": \"Finished\"}, {\"id\": 27, \"label\": \"27\\nsleep_fail\", \"color\": \"orange\", \"font\": {\"background\": \"white\"}, \"title\": \"Dependency Failure\"}, {\"id\": 28, \"label\": \"28\\nsleep_fail\", \"color\": \"orange\", \"font\": {\"background\": \"white\"}, \"title\": \"Dependency Failure\"}, {\"id\": 29, \"label\": \"29\\nsleep_fail\", \"color\": \"Green\", \"font\": {\"background\": \"white\"}, \"title\": \"Finished\"}, {\"id\": 30, \"label\": \"30\\nsleep_fail\", \"color\": \"Green\", \"font\": {\"background\": \"white\"}, \"title\": \"Finished\"}, {\"id\": 31, \"label\": \"31\\nsleep_fail\", \"color\": \"orange\", \"font\": {\"background\": \"white\"}, \"title\": \"Dependency Failure\"}];\n",
       "                      window.edgesList=[{\"from\": 1, \"to\": 16, \"arrows\": \"to\"}, {\"from\": 2, \"to\": 17, \"arrows\": \"to\"}, {\"from\": 3, \"to\": 18, \"arrows\": \"to\"}, {\"from\": 4, \"to\": 19, \"arrows\": \"to\"}, {\"from\": 5, \"to\": 20, \"arrows\": \"to\"}, {\"from\": 6, \"to\": 21, \"arrows\": \"to\"}, {\"from\": 7, \"to\": 22, \"arrows\": \"to\"}, {\"from\": 8, \"to\": 23, \"arrows\": \"to\"}, {\"from\": 9, \"to\": 24, \"arrows\": \"to\"}, {\"from\": 10, \"to\": 25, \"arrows\": \"to\"}, {\"from\": 11, \"to\": 26, \"arrows\": \"to\"}, {\"from\": 12, \"to\": 27, \"arrows\": \"to\"}, {\"from\": 13, \"to\": 28, \"arrows\": \"to\"}, {\"from\": 14, \"to\": 29, \"arrows\": \"to\"}, {\"from\": 15, \"to\": 30, \"arrows\": \"to\"}, {\"from\": 16, \"to\": 31, \"arrows\": \"to\"}, {\"from\": 17, \"to\": 31, \"arrows\": \"to\"}, {\"from\": 18, \"to\": 31, \"arrows\": \"to\"}, {\"from\": 19, \"to\": 31, \"arrows\": \"to\"}, {\"from\": 20, \"to\": 31, \"arrows\": \"to\"}, {\"from\": 21, \"to\": 31, \"arrows\": \"to\"}, {\"from\": 22, \"to\": 31, \"arrows\": \"to\"}, {\"from\": 23, \"to\": 31, \"arrows\": \"to\"}, {\"from\": 24, \"to\": 31, \"arrows\": \"to\"}, {\"from\": 25, \"to\": 31, \"arrows\": \"to\"}, {\"from\": 26, \"to\": 31, \"arrows\": \"to\"}, {\"from\": 27, \"to\": 31, \"arrows\": \"to\"}, {\"from\": 28, \"to\": 31, \"arrows\": \"to\"}, {\"from\": 29, \"to\": 31, \"arrows\": \"to\"}, {\"from\": 30, \"to\": 31, \"arrows\": \"to\"}];\n",
       "                   "
      ],
      "text/plain": [
       "<IPython.core.display.Javascript object>"
      ]
     },
     "metadata": {},
     "output_type": "display_data"
    },
    {
     "data": {
      "application/javascript": [
       "require.config({paths: {vis: 'https://cdnjs.cloudflare.com/ajax/libs/vis/4.21.0/vis.min'}});\n",
       "require(['vis'], function (vis){\n",
       "    if (document.getElementById(\"mynetwork\") == null) {\n",
       "        element.append('<div id=\"mynetwork\" style=\"width:950px;height:750px;border:1px solid lightgray;\"></div>');\n",
       "    }\n",
       "    var nodes = new vis.DataSet(window.nodesList);\n",
       "    var edges = new vis.DataSet(window.edgesList);\n",
       "    var container = document.getElementById('mynetwork');\n",
       "    var data = {\n",
       "         nodes: nodes,\n",
       "         edges: edges\n",
       "     };\n",
       "     var options = {interaction:{hover:true}, \n",
       "                   layout: {\n",
       "                    hierarchical: {\n",
       "                        direction: 'UD'\n",
       "                    }}\n",
       "                   };\n",
       "     var network = new vis.Network(container, data, options);\n",
       "     network.on(\"hoverNode\", function (params) {\n",
       "             \n",
       "     });\n",
       "     network.on(\"hoverEdge\", function (params) {\n",
       "            \n",
       "     });\n",
       "     network.on(\"blurNode\", function (params) {\n",
       "             \n",
       "     });\n",
       "     network.on(\"blurEdge\", function (params) {\n",
       "             \n",
       "     });\n",
       "});"
      ],
      "text/plain": [
       "<IPython.core.display.Javascript object>"
      ]
     },
     "metadata": {},
     "output_type": "display_data"
    },
    {
     "data": {
      "application/javascript": [
       "window.nodesList=[{\"id\": 0, \"label\": \"0\\ntest_deps\", \"color\": \"Red\", \"font\": {\"background\": \"white\"}, \"title\": \"Failed\"}, {\"id\": 1, \"label\": \"1\\nsleep_fail\", \"color\": \"Green\", \"font\": {\"background\": \"white\"}, \"title\": \"Finished\"}, {\"id\": 2, \"label\": \"2\\nsleep_fail\", \"color\": \"Red\", \"font\": {\"background\": \"white\"}, \"title\": \"Failed\"}, {\"id\": 3, \"label\": \"3\\nsleep_fail\", \"color\": \"Green\", \"font\": {\"background\": \"white\"}, \"title\": \"Finished\"}, {\"id\": 4, \"label\": \"4\\nsleep_fail\", \"color\": \"Green\", \"font\": {\"background\": \"white\"}, \"title\": \"Finished\"}, {\"id\": 5, \"label\": \"5\\nsleep_fail\", \"color\": \"Green\", \"font\": {\"background\": \"white\"}, \"title\": \"Finished\"}, {\"id\": 6, \"label\": \"6\\nsleep_fail\", \"color\": \"Green\", \"font\": {\"background\": \"white\"}, \"title\": \"Finished\"}, {\"id\": 7, \"label\": \"7\\nsleep_fail\", \"color\": \"Green\", \"font\": {\"background\": \"white\"}, \"title\": \"Finished\"}, {\"id\": 8, \"label\": \"8\\nsleep_fail\", \"color\": \"Red\", \"font\": {\"background\": \"white\"}, \"title\": \"Failed\"}, {\"id\": 9, \"label\": \"9\\nsleep_fail\", \"color\": \"Red\", \"font\": {\"background\": \"white\"}, \"title\": \"Failed\"}, {\"id\": 10, \"label\": \"10\\nsleep_fail\", \"color\": \"Red\", \"font\": {\"background\": \"white\"}, \"title\": \"Failed\"}, {\"id\": 11, \"label\": \"11\\nsleep_fail\", \"color\": \"Green\", \"font\": {\"background\": \"white\"}, \"title\": \"Finished\"}, {\"id\": 12, \"label\": \"12\\nsleep_fail\", \"color\": \"Red\", \"font\": {\"background\": \"white\"}, \"title\": \"Failed\"}, {\"id\": 13, \"label\": \"13\\nsleep_fail\", \"color\": \"Red\", \"font\": {\"background\": \"white\"}, \"title\": \"Failed\"}, {\"id\": 14, \"label\": \"14\\nsleep_fail\", \"color\": \"Green\", \"font\": {\"background\": \"white\"}, \"title\": \"Finished\"}, {\"id\": 15, \"label\": \"15\\nsleep_fail\", \"color\": \"Green\", \"font\": {\"background\": \"white\"}, \"title\": \"Finished\"}, {\"id\": 16, \"label\": \"16\\nsleep_fail\", \"color\": \"Green\", \"font\": {\"background\": \"white\"}, \"title\": \"Finished\"}, {\"id\": 17, \"label\": \"17\\nsleep_fail\", \"color\": \"orange\", \"font\": {\"background\": \"white\"}, \"title\": \"Dependency Failure\"}, {\"id\": 18, \"label\": \"18\\nsleep_fail\", \"color\": \"Green\", \"font\": {\"background\": \"white\"}, \"title\": \"Finished\"}, {\"id\": 19, \"label\": \"19\\nsleep_fail\", \"color\": \"Green\", \"font\": {\"background\": \"white\"}, \"title\": \"Finished\"}, {\"id\": 20, \"label\": \"20\\nsleep_fail\", \"color\": \"Green\", \"font\": {\"background\": \"white\"}, \"title\": \"Finished\"}, {\"id\": 21, \"label\": \"21\\nsleep_fail\", \"color\": \"Green\", \"font\": {\"background\": \"white\"}, \"title\": \"Finished\"}, {\"id\": 22, \"label\": \"22\\nsleep_fail\", \"color\": \"Green\", \"font\": {\"background\": \"white\"}, \"title\": \"Finished\"}, {\"id\": 23, \"label\": \"23\\nsleep_fail\", \"color\": \"orange\", \"font\": {\"background\": \"white\"}, \"title\": \"Dependency Failure\"}, {\"id\": 24, \"label\": \"24\\nsleep_fail\", \"color\": \"Red\", \"font\": {\"background\": \"white\"}, \"title\": \"Failed\"}, {\"id\": 25, \"label\": \"25\\nsleep_fail\", \"color\": \"orange\", \"font\": {\"background\": \"white\"}, \"title\": \"Dependency Failure\"}, {\"id\": 26, \"label\": \"26\\nsleep_fail\", \"color\": \"Green\", \"font\": {\"background\": \"white\"}, \"title\": \"Finished\"}, {\"id\": 27, \"label\": \"27\\nsleep_fail\", \"color\": \"orange\", \"font\": {\"background\": \"white\"}, \"title\": \"Dependency Failure\"}, {\"id\": 28, \"label\": \"28\\nsleep_fail\", \"color\": \"orange\", \"font\": {\"background\": \"white\"}, \"title\": \"Dependency Failure\"}, {\"id\": 29, \"label\": \"29\\nsleep_fail\", \"color\": \"Green\", \"font\": {\"background\": \"white\"}, \"title\": \"Finished\"}, {\"id\": 30, \"label\": \"30\\nsleep_fail\", \"color\": \"Green\", \"font\": {\"background\": \"white\"}, \"title\": \"Finished\"}, {\"id\": 31, \"label\": \"31\\nsleep_fail\", \"color\": \"orange\", \"font\": {\"background\": \"white\"}, \"title\": \"Dependency Failure\"}];\n",
       "                      window.edgesList=[{\"from\": 1, \"to\": 16, \"arrows\": \"to\"}, {\"from\": 2, \"to\": 17, \"arrows\": \"to\"}, {\"from\": 3, \"to\": 18, \"arrows\": \"to\"}, {\"from\": 4, \"to\": 19, \"arrows\": \"to\"}, {\"from\": 5, \"to\": 20, \"arrows\": \"to\"}, {\"from\": 6, \"to\": 21, \"arrows\": \"to\"}, {\"from\": 7, \"to\": 22, \"arrows\": \"to\"}, {\"from\": 8, \"to\": 23, \"arrows\": \"to\"}, {\"from\": 9, \"to\": 24, \"arrows\": \"to\"}, {\"from\": 10, \"to\": 25, \"arrows\": \"to\"}, {\"from\": 11, \"to\": 26, \"arrows\": \"to\"}, {\"from\": 12, \"to\": 27, \"arrows\": \"to\"}, {\"from\": 13, \"to\": 28, \"arrows\": \"to\"}, {\"from\": 14, \"to\": 29, \"arrows\": \"to\"}, {\"from\": 15, \"to\": 30, \"arrows\": \"to\"}, {\"from\": 16, \"to\": 31, \"arrows\": \"to\"}, {\"from\": 17, \"to\": 31, \"arrows\": \"to\"}, {\"from\": 18, \"to\": 31, \"arrows\": \"to\"}, {\"from\": 19, \"to\": 31, \"arrows\": \"to\"}, {\"from\": 20, \"to\": 31, \"arrows\": \"to\"}, {\"from\": 21, \"to\": 31, \"arrows\": \"to\"}, {\"from\": 22, \"to\": 31, \"arrows\": \"to\"}, {\"from\": 23, \"to\": 31, \"arrows\": \"to\"}, {\"from\": 24, \"to\": 31, \"arrows\": \"to\"}, {\"from\": 25, \"to\": 31, \"arrows\": \"to\"}, {\"from\": 26, \"to\": 31, \"arrows\": \"to\"}, {\"from\": 27, \"to\": 31, \"arrows\": \"to\"}, {\"from\": 28, \"to\": 31, \"arrows\": \"to\"}, {\"from\": 29, \"to\": 31, \"arrows\": \"to\"}, {\"from\": 30, \"to\": 31, \"arrows\": \"to\"}];\n",
       "                   "
      ],
      "text/plain": [
       "<IPython.core.display.Javascript object>"
      ]
     },
     "metadata": {},
     "output_type": "display_data"
    },
    {
     "data": {
      "application/javascript": [
       "require.config({paths: {vis: 'https://cdnjs.cloudflare.com/ajax/libs/vis/4.21.0/vis.min'}});\n",
       "require(['vis'], function (vis){\n",
       "    if (document.getElementById(\"mynetwork\") == null) {\n",
       "        element.append('<div id=\"mynetwork\" style=\"width:950px;height:750px;border:1px solid lightgray;\"></div>');\n",
       "    }\n",
       "    var nodes = new vis.DataSet(window.nodesList);\n",
       "    var edges = new vis.DataSet(window.edgesList);\n",
       "    var container = document.getElementById('mynetwork');\n",
       "    var data = {\n",
       "         nodes: nodes,\n",
       "         edges: edges\n",
       "     };\n",
       "     var options = {interaction:{hover:true}, \n",
       "                   layout: {\n",
       "                    hierarchical: {\n",
       "                        direction: 'UD'\n",
       "                    }}\n",
       "                   };\n",
       "     var network = new vis.Network(container, data, options);\n",
       "     network.on(\"hoverNode\", function (params) {\n",
       "             \n",
       "     });\n",
       "     network.on(\"hoverEdge\", function (params) {\n",
       "            \n",
       "     });\n",
       "     network.on(\"blurNode\", function (params) {\n",
       "             \n",
       "     });\n",
       "     network.on(\"blurEdge\", function (params) {\n",
       "             \n",
       "     });\n",
       "});"
      ],
      "text/plain": [
       "<IPython.core.display.Javascript object>"
      ]
     },
     "metadata": {},
     "output_type": "display_data"
    },
    {
     "data": {
      "application/javascript": [
       "window.nodesList=[{\"id\": 0, \"label\": \"0\\ntest_deps\", \"color\": \"Red\", \"font\": {\"background\": \"white\"}, \"title\": \"Failed\"}, {\"id\": 1, \"label\": \"1\\nsleep_fail\", \"color\": \"Green\", \"font\": {\"background\": \"white\"}, \"title\": \"Finished\"}, {\"id\": 2, \"label\": \"2\\nsleep_fail\", \"color\": \"Red\", \"font\": {\"background\": \"white\"}, \"title\": \"Failed\"}, {\"id\": 3, \"label\": \"3\\nsleep_fail\", \"color\": \"Green\", \"font\": {\"background\": \"white\"}, \"title\": \"Finished\"}, {\"id\": 4, \"label\": \"4\\nsleep_fail\", \"color\": \"Green\", \"font\": {\"background\": \"white\"}, \"title\": \"Finished\"}, {\"id\": 5, \"label\": \"5\\nsleep_fail\", \"color\": \"Green\", \"font\": {\"background\": \"white\"}, \"title\": \"Finished\"}, {\"id\": 6, \"label\": \"6\\nsleep_fail\", \"color\": \"Green\", \"font\": {\"background\": \"white\"}, \"title\": \"Finished\"}, {\"id\": 7, \"label\": \"7\\nsleep_fail\", \"color\": \"Green\", \"font\": {\"background\": \"white\"}, \"title\": \"Finished\"}, {\"id\": 8, \"label\": \"8\\nsleep_fail\", \"color\": \"Red\", \"font\": {\"background\": \"white\"}, \"title\": \"Failed\"}, {\"id\": 9, \"label\": \"9\\nsleep_fail\", \"color\": \"Red\", \"font\": {\"background\": \"white\"}, \"title\": \"Failed\"}, {\"id\": 10, \"label\": \"10\\nsleep_fail\", \"color\": \"Red\", \"font\": {\"background\": \"white\"}, \"title\": \"Failed\"}, {\"id\": 11, \"label\": \"11\\nsleep_fail\", \"color\": \"Green\", \"font\": {\"background\": \"white\"}, \"title\": \"Finished\"}, {\"id\": 12, \"label\": \"12\\nsleep_fail\", \"color\": \"Red\", \"font\": {\"background\": \"white\"}, \"title\": \"Failed\"}, {\"id\": 13, \"label\": \"13\\nsleep_fail\", \"color\": \"Red\", \"font\": {\"background\": \"white\"}, \"title\": \"Failed\"}, {\"id\": 14, \"label\": \"14\\nsleep_fail\", \"color\": \"Green\", \"font\": {\"background\": \"white\"}, \"title\": \"Finished\"}, {\"id\": 15, \"label\": \"15\\nsleep_fail\", \"color\": \"Green\", \"font\": {\"background\": \"white\"}, \"title\": \"Finished\"}, {\"id\": 16, \"label\": \"16\\nsleep_fail\", \"color\": \"Green\", \"font\": {\"background\": \"white\"}, \"title\": \"Finished\"}, {\"id\": 17, \"label\": \"17\\nsleep_fail\", \"color\": \"orange\", \"font\": {\"background\": \"white\"}, \"title\": \"Dependency Failure\"}, {\"id\": 18, \"label\": \"18\\nsleep_fail\", \"color\": \"Green\", \"font\": {\"background\": \"white\"}, \"title\": \"Finished\"}, {\"id\": 19, \"label\": \"19\\nsleep_fail\", \"color\": \"Green\", \"font\": {\"background\": \"white\"}, \"title\": \"Finished\"}, {\"id\": 20, \"label\": \"20\\nsleep_fail\", \"color\": \"Green\", \"font\": {\"background\": \"white\"}, \"title\": \"Finished\"}, {\"id\": 21, \"label\": \"21\\nsleep_fail\", \"color\": \"Green\", \"font\": {\"background\": \"white\"}, \"title\": \"Finished\"}, {\"id\": 22, \"label\": \"22\\nsleep_fail\", \"color\": \"Green\", \"font\": {\"background\": \"white\"}, \"title\": \"Finished\"}, {\"id\": 23, \"label\": \"23\\nsleep_fail\", \"color\": \"orange\", \"font\": {\"background\": \"white\"}, \"title\": \"Dependency Failure\"}, {\"id\": 24, \"label\": \"24\\nsleep_fail\", \"color\": \"Red\", \"font\": {\"background\": \"white\"}, \"title\": \"Failed\"}, {\"id\": 25, \"label\": \"25\\nsleep_fail\", \"color\": \"orange\", \"font\": {\"background\": \"white\"}, \"title\": \"Dependency Failure\"}, {\"id\": 26, \"label\": \"26\\nsleep_fail\", \"color\": \"Green\", \"font\": {\"background\": \"white\"}, \"title\": \"Finished\"}, {\"id\": 27, \"label\": \"27\\nsleep_fail\", \"color\": \"orange\", \"font\": {\"background\": \"white\"}, \"title\": \"Dependency Failure\"}, {\"id\": 28, \"label\": \"28\\nsleep_fail\", \"color\": \"orange\", \"font\": {\"background\": \"white\"}, \"title\": \"Dependency Failure\"}, {\"id\": 29, \"label\": \"29\\nsleep_fail\", \"color\": \"Green\", \"font\": {\"background\": \"white\"}, \"title\": \"Finished\"}, {\"id\": 30, \"label\": \"30\\nsleep_fail\", \"color\": \"Green\", \"font\": {\"background\": \"white\"}, \"title\": \"Finished\"}, {\"id\": 31, \"label\": \"31\\nsleep_fail\", \"color\": \"orange\", \"font\": {\"background\": \"white\"}, \"title\": \"Dependency Failure\"}];\n",
       "                      window.edgesList=[{\"from\": 1, \"to\": 16, \"arrows\": \"to\"}, {\"from\": 2, \"to\": 17, \"arrows\": \"to\"}, {\"from\": 3, \"to\": 18, \"arrows\": \"to\"}, {\"from\": 4, \"to\": 19, \"arrows\": \"to\"}, {\"from\": 5, \"to\": 20, \"arrows\": \"to\"}, {\"from\": 6, \"to\": 21, \"arrows\": \"to\"}, {\"from\": 7, \"to\": 22, \"arrows\": \"to\"}, {\"from\": 8, \"to\": 23, \"arrows\": \"to\"}, {\"from\": 9, \"to\": 24, \"arrows\": \"to\"}, {\"from\": 10, \"to\": 25, \"arrows\": \"to\"}, {\"from\": 11, \"to\": 26, \"arrows\": \"to\"}, {\"from\": 12, \"to\": 27, \"arrows\": \"to\"}, {\"from\": 13, \"to\": 28, \"arrows\": \"to\"}, {\"from\": 14, \"to\": 29, \"arrows\": \"to\"}, {\"from\": 15, \"to\": 30, \"arrows\": \"to\"}, {\"from\": 16, \"to\": 31, \"arrows\": \"to\"}, {\"from\": 17, \"to\": 31, \"arrows\": \"to\"}, {\"from\": 18, \"to\": 31, \"arrows\": \"to\"}, {\"from\": 19, \"to\": 31, \"arrows\": \"to\"}, {\"from\": 20, \"to\": 31, \"arrows\": \"to\"}, {\"from\": 21, \"to\": 31, \"arrows\": \"to\"}, {\"from\": 22, \"to\": 31, \"arrows\": \"to\"}, {\"from\": 23, \"to\": 31, \"arrows\": \"to\"}, {\"from\": 24, \"to\": 31, \"arrows\": \"to\"}, {\"from\": 25, \"to\": 31, \"arrows\": \"to\"}, {\"from\": 26, \"to\": 31, \"arrows\": \"to\"}, {\"from\": 27, \"to\": 31, \"arrows\": \"to\"}, {\"from\": 28, \"to\": 31, \"arrows\": \"to\"}, {\"from\": 29, \"to\": 31, \"arrows\": \"to\"}, {\"from\": 30, \"to\": 31, \"arrows\": \"to\"}];\n",
       "                   "
      ],
      "text/plain": [
       "<IPython.core.display.Javascript object>"
      ]
     },
     "metadata": {},
     "output_type": "display_data"
    },
    {
     "data": {
      "application/javascript": [
       "require.config({paths: {vis: 'https://cdnjs.cloudflare.com/ajax/libs/vis/4.21.0/vis.min'}});\n",
       "require(['vis'], function (vis){\n",
       "    if (document.getElementById(\"mynetwork\") == null) {\n",
       "        element.append('<div id=\"mynetwork\" style=\"width:950px;height:750px;border:1px solid lightgray;\"></div>');\n",
       "    }\n",
       "    var nodes = new vis.DataSet(window.nodesList);\n",
       "    var edges = new vis.DataSet(window.edgesList);\n",
       "    var container = document.getElementById('mynetwork');\n",
       "    var data = {\n",
       "         nodes: nodes,\n",
       "         edges: edges\n",
       "     };\n",
       "     var options = {interaction:{hover:true}, \n",
       "                   layout: {\n",
       "                    hierarchical: {\n",
       "                        direction: 'UD'\n",
       "                    }}\n",
       "                   };\n",
       "     var network = new vis.Network(container, data, options);\n",
       "     network.on(\"hoverNode\", function (params) {\n",
       "             \n",
       "     });\n",
       "     network.on(\"hoverEdge\", function (params) {\n",
       "            \n",
       "     });\n",
       "     network.on(\"blurNode\", function (params) {\n",
       "             \n",
       "     });\n",
       "     network.on(\"blurEdge\", function (params) {\n",
       "             \n",
       "     });\n",
       "});"
      ],
      "text/plain": [
       "<IPython.core.display.Javascript object>"
      ]
     },
     "metadata": {},
     "output_type": "display_data"
    },
    {
     "data": {
      "application/javascript": [
       "window.nodesList=[{\"id\": 0, \"label\": \"0\\ntest_deps\", \"color\": \"Red\", \"font\": {\"background\": \"white\"}, \"title\": \"Failed\"}, {\"id\": 1, \"label\": \"1\\nsleep_fail\", \"color\": \"Green\", \"font\": {\"background\": \"white\"}, \"title\": \"Finished\"}, {\"id\": 2, \"label\": \"2\\nsleep_fail\", \"color\": \"Red\", \"font\": {\"background\": \"white\"}, \"title\": \"Failed\"}, {\"id\": 3, \"label\": \"3\\nsleep_fail\", \"color\": \"Green\", \"font\": {\"background\": \"white\"}, \"title\": \"Finished\"}, {\"id\": 4, \"label\": \"4\\nsleep_fail\", \"color\": \"Green\", \"font\": {\"background\": \"white\"}, \"title\": \"Finished\"}, {\"id\": 5, \"label\": \"5\\nsleep_fail\", \"color\": \"Green\", \"font\": {\"background\": \"white\"}, \"title\": \"Finished\"}, {\"id\": 6, \"label\": \"6\\nsleep_fail\", \"color\": \"Green\", \"font\": {\"background\": \"white\"}, \"title\": \"Finished\"}, {\"id\": 7, \"label\": \"7\\nsleep_fail\", \"color\": \"Green\", \"font\": {\"background\": \"white\"}, \"title\": \"Finished\"}, {\"id\": 8, \"label\": \"8\\nsleep_fail\", \"color\": \"Red\", \"font\": {\"background\": \"white\"}, \"title\": \"Failed\"}, {\"id\": 9, \"label\": \"9\\nsleep_fail\", \"color\": \"Red\", \"font\": {\"background\": \"white\"}, \"title\": \"Failed\"}, {\"id\": 10, \"label\": \"10\\nsleep_fail\", \"color\": \"Red\", \"font\": {\"background\": \"white\"}, \"title\": \"Failed\"}, {\"id\": 11, \"label\": \"11\\nsleep_fail\", \"color\": \"Green\", \"font\": {\"background\": \"white\"}, \"title\": \"Finished\"}, {\"id\": 12, \"label\": \"12\\nsleep_fail\", \"color\": \"Red\", \"font\": {\"background\": \"white\"}, \"title\": \"Failed\"}, {\"id\": 13, \"label\": \"13\\nsleep_fail\", \"color\": \"Red\", \"font\": {\"background\": \"white\"}, \"title\": \"Failed\"}, {\"id\": 14, \"label\": \"14\\nsleep_fail\", \"color\": \"Green\", \"font\": {\"background\": \"white\"}, \"title\": \"Finished\"}, {\"id\": 15, \"label\": \"15\\nsleep_fail\", \"color\": \"Green\", \"font\": {\"background\": \"white\"}, \"title\": \"Finished\"}, {\"id\": 16, \"label\": \"16\\nsleep_fail\", \"color\": \"Green\", \"font\": {\"background\": \"white\"}, \"title\": \"Finished\"}, {\"id\": 17, \"label\": \"17\\nsleep_fail\", \"color\": \"orange\", \"font\": {\"background\": \"white\"}, \"title\": \"Dependency Failure\"}, {\"id\": 18, \"label\": \"18\\nsleep_fail\", \"color\": \"Green\", \"font\": {\"background\": \"white\"}, \"title\": \"Finished\"}, {\"id\": 19, \"label\": \"19\\nsleep_fail\", \"color\": \"Green\", \"font\": {\"background\": \"white\"}, \"title\": \"Finished\"}, {\"id\": 20, \"label\": \"20\\nsleep_fail\", \"color\": \"Green\", \"font\": {\"background\": \"white\"}, \"title\": \"Finished\"}, {\"id\": 21, \"label\": \"21\\nsleep_fail\", \"color\": \"Green\", \"font\": {\"background\": \"white\"}, \"title\": \"Finished\"}, {\"id\": 22, \"label\": \"22\\nsleep_fail\", \"color\": \"Green\", \"font\": {\"background\": \"white\"}, \"title\": \"Finished\"}, {\"id\": 23, \"label\": \"23\\nsleep_fail\", \"color\": \"orange\", \"font\": {\"background\": \"white\"}, \"title\": \"Dependency Failure\"}, {\"id\": 24, \"label\": \"24\\nsleep_fail\", \"color\": \"Red\", \"font\": {\"background\": \"white\"}, \"title\": \"Failed\"}, {\"id\": 25, \"label\": \"25\\nsleep_fail\", \"color\": \"orange\", \"font\": {\"background\": \"white\"}, \"title\": \"Dependency Failure\"}, {\"id\": 26, \"label\": \"26\\nsleep_fail\", \"color\": \"Green\", \"font\": {\"background\": \"white\"}, \"title\": \"Finished\"}, {\"id\": 27, \"label\": \"27\\nsleep_fail\", \"color\": \"orange\", \"font\": {\"background\": \"white\"}, \"title\": \"Dependency Failure\"}, {\"id\": 28, \"label\": \"28\\nsleep_fail\", \"color\": \"orange\", \"font\": {\"background\": \"white\"}, \"title\": \"Dependency Failure\"}, {\"id\": 29, \"label\": \"29\\nsleep_fail\", \"color\": \"Green\", \"font\": {\"background\": \"white\"}, \"title\": \"Finished\"}, {\"id\": 30, \"label\": \"30\\nsleep_fail\", \"color\": \"Green\", \"font\": {\"background\": \"white\"}, \"title\": \"Finished\"}, {\"id\": 31, \"label\": \"31\\nsleep_fail\", \"color\": \"orange\", \"font\": {\"background\": \"white\"}, \"title\": \"Dependency Failure\"}];\n",
       "                      window.edgesList=[{\"from\": 1, \"to\": 16, \"arrows\": \"to\"}, {\"from\": 2, \"to\": 17, \"arrows\": \"to\"}, {\"from\": 3, \"to\": 18, \"arrows\": \"to\"}, {\"from\": 4, \"to\": 19, \"arrows\": \"to\"}, {\"from\": 5, \"to\": 20, \"arrows\": \"to\"}, {\"from\": 6, \"to\": 21, \"arrows\": \"to\"}, {\"from\": 7, \"to\": 22, \"arrows\": \"to\"}, {\"from\": 8, \"to\": 23, \"arrows\": \"to\"}, {\"from\": 9, \"to\": 24, \"arrows\": \"to\"}, {\"from\": 10, \"to\": 25, \"arrows\": \"to\"}, {\"from\": 11, \"to\": 26, \"arrows\": \"to\"}, {\"from\": 12, \"to\": 27, \"arrows\": \"to\"}, {\"from\": 13, \"to\": 28, \"arrows\": \"to\"}, {\"from\": 14, \"to\": 29, \"arrows\": \"to\"}, {\"from\": 15, \"to\": 30, \"arrows\": \"to\"}, {\"from\": 16, \"to\": 31, \"arrows\": \"to\"}, {\"from\": 17, \"to\": 31, \"arrows\": \"to\"}, {\"from\": 18, \"to\": 31, \"arrows\": \"to\"}, {\"from\": 19, \"to\": 31, \"arrows\": \"to\"}, {\"from\": 20, \"to\": 31, \"arrows\": \"to\"}, {\"from\": 21, \"to\": 31, \"arrows\": \"to\"}, {\"from\": 22, \"to\": 31, \"arrows\": \"to\"}, {\"from\": 23, \"to\": 31, \"arrows\": \"to\"}, {\"from\": 24, \"to\": 31, \"arrows\": \"to\"}, {\"from\": 25, \"to\": 31, \"arrows\": \"to\"}, {\"from\": 26, \"to\": 31, \"arrows\": \"to\"}, {\"from\": 27, \"to\": 31, \"arrows\": \"to\"}, {\"from\": 28, \"to\": 31, \"arrows\": \"to\"}, {\"from\": 29, \"to\": 31, \"arrows\": \"to\"}, {\"from\": 30, \"to\": 31, \"arrows\": \"to\"}];\n",
       "                   "
      ],
      "text/plain": [
       "<IPython.core.display.Javascript object>"
      ]
     },
     "metadata": {},
     "output_type": "display_data"
    },
    {
     "data": {
      "application/javascript": [
       "require.config({paths: {vis: 'https://cdnjs.cloudflare.com/ajax/libs/vis/4.21.0/vis.min'}});\n",
       "require(['vis'], function (vis){\n",
       "    if (document.getElementById(\"mynetwork\") == null) {\n",
       "        element.append('<div id=\"mynetwork\" style=\"width:950px;height:750px;border:1px solid lightgray;\"></div>');\n",
       "    }\n",
       "    var nodes = new vis.DataSet(window.nodesList);\n",
       "    var edges = new vis.DataSet(window.edgesList);\n",
       "    var container = document.getElementById('mynetwork');\n",
       "    var data = {\n",
       "         nodes: nodes,\n",
       "         edges: edges\n",
       "     };\n",
       "     var options = {interaction:{hover:true}, \n",
       "                   layout: {\n",
       "                    hierarchical: {\n",
       "                        direction: 'UD'\n",
       "                    }}\n",
       "                   };\n",
       "     var network = new vis.Network(container, data, options);\n",
       "     network.on(\"hoverNode\", function (params) {\n",
       "             \n",
       "     });\n",
       "     network.on(\"hoverEdge\", function (params) {\n",
       "            \n",
       "     });\n",
       "     network.on(\"blurNode\", function (params) {\n",
       "             \n",
       "     });\n",
       "     network.on(\"blurEdge\", function (params) {\n",
       "             \n",
       "     });\n",
       "});"
      ],
      "text/plain": [
       "<IPython.core.display.Javascript object>"
      ]
     },
     "metadata": {},
     "output_type": "display_data"
    },
    {
     "data": {
      "application/javascript": [
       "window.nodesList=[{\"id\": 0, \"label\": \"0\\ntest_deps\", \"color\": \"Red\", \"font\": {\"background\": \"white\"}, \"title\": \"Failed\"}, {\"id\": 1, \"label\": \"1\\nsleep_fail\", \"color\": \"Green\", \"font\": {\"background\": \"white\"}, \"title\": \"Finished\"}, {\"id\": 2, \"label\": \"2\\nsleep_fail\", \"color\": \"Red\", \"font\": {\"background\": \"white\"}, \"title\": \"Failed\"}, {\"id\": 3, \"label\": \"3\\nsleep_fail\", \"color\": \"Green\", \"font\": {\"background\": \"white\"}, \"title\": \"Finished\"}, {\"id\": 4, \"label\": \"4\\nsleep_fail\", \"color\": \"Green\", \"font\": {\"background\": \"white\"}, \"title\": \"Finished\"}, {\"id\": 5, \"label\": \"5\\nsleep_fail\", \"color\": \"Green\", \"font\": {\"background\": \"white\"}, \"title\": \"Finished\"}, {\"id\": 6, \"label\": \"6\\nsleep_fail\", \"color\": \"Green\", \"font\": {\"background\": \"white\"}, \"title\": \"Finished\"}, {\"id\": 7, \"label\": \"7\\nsleep_fail\", \"color\": \"Green\", \"font\": {\"background\": \"white\"}, \"title\": \"Finished\"}, {\"id\": 8, \"label\": \"8\\nsleep_fail\", \"color\": \"Red\", \"font\": {\"background\": \"white\"}, \"title\": \"Failed\"}, {\"id\": 9, \"label\": \"9\\nsleep_fail\", \"color\": \"Red\", \"font\": {\"background\": \"white\"}, \"title\": \"Failed\"}, {\"id\": 10, \"label\": \"10\\nsleep_fail\", \"color\": \"Red\", \"font\": {\"background\": \"white\"}, \"title\": \"Failed\"}, {\"id\": 11, \"label\": \"11\\nsleep_fail\", \"color\": \"Green\", \"font\": {\"background\": \"white\"}, \"title\": \"Finished\"}, {\"id\": 12, \"label\": \"12\\nsleep_fail\", \"color\": \"Red\", \"font\": {\"background\": \"white\"}, \"title\": \"Failed\"}, {\"id\": 13, \"label\": \"13\\nsleep_fail\", \"color\": \"Red\", \"font\": {\"background\": \"white\"}, \"title\": \"Failed\"}, {\"id\": 14, \"label\": \"14\\nsleep_fail\", \"color\": \"Green\", \"font\": {\"background\": \"white\"}, \"title\": \"Finished\"}, {\"id\": 15, \"label\": \"15\\nsleep_fail\", \"color\": \"Green\", \"font\": {\"background\": \"white\"}, \"title\": \"Finished\"}, {\"id\": 16, \"label\": \"16\\nsleep_fail\", \"color\": \"Green\", \"font\": {\"background\": \"white\"}, \"title\": \"Finished\"}, {\"id\": 17, \"label\": \"17\\nsleep_fail\", \"color\": \"orange\", \"font\": {\"background\": \"white\"}, \"title\": \"Dependency Failure\"}, {\"id\": 18, \"label\": \"18\\nsleep_fail\", \"color\": \"Green\", \"font\": {\"background\": \"white\"}, \"title\": \"Finished\"}, {\"id\": 19, \"label\": \"19\\nsleep_fail\", \"color\": \"Green\", \"font\": {\"background\": \"white\"}, \"title\": \"Finished\"}, {\"id\": 20, \"label\": \"20\\nsleep_fail\", \"color\": \"Green\", \"font\": {\"background\": \"white\"}, \"title\": \"Finished\"}, {\"id\": 21, \"label\": \"21\\nsleep_fail\", \"color\": \"Green\", \"font\": {\"background\": \"white\"}, \"title\": \"Finished\"}, {\"id\": 22, \"label\": \"22\\nsleep_fail\", \"color\": \"Green\", \"font\": {\"background\": \"white\"}, \"title\": \"Finished\"}, {\"id\": 23, \"label\": \"23\\nsleep_fail\", \"color\": \"orange\", \"font\": {\"background\": \"white\"}, \"title\": \"Dependency Failure\"}, {\"id\": 24, \"label\": \"24\\nsleep_fail\", \"color\": \"Red\", \"font\": {\"background\": \"white\"}, \"title\": \"Failed\"}, {\"id\": 25, \"label\": \"25\\nsleep_fail\", \"color\": \"orange\", \"font\": {\"background\": \"white\"}, \"title\": \"Dependency Failure\"}, {\"id\": 26, \"label\": \"26\\nsleep_fail\", \"color\": \"Green\", \"font\": {\"background\": \"white\"}, \"title\": \"Finished\"}, {\"id\": 27, \"label\": \"27\\nsleep_fail\", \"color\": \"orange\", \"font\": {\"background\": \"white\"}, \"title\": \"Dependency Failure\"}, {\"id\": 28, \"label\": \"28\\nsleep_fail\", \"color\": \"orange\", \"font\": {\"background\": \"white\"}, \"title\": \"Dependency Failure\"}, {\"id\": 29, \"label\": \"29\\nsleep_fail\", \"color\": \"Green\", \"font\": {\"background\": \"white\"}, \"title\": \"Finished\"}, {\"id\": 30, \"label\": \"30\\nsleep_fail\", \"color\": \"Green\", \"font\": {\"background\": \"white\"}, \"title\": \"Finished\"}, {\"id\": 31, \"label\": \"31\\nsleep_fail\", \"color\": \"orange\", \"font\": {\"background\": \"white\"}, \"title\": \"Dependency Failure\"}];\n",
       "                      window.edgesList=[{\"from\": 1, \"to\": 16, \"arrows\": \"to\"}, {\"from\": 2, \"to\": 17, \"arrows\": \"to\"}, {\"from\": 3, \"to\": 18, \"arrows\": \"to\"}, {\"from\": 4, \"to\": 19, \"arrows\": \"to\"}, {\"from\": 5, \"to\": 20, \"arrows\": \"to\"}, {\"from\": 6, \"to\": 21, \"arrows\": \"to\"}, {\"from\": 7, \"to\": 22, \"arrows\": \"to\"}, {\"from\": 8, \"to\": 23, \"arrows\": \"to\"}, {\"from\": 9, \"to\": 24, \"arrows\": \"to\"}, {\"from\": 10, \"to\": 25, \"arrows\": \"to\"}, {\"from\": 11, \"to\": 26, \"arrows\": \"to\"}, {\"from\": 12, \"to\": 27, \"arrows\": \"to\"}, {\"from\": 13, \"to\": 28, \"arrows\": \"to\"}, {\"from\": 14, \"to\": 29, \"arrows\": \"to\"}, {\"from\": 15, \"to\": 30, \"arrows\": \"to\"}, {\"from\": 16, \"to\": 31, \"arrows\": \"to\"}, {\"from\": 17, \"to\": 31, \"arrows\": \"to\"}, {\"from\": 18, \"to\": 31, \"arrows\": \"to\"}, {\"from\": 19, \"to\": 31, \"arrows\": \"to\"}, {\"from\": 20, \"to\": 31, \"arrows\": \"to\"}, {\"from\": 21, \"to\": 31, \"arrows\": \"to\"}, {\"from\": 22, \"to\": 31, \"arrows\": \"to\"}, {\"from\": 23, \"to\": 31, \"arrows\": \"to\"}, {\"from\": 24, \"to\": 31, \"arrows\": \"to\"}, {\"from\": 25, \"to\": 31, \"arrows\": \"to\"}, {\"from\": 26, \"to\": 31, \"arrows\": \"to\"}, {\"from\": 27, \"to\": 31, \"arrows\": \"to\"}, {\"from\": 28, \"to\": 31, \"arrows\": \"to\"}, {\"from\": 29, \"to\": 31, \"arrows\": \"to\"}, {\"from\": 30, \"to\": 31, \"arrows\": \"to\"}];\n",
       "                   "
      ],
      "text/plain": [
       "<IPython.core.display.Javascript object>"
      ]
     },
     "metadata": {},
     "output_type": "display_data"
    },
    {
     "data": {
      "application/javascript": [
       "require.config({paths: {vis: 'https://cdnjs.cloudflare.com/ajax/libs/vis/4.21.0/vis.min'}});\n",
       "require(['vis'], function (vis){\n",
       "    if (document.getElementById(\"mynetwork\") == null) {\n",
       "        element.append('<div id=\"mynetwork\" style=\"width:950px;height:750px;border:1px solid lightgray;\"></div>');\n",
       "    }\n",
       "    var nodes = new vis.DataSet(window.nodesList);\n",
       "    var edges = new vis.DataSet(window.edgesList);\n",
       "    var container = document.getElementById('mynetwork');\n",
       "    var data = {\n",
       "         nodes: nodes,\n",
       "         edges: edges\n",
       "     };\n",
       "     var options = {interaction:{hover:true}, \n",
       "                   layout: {\n",
       "                    hierarchical: {\n",
       "                        direction: 'UD'\n",
       "                    }}\n",
       "                   };\n",
       "     var network = new vis.Network(container, data, options);\n",
       "     network.on(\"hoverNode\", function (params) {\n",
       "             \n",
       "     });\n",
       "     network.on(\"hoverEdge\", function (params) {\n",
       "            \n",
       "     });\n",
       "     network.on(\"blurNode\", function (params) {\n",
       "             \n",
       "     });\n",
       "     network.on(\"blurEdge\", function (params) {\n",
       "             \n",
       "     });\n",
       "});"
      ],
      "text/plain": [
       "<IPython.core.display.Javascript object>"
      ]
     },
     "metadata": {},
     "output_type": "display_data"
    },
    {
     "data": {
      "application/javascript": [
       "window.nodesList=[{\"id\": 0, \"label\": \"0\\ntest_deps\", \"color\": \"Red\", \"font\": {\"background\": \"white\"}, \"title\": \"Failed\"}, {\"id\": 1, \"label\": \"1\\nsleep_fail\", \"color\": \"Green\", \"font\": {\"background\": \"white\"}, \"title\": \"Finished\"}, {\"id\": 2, \"label\": \"2\\nsleep_fail\", \"color\": \"Red\", \"font\": {\"background\": \"white\"}, \"title\": \"Failed\"}, {\"id\": 3, \"label\": \"3\\nsleep_fail\", \"color\": \"Green\", \"font\": {\"background\": \"white\"}, \"title\": \"Finished\"}, {\"id\": 4, \"label\": \"4\\nsleep_fail\", \"color\": \"Green\", \"font\": {\"background\": \"white\"}, \"title\": \"Finished\"}, {\"id\": 5, \"label\": \"5\\nsleep_fail\", \"color\": \"Green\", \"font\": {\"background\": \"white\"}, \"title\": \"Finished\"}, {\"id\": 6, \"label\": \"6\\nsleep_fail\", \"color\": \"Green\", \"font\": {\"background\": \"white\"}, \"title\": \"Finished\"}, {\"id\": 7, \"label\": \"7\\nsleep_fail\", \"color\": \"Green\", \"font\": {\"background\": \"white\"}, \"title\": \"Finished\"}, {\"id\": 8, \"label\": \"8\\nsleep_fail\", \"color\": \"Red\", \"font\": {\"background\": \"white\"}, \"title\": \"Failed\"}, {\"id\": 9, \"label\": \"9\\nsleep_fail\", \"color\": \"Red\", \"font\": {\"background\": \"white\"}, \"title\": \"Failed\"}, {\"id\": 10, \"label\": \"10\\nsleep_fail\", \"color\": \"Red\", \"font\": {\"background\": \"white\"}, \"title\": \"Failed\"}, {\"id\": 11, \"label\": \"11\\nsleep_fail\", \"color\": \"Green\", \"font\": {\"background\": \"white\"}, \"title\": \"Finished\"}, {\"id\": 12, \"label\": \"12\\nsleep_fail\", \"color\": \"Red\", \"font\": {\"background\": \"white\"}, \"title\": \"Failed\"}, {\"id\": 13, \"label\": \"13\\nsleep_fail\", \"color\": \"Red\", \"font\": {\"background\": \"white\"}, \"title\": \"Failed\"}, {\"id\": 14, \"label\": \"14\\nsleep_fail\", \"color\": \"Green\", \"font\": {\"background\": \"white\"}, \"title\": \"Finished\"}, {\"id\": 15, \"label\": \"15\\nsleep_fail\", \"color\": \"Green\", \"font\": {\"background\": \"white\"}, \"title\": \"Finished\"}, {\"id\": 16, \"label\": \"16\\nsleep_fail\", \"color\": \"Green\", \"font\": {\"background\": \"white\"}, \"title\": \"Finished\"}, {\"id\": 17, \"label\": \"17\\nsleep_fail\", \"color\": \"orange\", \"font\": {\"background\": \"white\"}, \"title\": \"Dependency Failure\"}, {\"id\": 18, \"label\": \"18\\nsleep_fail\", \"color\": \"Green\", \"font\": {\"background\": \"white\"}, \"title\": \"Finished\"}, {\"id\": 19, \"label\": \"19\\nsleep_fail\", \"color\": \"Green\", \"font\": {\"background\": \"white\"}, \"title\": \"Finished\"}, {\"id\": 20, \"label\": \"20\\nsleep_fail\", \"color\": \"Green\", \"font\": {\"background\": \"white\"}, \"title\": \"Finished\"}, {\"id\": 21, \"label\": \"21\\nsleep_fail\", \"color\": \"Green\", \"font\": {\"background\": \"white\"}, \"title\": \"Finished\"}, {\"id\": 22, \"label\": \"22\\nsleep_fail\", \"color\": \"Green\", \"font\": {\"background\": \"white\"}, \"title\": \"Finished\"}, {\"id\": 23, \"label\": \"23\\nsleep_fail\", \"color\": \"orange\", \"font\": {\"background\": \"white\"}, \"title\": \"Dependency Failure\"}, {\"id\": 24, \"label\": \"24\\nsleep_fail\", \"color\": \"Red\", \"font\": {\"background\": \"white\"}, \"title\": \"Failed\"}, {\"id\": 25, \"label\": \"25\\nsleep_fail\", \"color\": \"orange\", \"font\": {\"background\": \"white\"}, \"title\": \"Dependency Failure\"}, {\"id\": 26, \"label\": \"26\\nsleep_fail\", \"color\": \"Green\", \"font\": {\"background\": \"white\"}, \"title\": \"Finished\"}, {\"id\": 27, \"label\": \"27\\nsleep_fail\", \"color\": \"orange\", \"font\": {\"background\": \"white\"}, \"title\": \"Dependency Failure\"}, {\"id\": 28, \"label\": \"28\\nsleep_fail\", \"color\": \"orange\", \"font\": {\"background\": \"white\"}, \"title\": \"Dependency Failure\"}, {\"id\": 29, \"label\": \"29\\nsleep_fail\", \"color\": \"Green\", \"font\": {\"background\": \"white\"}, \"title\": \"Finished\"}, {\"id\": 30, \"label\": \"30\\nsleep_fail\", \"color\": \"Green\", \"font\": {\"background\": \"white\"}, \"title\": \"Finished\"}, {\"id\": 31, \"label\": \"31\\nsleep_fail\", \"color\": \"orange\", \"font\": {\"background\": \"white\"}, \"title\": \"Dependency Failure\"}];\n",
       "                      window.edgesList=[{\"from\": 1, \"to\": 16, \"arrows\": \"to\"}, {\"from\": 2, \"to\": 17, \"arrows\": \"to\"}, {\"from\": 3, \"to\": 18, \"arrows\": \"to\"}, {\"from\": 4, \"to\": 19, \"arrows\": \"to\"}, {\"from\": 5, \"to\": 20, \"arrows\": \"to\"}, {\"from\": 6, \"to\": 21, \"arrows\": \"to\"}, {\"from\": 7, \"to\": 22, \"arrows\": \"to\"}, {\"from\": 8, \"to\": 23, \"arrows\": \"to\"}, {\"from\": 9, \"to\": 24, \"arrows\": \"to\"}, {\"from\": 10, \"to\": 25, \"arrows\": \"to\"}, {\"from\": 11, \"to\": 26, \"arrows\": \"to\"}, {\"from\": 12, \"to\": 27, \"arrows\": \"to\"}, {\"from\": 13, \"to\": 28, \"arrows\": \"to\"}, {\"from\": 14, \"to\": 29, \"arrows\": \"to\"}, {\"from\": 15, \"to\": 30, \"arrows\": \"to\"}, {\"from\": 16, \"to\": 31, \"arrows\": \"to\"}, {\"from\": 17, \"to\": 31, \"arrows\": \"to\"}, {\"from\": 18, \"to\": 31, \"arrows\": \"to\"}, {\"from\": 19, \"to\": 31, \"arrows\": \"to\"}, {\"from\": 20, \"to\": 31, \"arrows\": \"to\"}, {\"from\": 21, \"to\": 31, \"arrows\": \"to\"}, {\"from\": 22, \"to\": 31, \"arrows\": \"to\"}, {\"from\": 23, \"to\": 31, \"arrows\": \"to\"}, {\"from\": 24, \"to\": 31, \"arrows\": \"to\"}, {\"from\": 25, \"to\": 31, \"arrows\": \"to\"}, {\"from\": 26, \"to\": 31, \"arrows\": \"to\"}, {\"from\": 27, \"to\": 31, \"arrows\": \"to\"}, {\"from\": 28, \"to\": 31, \"arrows\": \"to\"}, {\"from\": 29, \"to\": 31, \"arrows\": \"to\"}, {\"from\": 30, \"to\": 31, \"arrows\": \"to\"}];\n",
       "                   "
      ],
      "text/plain": [
       "<IPython.core.display.Javascript object>"
      ]
     },
     "metadata": {},
     "output_type": "display_data"
    },
    {
     "data": {
      "application/javascript": [
       "require.config({paths: {vis: 'https://cdnjs.cloudflare.com/ajax/libs/vis/4.21.0/vis.min'}});\n",
       "require(['vis'], function (vis){\n",
       "    if (document.getElementById(\"mynetwork\") == null) {\n",
       "        element.append('<div id=\"mynetwork\" style=\"width:950px;height:750px;border:1px solid lightgray;\"></div>');\n",
       "    }\n",
       "    var nodes = new vis.DataSet(window.nodesList);\n",
       "    var edges = new vis.DataSet(window.edgesList);\n",
       "    var container = document.getElementById('mynetwork');\n",
       "    var data = {\n",
       "         nodes: nodes,\n",
       "         edges: edges\n",
       "     };\n",
       "     var options = {interaction:{hover:true}, \n",
       "                   layout: {\n",
       "                    hierarchical: {\n",
       "                        direction: 'UD'\n",
       "                    }}\n",
       "                   };\n",
       "     var network = new vis.Network(container, data, options);\n",
       "     network.on(\"hoverNode\", function (params) {\n",
       "             \n",
       "     });\n",
       "     network.on(\"hoverEdge\", function (params) {\n",
       "            \n",
       "     });\n",
       "     network.on(\"blurNode\", function (params) {\n",
       "             \n",
       "     });\n",
       "     network.on(\"blurEdge\", function (params) {\n",
       "             \n",
       "     });\n",
       "});"
      ],
      "text/plain": [
       "<IPython.core.display.Javascript object>"
      ]
     },
     "metadata": {},
     "output_type": "display_data"
    },
    {
     "data": {
      "application/javascript": [
       "window.nodesList=[{\"id\": 0, \"label\": \"0\\ntest_deps\", \"color\": \"Red\", \"font\": {\"background\": \"white\"}, \"title\": \"Failed\"}, {\"id\": 1, \"label\": \"1\\nsleep_fail\", \"color\": \"Green\", \"font\": {\"background\": \"white\"}, \"title\": \"Finished\"}, {\"id\": 2, \"label\": \"2\\nsleep_fail\", \"color\": \"Red\", \"font\": {\"background\": \"white\"}, \"title\": \"Failed\"}, {\"id\": 3, \"label\": \"3\\nsleep_fail\", \"color\": \"Green\", \"font\": {\"background\": \"white\"}, \"title\": \"Finished\"}, {\"id\": 4, \"label\": \"4\\nsleep_fail\", \"color\": \"Green\", \"font\": {\"background\": \"white\"}, \"title\": \"Finished\"}, {\"id\": 5, \"label\": \"5\\nsleep_fail\", \"color\": \"Green\", \"font\": {\"background\": \"white\"}, \"title\": \"Finished\"}, {\"id\": 6, \"label\": \"6\\nsleep_fail\", \"color\": \"Green\", \"font\": {\"background\": \"white\"}, \"title\": \"Finished\"}, {\"id\": 7, \"label\": \"7\\nsleep_fail\", \"color\": \"Green\", \"font\": {\"background\": \"white\"}, \"title\": \"Finished\"}, {\"id\": 8, \"label\": \"8\\nsleep_fail\", \"color\": \"Red\", \"font\": {\"background\": \"white\"}, \"title\": \"Failed\"}, {\"id\": 9, \"label\": \"9\\nsleep_fail\", \"color\": \"Red\", \"font\": {\"background\": \"white\"}, \"title\": \"Failed\"}, {\"id\": 10, \"label\": \"10\\nsleep_fail\", \"color\": \"Red\", \"font\": {\"background\": \"white\"}, \"title\": \"Failed\"}, {\"id\": 11, \"label\": \"11\\nsleep_fail\", \"color\": \"Green\", \"font\": {\"background\": \"white\"}, \"title\": \"Finished\"}, {\"id\": 12, \"label\": \"12\\nsleep_fail\", \"color\": \"Red\", \"font\": {\"background\": \"white\"}, \"title\": \"Failed\"}, {\"id\": 13, \"label\": \"13\\nsleep_fail\", \"color\": \"Red\", \"font\": {\"background\": \"white\"}, \"title\": \"Failed\"}, {\"id\": 14, \"label\": \"14\\nsleep_fail\", \"color\": \"Green\", \"font\": {\"background\": \"white\"}, \"title\": \"Finished\"}, {\"id\": 15, \"label\": \"15\\nsleep_fail\", \"color\": \"Green\", \"font\": {\"background\": \"white\"}, \"title\": \"Finished\"}, {\"id\": 16, \"label\": \"16\\nsleep_fail\", \"color\": \"Green\", \"font\": {\"background\": \"white\"}, \"title\": \"Finished\"}, {\"id\": 17, \"label\": \"17\\nsleep_fail\", \"color\": \"orange\", \"font\": {\"background\": \"white\"}, \"title\": \"Dependency Failure\"}, {\"id\": 18, \"label\": \"18\\nsleep_fail\", \"color\": \"Green\", \"font\": {\"background\": \"white\"}, \"title\": \"Finished\"}, {\"id\": 19, \"label\": \"19\\nsleep_fail\", \"color\": \"Green\", \"font\": {\"background\": \"white\"}, \"title\": \"Finished\"}, {\"id\": 20, \"label\": \"20\\nsleep_fail\", \"color\": \"Green\", \"font\": {\"background\": \"white\"}, \"title\": \"Finished\"}, {\"id\": 21, \"label\": \"21\\nsleep_fail\", \"color\": \"Green\", \"font\": {\"background\": \"white\"}, \"title\": \"Finished\"}, {\"id\": 22, \"label\": \"22\\nsleep_fail\", \"color\": \"Green\", \"font\": {\"background\": \"white\"}, \"title\": \"Finished\"}, {\"id\": 23, \"label\": \"23\\nsleep_fail\", \"color\": \"orange\", \"font\": {\"background\": \"white\"}, \"title\": \"Dependency Failure\"}, {\"id\": 24, \"label\": \"24\\nsleep_fail\", \"color\": \"Red\", \"font\": {\"background\": \"white\"}, \"title\": \"Failed\"}, {\"id\": 25, \"label\": \"25\\nsleep_fail\", \"color\": \"orange\", \"font\": {\"background\": \"white\"}, \"title\": \"Dependency Failure\"}, {\"id\": 26, \"label\": \"26\\nsleep_fail\", \"color\": \"Green\", \"font\": {\"background\": \"white\"}, \"title\": \"Finished\"}, {\"id\": 27, \"label\": \"27\\nsleep_fail\", \"color\": \"orange\", \"font\": {\"background\": \"white\"}, \"title\": \"Dependency Failure\"}, {\"id\": 28, \"label\": \"28\\nsleep_fail\", \"color\": \"orange\", \"font\": {\"background\": \"white\"}, \"title\": \"Dependency Failure\"}, {\"id\": 29, \"label\": \"29\\nsleep_fail\", \"color\": \"Green\", \"font\": {\"background\": \"white\"}, \"title\": \"Finished\"}, {\"id\": 30, \"label\": \"30\\nsleep_fail\", \"color\": \"Green\", \"font\": {\"background\": \"white\"}, \"title\": \"Finished\"}, {\"id\": 31, \"label\": \"31\\nsleep_fail\", \"color\": \"orange\", \"font\": {\"background\": \"white\"}, \"title\": \"Dependency Failure\"}];\n",
       "                      window.edgesList=[{\"from\": 1, \"to\": 16, \"arrows\": \"to\"}, {\"from\": 2, \"to\": 17, \"arrows\": \"to\"}, {\"from\": 3, \"to\": 18, \"arrows\": \"to\"}, {\"from\": 4, \"to\": 19, \"arrows\": \"to\"}, {\"from\": 5, \"to\": 20, \"arrows\": \"to\"}, {\"from\": 6, \"to\": 21, \"arrows\": \"to\"}, {\"from\": 7, \"to\": 22, \"arrows\": \"to\"}, {\"from\": 8, \"to\": 23, \"arrows\": \"to\"}, {\"from\": 9, \"to\": 24, \"arrows\": \"to\"}, {\"from\": 10, \"to\": 25, \"arrows\": \"to\"}, {\"from\": 11, \"to\": 26, \"arrows\": \"to\"}, {\"from\": 12, \"to\": 27, \"arrows\": \"to\"}, {\"from\": 13, \"to\": 28, \"arrows\": \"to\"}, {\"from\": 14, \"to\": 29, \"arrows\": \"to\"}, {\"from\": 15, \"to\": 30, \"arrows\": \"to\"}, {\"from\": 16, \"to\": 31, \"arrows\": \"to\"}, {\"from\": 17, \"to\": 31, \"arrows\": \"to\"}, {\"from\": 18, \"to\": 31, \"arrows\": \"to\"}, {\"from\": 19, \"to\": 31, \"arrows\": \"to\"}, {\"from\": 20, \"to\": 31, \"arrows\": \"to\"}, {\"from\": 21, \"to\": 31, \"arrows\": \"to\"}, {\"from\": 22, \"to\": 31, \"arrows\": \"to\"}, {\"from\": 23, \"to\": 31, \"arrows\": \"to\"}, {\"from\": 24, \"to\": 31, \"arrows\": \"to\"}, {\"from\": 25, \"to\": 31, \"arrows\": \"to\"}, {\"from\": 26, \"to\": 31, \"arrows\": \"to\"}, {\"from\": 27, \"to\": 31, \"arrows\": \"to\"}, {\"from\": 28, \"to\": 31, \"arrows\": \"to\"}, {\"from\": 29, \"to\": 31, \"arrows\": \"to\"}, {\"from\": 30, \"to\": 31, \"arrows\": \"to\"}];\n",
       "                   "
      ],
      "text/plain": [
       "<IPython.core.display.Javascript object>"
      ]
     },
     "metadata": {},
     "output_type": "display_data"
    },
    {
     "data": {
      "application/javascript": [
       "require.config({paths: {vis: 'https://cdnjs.cloudflare.com/ajax/libs/vis/4.21.0/vis.min'}});\n",
       "require(['vis'], function (vis){\n",
       "    if (document.getElementById(\"mynetwork\") == null) {\n",
       "        element.append('<div id=\"mynetwork\" style=\"width:950px;height:750px;border:1px solid lightgray;\"></div>');\n",
       "    }\n",
       "    var nodes = new vis.DataSet(window.nodesList);\n",
       "    var edges = new vis.DataSet(window.edgesList);\n",
       "    var container = document.getElementById('mynetwork');\n",
       "    var data = {\n",
       "         nodes: nodes,\n",
       "         edges: edges\n",
       "     };\n",
       "     var options = {interaction:{hover:true}, \n",
       "                   layout: {\n",
       "                    hierarchical: {\n",
       "                        direction: 'UD'\n",
       "                    }}\n",
       "                   };\n",
       "     var network = new vis.Network(container, data, options);\n",
       "     network.on(\"hoverNode\", function (params) {\n",
       "             \n",
       "     });\n",
       "     network.on(\"hoverEdge\", function (params) {\n",
       "            \n",
       "     });\n",
       "     network.on(\"blurNode\", function (params) {\n",
       "             \n",
       "     });\n",
       "     network.on(\"blurEdge\", function (params) {\n",
       "             \n",
       "     });\n",
       "});"
      ],
      "text/plain": [
       "<IPython.core.display.Javascript object>"
      ]
     },
     "metadata": {},
     "output_type": "display_data"
    },
    {
     "data": {
      "application/javascript": [
       "window.nodesList=[{\"id\": 0, \"label\": \"0\\ntest_deps\", \"color\": \"Red\", \"font\": {\"background\": \"white\"}, \"title\": \"Failed\"}, {\"id\": 1, \"label\": \"1\\nsleep_fail\", \"color\": \"Green\", \"font\": {\"background\": \"white\"}, \"title\": \"Finished\"}, {\"id\": 2, \"label\": \"2\\nsleep_fail\", \"color\": \"Red\", \"font\": {\"background\": \"white\"}, \"title\": \"Failed\"}, {\"id\": 3, \"label\": \"3\\nsleep_fail\", \"color\": \"Green\", \"font\": {\"background\": \"white\"}, \"title\": \"Finished\"}, {\"id\": 4, \"label\": \"4\\nsleep_fail\", \"color\": \"Green\", \"font\": {\"background\": \"white\"}, \"title\": \"Finished\"}, {\"id\": 5, \"label\": \"5\\nsleep_fail\", \"color\": \"Green\", \"font\": {\"background\": \"white\"}, \"title\": \"Finished\"}, {\"id\": 6, \"label\": \"6\\nsleep_fail\", \"color\": \"Green\", \"font\": {\"background\": \"white\"}, \"title\": \"Finished\"}, {\"id\": 7, \"label\": \"7\\nsleep_fail\", \"color\": \"Green\", \"font\": {\"background\": \"white\"}, \"title\": \"Finished\"}, {\"id\": 8, \"label\": \"8\\nsleep_fail\", \"color\": \"Red\", \"font\": {\"background\": \"white\"}, \"title\": \"Failed\"}, {\"id\": 9, \"label\": \"9\\nsleep_fail\", \"color\": \"Red\", \"font\": {\"background\": \"white\"}, \"title\": \"Failed\"}, {\"id\": 10, \"label\": \"10\\nsleep_fail\", \"color\": \"Red\", \"font\": {\"background\": \"white\"}, \"title\": \"Failed\"}, {\"id\": 11, \"label\": \"11\\nsleep_fail\", \"color\": \"Green\", \"font\": {\"background\": \"white\"}, \"title\": \"Finished\"}, {\"id\": 12, \"label\": \"12\\nsleep_fail\", \"color\": \"Red\", \"font\": {\"background\": \"white\"}, \"title\": \"Failed\"}, {\"id\": 13, \"label\": \"13\\nsleep_fail\", \"color\": \"Red\", \"font\": {\"background\": \"white\"}, \"title\": \"Failed\"}, {\"id\": 14, \"label\": \"14\\nsleep_fail\", \"color\": \"Green\", \"font\": {\"background\": \"white\"}, \"title\": \"Finished\"}, {\"id\": 15, \"label\": \"15\\nsleep_fail\", \"color\": \"Green\", \"font\": {\"background\": \"white\"}, \"title\": \"Finished\"}, {\"id\": 16, \"label\": \"16\\nsleep_fail\", \"color\": \"Green\", \"font\": {\"background\": \"white\"}, \"title\": \"Finished\"}, {\"id\": 17, \"label\": \"17\\nsleep_fail\", \"color\": \"orange\", \"font\": {\"background\": \"white\"}, \"title\": \"Dependency Failure\"}, {\"id\": 18, \"label\": \"18\\nsleep_fail\", \"color\": \"Green\", \"font\": {\"background\": \"white\"}, \"title\": \"Finished\"}, {\"id\": 19, \"label\": \"19\\nsleep_fail\", \"color\": \"Green\", \"font\": {\"background\": \"white\"}, \"title\": \"Finished\"}, {\"id\": 20, \"label\": \"20\\nsleep_fail\", \"color\": \"Green\", \"font\": {\"background\": \"white\"}, \"title\": \"Finished\"}, {\"id\": 21, \"label\": \"21\\nsleep_fail\", \"color\": \"Green\", \"font\": {\"background\": \"white\"}, \"title\": \"Finished\"}, {\"id\": 22, \"label\": \"22\\nsleep_fail\", \"color\": \"Green\", \"font\": {\"background\": \"white\"}, \"title\": \"Finished\"}, {\"id\": 23, \"label\": \"23\\nsleep_fail\", \"color\": \"orange\", \"font\": {\"background\": \"white\"}, \"title\": \"Dependency Failure\"}, {\"id\": 24, \"label\": \"24\\nsleep_fail\", \"color\": \"Red\", \"font\": {\"background\": \"white\"}, \"title\": \"Failed\"}, {\"id\": 25, \"label\": \"25\\nsleep_fail\", \"color\": \"orange\", \"font\": {\"background\": \"white\"}, \"title\": \"Dependency Failure\"}, {\"id\": 26, \"label\": \"26\\nsleep_fail\", \"color\": \"Green\", \"font\": {\"background\": \"white\"}, \"title\": \"Finished\"}, {\"id\": 27, \"label\": \"27\\nsleep_fail\", \"color\": \"orange\", \"font\": {\"background\": \"white\"}, \"title\": \"Dependency Failure\"}, {\"id\": 28, \"label\": \"28\\nsleep_fail\", \"color\": \"orange\", \"font\": {\"background\": \"white\"}, \"title\": \"Dependency Failure\"}, {\"id\": 29, \"label\": \"29\\nsleep_fail\", \"color\": \"Green\", \"font\": {\"background\": \"white\"}, \"title\": \"Finished\"}, {\"id\": 30, \"label\": \"30\\nsleep_fail\", \"color\": \"Green\", \"font\": {\"background\": \"white\"}, \"title\": \"Finished\"}, {\"id\": 31, \"label\": \"31\\nsleep_fail\", \"color\": \"orange\", \"font\": {\"background\": \"white\"}, \"title\": \"Dependency Failure\"}];\n",
       "                      window.edgesList=[{\"from\": 1, \"to\": 16, \"arrows\": \"to\"}, {\"from\": 2, \"to\": 17, \"arrows\": \"to\"}, {\"from\": 3, \"to\": 18, \"arrows\": \"to\"}, {\"from\": 4, \"to\": 19, \"arrows\": \"to\"}, {\"from\": 5, \"to\": 20, \"arrows\": \"to\"}, {\"from\": 6, \"to\": 21, \"arrows\": \"to\"}, {\"from\": 7, \"to\": 22, \"arrows\": \"to\"}, {\"from\": 8, \"to\": 23, \"arrows\": \"to\"}, {\"from\": 9, \"to\": 24, \"arrows\": \"to\"}, {\"from\": 10, \"to\": 25, \"arrows\": \"to\"}, {\"from\": 11, \"to\": 26, \"arrows\": \"to\"}, {\"from\": 12, \"to\": 27, \"arrows\": \"to\"}, {\"from\": 13, \"to\": 28, \"arrows\": \"to\"}, {\"from\": 14, \"to\": 29, \"arrows\": \"to\"}, {\"from\": 15, \"to\": 30, \"arrows\": \"to\"}, {\"from\": 16, \"to\": 31, \"arrows\": \"to\"}, {\"from\": 17, \"to\": 31, \"arrows\": \"to\"}, {\"from\": 18, \"to\": 31, \"arrows\": \"to\"}, {\"from\": 19, \"to\": 31, \"arrows\": \"to\"}, {\"from\": 20, \"to\": 31, \"arrows\": \"to\"}, {\"from\": 21, \"to\": 31, \"arrows\": \"to\"}, {\"from\": 22, \"to\": 31, \"arrows\": \"to\"}, {\"from\": 23, \"to\": 31, \"arrows\": \"to\"}, {\"from\": 24, \"to\": 31, \"arrows\": \"to\"}, {\"from\": 25, \"to\": 31, \"arrows\": \"to\"}, {\"from\": 26, \"to\": 31, \"arrows\": \"to\"}, {\"from\": 27, \"to\": 31, \"arrows\": \"to\"}, {\"from\": 28, \"to\": 31, \"arrows\": \"to\"}, {\"from\": 29, \"to\": 31, \"arrows\": \"to\"}, {\"from\": 30, \"to\": 31, \"arrows\": \"to\"}];\n",
       "                   "
      ],
      "text/plain": [
       "<IPython.core.display.Javascript object>"
      ]
     },
     "metadata": {},
     "output_type": "display_data"
    },
    {
     "data": {
      "application/javascript": [
       "require.config({paths: {vis: 'https://cdnjs.cloudflare.com/ajax/libs/vis/4.21.0/vis.min'}});\n",
       "require(['vis'], function (vis){\n",
       "    if (document.getElementById(\"mynetwork\") == null) {\n",
       "        element.append('<div id=\"mynetwork\" style=\"width:950px;height:750px;border:1px solid lightgray;\"></div>');\n",
       "    }\n",
       "    var nodes = new vis.DataSet(window.nodesList);\n",
       "    var edges = new vis.DataSet(window.edgesList);\n",
       "    var container = document.getElementById('mynetwork');\n",
       "    var data = {\n",
       "         nodes: nodes,\n",
       "         edges: edges\n",
       "     };\n",
       "     var options = {interaction:{hover:true}, \n",
       "                   layout: {\n",
       "                    hierarchical: {\n",
       "                        direction: 'UD'\n",
       "                    }}\n",
       "                   };\n",
       "     var network = new vis.Network(container, data, options);\n",
       "     network.on(\"hoverNode\", function (params) {\n",
       "             \n",
       "     });\n",
       "     network.on(\"hoverEdge\", function (params) {\n",
       "            \n",
       "     });\n",
       "     network.on(\"blurNode\", function (params) {\n",
       "             \n",
       "     });\n",
       "     network.on(\"blurEdge\", function (params) {\n",
       "             \n",
       "     });\n",
       "});"
      ],
      "text/plain": [
       "<IPython.core.display.Javascript object>"
      ]
     },
     "metadata": {},
     "output_type": "display_data"
    },
    {
     "data": {
      "application/javascript": [
       "window.nodesList=[{\"id\": 0, \"label\": \"0\\ntest_deps\", \"color\": \"Red\", \"font\": {\"background\": \"white\"}, \"title\": \"Failed\"}, {\"id\": 1, \"label\": \"1\\nsleep_fail\", \"color\": \"Green\", \"font\": {\"background\": \"white\"}, \"title\": \"Finished\"}, {\"id\": 2, \"label\": \"2\\nsleep_fail\", \"color\": \"Red\", \"font\": {\"background\": \"white\"}, \"title\": \"Failed\"}, {\"id\": 3, \"label\": \"3\\nsleep_fail\", \"color\": \"Green\", \"font\": {\"background\": \"white\"}, \"title\": \"Finished\"}, {\"id\": 4, \"label\": \"4\\nsleep_fail\", \"color\": \"Green\", \"font\": {\"background\": \"white\"}, \"title\": \"Finished\"}, {\"id\": 5, \"label\": \"5\\nsleep_fail\", \"color\": \"Green\", \"font\": {\"background\": \"white\"}, \"title\": \"Finished\"}, {\"id\": 6, \"label\": \"6\\nsleep_fail\", \"color\": \"Green\", \"font\": {\"background\": \"white\"}, \"title\": \"Finished\"}, {\"id\": 7, \"label\": \"7\\nsleep_fail\", \"color\": \"Green\", \"font\": {\"background\": \"white\"}, \"title\": \"Finished\"}, {\"id\": 8, \"label\": \"8\\nsleep_fail\", \"color\": \"Red\", \"font\": {\"background\": \"white\"}, \"title\": \"Failed\"}, {\"id\": 9, \"label\": \"9\\nsleep_fail\", \"color\": \"Red\", \"font\": {\"background\": \"white\"}, \"title\": \"Failed\"}, {\"id\": 10, \"label\": \"10\\nsleep_fail\", \"color\": \"Red\", \"font\": {\"background\": \"white\"}, \"title\": \"Failed\"}, {\"id\": 11, \"label\": \"11\\nsleep_fail\", \"color\": \"Green\", \"font\": {\"background\": \"white\"}, \"title\": \"Finished\"}, {\"id\": 12, \"label\": \"12\\nsleep_fail\", \"color\": \"Red\", \"font\": {\"background\": \"white\"}, \"title\": \"Failed\"}, {\"id\": 13, \"label\": \"13\\nsleep_fail\", \"color\": \"Red\", \"font\": {\"background\": \"white\"}, \"title\": \"Failed\"}, {\"id\": 14, \"label\": \"14\\nsleep_fail\", \"color\": \"Green\", \"font\": {\"background\": \"white\"}, \"title\": \"Finished\"}, {\"id\": 15, \"label\": \"15\\nsleep_fail\", \"color\": \"Green\", \"font\": {\"background\": \"white\"}, \"title\": \"Finished\"}, {\"id\": 16, \"label\": \"16\\nsleep_fail\", \"color\": \"Green\", \"font\": {\"background\": \"white\"}, \"title\": \"Finished\"}, {\"id\": 17, \"label\": \"17\\nsleep_fail\", \"color\": \"orange\", \"font\": {\"background\": \"white\"}, \"title\": \"Dependency Failure\"}, {\"id\": 18, \"label\": \"18\\nsleep_fail\", \"color\": \"Green\", \"font\": {\"background\": \"white\"}, \"title\": \"Finished\"}, {\"id\": 19, \"label\": \"19\\nsleep_fail\", \"color\": \"Green\", \"font\": {\"background\": \"white\"}, \"title\": \"Finished\"}, {\"id\": 20, \"label\": \"20\\nsleep_fail\", \"color\": \"Green\", \"font\": {\"background\": \"white\"}, \"title\": \"Finished\"}, {\"id\": 21, \"label\": \"21\\nsleep_fail\", \"color\": \"Green\", \"font\": {\"background\": \"white\"}, \"title\": \"Finished\"}, {\"id\": 22, \"label\": \"22\\nsleep_fail\", \"color\": \"Green\", \"font\": {\"background\": \"white\"}, \"title\": \"Finished\"}, {\"id\": 23, \"label\": \"23\\nsleep_fail\", \"color\": \"orange\", \"font\": {\"background\": \"white\"}, \"title\": \"Dependency Failure\"}, {\"id\": 24, \"label\": \"24\\nsleep_fail\", \"color\": \"Red\", \"font\": {\"background\": \"white\"}, \"title\": \"Failed\"}, {\"id\": 25, \"label\": \"25\\nsleep_fail\", \"color\": \"orange\", \"font\": {\"background\": \"white\"}, \"title\": \"Dependency Failure\"}, {\"id\": 26, \"label\": \"26\\nsleep_fail\", \"color\": \"Green\", \"font\": {\"background\": \"white\"}, \"title\": \"Finished\"}, {\"id\": 27, \"label\": \"27\\nsleep_fail\", \"color\": \"orange\", \"font\": {\"background\": \"white\"}, \"title\": \"Dependency Failure\"}, {\"id\": 28, \"label\": \"28\\nsleep_fail\", \"color\": \"orange\", \"font\": {\"background\": \"white\"}, \"title\": \"Dependency Failure\"}, {\"id\": 29, \"label\": \"29\\nsleep_fail\", \"color\": \"Green\", \"font\": {\"background\": \"white\"}, \"title\": \"Finished\"}, {\"id\": 30, \"label\": \"30\\nsleep_fail\", \"color\": \"Green\", \"font\": {\"background\": \"white\"}, \"title\": \"Finished\"}, {\"id\": 31, \"label\": \"31\\nsleep_fail\", \"color\": \"orange\", \"font\": {\"background\": \"white\"}, \"title\": \"Dependency Failure\"}];\n",
       "                      window.edgesList=[{\"from\": 1, \"to\": 16, \"arrows\": \"to\"}, {\"from\": 2, \"to\": 17, \"arrows\": \"to\"}, {\"from\": 3, \"to\": 18, \"arrows\": \"to\"}, {\"from\": 4, \"to\": 19, \"arrows\": \"to\"}, {\"from\": 5, \"to\": 20, \"arrows\": \"to\"}, {\"from\": 6, \"to\": 21, \"arrows\": \"to\"}, {\"from\": 7, \"to\": 22, \"arrows\": \"to\"}, {\"from\": 8, \"to\": 23, \"arrows\": \"to\"}, {\"from\": 9, \"to\": 24, \"arrows\": \"to\"}, {\"from\": 10, \"to\": 25, \"arrows\": \"to\"}, {\"from\": 11, \"to\": 26, \"arrows\": \"to\"}, {\"from\": 12, \"to\": 27, \"arrows\": \"to\"}, {\"from\": 13, \"to\": 28, \"arrows\": \"to\"}, {\"from\": 14, \"to\": 29, \"arrows\": \"to\"}, {\"from\": 15, \"to\": 30, \"arrows\": \"to\"}, {\"from\": 16, \"to\": 31, \"arrows\": \"to\"}, {\"from\": 17, \"to\": 31, \"arrows\": \"to\"}, {\"from\": 18, \"to\": 31, \"arrows\": \"to\"}, {\"from\": 19, \"to\": 31, \"arrows\": \"to\"}, {\"from\": 20, \"to\": 31, \"arrows\": \"to\"}, {\"from\": 21, \"to\": 31, \"arrows\": \"to\"}, {\"from\": 22, \"to\": 31, \"arrows\": \"to\"}, {\"from\": 23, \"to\": 31, \"arrows\": \"to\"}, {\"from\": 24, \"to\": 31, \"arrows\": \"to\"}, {\"from\": 25, \"to\": 31, \"arrows\": \"to\"}, {\"from\": 26, \"to\": 31, \"arrows\": \"to\"}, {\"from\": 27, \"to\": 31, \"arrows\": \"to\"}, {\"from\": 28, \"to\": 31, \"arrows\": \"to\"}, {\"from\": 29, \"to\": 31, \"arrows\": \"to\"}, {\"from\": 30, \"to\": 31, \"arrows\": \"to\"}];\n",
       "                   "
      ],
      "text/plain": [
       "<IPython.core.display.Javascript object>"
      ]
     },
     "metadata": {},
     "output_type": "display_data"
    },
    {
     "data": {
      "application/javascript": [
       "require.config({paths: {vis: 'https://cdnjs.cloudflare.com/ajax/libs/vis/4.21.0/vis.min'}});\n",
       "require(['vis'], function (vis){\n",
       "    if (document.getElementById(\"mynetwork\") == null) {\n",
       "        element.append('<div id=\"mynetwork\" style=\"width:950px;height:750px;border:1px solid lightgray;\"></div>');\n",
       "    }\n",
       "    var nodes = new vis.DataSet(window.nodesList);\n",
       "    var edges = new vis.DataSet(window.edgesList);\n",
       "    var container = document.getElementById('mynetwork');\n",
       "    var data = {\n",
       "         nodes: nodes,\n",
       "         edges: edges\n",
       "     };\n",
       "     var options = {interaction:{hover:true}, \n",
       "                   layout: {\n",
       "                    hierarchical: {\n",
       "                        direction: 'UD'\n",
       "                    }}\n",
       "                   };\n",
       "     var network = new vis.Network(container, data, options);\n",
       "     network.on(\"hoverNode\", function (params) {\n",
       "             \n",
       "     });\n",
       "     network.on(\"hoverEdge\", function (params) {\n",
       "            \n",
       "     });\n",
       "     network.on(\"blurNode\", function (params) {\n",
       "             \n",
       "     });\n",
       "     network.on(\"blurEdge\", function (params) {\n",
       "             \n",
       "     });\n",
       "});"
      ],
      "text/plain": [
       "<IPython.core.display.Javascript object>"
      ]
     },
     "metadata": {},
     "output_type": "display_data"
    },
    {
     "data": {
      "application/javascript": [
       "window.nodesList=[{\"id\": 0, \"label\": \"0\\ntest_deps\", \"color\": \"Red\", \"font\": {\"background\": \"white\"}, \"title\": \"Failed\"}, {\"id\": 1, \"label\": \"1\\nsleep_fail\", \"color\": \"Green\", \"font\": {\"background\": \"white\"}, \"title\": \"Finished\"}, {\"id\": 2, \"label\": \"2\\nsleep_fail\", \"color\": \"Red\", \"font\": {\"background\": \"white\"}, \"title\": \"Failed\"}, {\"id\": 3, \"label\": \"3\\nsleep_fail\", \"color\": \"Green\", \"font\": {\"background\": \"white\"}, \"title\": \"Finished\"}, {\"id\": 4, \"label\": \"4\\nsleep_fail\", \"color\": \"Green\", \"font\": {\"background\": \"white\"}, \"title\": \"Finished\"}, {\"id\": 5, \"label\": \"5\\nsleep_fail\", \"color\": \"Green\", \"font\": {\"background\": \"white\"}, \"title\": \"Finished\"}, {\"id\": 6, \"label\": \"6\\nsleep_fail\", \"color\": \"Green\", \"font\": {\"background\": \"white\"}, \"title\": \"Finished\"}, {\"id\": 7, \"label\": \"7\\nsleep_fail\", \"color\": \"Green\", \"font\": {\"background\": \"white\"}, \"title\": \"Finished\"}, {\"id\": 8, \"label\": \"8\\nsleep_fail\", \"color\": \"Red\", \"font\": {\"background\": \"white\"}, \"title\": \"Failed\"}, {\"id\": 9, \"label\": \"9\\nsleep_fail\", \"color\": \"Red\", \"font\": {\"background\": \"white\"}, \"title\": \"Failed\"}, {\"id\": 10, \"label\": \"10\\nsleep_fail\", \"color\": \"Red\", \"font\": {\"background\": \"white\"}, \"title\": \"Failed\"}, {\"id\": 11, \"label\": \"11\\nsleep_fail\", \"color\": \"Green\", \"font\": {\"background\": \"white\"}, \"title\": \"Finished\"}, {\"id\": 12, \"label\": \"12\\nsleep_fail\", \"color\": \"Red\", \"font\": {\"background\": \"white\"}, \"title\": \"Failed\"}, {\"id\": 13, \"label\": \"13\\nsleep_fail\", \"color\": \"Red\", \"font\": {\"background\": \"white\"}, \"title\": \"Failed\"}, {\"id\": 14, \"label\": \"14\\nsleep_fail\", \"color\": \"Green\", \"font\": {\"background\": \"white\"}, \"title\": \"Finished\"}, {\"id\": 15, \"label\": \"15\\nsleep_fail\", \"color\": \"Green\", \"font\": {\"background\": \"white\"}, \"title\": \"Finished\"}, {\"id\": 16, \"label\": \"16\\nsleep_fail\", \"color\": \"Green\", \"font\": {\"background\": \"white\"}, \"title\": \"Finished\"}, {\"id\": 17, \"label\": \"17\\nsleep_fail\", \"color\": \"orange\", \"font\": {\"background\": \"white\"}, \"title\": \"Dependency Failure\"}, {\"id\": 18, \"label\": \"18\\nsleep_fail\", \"color\": \"Green\", \"font\": {\"background\": \"white\"}, \"title\": \"Finished\"}, {\"id\": 19, \"label\": \"19\\nsleep_fail\", \"color\": \"Green\", \"font\": {\"background\": \"white\"}, \"title\": \"Finished\"}, {\"id\": 20, \"label\": \"20\\nsleep_fail\", \"color\": \"Green\", \"font\": {\"background\": \"white\"}, \"title\": \"Finished\"}, {\"id\": 21, \"label\": \"21\\nsleep_fail\", \"color\": \"Green\", \"font\": {\"background\": \"white\"}, \"title\": \"Finished\"}, {\"id\": 22, \"label\": \"22\\nsleep_fail\", \"color\": \"Green\", \"font\": {\"background\": \"white\"}, \"title\": \"Finished\"}, {\"id\": 23, \"label\": \"23\\nsleep_fail\", \"color\": \"orange\", \"font\": {\"background\": \"white\"}, \"title\": \"Dependency Failure\"}, {\"id\": 24, \"label\": \"24\\nsleep_fail\", \"color\": \"Red\", \"font\": {\"background\": \"white\"}, \"title\": \"Failed\"}, {\"id\": 25, \"label\": \"25\\nsleep_fail\", \"color\": \"orange\", \"font\": {\"background\": \"white\"}, \"title\": \"Dependency Failure\"}, {\"id\": 26, \"label\": \"26\\nsleep_fail\", \"color\": \"Green\", \"font\": {\"background\": \"white\"}, \"title\": \"Finished\"}, {\"id\": 27, \"label\": \"27\\nsleep_fail\", \"color\": \"orange\", \"font\": {\"background\": \"white\"}, \"title\": \"Dependency Failure\"}, {\"id\": 28, \"label\": \"28\\nsleep_fail\", \"color\": \"orange\", \"font\": {\"background\": \"white\"}, \"title\": \"Dependency Failure\"}, {\"id\": 29, \"label\": \"29\\nsleep_fail\", \"color\": \"Green\", \"font\": {\"background\": \"white\"}, \"title\": \"Finished\"}, {\"id\": 30, \"label\": \"30\\nsleep_fail\", \"color\": \"Green\", \"font\": {\"background\": \"white\"}, \"title\": \"Finished\"}, {\"id\": 31, \"label\": \"31\\nsleep_fail\", \"color\": \"orange\", \"font\": {\"background\": \"white\"}, \"title\": \"Dependency Failure\"}];\n",
       "                      window.edgesList=[{\"from\": 1, \"to\": 16, \"arrows\": \"to\"}, {\"from\": 2, \"to\": 17, \"arrows\": \"to\"}, {\"from\": 3, \"to\": 18, \"arrows\": \"to\"}, {\"from\": 4, \"to\": 19, \"arrows\": \"to\"}, {\"from\": 5, \"to\": 20, \"arrows\": \"to\"}, {\"from\": 6, \"to\": 21, \"arrows\": \"to\"}, {\"from\": 7, \"to\": 22, \"arrows\": \"to\"}, {\"from\": 8, \"to\": 23, \"arrows\": \"to\"}, {\"from\": 9, \"to\": 24, \"arrows\": \"to\"}, {\"from\": 10, \"to\": 25, \"arrows\": \"to\"}, {\"from\": 11, \"to\": 26, \"arrows\": \"to\"}, {\"from\": 12, \"to\": 27, \"arrows\": \"to\"}, {\"from\": 13, \"to\": 28, \"arrows\": \"to\"}, {\"from\": 14, \"to\": 29, \"arrows\": \"to\"}, {\"from\": 15, \"to\": 30, \"arrows\": \"to\"}, {\"from\": 16, \"to\": 31, \"arrows\": \"to\"}, {\"from\": 17, \"to\": 31, \"arrows\": \"to\"}, {\"from\": 18, \"to\": 31, \"arrows\": \"to\"}, {\"from\": 19, \"to\": 31, \"arrows\": \"to\"}, {\"from\": 20, \"to\": 31, \"arrows\": \"to\"}, {\"from\": 21, \"to\": 31, \"arrows\": \"to\"}, {\"from\": 22, \"to\": 31, \"arrows\": \"to\"}, {\"from\": 23, \"to\": 31, \"arrows\": \"to\"}, {\"from\": 24, \"to\": 31, \"arrows\": \"to\"}, {\"from\": 25, \"to\": 31, \"arrows\": \"to\"}, {\"from\": 26, \"to\": 31, \"arrows\": \"to\"}, {\"from\": 27, \"to\": 31, \"arrows\": \"to\"}, {\"from\": 28, \"to\": 31, \"arrows\": \"to\"}, {\"from\": 29, \"to\": 31, \"arrows\": \"to\"}, {\"from\": 30, \"to\": 31, \"arrows\": \"to\"}];\n",
       "                   "
      ],
      "text/plain": [
       "<IPython.core.display.Javascript object>"
      ]
     },
     "metadata": {},
     "output_type": "display_data"
    },
    {
     "data": {
      "application/javascript": [
       "require.config({paths: {vis: 'https://cdnjs.cloudflare.com/ajax/libs/vis/4.21.0/vis.min'}});\n",
       "require(['vis'], function (vis){\n",
       "    if (document.getElementById(\"mynetwork\") == null) {\n",
       "        element.append('<div id=\"mynetwork\" style=\"width:950px;height:750px;border:1px solid lightgray;\"></div>');\n",
       "    }\n",
       "    var nodes = new vis.DataSet(window.nodesList);\n",
       "    var edges = new vis.DataSet(window.edgesList);\n",
       "    var container = document.getElementById('mynetwork');\n",
       "    var data = {\n",
       "         nodes: nodes,\n",
       "         edges: edges\n",
       "     };\n",
       "     var options = {interaction:{hover:true}, \n",
       "                   layout: {\n",
       "                    hierarchical: {\n",
       "                        direction: 'UD'\n",
       "                    }}\n",
       "                   };\n",
       "     var network = new vis.Network(container, data, options);\n",
       "     network.on(\"hoverNode\", function (params) {\n",
       "             \n",
       "     });\n",
       "     network.on(\"hoverEdge\", function (params) {\n",
       "            \n",
       "     });\n",
       "     network.on(\"blurNode\", function (params) {\n",
       "             \n",
       "     });\n",
       "     network.on(\"blurEdge\", function (params) {\n",
       "             \n",
       "     });\n",
       "});"
      ],
      "text/plain": [
       "<IPython.core.display.Javascript object>"
      ]
     },
     "metadata": {},
     "output_type": "display_data"
    },
    {
     "data": {
      "application/javascript": [
       "window.nodesList=[{\"id\": 0, \"label\": \"0\\ntest_deps\", \"color\": \"Red\", \"font\": {\"background\": \"white\"}, \"title\": \"Failed\"}, {\"id\": 1, \"label\": \"1\\nsleep_fail\", \"color\": \"Green\", \"font\": {\"background\": \"white\"}, \"title\": \"Finished\"}, {\"id\": 2, \"label\": \"2\\nsleep_fail\", \"color\": \"Red\", \"font\": {\"background\": \"white\"}, \"title\": \"Failed\"}, {\"id\": 3, \"label\": \"3\\nsleep_fail\", \"color\": \"Green\", \"font\": {\"background\": \"white\"}, \"title\": \"Finished\"}, {\"id\": 4, \"label\": \"4\\nsleep_fail\", \"color\": \"Green\", \"font\": {\"background\": \"white\"}, \"title\": \"Finished\"}, {\"id\": 5, \"label\": \"5\\nsleep_fail\", \"color\": \"Green\", \"font\": {\"background\": \"white\"}, \"title\": \"Finished\"}, {\"id\": 6, \"label\": \"6\\nsleep_fail\", \"color\": \"Green\", \"font\": {\"background\": \"white\"}, \"title\": \"Finished\"}, {\"id\": 7, \"label\": \"7\\nsleep_fail\", \"color\": \"Green\", \"font\": {\"background\": \"white\"}, \"title\": \"Finished\"}, {\"id\": 8, \"label\": \"8\\nsleep_fail\", \"color\": \"Red\", \"font\": {\"background\": \"white\"}, \"title\": \"Failed\"}, {\"id\": 9, \"label\": \"9\\nsleep_fail\", \"color\": \"Red\", \"font\": {\"background\": \"white\"}, \"title\": \"Failed\"}, {\"id\": 10, \"label\": \"10\\nsleep_fail\", \"color\": \"Red\", \"font\": {\"background\": \"white\"}, \"title\": \"Failed\"}, {\"id\": 11, \"label\": \"11\\nsleep_fail\", \"color\": \"Green\", \"font\": {\"background\": \"white\"}, \"title\": \"Finished\"}, {\"id\": 12, \"label\": \"12\\nsleep_fail\", \"color\": \"Red\", \"font\": {\"background\": \"white\"}, \"title\": \"Failed\"}, {\"id\": 13, \"label\": \"13\\nsleep_fail\", \"color\": \"Red\", \"font\": {\"background\": \"white\"}, \"title\": \"Failed\"}, {\"id\": 14, \"label\": \"14\\nsleep_fail\", \"color\": \"Green\", \"font\": {\"background\": \"white\"}, \"title\": \"Finished\"}, {\"id\": 15, \"label\": \"15\\nsleep_fail\", \"color\": \"Green\", \"font\": {\"background\": \"white\"}, \"title\": \"Finished\"}, {\"id\": 16, \"label\": \"16\\nsleep_fail\", \"color\": \"Green\", \"font\": {\"background\": \"white\"}, \"title\": \"Finished\"}, {\"id\": 17, \"label\": \"17\\nsleep_fail\", \"color\": \"orange\", \"font\": {\"background\": \"white\"}, \"title\": \"Dependency Failure\"}, {\"id\": 18, \"label\": \"18\\nsleep_fail\", \"color\": \"Green\", \"font\": {\"background\": \"white\"}, \"title\": \"Finished\"}, {\"id\": 19, \"label\": \"19\\nsleep_fail\", \"color\": \"Green\", \"font\": {\"background\": \"white\"}, \"title\": \"Finished\"}, {\"id\": 20, \"label\": \"20\\nsleep_fail\", \"color\": \"Green\", \"font\": {\"background\": \"white\"}, \"title\": \"Finished\"}, {\"id\": 21, \"label\": \"21\\nsleep_fail\", \"color\": \"Green\", \"font\": {\"background\": \"white\"}, \"title\": \"Finished\"}, {\"id\": 22, \"label\": \"22\\nsleep_fail\", \"color\": \"Green\", \"font\": {\"background\": \"white\"}, \"title\": \"Finished\"}, {\"id\": 23, \"label\": \"23\\nsleep_fail\", \"color\": \"orange\", \"font\": {\"background\": \"white\"}, \"title\": \"Dependency Failure\"}, {\"id\": 24, \"label\": \"24\\nsleep_fail\", \"color\": \"Red\", \"font\": {\"background\": \"white\"}, \"title\": \"Failed\"}, {\"id\": 25, \"label\": \"25\\nsleep_fail\", \"color\": \"orange\", \"font\": {\"background\": \"white\"}, \"title\": \"Dependency Failure\"}, {\"id\": 26, \"label\": \"26\\nsleep_fail\", \"color\": \"Green\", \"font\": {\"background\": \"white\"}, \"title\": \"Finished\"}, {\"id\": 27, \"label\": \"27\\nsleep_fail\", \"color\": \"orange\", \"font\": {\"background\": \"white\"}, \"title\": \"Dependency Failure\"}, {\"id\": 28, \"label\": \"28\\nsleep_fail\", \"color\": \"orange\", \"font\": {\"background\": \"white\"}, \"title\": \"Dependency Failure\"}, {\"id\": 29, \"label\": \"29\\nsleep_fail\", \"color\": \"Green\", \"font\": {\"background\": \"white\"}, \"title\": \"Finished\"}, {\"id\": 30, \"label\": \"30\\nsleep_fail\", \"color\": \"Green\", \"font\": {\"background\": \"white\"}, \"title\": \"Finished\"}, {\"id\": 31, \"label\": \"31\\nsleep_fail\", \"color\": \"orange\", \"font\": {\"background\": \"white\"}, \"title\": \"Dependency Failure\"}];\n",
       "                      window.edgesList=[{\"from\": 1, \"to\": 16, \"arrows\": \"to\"}, {\"from\": 2, \"to\": 17, \"arrows\": \"to\"}, {\"from\": 3, \"to\": 18, \"arrows\": \"to\"}, {\"from\": 4, \"to\": 19, \"arrows\": \"to\"}, {\"from\": 5, \"to\": 20, \"arrows\": \"to\"}, {\"from\": 6, \"to\": 21, \"arrows\": \"to\"}, {\"from\": 7, \"to\": 22, \"arrows\": \"to\"}, {\"from\": 8, \"to\": 23, \"arrows\": \"to\"}, {\"from\": 9, \"to\": 24, \"arrows\": \"to\"}, {\"from\": 10, \"to\": 25, \"arrows\": \"to\"}, {\"from\": 11, \"to\": 26, \"arrows\": \"to\"}, {\"from\": 12, \"to\": 27, \"arrows\": \"to\"}, {\"from\": 13, \"to\": 28, \"arrows\": \"to\"}, {\"from\": 14, \"to\": 29, \"arrows\": \"to\"}, {\"from\": 15, \"to\": 30, \"arrows\": \"to\"}, {\"from\": 16, \"to\": 31, \"arrows\": \"to\"}, {\"from\": 17, \"to\": 31, \"arrows\": \"to\"}, {\"from\": 18, \"to\": 31, \"arrows\": \"to\"}, {\"from\": 19, \"to\": 31, \"arrows\": \"to\"}, {\"from\": 20, \"to\": 31, \"arrows\": \"to\"}, {\"from\": 21, \"to\": 31, \"arrows\": \"to\"}, {\"from\": 22, \"to\": 31, \"arrows\": \"to\"}, {\"from\": 23, \"to\": 31, \"arrows\": \"to\"}, {\"from\": 24, \"to\": 31, \"arrows\": \"to\"}, {\"from\": 25, \"to\": 31, \"arrows\": \"to\"}, {\"from\": 26, \"to\": 31, \"arrows\": \"to\"}, {\"from\": 27, \"to\": 31, \"arrows\": \"to\"}, {\"from\": 28, \"to\": 31, \"arrows\": \"to\"}, {\"from\": 29, \"to\": 31, \"arrows\": \"to\"}, {\"from\": 30, \"to\": 31, \"arrows\": \"to\"}];\n",
       "                   "
      ],
      "text/plain": [
       "<IPython.core.display.Javascript object>"
      ]
     },
     "metadata": {},
     "output_type": "display_data"
    },
    {
     "data": {
      "application/javascript": [
       "require.config({paths: {vis: 'https://cdnjs.cloudflare.com/ajax/libs/vis/4.21.0/vis.min'}});\n",
       "require(['vis'], function (vis){\n",
       "    if (document.getElementById(\"mynetwork\") == null) {\n",
       "        element.append('<div id=\"mynetwork\" style=\"width:950px;height:750px;border:1px solid lightgray;\"></div>');\n",
       "    }\n",
       "    var nodes = new vis.DataSet(window.nodesList);\n",
       "    var edges = new vis.DataSet(window.edgesList);\n",
       "    var container = document.getElementById('mynetwork');\n",
       "    var data = {\n",
       "         nodes: nodes,\n",
       "         edges: edges\n",
       "     };\n",
       "     var options = {interaction:{hover:true}, \n",
       "                   layout: {\n",
       "                    hierarchical: {\n",
       "                        direction: 'UD'\n",
       "                    }}\n",
       "                   };\n",
       "     var network = new vis.Network(container, data, options);\n",
       "     network.on(\"hoverNode\", function (params) {\n",
       "             \n",
       "     });\n",
       "     network.on(\"hoverEdge\", function (params) {\n",
       "            \n",
       "     });\n",
       "     network.on(\"blurNode\", function (params) {\n",
       "             \n",
       "     });\n",
       "     network.on(\"blurEdge\", function (params) {\n",
       "             \n",
       "     });\n",
       "});"
      ],
      "text/plain": [
       "<IPython.core.display.Javascript object>"
      ]
     },
     "metadata": {},
     "output_type": "display_data"
    },
    {
     "data": {
      "application/javascript": [
       "window.nodesList=[{\"id\": 0, \"label\": \"0\\ntest_deps\", \"color\": \"Red\", \"font\": {\"background\": \"white\"}, \"title\": \"Failed\"}, {\"id\": 1, \"label\": \"1\\nsleep_fail\", \"color\": \"Green\", \"font\": {\"background\": \"white\"}, \"title\": \"Finished\"}, {\"id\": 2, \"label\": \"2\\nsleep_fail\", \"color\": \"Red\", \"font\": {\"background\": \"white\"}, \"title\": \"Failed\"}, {\"id\": 3, \"label\": \"3\\nsleep_fail\", \"color\": \"Green\", \"font\": {\"background\": \"white\"}, \"title\": \"Finished\"}, {\"id\": 4, \"label\": \"4\\nsleep_fail\", \"color\": \"Green\", \"font\": {\"background\": \"white\"}, \"title\": \"Finished\"}, {\"id\": 5, \"label\": \"5\\nsleep_fail\", \"color\": \"Green\", \"font\": {\"background\": \"white\"}, \"title\": \"Finished\"}, {\"id\": 6, \"label\": \"6\\nsleep_fail\", \"color\": \"Green\", \"font\": {\"background\": \"white\"}, \"title\": \"Finished\"}, {\"id\": 7, \"label\": \"7\\nsleep_fail\", \"color\": \"Green\", \"font\": {\"background\": \"white\"}, \"title\": \"Finished\"}, {\"id\": 8, \"label\": \"8\\nsleep_fail\", \"color\": \"Red\", \"font\": {\"background\": \"white\"}, \"title\": \"Failed\"}, {\"id\": 9, \"label\": \"9\\nsleep_fail\", \"color\": \"Red\", \"font\": {\"background\": \"white\"}, \"title\": \"Failed\"}, {\"id\": 10, \"label\": \"10\\nsleep_fail\", \"color\": \"Red\", \"font\": {\"background\": \"white\"}, \"title\": \"Failed\"}, {\"id\": 11, \"label\": \"11\\nsleep_fail\", \"color\": \"Green\", \"font\": {\"background\": \"white\"}, \"title\": \"Finished\"}, {\"id\": 12, \"label\": \"12\\nsleep_fail\", \"color\": \"Red\", \"font\": {\"background\": \"white\"}, \"title\": \"Failed\"}, {\"id\": 13, \"label\": \"13\\nsleep_fail\", \"color\": \"Red\", \"font\": {\"background\": \"white\"}, \"title\": \"Failed\"}, {\"id\": 14, \"label\": \"14\\nsleep_fail\", \"color\": \"Green\", \"font\": {\"background\": \"white\"}, \"title\": \"Finished\"}, {\"id\": 15, \"label\": \"15\\nsleep_fail\", \"color\": \"Green\", \"font\": {\"background\": \"white\"}, \"title\": \"Finished\"}, {\"id\": 16, \"label\": \"16\\nsleep_fail\", \"color\": \"Green\", \"font\": {\"background\": \"white\"}, \"title\": \"Finished\"}, {\"id\": 17, \"label\": \"17\\nsleep_fail\", \"color\": \"orange\", \"font\": {\"background\": \"white\"}, \"title\": \"Dependency Failure\"}, {\"id\": 18, \"label\": \"18\\nsleep_fail\", \"color\": \"Green\", \"font\": {\"background\": \"white\"}, \"title\": \"Finished\"}, {\"id\": 19, \"label\": \"19\\nsleep_fail\", \"color\": \"Green\", \"font\": {\"background\": \"white\"}, \"title\": \"Finished\"}, {\"id\": 20, \"label\": \"20\\nsleep_fail\", \"color\": \"Green\", \"font\": {\"background\": \"white\"}, \"title\": \"Finished\"}, {\"id\": 21, \"label\": \"21\\nsleep_fail\", \"color\": \"Green\", \"font\": {\"background\": \"white\"}, \"title\": \"Finished\"}, {\"id\": 22, \"label\": \"22\\nsleep_fail\", \"color\": \"Green\", \"font\": {\"background\": \"white\"}, \"title\": \"Finished\"}, {\"id\": 23, \"label\": \"23\\nsleep_fail\", \"color\": \"orange\", \"font\": {\"background\": \"white\"}, \"title\": \"Dependency Failure\"}, {\"id\": 24, \"label\": \"24\\nsleep_fail\", \"color\": \"Red\", \"font\": {\"background\": \"white\"}, \"title\": \"Failed\"}, {\"id\": 25, \"label\": \"25\\nsleep_fail\", \"color\": \"orange\", \"font\": {\"background\": \"white\"}, \"title\": \"Dependency Failure\"}, {\"id\": 26, \"label\": \"26\\nsleep_fail\", \"color\": \"Green\", \"font\": {\"background\": \"white\"}, \"title\": \"Finished\"}, {\"id\": 27, \"label\": \"27\\nsleep_fail\", \"color\": \"orange\", \"font\": {\"background\": \"white\"}, \"title\": \"Dependency Failure\"}, {\"id\": 28, \"label\": \"28\\nsleep_fail\", \"color\": \"orange\", \"font\": {\"background\": \"white\"}, \"title\": \"Dependency Failure\"}, {\"id\": 29, \"label\": \"29\\nsleep_fail\", \"color\": \"Green\", \"font\": {\"background\": \"white\"}, \"title\": \"Finished\"}, {\"id\": 30, \"label\": \"30\\nsleep_fail\", \"color\": \"Green\", \"font\": {\"background\": \"white\"}, \"title\": \"Finished\"}, {\"id\": 31, \"label\": \"31\\nsleep_fail\", \"color\": \"orange\", \"font\": {\"background\": \"white\"}, \"title\": \"Dependency Failure\"}];\n",
       "                      window.edgesList=[{\"from\": 1, \"to\": 16, \"arrows\": \"to\"}, {\"from\": 2, \"to\": 17, \"arrows\": \"to\"}, {\"from\": 3, \"to\": 18, \"arrows\": \"to\"}, {\"from\": 4, \"to\": 19, \"arrows\": \"to\"}, {\"from\": 5, \"to\": 20, \"arrows\": \"to\"}, {\"from\": 6, \"to\": 21, \"arrows\": \"to\"}, {\"from\": 7, \"to\": 22, \"arrows\": \"to\"}, {\"from\": 8, \"to\": 23, \"arrows\": \"to\"}, {\"from\": 9, \"to\": 24, \"arrows\": \"to\"}, {\"from\": 10, \"to\": 25, \"arrows\": \"to\"}, {\"from\": 11, \"to\": 26, \"arrows\": \"to\"}, {\"from\": 12, \"to\": 27, \"arrows\": \"to\"}, {\"from\": 13, \"to\": 28, \"arrows\": \"to\"}, {\"from\": 14, \"to\": 29, \"arrows\": \"to\"}, {\"from\": 15, \"to\": 30, \"arrows\": \"to\"}, {\"from\": 16, \"to\": 31, \"arrows\": \"to\"}, {\"from\": 17, \"to\": 31, \"arrows\": \"to\"}, {\"from\": 18, \"to\": 31, \"arrows\": \"to\"}, {\"from\": 19, \"to\": 31, \"arrows\": \"to\"}, {\"from\": 20, \"to\": 31, \"arrows\": \"to\"}, {\"from\": 21, \"to\": 31, \"arrows\": \"to\"}, {\"from\": 22, \"to\": 31, \"arrows\": \"to\"}, {\"from\": 23, \"to\": 31, \"arrows\": \"to\"}, {\"from\": 24, \"to\": 31, \"arrows\": \"to\"}, {\"from\": 25, \"to\": 31, \"arrows\": \"to\"}, {\"from\": 26, \"to\": 31, \"arrows\": \"to\"}, {\"from\": 27, \"to\": 31, \"arrows\": \"to\"}, {\"from\": 28, \"to\": 31, \"arrows\": \"to\"}, {\"from\": 29, \"to\": 31, \"arrows\": \"to\"}, {\"from\": 30, \"to\": 31, \"arrows\": \"to\"}];\n",
       "                   "
      ],
      "text/plain": [
       "<IPython.core.display.Javascript object>"
      ]
     },
     "metadata": {},
     "output_type": "display_data"
    },
    {
     "data": {
      "application/javascript": [
       "require.config({paths: {vis: 'https://cdnjs.cloudflare.com/ajax/libs/vis/4.21.0/vis.min'}});\n",
       "require(['vis'], function (vis){\n",
       "    if (document.getElementById(\"mynetwork\") == null) {\n",
       "        element.append('<div id=\"mynetwork\" style=\"width:950px;height:750px;border:1px solid lightgray;\"></div>');\n",
       "    }\n",
       "    var nodes = new vis.DataSet(window.nodesList);\n",
       "    var edges = new vis.DataSet(window.edgesList);\n",
       "    var container = document.getElementById('mynetwork');\n",
       "    var data = {\n",
       "         nodes: nodes,\n",
       "         edges: edges\n",
       "     };\n",
       "     var options = {interaction:{hover:true}, \n",
       "                   layout: {\n",
       "                    hierarchical: {\n",
       "                        direction: 'UD'\n",
       "                    }}\n",
       "                   };\n",
       "     var network = new vis.Network(container, data, options);\n",
       "     network.on(\"hoverNode\", function (params) {\n",
       "             \n",
       "     });\n",
       "     network.on(\"hoverEdge\", function (params) {\n",
       "            \n",
       "     });\n",
       "     network.on(\"blurNode\", function (params) {\n",
       "             \n",
       "     });\n",
       "     network.on(\"blurEdge\", function (params) {\n",
       "             \n",
       "     });\n",
       "});"
      ],
      "text/plain": [
       "<IPython.core.display.Javascript object>"
      ]
     },
     "metadata": {},
     "output_type": "display_data"
    },
    {
     "data": {
      "application/javascript": [
       "window.nodesList=[{\"id\": 0, \"label\": \"0\\ntest_deps\", \"color\": \"Red\", \"font\": {\"background\": \"white\"}, \"title\": \"Failed\"}, {\"id\": 1, \"label\": \"1\\nsleep_fail\", \"color\": \"Green\", \"font\": {\"background\": \"white\"}, \"title\": \"Finished\"}, {\"id\": 2, \"label\": \"2\\nsleep_fail\", \"color\": \"Red\", \"font\": {\"background\": \"white\"}, \"title\": \"Failed\"}, {\"id\": 3, \"label\": \"3\\nsleep_fail\", \"color\": \"Green\", \"font\": {\"background\": \"white\"}, \"title\": \"Finished\"}, {\"id\": 4, \"label\": \"4\\nsleep_fail\", \"color\": \"Green\", \"font\": {\"background\": \"white\"}, \"title\": \"Finished\"}, {\"id\": 5, \"label\": \"5\\nsleep_fail\", \"color\": \"Green\", \"font\": {\"background\": \"white\"}, \"title\": \"Finished\"}, {\"id\": 6, \"label\": \"6\\nsleep_fail\", \"color\": \"Green\", \"font\": {\"background\": \"white\"}, \"title\": \"Finished\"}, {\"id\": 7, \"label\": \"7\\nsleep_fail\", \"color\": \"Green\", \"font\": {\"background\": \"white\"}, \"title\": \"Finished\"}, {\"id\": 8, \"label\": \"8\\nsleep_fail\", \"color\": \"Red\", \"font\": {\"background\": \"white\"}, \"title\": \"Failed\"}, {\"id\": 9, \"label\": \"9\\nsleep_fail\", \"color\": \"Red\", \"font\": {\"background\": \"white\"}, \"title\": \"Failed\"}, {\"id\": 10, \"label\": \"10\\nsleep_fail\", \"color\": \"Red\", \"font\": {\"background\": \"white\"}, \"title\": \"Failed\"}, {\"id\": 11, \"label\": \"11\\nsleep_fail\", \"color\": \"Green\", \"font\": {\"background\": \"white\"}, \"title\": \"Finished\"}, {\"id\": 12, \"label\": \"12\\nsleep_fail\", \"color\": \"Red\", \"font\": {\"background\": \"white\"}, \"title\": \"Failed\"}, {\"id\": 13, \"label\": \"13\\nsleep_fail\", \"color\": \"Red\", \"font\": {\"background\": \"white\"}, \"title\": \"Failed\"}, {\"id\": 14, \"label\": \"14\\nsleep_fail\", \"color\": \"Green\", \"font\": {\"background\": \"white\"}, \"title\": \"Finished\"}, {\"id\": 15, \"label\": \"15\\nsleep_fail\", \"color\": \"Green\", \"font\": {\"background\": \"white\"}, \"title\": \"Finished\"}, {\"id\": 16, \"label\": \"16\\nsleep_fail\", \"color\": \"Green\", \"font\": {\"background\": \"white\"}, \"title\": \"Finished\"}, {\"id\": 17, \"label\": \"17\\nsleep_fail\", \"color\": \"orange\", \"font\": {\"background\": \"white\"}, \"title\": \"Dependency Failure\"}, {\"id\": 18, \"label\": \"18\\nsleep_fail\", \"color\": \"Green\", \"font\": {\"background\": \"white\"}, \"title\": \"Finished\"}, {\"id\": 19, \"label\": \"19\\nsleep_fail\", \"color\": \"Green\", \"font\": {\"background\": \"white\"}, \"title\": \"Finished\"}, {\"id\": 20, \"label\": \"20\\nsleep_fail\", \"color\": \"Green\", \"font\": {\"background\": \"white\"}, \"title\": \"Finished\"}, {\"id\": 21, \"label\": \"21\\nsleep_fail\", \"color\": \"Green\", \"font\": {\"background\": \"white\"}, \"title\": \"Finished\"}, {\"id\": 22, \"label\": \"22\\nsleep_fail\", \"color\": \"Green\", \"font\": {\"background\": \"white\"}, \"title\": \"Finished\"}, {\"id\": 23, \"label\": \"23\\nsleep_fail\", \"color\": \"orange\", \"font\": {\"background\": \"white\"}, \"title\": \"Dependency Failure\"}, {\"id\": 24, \"label\": \"24\\nsleep_fail\", \"color\": \"Red\", \"font\": {\"background\": \"white\"}, \"title\": \"Failed\"}, {\"id\": 25, \"label\": \"25\\nsleep_fail\", \"color\": \"orange\", \"font\": {\"background\": \"white\"}, \"title\": \"Dependency Failure\"}, {\"id\": 26, \"label\": \"26\\nsleep_fail\", \"color\": \"Green\", \"font\": {\"background\": \"white\"}, \"title\": \"Finished\"}, {\"id\": 27, \"label\": \"27\\nsleep_fail\", \"color\": \"orange\", \"font\": {\"background\": \"white\"}, \"title\": \"Dependency Failure\"}, {\"id\": 28, \"label\": \"28\\nsleep_fail\", \"color\": \"orange\", \"font\": {\"background\": \"white\"}, \"title\": \"Dependency Failure\"}, {\"id\": 29, \"label\": \"29\\nsleep_fail\", \"color\": \"Green\", \"font\": {\"background\": \"white\"}, \"title\": \"Finished\"}, {\"id\": 30, \"label\": \"30\\nsleep_fail\", \"color\": \"Green\", \"font\": {\"background\": \"white\"}, \"title\": \"Finished\"}, {\"id\": 31, \"label\": \"31\\nsleep_fail\", \"color\": \"orange\", \"font\": {\"background\": \"white\"}, \"title\": \"Dependency Failure\"}];\n",
       "                      window.edgesList=[{\"from\": 1, \"to\": 16, \"arrows\": \"to\"}, {\"from\": 2, \"to\": 17, \"arrows\": \"to\"}, {\"from\": 3, \"to\": 18, \"arrows\": \"to\"}, {\"from\": 4, \"to\": 19, \"arrows\": \"to\"}, {\"from\": 5, \"to\": 20, \"arrows\": \"to\"}, {\"from\": 6, \"to\": 21, \"arrows\": \"to\"}, {\"from\": 7, \"to\": 22, \"arrows\": \"to\"}, {\"from\": 8, \"to\": 23, \"arrows\": \"to\"}, {\"from\": 9, \"to\": 24, \"arrows\": \"to\"}, {\"from\": 10, \"to\": 25, \"arrows\": \"to\"}, {\"from\": 11, \"to\": 26, \"arrows\": \"to\"}, {\"from\": 12, \"to\": 27, \"arrows\": \"to\"}, {\"from\": 13, \"to\": 28, \"arrows\": \"to\"}, {\"from\": 14, \"to\": 29, \"arrows\": \"to\"}, {\"from\": 15, \"to\": 30, \"arrows\": \"to\"}, {\"from\": 16, \"to\": 31, \"arrows\": \"to\"}, {\"from\": 17, \"to\": 31, \"arrows\": \"to\"}, {\"from\": 18, \"to\": 31, \"arrows\": \"to\"}, {\"from\": 19, \"to\": 31, \"arrows\": \"to\"}, {\"from\": 20, \"to\": 31, \"arrows\": \"to\"}, {\"from\": 21, \"to\": 31, \"arrows\": \"to\"}, {\"from\": 22, \"to\": 31, \"arrows\": \"to\"}, {\"from\": 23, \"to\": 31, \"arrows\": \"to\"}, {\"from\": 24, \"to\": 31, \"arrows\": \"to\"}, {\"from\": 25, \"to\": 31, \"arrows\": \"to\"}, {\"from\": 26, \"to\": 31, \"arrows\": \"to\"}, {\"from\": 27, \"to\": 31, \"arrows\": \"to\"}, {\"from\": 28, \"to\": 31, \"arrows\": \"to\"}, {\"from\": 29, \"to\": 31, \"arrows\": \"to\"}, {\"from\": 30, \"to\": 31, \"arrows\": \"to\"}];\n",
       "                   "
      ],
      "text/plain": [
       "<IPython.core.display.Javascript object>"
      ]
     },
     "metadata": {},
     "output_type": "display_data"
    },
    {
     "data": {
      "application/javascript": [
       "require.config({paths: {vis: 'https://cdnjs.cloudflare.com/ajax/libs/vis/4.21.0/vis.min'}});\n",
       "require(['vis'], function (vis){\n",
       "    if (document.getElementById(\"mynetwork\") == null) {\n",
       "        element.append('<div id=\"mynetwork\" style=\"width:950px;height:750px;border:1px solid lightgray;\"></div>');\n",
       "    }\n",
       "    var nodes = new vis.DataSet(window.nodesList);\n",
       "    var edges = new vis.DataSet(window.edgesList);\n",
       "    var container = document.getElementById('mynetwork');\n",
       "    var data = {\n",
       "         nodes: nodes,\n",
       "         edges: edges\n",
       "     };\n",
       "     var options = {interaction:{hover:true}, \n",
       "                   layout: {\n",
       "                    hierarchical: {\n",
       "                        direction: 'UD'\n",
       "                    }}\n",
       "                   };\n",
       "     var network = new vis.Network(container, data, options);\n",
       "     network.on(\"hoverNode\", function (params) {\n",
       "             \n",
       "     });\n",
       "     network.on(\"hoverEdge\", function (params) {\n",
       "            \n",
       "     });\n",
       "     network.on(\"blurNode\", function (params) {\n",
       "             \n",
       "     });\n",
       "     network.on(\"blurEdge\", function (params) {\n",
       "             \n",
       "     });\n",
       "});"
      ],
      "text/plain": [
       "<IPython.core.display.Javascript object>"
      ]
     },
     "metadata": {},
     "output_type": "display_data"
    },
    {
     "data": {
      "application/javascript": [
       "window.nodesList=[{\"id\": 0, \"label\": \"0\\ntest_deps\", \"color\": \"Red\", \"font\": {\"background\": \"white\"}, \"title\": \"Failed\"}, {\"id\": 1, \"label\": \"1\\nsleep_fail\", \"color\": \"Green\", \"font\": {\"background\": \"white\"}, \"title\": \"Finished\"}, {\"id\": 2, \"label\": \"2\\nsleep_fail\", \"color\": \"Red\", \"font\": {\"background\": \"white\"}, \"title\": \"Failed\"}, {\"id\": 3, \"label\": \"3\\nsleep_fail\", \"color\": \"Green\", \"font\": {\"background\": \"white\"}, \"title\": \"Finished\"}, {\"id\": 4, \"label\": \"4\\nsleep_fail\", \"color\": \"Green\", \"font\": {\"background\": \"white\"}, \"title\": \"Finished\"}, {\"id\": 5, \"label\": \"5\\nsleep_fail\", \"color\": \"Green\", \"font\": {\"background\": \"white\"}, \"title\": \"Finished\"}, {\"id\": 6, \"label\": \"6\\nsleep_fail\", \"color\": \"Green\", \"font\": {\"background\": \"white\"}, \"title\": \"Finished\"}, {\"id\": 7, \"label\": \"7\\nsleep_fail\", \"color\": \"Green\", \"font\": {\"background\": \"white\"}, \"title\": \"Finished\"}, {\"id\": 8, \"label\": \"8\\nsleep_fail\", \"color\": \"Red\", \"font\": {\"background\": \"white\"}, \"title\": \"Failed\"}, {\"id\": 9, \"label\": \"9\\nsleep_fail\", \"color\": \"Red\", \"font\": {\"background\": \"white\"}, \"title\": \"Failed\"}, {\"id\": 10, \"label\": \"10\\nsleep_fail\", \"color\": \"Red\", \"font\": {\"background\": \"white\"}, \"title\": \"Failed\"}, {\"id\": 11, \"label\": \"11\\nsleep_fail\", \"color\": \"Green\", \"font\": {\"background\": \"white\"}, \"title\": \"Finished\"}, {\"id\": 12, \"label\": \"12\\nsleep_fail\", \"color\": \"Red\", \"font\": {\"background\": \"white\"}, \"title\": \"Failed\"}, {\"id\": 13, \"label\": \"13\\nsleep_fail\", \"color\": \"Red\", \"font\": {\"background\": \"white\"}, \"title\": \"Failed\"}, {\"id\": 14, \"label\": \"14\\nsleep_fail\", \"color\": \"Green\", \"font\": {\"background\": \"white\"}, \"title\": \"Finished\"}, {\"id\": 15, \"label\": \"15\\nsleep_fail\", \"color\": \"Green\", \"font\": {\"background\": \"white\"}, \"title\": \"Finished\"}, {\"id\": 16, \"label\": \"16\\nsleep_fail\", \"color\": \"Green\", \"font\": {\"background\": \"white\"}, \"title\": \"Finished\"}, {\"id\": 17, \"label\": \"17\\nsleep_fail\", \"color\": \"orange\", \"font\": {\"background\": \"white\"}, \"title\": \"Dependency Failure\"}, {\"id\": 18, \"label\": \"18\\nsleep_fail\", \"color\": \"Green\", \"font\": {\"background\": \"white\"}, \"title\": \"Finished\"}, {\"id\": 19, \"label\": \"19\\nsleep_fail\", \"color\": \"Green\", \"font\": {\"background\": \"white\"}, \"title\": \"Finished\"}, {\"id\": 20, \"label\": \"20\\nsleep_fail\", \"color\": \"Green\", \"font\": {\"background\": \"white\"}, \"title\": \"Finished\"}, {\"id\": 21, \"label\": \"21\\nsleep_fail\", \"color\": \"Green\", \"font\": {\"background\": \"white\"}, \"title\": \"Finished\"}, {\"id\": 22, \"label\": \"22\\nsleep_fail\", \"color\": \"Green\", \"font\": {\"background\": \"white\"}, \"title\": \"Finished\"}, {\"id\": 23, \"label\": \"23\\nsleep_fail\", \"color\": \"orange\", \"font\": {\"background\": \"white\"}, \"title\": \"Dependency Failure\"}, {\"id\": 24, \"label\": \"24\\nsleep_fail\", \"color\": \"Red\", \"font\": {\"background\": \"white\"}, \"title\": \"Failed\"}, {\"id\": 25, \"label\": \"25\\nsleep_fail\", \"color\": \"orange\", \"font\": {\"background\": \"white\"}, \"title\": \"Dependency Failure\"}, {\"id\": 26, \"label\": \"26\\nsleep_fail\", \"color\": \"Green\", \"font\": {\"background\": \"white\"}, \"title\": \"Finished\"}, {\"id\": 27, \"label\": \"27\\nsleep_fail\", \"color\": \"orange\", \"font\": {\"background\": \"white\"}, \"title\": \"Dependency Failure\"}, {\"id\": 28, \"label\": \"28\\nsleep_fail\", \"color\": \"orange\", \"font\": {\"background\": \"white\"}, \"title\": \"Dependency Failure\"}, {\"id\": 29, \"label\": \"29\\nsleep_fail\", \"color\": \"Green\", \"font\": {\"background\": \"white\"}, \"title\": \"Finished\"}, {\"id\": 30, \"label\": \"30\\nsleep_fail\", \"color\": \"Green\", \"font\": {\"background\": \"white\"}, \"title\": \"Finished\"}, {\"id\": 31, \"label\": \"31\\nsleep_fail\", \"color\": \"orange\", \"font\": {\"background\": \"white\"}, \"title\": \"Dependency Failure\"}];\n",
       "                      window.edgesList=[{\"from\": 1, \"to\": 16, \"arrows\": \"to\"}, {\"from\": 2, \"to\": 17, \"arrows\": \"to\"}, {\"from\": 3, \"to\": 18, \"arrows\": \"to\"}, {\"from\": 4, \"to\": 19, \"arrows\": \"to\"}, {\"from\": 5, \"to\": 20, \"arrows\": \"to\"}, {\"from\": 6, \"to\": 21, \"arrows\": \"to\"}, {\"from\": 7, \"to\": 22, \"arrows\": \"to\"}, {\"from\": 8, \"to\": 23, \"arrows\": \"to\"}, {\"from\": 9, \"to\": 24, \"arrows\": \"to\"}, {\"from\": 10, \"to\": 25, \"arrows\": \"to\"}, {\"from\": 11, \"to\": 26, \"arrows\": \"to\"}, {\"from\": 12, \"to\": 27, \"arrows\": \"to\"}, {\"from\": 13, \"to\": 28, \"arrows\": \"to\"}, {\"from\": 14, \"to\": 29, \"arrows\": \"to\"}, {\"from\": 15, \"to\": 30, \"arrows\": \"to\"}, {\"from\": 16, \"to\": 31, \"arrows\": \"to\"}, {\"from\": 17, \"to\": 31, \"arrows\": \"to\"}, {\"from\": 18, \"to\": 31, \"arrows\": \"to\"}, {\"from\": 19, \"to\": 31, \"arrows\": \"to\"}, {\"from\": 20, \"to\": 31, \"arrows\": \"to\"}, {\"from\": 21, \"to\": 31, \"arrows\": \"to\"}, {\"from\": 22, \"to\": 31, \"arrows\": \"to\"}, {\"from\": 23, \"to\": 31, \"arrows\": \"to\"}, {\"from\": 24, \"to\": 31, \"arrows\": \"to\"}, {\"from\": 25, \"to\": 31, \"arrows\": \"to\"}, {\"from\": 26, \"to\": 31, \"arrows\": \"to\"}, {\"from\": 27, \"to\": 31, \"arrows\": \"to\"}, {\"from\": 28, \"to\": 31, \"arrows\": \"to\"}, {\"from\": 29, \"to\": 31, \"arrows\": \"to\"}, {\"from\": 30, \"to\": 31, \"arrows\": \"to\"}];\n",
       "                   "
      ],
      "text/plain": [
       "<IPython.core.display.Javascript object>"
      ]
     },
     "metadata": {},
     "output_type": "display_data"
    },
    {
     "data": {
      "application/javascript": [
       "require.config({paths: {vis: 'https://cdnjs.cloudflare.com/ajax/libs/vis/4.21.0/vis.min'}});\n",
       "require(['vis'], function (vis){\n",
       "    if (document.getElementById(\"mynetwork\") == null) {\n",
       "        element.append('<div id=\"mynetwork\" style=\"width:950px;height:750px;border:1px solid lightgray;\"></div>');\n",
       "    }\n",
       "    var nodes = new vis.DataSet(window.nodesList);\n",
       "    var edges = new vis.DataSet(window.edgesList);\n",
       "    var container = document.getElementById('mynetwork');\n",
       "    var data = {\n",
       "         nodes: nodes,\n",
       "         edges: edges\n",
       "     };\n",
       "     var options = {interaction:{hover:true}, \n",
       "                   layout: {\n",
       "                    hierarchical: {\n",
       "                        direction: 'UD'\n",
       "                    }}\n",
       "                   };\n",
       "     var network = new vis.Network(container, data, options);\n",
       "     network.on(\"hoverNode\", function (params) {\n",
       "             \n",
       "     });\n",
       "     network.on(\"hoverEdge\", function (params) {\n",
       "            \n",
       "     });\n",
       "     network.on(\"blurNode\", function (params) {\n",
       "             \n",
       "     });\n",
       "     network.on(\"blurEdge\", function (params) {\n",
       "             \n",
       "     });\n",
       "});"
      ],
      "text/plain": [
       "<IPython.core.display.Javascript object>"
      ]
     },
     "metadata": {},
     "output_type": "display_data"
    },
    {
     "data": {
      "application/javascript": [
       "window.nodesList=[{\"id\": 0, \"label\": \"0\\ntest_deps\", \"color\": \"Red\", \"font\": {\"background\": \"white\"}, \"title\": \"Failed\"}, {\"id\": 1, \"label\": \"1\\nsleep_fail\", \"color\": \"Green\", \"font\": {\"background\": \"white\"}, \"title\": \"Finished\"}, {\"id\": 2, \"label\": \"2\\nsleep_fail\", \"color\": \"Red\", \"font\": {\"background\": \"white\"}, \"title\": \"Failed\"}, {\"id\": 3, \"label\": \"3\\nsleep_fail\", \"color\": \"Green\", \"font\": {\"background\": \"white\"}, \"title\": \"Finished\"}, {\"id\": 4, \"label\": \"4\\nsleep_fail\", \"color\": \"Green\", \"font\": {\"background\": \"white\"}, \"title\": \"Finished\"}, {\"id\": 5, \"label\": \"5\\nsleep_fail\", \"color\": \"Green\", \"font\": {\"background\": \"white\"}, \"title\": \"Finished\"}, {\"id\": 6, \"label\": \"6\\nsleep_fail\", \"color\": \"Green\", \"font\": {\"background\": \"white\"}, \"title\": \"Finished\"}, {\"id\": 7, \"label\": \"7\\nsleep_fail\", \"color\": \"Green\", \"font\": {\"background\": \"white\"}, \"title\": \"Finished\"}, {\"id\": 8, \"label\": \"8\\nsleep_fail\", \"color\": \"Red\", \"font\": {\"background\": \"white\"}, \"title\": \"Failed\"}, {\"id\": 9, \"label\": \"9\\nsleep_fail\", \"color\": \"Red\", \"font\": {\"background\": \"white\"}, \"title\": \"Failed\"}, {\"id\": 10, \"label\": \"10\\nsleep_fail\", \"color\": \"Red\", \"font\": {\"background\": \"white\"}, \"title\": \"Failed\"}, {\"id\": 11, \"label\": \"11\\nsleep_fail\", \"color\": \"Green\", \"font\": {\"background\": \"white\"}, \"title\": \"Finished\"}, {\"id\": 12, \"label\": \"12\\nsleep_fail\", \"color\": \"Red\", \"font\": {\"background\": \"white\"}, \"title\": \"Failed\"}, {\"id\": 13, \"label\": \"13\\nsleep_fail\", \"color\": \"Red\", \"font\": {\"background\": \"white\"}, \"title\": \"Failed\"}, {\"id\": 14, \"label\": \"14\\nsleep_fail\", \"color\": \"Green\", \"font\": {\"background\": \"white\"}, \"title\": \"Finished\"}, {\"id\": 15, \"label\": \"15\\nsleep_fail\", \"color\": \"Green\", \"font\": {\"background\": \"white\"}, \"title\": \"Finished\"}, {\"id\": 16, \"label\": \"16\\nsleep_fail\", \"color\": \"Green\", \"font\": {\"background\": \"white\"}, \"title\": \"Finished\"}, {\"id\": 17, \"label\": \"17\\nsleep_fail\", \"color\": \"orange\", \"font\": {\"background\": \"white\"}, \"title\": \"Dependency Failure\"}, {\"id\": 18, \"label\": \"18\\nsleep_fail\", \"color\": \"Green\", \"font\": {\"background\": \"white\"}, \"title\": \"Finished\"}, {\"id\": 19, \"label\": \"19\\nsleep_fail\", \"color\": \"Green\", \"font\": {\"background\": \"white\"}, \"title\": \"Finished\"}, {\"id\": 20, \"label\": \"20\\nsleep_fail\", \"color\": \"Green\", \"font\": {\"background\": \"white\"}, \"title\": \"Finished\"}, {\"id\": 21, \"label\": \"21\\nsleep_fail\", \"color\": \"Green\", \"font\": {\"background\": \"white\"}, \"title\": \"Finished\"}, {\"id\": 22, \"label\": \"22\\nsleep_fail\", \"color\": \"Green\", \"font\": {\"background\": \"white\"}, \"title\": \"Finished\"}, {\"id\": 23, \"label\": \"23\\nsleep_fail\", \"color\": \"orange\", \"font\": {\"background\": \"white\"}, \"title\": \"Dependency Failure\"}, {\"id\": 24, \"label\": \"24\\nsleep_fail\", \"color\": \"Red\", \"font\": {\"background\": \"white\"}, \"title\": \"Failed\"}, {\"id\": 25, \"label\": \"25\\nsleep_fail\", \"color\": \"orange\", \"font\": {\"background\": \"white\"}, \"title\": \"Dependency Failure\"}, {\"id\": 26, \"label\": \"26\\nsleep_fail\", \"color\": \"Green\", \"font\": {\"background\": \"white\"}, \"title\": \"Finished\"}, {\"id\": 27, \"label\": \"27\\nsleep_fail\", \"color\": \"orange\", \"font\": {\"background\": \"white\"}, \"title\": \"Dependency Failure\"}, {\"id\": 28, \"label\": \"28\\nsleep_fail\", \"color\": \"orange\", \"font\": {\"background\": \"white\"}, \"title\": \"Dependency Failure\"}, {\"id\": 29, \"label\": \"29\\nsleep_fail\", \"color\": \"Green\", \"font\": {\"background\": \"white\"}, \"title\": \"Finished\"}, {\"id\": 30, \"label\": \"30\\nsleep_fail\", \"color\": \"Green\", \"font\": {\"background\": \"white\"}, \"title\": \"Finished\"}, {\"id\": 31, \"label\": \"31\\nsleep_fail\", \"color\": \"orange\", \"font\": {\"background\": \"white\"}, \"title\": \"Dependency Failure\"}];\n",
       "                      window.edgesList=[{\"from\": 1, \"to\": 16, \"arrows\": \"to\"}, {\"from\": 2, \"to\": 17, \"arrows\": \"to\"}, {\"from\": 3, \"to\": 18, \"arrows\": \"to\"}, {\"from\": 4, \"to\": 19, \"arrows\": \"to\"}, {\"from\": 5, \"to\": 20, \"arrows\": \"to\"}, {\"from\": 6, \"to\": 21, \"arrows\": \"to\"}, {\"from\": 7, \"to\": 22, \"arrows\": \"to\"}, {\"from\": 8, \"to\": 23, \"arrows\": \"to\"}, {\"from\": 9, \"to\": 24, \"arrows\": \"to\"}, {\"from\": 10, \"to\": 25, \"arrows\": \"to\"}, {\"from\": 11, \"to\": 26, \"arrows\": \"to\"}, {\"from\": 12, \"to\": 27, \"arrows\": \"to\"}, {\"from\": 13, \"to\": 28, \"arrows\": \"to\"}, {\"from\": 14, \"to\": 29, \"arrows\": \"to\"}, {\"from\": 15, \"to\": 30, \"arrows\": \"to\"}, {\"from\": 16, \"to\": 31, \"arrows\": \"to\"}, {\"from\": 17, \"to\": 31, \"arrows\": \"to\"}, {\"from\": 18, \"to\": 31, \"arrows\": \"to\"}, {\"from\": 19, \"to\": 31, \"arrows\": \"to\"}, {\"from\": 20, \"to\": 31, \"arrows\": \"to\"}, {\"from\": 21, \"to\": 31, \"arrows\": \"to\"}, {\"from\": 22, \"to\": 31, \"arrows\": \"to\"}, {\"from\": 23, \"to\": 31, \"arrows\": \"to\"}, {\"from\": 24, \"to\": 31, \"arrows\": \"to\"}, {\"from\": 25, \"to\": 31, \"arrows\": \"to\"}, {\"from\": 26, \"to\": 31, \"arrows\": \"to\"}, {\"from\": 27, \"to\": 31, \"arrows\": \"to\"}, {\"from\": 28, \"to\": 31, \"arrows\": \"to\"}, {\"from\": 29, \"to\": 31, \"arrows\": \"to\"}, {\"from\": 30, \"to\": 31, \"arrows\": \"to\"}];\n",
       "                   "
      ],
      "text/plain": [
       "<IPython.core.display.Javascript object>"
      ]
     },
     "metadata": {},
     "output_type": "display_data"
    },
    {
     "data": {
      "application/javascript": [
       "require.config({paths: {vis: 'https://cdnjs.cloudflare.com/ajax/libs/vis/4.21.0/vis.min'}});\n",
       "require(['vis'], function (vis){\n",
       "    if (document.getElementById(\"mynetwork\") == null) {\n",
       "        element.append('<div id=\"mynetwork\" style=\"width:950px;height:750px;border:1px solid lightgray;\"></div>');\n",
       "    }\n",
       "    var nodes = new vis.DataSet(window.nodesList);\n",
       "    var edges = new vis.DataSet(window.edgesList);\n",
       "    var container = document.getElementById('mynetwork');\n",
       "    var data = {\n",
       "         nodes: nodes,\n",
       "         edges: edges\n",
       "     };\n",
       "     var options = {interaction:{hover:true}, \n",
       "                   layout: {\n",
       "                    hierarchical: {\n",
       "                        direction: 'UD'\n",
       "                    }}\n",
       "                   };\n",
       "     var network = new vis.Network(container, data, options);\n",
       "     network.on(\"hoverNode\", function (params) {\n",
       "             \n",
       "     });\n",
       "     network.on(\"hoverEdge\", function (params) {\n",
       "            \n",
       "     });\n",
       "     network.on(\"blurNode\", function (params) {\n",
       "             \n",
       "     });\n",
       "     network.on(\"blurEdge\", function (params) {\n",
       "             \n",
       "     });\n",
       "});"
      ],
      "text/plain": [
       "<IPython.core.display.Javascript object>"
      ]
     },
     "metadata": {},
     "output_type": "display_data"
    },
    {
     "data": {
      "application/javascript": [
       "window.nodesList=[{\"id\": 0, \"label\": \"0\\ntest_deps\", \"color\": \"Red\", \"font\": {\"background\": \"white\"}, \"title\": \"Failed\"}, {\"id\": 1, \"label\": \"1\\nsleep_fail\", \"color\": \"Green\", \"font\": {\"background\": \"white\"}, \"title\": \"Finished\"}, {\"id\": 2, \"label\": \"2\\nsleep_fail\", \"color\": \"Red\", \"font\": {\"background\": \"white\"}, \"title\": \"Failed\"}, {\"id\": 3, \"label\": \"3\\nsleep_fail\", \"color\": \"Green\", \"font\": {\"background\": \"white\"}, \"title\": \"Finished\"}, {\"id\": 4, \"label\": \"4\\nsleep_fail\", \"color\": \"Green\", \"font\": {\"background\": \"white\"}, \"title\": \"Finished\"}, {\"id\": 5, \"label\": \"5\\nsleep_fail\", \"color\": \"Green\", \"font\": {\"background\": \"white\"}, \"title\": \"Finished\"}, {\"id\": 6, \"label\": \"6\\nsleep_fail\", \"color\": \"Green\", \"font\": {\"background\": \"white\"}, \"title\": \"Finished\"}, {\"id\": 7, \"label\": \"7\\nsleep_fail\", \"color\": \"Green\", \"font\": {\"background\": \"white\"}, \"title\": \"Finished\"}, {\"id\": 8, \"label\": \"8\\nsleep_fail\", \"color\": \"Red\", \"font\": {\"background\": \"white\"}, \"title\": \"Failed\"}, {\"id\": 9, \"label\": \"9\\nsleep_fail\", \"color\": \"Red\", \"font\": {\"background\": \"white\"}, \"title\": \"Failed\"}, {\"id\": 10, \"label\": \"10\\nsleep_fail\", \"color\": \"Red\", \"font\": {\"background\": \"white\"}, \"title\": \"Failed\"}, {\"id\": 11, \"label\": \"11\\nsleep_fail\", \"color\": \"Green\", \"font\": {\"background\": \"white\"}, \"title\": \"Finished\"}, {\"id\": 12, \"label\": \"12\\nsleep_fail\", \"color\": \"Red\", \"font\": {\"background\": \"white\"}, \"title\": \"Failed\"}, {\"id\": 13, \"label\": \"13\\nsleep_fail\", \"color\": \"Red\", \"font\": {\"background\": \"white\"}, \"title\": \"Failed\"}, {\"id\": 14, \"label\": \"14\\nsleep_fail\", \"color\": \"Green\", \"font\": {\"background\": \"white\"}, \"title\": \"Finished\"}, {\"id\": 15, \"label\": \"15\\nsleep_fail\", \"color\": \"Green\", \"font\": {\"background\": \"white\"}, \"title\": \"Finished\"}, {\"id\": 16, \"label\": \"16\\nsleep_fail\", \"color\": \"Green\", \"font\": {\"background\": \"white\"}, \"title\": \"Finished\"}, {\"id\": 17, \"label\": \"17\\nsleep_fail\", \"color\": \"orange\", \"font\": {\"background\": \"white\"}, \"title\": \"Dependency Failure\"}, {\"id\": 18, \"label\": \"18\\nsleep_fail\", \"color\": \"Green\", \"font\": {\"background\": \"white\"}, \"title\": \"Finished\"}, {\"id\": 19, \"label\": \"19\\nsleep_fail\", \"color\": \"Green\", \"font\": {\"background\": \"white\"}, \"title\": \"Finished\"}, {\"id\": 20, \"label\": \"20\\nsleep_fail\", \"color\": \"Green\", \"font\": {\"background\": \"white\"}, \"title\": \"Finished\"}, {\"id\": 21, \"label\": \"21\\nsleep_fail\", \"color\": \"Green\", \"font\": {\"background\": \"white\"}, \"title\": \"Finished\"}, {\"id\": 22, \"label\": \"22\\nsleep_fail\", \"color\": \"Green\", \"font\": {\"background\": \"white\"}, \"title\": \"Finished\"}, {\"id\": 23, \"label\": \"23\\nsleep_fail\", \"color\": \"orange\", \"font\": {\"background\": \"white\"}, \"title\": \"Dependency Failure\"}, {\"id\": 24, \"label\": \"24\\nsleep_fail\", \"color\": \"Red\", \"font\": {\"background\": \"white\"}, \"title\": \"Failed\"}, {\"id\": 25, \"label\": \"25\\nsleep_fail\", \"color\": \"orange\", \"font\": {\"background\": \"white\"}, \"title\": \"Dependency Failure\"}, {\"id\": 26, \"label\": \"26\\nsleep_fail\", \"color\": \"Green\", \"font\": {\"background\": \"white\"}, \"title\": \"Finished\"}, {\"id\": 27, \"label\": \"27\\nsleep_fail\", \"color\": \"orange\", \"font\": {\"background\": \"white\"}, \"title\": \"Dependency Failure\"}, {\"id\": 28, \"label\": \"28\\nsleep_fail\", \"color\": \"orange\", \"font\": {\"background\": \"white\"}, \"title\": \"Dependency Failure\"}, {\"id\": 29, \"label\": \"29\\nsleep_fail\", \"color\": \"Green\", \"font\": {\"background\": \"white\"}, \"title\": \"Finished\"}, {\"id\": 30, \"label\": \"30\\nsleep_fail\", \"color\": \"Green\", \"font\": {\"background\": \"white\"}, \"title\": \"Finished\"}, {\"id\": 31, \"label\": \"31\\nsleep_fail\", \"color\": \"orange\", \"font\": {\"background\": \"white\"}, \"title\": \"Dependency Failure\"}];\n",
       "                      window.edgesList=[{\"from\": 1, \"to\": 16, \"arrows\": \"to\"}, {\"from\": 2, \"to\": 17, \"arrows\": \"to\"}, {\"from\": 3, \"to\": 18, \"arrows\": \"to\"}, {\"from\": 4, \"to\": 19, \"arrows\": \"to\"}, {\"from\": 5, \"to\": 20, \"arrows\": \"to\"}, {\"from\": 6, \"to\": 21, \"arrows\": \"to\"}, {\"from\": 7, \"to\": 22, \"arrows\": \"to\"}, {\"from\": 8, \"to\": 23, \"arrows\": \"to\"}, {\"from\": 9, \"to\": 24, \"arrows\": \"to\"}, {\"from\": 10, \"to\": 25, \"arrows\": \"to\"}, {\"from\": 11, \"to\": 26, \"arrows\": \"to\"}, {\"from\": 12, \"to\": 27, \"arrows\": \"to\"}, {\"from\": 13, \"to\": 28, \"arrows\": \"to\"}, {\"from\": 14, \"to\": 29, \"arrows\": \"to\"}, {\"from\": 15, \"to\": 30, \"arrows\": \"to\"}, {\"from\": 16, \"to\": 31, \"arrows\": \"to\"}, {\"from\": 17, \"to\": 31, \"arrows\": \"to\"}, {\"from\": 18, \"to\": 31, \"arrows\": \"to\"}, {\"from\": 19, \"to\": 31, \"arrows\": \"to\"}, {\"from\": 20, \"to\": 31, \"arrows\": \"to\"}, {\"from\": 21, \"to\": 31, \"arrows\": \"to\"}, {\"from\": 22, \"to\": 31, \"arrows\": \"to\"}, {\"from\": 23, \"to\": 31, \"arrows\": \"to\"}, {\"from\": 24, \"to\": 31, \"arrows\": \"to\"}, {\"from\": 25, \"to\": 31, \"arrows\": \"to\"}, {\"from\": 26, \"to\": 31, \"arrows\": \"to\"}, {\"from\": 27, \"to\": 31, \"arrows\": \"to\"}, {\"from\": 28, \"to\": 31, \"arrows\": \"to\"}, {\"from\": 29, \"to\": 31, \"arrows\": \"to\"}, {\"from\": 30, \"to\": 31, \"arrows\": \"to\"}];\n",
       "                   "
      ],
      "text/plain": [
       "<IPython.core.display.Javascript object>"
      ]
     },
     "metadata": {},
     "output_type": "display_data"
    },
    {
     "data": {
      "application/javascript": [
       "require.config({paths: {vis: 'https://cdnjs.cloudflare.com/ajax/libs/vis/4.21.0/vis.min'}});\n",
       "require(['vis'], function (vis){\n",
       "    if (document.getElementById(\"mynetwork\") == null) {\n",
       "        element.append('<div id=\"mynetwork\" style=\"width:950px;height:750px;border:1px solid lightgray;\"></div>');\n",
       "    }\n",
       "    var nodes = new vis.DataSet(window.nodesList);\n",
       "    var edges = new vis.DataSet(window.edgesList);\n",
       "    var container = document.getElementById('mynetwork');\n",
       "    var data = {\n",
       "         nodes: nodes,\n",
       "         edges: edges\n",
       "     };\n",
       "     var options = {interaction:{hover:true}, \n",
       "                   layout: {\n",
       "                    hierarchical: {\n",
       "                        direction: 'UD'\n",
       "                    }}\n",
       "                   };\n",
       "     var network = new vis.Network(container, data, options);\n",
       "     network.on(\"hoverNode\", function (params) {\n",
       "             \n",
       "     });\n",
       "     network.on(\"hoverEdge\", function (params) {\n",
       "            \n",
       "     });\n",
       "     network.on(\"blurNode\", function (params) {\n",
       "             \n",
       "     });\n",
       "     network.on(\"blurEdge\", function (params) {\n",
       "             \n",
       "     });\n",
       "});"
      ],
      "text/plain": [
       "<IPython.core.display.Javascript object>"
      ]
     },
     "metadata": {},
     "output_type": "display_data"
    },
    {
     "data": {
      "application/javascript": [
       "window.nodesList=[{\"id\": 0, \"label\": \"0\\ntest_deps\", \"color\": \"Red\", \"font\": {\"background\": \"white\"}, \"title\": \"Failed\"}, {\"id\": 1, \"label\": \"1\\nsleep_fail\", \"color\": \"Green\", \"font\": {\"background\": \"white\"}, \"title\": \"Finished\"}, {\"id\": 2, \"label\": \"2\\nsleep_fail\", \"color\": \"Red\", \"font\": {\"background\": \"white\"}, \"title\": \"Failed\"}, {\"id\": 3, \"label\": \"3\\nsleep_fail\", \"color\": \"Green\", \"font\": {\"background\": \"white\"}, \"title\": \"Finished\"}, {\"id\": 4, \"label\": \"4\\nsleep_fail\", \"color\": \"Green\", \"font\": {\"background\": \"white\"}, \"title\": \"Finished\"}, {\"id\": 5, \"label\": \"5\\nsleep_fail\", \"color\": \"Green\", \"font\": {\"background\": \"white\"}, \"title\": \"Finished\"}, {\"id\": 6, \"label\": \"6\\nsleep_fail\", \"color\": \"Green\", \"font\": {\"background\": \"white\"}, \"title\": \"Finished\"}, {\"id\": 7, \"label\": \"7\\nsleep_fail\", \"color\": \"Green\", \"font\": {\"background\": \"white\"}, \"title\": \"Finished\"}, {\"id\": 8, \"label\": \"8\\nsleep_fail\", \"color\": \"Red\", \"font\": {\"background\": \"white\"}, \"title\": \"Failed\"}, {\"id\": 9, \"label\": \"9\\nsleep_fail\", \"color\": \"Red\", \"font\": {\"background\": \"white\"}, \"title\": \"Failed\"}, {\"id\": 10, \"label\": \"10\\nsleep_fail\", \"color\": \"Red\", \"font\": {\"background\": \"white\"}, \"title\": \"Failed\"}, {\"id\": 11, \"label\": \"11\\nsleep_fail\", \"color\": \"Green\", \"font\": {\"background\": \"white\"}, \"title\": \"Finished\"}, {\"id\": 12, \"label\": \"12\\nsleep_fail\", \"color\": \"Red\", \"font\": {\"background\": \"white\"}, \"title\": \"Failed\"}, {\"id\": 13, \"label\": \"13\\nsleep_fail\", \"color\": \"Red\", \"font\": {\"background\": \"white\"}, \"title\": \"Failed\"}, {\"id\": 14, \"label\": \"14\\nsleep_fail\", \"color\": \"Green\", \"font\": {\"background\": \"white\"}, \"title\": \"Finished\"}, {\"id\": 15, \"label\": \"15\\nsleep_fail\", \"color\": \"Green\", \"font\": {\"background\": \"white\"}, \"title\": \"Finished\"}, {\"id\": 16, \"label\": \"16\\nsleep_fail\", \"color\": \"Green\", \"font\": {\"background\": \"white\"}, \"title\": \"Finished\"}, {\"id\": 17, \"label\": \"17\\nsleep_fail\", \"color\": \"orange\", \"font\": {\"background\": \"white\"}, \"title\": \"Dependency Failure\"}, {\"id\": 18, \"label\": \"18\\nsleep_fail\", \"color\": \"Green\", \"font\": {\"background\": \"white\"}, \"title\": \"Finished\"}, {\"id\": 19, \"label\": \"19\\nsleep_fail\", \"color\": \"Green\", \"font\": {\"background\": \"white\"}, \"title\": \"Finished\"}, {\"id\": 20, \"label\": \"20\\nsleep_fail\", \"color\": \"Green\", \"font\": {\"background\": \"white\"}, \"title\": \"Finished\"}, {\"id\": 21, \"label\": \"21\\nsleep_fail\", \"color\": \"Green\", \"font\": {\"background\": \"white\"}, \"title\": \"Finished\"}, {\"id\": 22, \"label\": \"22\\nsleep_fail\", \"color\": \"Green\", \"font\": {\"background\": \"white\"}, \"title\": \"Finished\"}, {\"id\": 23, \"label\": \"23\\nsleep_fail\", \"color\": \"orange\", \"font\": {\"background\": \"white\"}, \"title\": \"Dependency Failure\"}, {\"id\": 24, \"label\": \"24\\nsleep_fail\", \"color\": \"Red\", \"font\": {\"background\": \"white\"}, \"title\": \"Failed\"}, {\"id\": 25, \"label\": \"25\\nsleep_fail\", \"color\": \"orange\", \"font\": {\"background\": \"white\"}, \"title\": \"Dependency Failure\"}, {\"id\": 26, \"label\": \"26\\nsleep_fail\", \"color\": \"Green\", \"font\": {\"background\": \"white\"}, \"title\": \"Finished\"}, {\"id\": 27, \"label\": \"27\\nsleep_fail\", \"color\": \"orange\", \"font\": {\"background\": \"white\"}, \"title\": \"Dependency Failure\"}, {\"id\": 28, \"label\": \"28\\nsleep_fail\", \"color\": \"orange\", \"font\": {\"background\": \"white\"}, \"title\": \"Dependency Failure\"}, {\"id\": 29, \"label\": \"29\\nsleep_fail\", \"color\": \"Green\", \"font\": {\"background\": \"white\"}, \"title\": \"Finished\"}, {\"id\": 30, \"label\": \"30\\nsleep_fail\", \"color\": \"Green\", \"font\": {\"background\": \"white\"}, \"title\": \"Finished\"}, {\"id\": 31, \"label\": \"31\\nsleep_fail\", \"color\": \"orange\", \"font\": {\"background\": \"white\"}, \"title\": \"Dependency Failure\"}];\n",
       "                      window.edgesList=[{\"from\": 1, \"to\": 16, \"arrows\": \"to\"}, {\"from\": 2, \"to\": 17, \"arrows\": \"to\"}, {\"from\": 3, \"to\": 18, \"arrows\": \"to\"}, {\"from\": 4, \"to\": 19, \"arrows\": \"to\"}, {\"from\": 5, \"to\": 20, \"arrows\": \"to\"}, {\"from\": 6, \"to\": 21, \"arrows\": \"to\"}, {\"from\": 7, \"to\": 22, \"arrows\": \"to\"}, {\"from\": 8, \"to\": 23, \"arrows\": \"to\"}, {\"from\": 9, \"to\": 24, \"arrows\": \"to\"}, {\"from\": 10, \"to\": 25, \"arrows\": \"to\"}, {\"from\": 11, \"to\": 26, \"arrows\": \"to\"}, {\"from\": 12, \"to\": 27, \"arrows\": \"to\"}, {\"from\": 13, \"to\": 28, \"arrows\": \"to\"}, {\"from\": 14, \"to\": 29, \"arrows\": \"to\"}, {\"from\": 15, \"to\": 30, \"arrows\": \"to\"}, {\"from\": 16, \"to\": 31, \"arrows\": \"to\"}, {\"from\": 17, \"to\": 31, \"arrows\": \"to\"}, {\"from\": 18, \"to\": 31, \"arrows\": \"to\"}, {\"from\": 19, \"to\": 31, \"arrows\": \"to\"}, {\"from\": 20, \"to\": 31, \"arrows\": \"to\"}, {\"from\": 21, \"to\": 31, \"arrows\": \"to\"}, {\"from\": 22, \"to\": 31, \"arrows\": \"to\"}, {\"from\": 23, \"to\": 31, \"arrows\": \"to\"}, {\"from\": 24, \"to\": 31, \"arrows\": \"to\"}, {\"from\": 25, \"to\": 31, \"arrows\": \"to\"}, {\"from\": 26, \"to\": 31, \"arrows\": \"to\"}, {\"from\": 27, \"to\": 31, \"arrows\": \"to\"}, {\"from\": 28, \"to\": 31, \"arrows\": \"to\"}, {\"from\": 29, \"to\": 31, \"arrows\": \"to\"}, {\"from\": 30, \"to\": 31, \"arrows\": \"to\"}];\n",
       "                   "
      ],
      "text/plain": [
       "<IPython.core.display.Javascript object>"
      ]
     },
     "metadata": {},
     "output_type": "display_data"
    },
    {
     "data": {
      "application/javascript": [
       "require.config({paths: {vis: 'https://cdnjs.cloudflare.com/ajax/libs/vis/4.21.0/vis.min'}});\n",
       "require(['vis'], function (vis){\n",
       "    if (document.getElementById(\"mynetwork\") == null) {\n",
       "        element.append('<div id=\"mynetwork\" style=\"width:950px;height:750px;border:1px solid lightgray;\"></div>');\n",
       "    }\n",
       "    var nodes = new vis.DataSet(window.nodesList);\n",
       "    var edges = new vis.DataSet(window.edgesList);\n",
       "    var container = document.getElementById('mynetwork');\n",
       "    var data = {\n",
       "         nodes: nodes,\n",
       "         edges: edges\n",
       "     };\n",
       "     var options = {interaction:{hover:true}, \n",
       "                   layout: {\n",
       "                    hierarchical: {\n",
       "                        direction: 'UD'\n",
       "                    }}\n",
       "                   };\n",
       "     var network = new vis.Network(container, data, options);\n",
       "     network.on(\"hoverNode\", function (params) {\n",
       "             \n",
       "     });\n",
       "     network.on(\"hoverEdge\", function (params) {\n",
       "            \n",
       "     });\n",
       "     network.on(\"blurNode\", function (params) {\n",
       "             \n",
       "     });\n",
       "     network.on(\"blurEdge\", function (params) {\n",
       "             \n",
       "     });\n",
       "});"
      ],
      "text/plain": [
       "<IPython.core.display.Javascript object>"
      ]
     },
     "metadata": {},
     "output_type": "display_data"
    },
    {
     "data": {
      "application/javascript": [
       "window.nodesList=[{\"id\": 0, \"label\": \"0\\ntest_deps\", \"color\": \"Red\", \"font\": {\"background\": \"white\"}, \"title\": \"Failed\"}, {\"id\": 1, \"label\": \"1\\nsleep_fail\", \"color\": \"Green\", \"font\": {\"background\": \"white\"}, \"title\": \"Finished\"}, {\"id\": 2, \"label\": \"2\\nsleep_fail\", \"color\": \"Red\", \"font\": {\"background\": \"white\"}, \"title\": \"Failed\"}, {\"id\": 3, \"label\": \"3\\nsleep_fail\", \"color\": \"Green\", \"font\": {\"background\": \"white\"}, \"title\": \"Finished\"}, {\"id\": 4, \"label\": \"4\\nsleep_fail\", \"color\": \"Green\", \"font\": {\"background\": \"white\"}, \"title\": \"Finished\"}, {\"id\": 5, \"label\": \"5\\nsleep_fail\", \"color\": \"Green\", \"font\": {\"background\": \"white\"}, \"title\": \"Finished\"}, {\"id\": 6, \"label\": \"6\\nsleep_fail\", \"color\": \"Green\", \"font\": {\"background\": \"white\"}, \"title\": \"Finished\"}, {\"id\": 7, \"label\": \"7\\nsleep_fail\", \"color\": \"Green\", \"font\": {\"background\": \"white\"}, \"title\": \"Finished\"}, {\"id\": 8, \"label\": \"8\\nsleep_fail\", \"color\": \"Red\", \"font\": {\"background\": \"white\"}, \"title\": \"Failed\"}, {\"id\": 9, \"label\": \"9\\nsleep_fail\", \"color\": \"Red\", \"font\": {\"background\": \"white\"}, \"title\": \"Failed\"}, {\"id\": 10, \"label\": \"10\\nsleep_fail\", \"color\": \"Red\", \"font\": {\"background\": \"white\"}, \"title\": \"Failed\"}, {\"id\": 11, \"label\": \"11\\nsleep_fail\", \"color\": \"Green\", \"font\": {\"background\": \"white\"}, \"title\": \"Finished\"}, {\"id\": 12, \"label\": \"12\\nsleep_fail\", \"color\": \"Red\", \"font\": {\"background\": \"white\"}, \"title\": \"Failed\"}, {\"id\": 13, \"label\": \"13\\nsleep_fail\", \"color\": \"Red\", \"font\": {\"background\": \"white\"}, \"title\": \"Failed\"}, {\"id\": 14, \"label\": \"14\\nsleep_fail\", \"color\": \"Green\", \"font\": {\"background\": \"white\"}, \"title\": \"Finished\"}, {\"id\": 15, \"label\": \"15\\nsleep_fail\", \"color\": \"Green\", \"font\": {\"background\": \"white\"}, \"title\": \"Finished\"}, {\"id\": 16, \"label\": \"16\\nsleep_fail\", \"color\": \"Green\", \"font\": {\"background\": \"white\"}, \"title\": \"Finished\"}, {\"id\": 17, \"label\": \"17\\nsleep_fail\", \"color\": \"orange\", \"font\": {\"background\": \"white\"}, \"title\": \"Dependency Failure\"}, {\"id\": 18, \"label\": \"18\\nsleep_fail\", \"color\": \"Green\", \"font\": {\"background\": \"white\"}, \"title\": \"Finished\"}, {\"id\": 19, \"label\": \"19\\nsleep_fail\", \"color\": \"Green\", \"font\": {\"background\": \"white\"}, \"title\": \"Finished\"}, {\"id\": 20, \"label\": \"20\\nsleep_fail\", \"color\": \"Green\", \"font\": {\"background\": \"white\"}, \"title\": \"Finished\"}, {\"id\": 21, \"label\": \"21\\nsleep_fail\", \"color\": \"Green\", \"font\": {\"background\": \"white\"}, \"title\": \"Finished\"}, {\"id\": 22, \"label\": \"22\\nsleep_fail\", \"color\": \"Green\", \"font\": {\"background\": \"white\"}, \"title\": \"Finished\"}, {\"id\": 23, \"label\": \"23\\nsleep_fail\", \"color\": \"orange\", \"font\": {\"background\": \"white\"}, \"title\": \"Dependency Failure\"}, {\"id\": 24, \"label\": \"24\\nsleep_fail\", \"color\": \"Red\", \"font\": {\"background\": \"white\"}, \"title\": \"Failed\"}, {\"id\": 25, \"label\": \"25\\nsleep_fail\", \"color\": \"orange\", \"font\": {\"background\": \"white\"}, \"title\": \"Dependency Failure\"}, {\"id\": 26, \"label\": \"26\\nsleep_fail\", \"color\": \"Green\", \"font\": {\"background\": \"white\"}, \"title\": \"Finished\"}, {\"id\": 27, \"label\": \"27\\nsleep_fail\", \"color\": \"orange\", \"font\": {\"background\": \"white\"}, \"title\": \"Dependency Failure\"}, {\"id\": 28, \"label\": \"28\\nsleep_fail\", \"color\": \"orange\", \"font\": {\"background\": \"white\"}, \"title\": \"Dependency Failure\"}, {\"id\": 29, \"label\": \"29\\nsleep_fail\", \"color\": \"Green\", \"font\": {\"background\": \"white\"}, \"title\": \"Finished\"}, {\"id\": 30, \"label\": \"30\\nsleep_fail\", \"color\": \"Green\", \"font\": {\"background\": \"white\"}, \"title\": \"Finished\"}, {\"id\": 31, \"label\": \"31\\nsleep_fail\", \"color\": \"orange\", \"font\": {\"background\": \"white\"}, \"title\": \"Dependency Failure\"}];\n",
       "                      window.edgesList=[{\"from\": 1, \"to\": 16, \"arrows\": \"to\"}, {\"from\": 2, \"to\": 17, \"arrows\": \"to\"}, {\"from\": 3, \"to\": 18, \"arrows\": \"to\"}, {\"from\": 4, \"to\": 19, \"arrows\": \"to\"}, {\"from\": 5, \"to\": 20, \"arrows\": \"to\"}, {\"from\": 6, \"to\": 21, \"arrows\": \"to\"}, {\"from\": 7, \"to\": 22, \"arrows\": \"to\"}, {\"from\": 8, \"to\": 23, \"arrows\": \"to\"}, {\"from\": 9, \"to\": 24, \"arrows\": \"to\"}, {\"from\": 10, \"to\": 25, \"arrows\": \"to\"}, {\"from\": 11, \"to\": 26, \"arrows\": \"to\"}, {\"from\": 12, \"to\": 27, \"arrows\": \"to\"}, {\"from\": 13, \"to\": 28, \"arrows\": \"to\"}, {\"from\": 14, \"to\": 29, \"arrows\": \"to\"}, {\"from\": 15, \"to\": 30, \"arrows\": \"to\"}, {\"from\": 16, \"to\": 31, \"arrows\": \"to\"}, {\"from\": 17, \"to\": 31, \"arrows\": \"to\"}, {\"from\": 18, \"to\": 31, \"arrows\": \"to\"}, {\"from\": 19, \"to\": 31, \"arrows\": \"to\"}, {\"from\": 20, \"to\": 31, \"arrows\": \"to\"}, {\"from\": 21, \"to\": 31, \"arrows\": \"to\"}, {\"from\": 22, \"to\": 31, \"arrows\": \"to\"}, {\"from\": 23, \"to\": 31, \"arrows\": \"to\"}, {\"from\": 24, \"to\": 31, \"arrows\": \"to\"}, {\"from\": 25, \"to\": 31, \"arrows\": \"to\"}, {\"from\": 26, \"to\": 31, \"arrows\": \"to\"}, {\"from\": 27, \"to\": 31, \"arrows\": \"to\"}, {\"from\": 28, \"to\": 31, \"arrows\": \"to\"}, {\"from\": 29, \"to\": 31, \"arrows\": \"to\"}, {\"from\": 30, \"to\": 31, \"arrows\": \"to\"}];\n",
       "                   "
      ],
      "text/plain": [
       "<IPython.core.display.Javascript object>"
      ]
     },
     "metadata": {},
     "output_type": "display_data"
    },
    {
     "data": {
      "application/javascript": [
       "require.config({paths: {vis: 'https://cdnjs.cloudflare.com/ajax/libs/vis/4.21.0/vis.min'}});\n",
       "require(['vis'], function (vis){\n",
       "    if (document.getElementById(\"mynetwork\") == null) {\n",
       "        element.append('<div id=\"mynetwork\" style=\"width:950px;height:750px;border:1px solid lightgray;\"></div>');\n",
       "    }\n",
       "    var nodes = new vis.DataSet(window.nodesList);\n",
       "    var edges = new vis.DataSet(window.edgesList);\n",
       "    var container = document.getElementById('mynetwork');\n",
       "    var data = {\n",
       "         nodes: nodes,\n",
       "         edges: edges\n",
       "     };\n",
       "     var options = {interaction:{hover:true}, \n",
       "                   layout: {\n",
       "                    hierarchical: {\n",
       "                        direction: 'UD'\n",
       "                    }}\n",
       "                   };\n",
       "     var network = new vis.Network(container, data, options);\n",
       "     network.on(\"hoverNode\", function (params) {\n",
       "             \n",
       "     });\n",
       "     network.on(\"hoverEdge\", function (params) {\n",
       "            \n",
       "     });\n",
       "     network.on(\"blurNode\", function (params) {\n",
       "             \n",
       "     });\n",
       "     network.on(\"blurEdge\", function (params) {\n",
       "             \n",
       "     });\n",
       "});"
      ],
      "text/plain": [
       "<IPython.core.display.Javascript object>"
      ]
     },
     "metadata": {},
     "output_type": "display_data"
    },
    {
     "data": {
      "application/javascript": [
       "window.nodesList=[{\"id\": 0, \"label\": \"0\\ntest_deps\", \"color\": \"Red\", \"font\": {\"background\": \"white\"}, \"title\": \"Failed\"}, {\"id\": 1, \"label\": \"1\\nsleep_fail\", \"color\": \"Green\", \"font\": {\"background\": \"white\"}, \"title\": \"Finished\"}, {\"id\": 2, \"label\": \"2\\nsleep_fail\", \"color\": \"Red\", \"font\": {\"background\": \"white\"}, \"title\": \"Failed\"}, {\"id\": 3, \"label\": \"3\\nsleep_fail\", \"color\": \"Green\", \"font\": {\"background\": \"white\"}, \"title\": \"Finished\"}, {\"id\": 4, \"label\": \"4\\nsleep_fail\", \"color\": \"Green\", \"font\": {\"background\": \"white\"}, \"title\": \"Finished\"}, {\"id\": 5, \"label\": \"5\\nsleep_fail\", \"color\": \"Green\", \"font\": {\"background\": \"white\"}, \"title\": \"Finished\"}, {\"id\": 6, \"label\": \"6\\nsleep_fail\", \"color\": \"Green\", \"font\": {\"background\": \"white\"}, \"title\": \"Finished\"}, {\"id\": 7, \"label\": \"7\\nsleep_fail\", \"color\": \"Green\", \"font\": {\"background\": \"white\"}, \"title\": \"Finished\"}, {\"id\": 8, \"label\": \"8\\nsleep_fail\", \"color\": \"Red\", \"font\": {\"background\": \"white\"}, \"title\": \"Failed\"}, {\"id\": 9, \"label\": \"9\\nsleep_fail\", \"color\": \"Red\", \"font\": {\"background\": \"white\"}, \"title\": \"Failed\"}, {\"id\": 10, \"label\": \"10\\nsleep_fail\", \"color\": \"Red\", \"font\": {\"background\": \"white\"}, \"title\": \"Failed\"}, {\"id\": 11, \"label\": \"11\\nsleep_fail\", \"color\": \"Green\", \"font\": {\"background\": \"white\"}, \"title\": \"Finished\"}, {\"id\": 12, \"label\": \"12\\nsleep_fail\", \"color\": \"Red\", \"font\": {\"background\": \"white\"}, \"title\": \"Failed\"}, {\"id\": 13, \"label\": \"13\\nsleep_fail\", \"color\": \"Red\", \"font\": {\"background\": \"white\"}, \"title\": \"Failed\"}, {\"id\": 14, \"label\": \"14\\nsleep_fail\", \"color\": \"Green\", \"font\": {\"background\": \"white\"}, \"title\": \"Finished\"}, {\"id\": 15, \"label\": \"15\\nsleep_fail\", \"color\": \"Green\", \"font\": {\"background\": \"white\"}, \"title\": \"Finished\"}, {\"id\": 16, \"label\": \"16\\nsleep_fail\", \"color\": \"Green\", \"font\": {\"background\": \"white\"}, \"title\": \"Finished\"}, {\"id\": 17, \"label\": \"17\\nsleep_fail\", \"color\": \"orange\", \"font\": {\"background\": \"white\"}, \"title\": \"Dependency Failure\"}, {\"id\": 18, \"label\": \"18\\nsleep_fail\", \"color\": \"Green\", \"font\": {\"background\": \"white\"}, \"title\": \"Finished\"}, {\"id\": 19, \"label\": \"19\\nsleep_fail\", \"color\": \"Green\", \"font\": {\"background\": \"white\"}, \"title\": \"Finished\"}, {\"id\": 20, \"label\": \"20\\nsleep_fail\", \"color\": \"Green\", \"font\": {\"background\": \"white\"}, \"title\": \"Finished\"}, {\"id\": 21, \"label\": \"21\\nsleep_fail\", \"color\": \"Green\", \"font\": {\"background\": \"white\"}, \"title\": \"Finished\"}, {\"id\": 22, \"label\": \"22\\nsleep_fail\", \"color\": \"Green\", \"font\": {\"background\": \"white\"}, \"title\": \"Finished\"}, {\"id\": 23, \"label\": \"23\\nsleep_fail\", \"color\": \"orange\", \"font\": {\"background\": \"white\"}, \"title\": \"Dependency Failure\"}, {\"id\": 24, \"label\": \"24\\nsleep_fail\", \"color\": \"Red\", \"font\": {\"background\": \"white\"}, \"title\": \"Failed\"}, {\"id\": 25, \"label\": \"25\\nsleep_fail\", \"color\": \"orange\", \"font\": {\"background\": \"white\"}, \"title\": \"Dependency Failure\"}, {\"id\": 26, \"label\": \"26\\nsleep_fail\", \"color\": \"Green\", \"font\": {\"background\": \"white\"}, \"title\": \"Finished\"}, {\"id\": 27, \"label\": \"27\\nsleep_fail\", \"color\": \"orange\", \"font\": {\"background\": \"white\"}, \"title\": \"Dependency Failure\"}, {\"id\": 28, \"label\": \"28\\nsleep_fail\", \"color\": \"orange\", \"font\": {\"background\": \"white\"}, \"title\": \"Dependency Failure\"}, {\"id\": 29, \"label\": \"29\\nsleep_fail\", \"color\": \"Green\", \"font\": {\"background\": \"white\"}, \"title\": \"Finished\"}, {\"id\": 30, \"label\": \"30\\nsleep_fail\", \"color\": \"Green\", \"font\": {\"background\": \"white\"}, \"title\": \"Finished\"}, {\"id\": 31, \"label\": \"31\\nsleep_fail\", \"color\": \"orange\", \"font\": {\"background\": \"white\"}, \"title\": \"Dependency Failure\"}];\n",
       "                      window.edgesList=[{\"from\": 1, \"to\": 16, \"arrows\": \"to\"}, {\"from\": 2, \"to\": 17, \"arrows\": \"to\"}, {\"from\": 3, \"to\": 18, \"arrows\": \"to\"}, {\"from\": 4, \"to\": 19, \"arrows\": \"to\"}, {\"from\": 5, \"to\": 20, \"arrows\": \"to\"}, {\"from\": 6, \"to\": 21, \"arrows\": \"to\"}, {\"from\": 7, \"to\": 22, \"arrows\": \"to\"}, {\"from\": 8, \"to\": 23, \"arrows\": \"to\"}, {\"from\": 9, \"to\": 24, \"arrows\": \"to\"}, {\"from\": 10, \"to\": 25, \"arrows\": \"to\"}, {\"from\": 11, \"to\": 26, \"arrows\": \"to\"}, {\"from\": 12, \"to\": 27, \"arrows\": \"to\"}, {\"from\": 13, \"to\": 28, \"arrows\": \"to\"}, {\"from\": 14, \"to\": 29, \"arrows\": \"to\"}, {\"from\": 15, \"to\": 30, \"arrows\": \"to\"}, {\"from\": 16, \"to\": 31, \"arrows\": \"to\"}, {\"from\": 17, \"to\": 31, \"arrows\": \"to\"}, {\"from\": 18, \"to\": 31, \"arrows\": \"to\"}, {\"from\": 19, \"to\": 31, \"arrows\": \"to\"}, {\"from\": 20, \"to\": 31, \"arrows\": \"to\"}, {\"from\": 21, \"to\": 31, \"arrows\": \"to\"}, {\"from\": 22, \"to\": 31, \"arrows\": \"to\"}, {\"from\": 23, \"to\": 31, \"arrows\": \"to\"}, {\"from\": 24, \"to\": 31, \"arrows\": \"to\"}, {\"from\": 25, \"to\": 31, \"arrows\": \"to\"}, {\"from\": 26, \"to\": 31, \"arrows\": \"to\"}, {\"from\": 27, \"to\": 31, \"arrows\": \"to\"}, {\"from\": 28, \"to\": 31, \"arrows\": \"to\"}, {\"from\": 29, \"to\": 31, \"arrows\": \"to\"}, {\"from\": 30, \"to\": 31, \"arrows\": \"to\"}];\n",
       "                   "
      ],
      "text/plain": [
       "<IPython.core.display.Javascript object>"
      ]
     },
     "metadata": {},
     "output_type": "display_data"
    },
    {
     "data": {
      "application/javascript": [
       "require.config({paths: {vis: 'https://cdnjs.cloudflare.com/ajax/libs/vis/4.21.0/vis.min'}});\n",
       "require(['vis'], function (vis){\n",
       "    if (document.getElementById(\"mynetwork\") == null) {\n",
       "        element.append('<div id=\"mynetwork\" style=\"width:950px;height:750px;border:1px solid lightgray;\"></div>');\n",
       "    }\n",
       "    var nodes = new vis.DataSet(window.nodesList);\n",
       "    var edges = new vis.DataSet(window.edgesList);\n",
       "    var container = document.getElementById('mynetwork');\n",
       "    var data = {\n",
       "         nodes: nodes,\n",
       "         edges: edges\n",
       "     };\n",
       "     var options = {interaction:{hover:true}, \n",
       "                   layout: {\n",
       "                    hierarchical: {\n",
       "                        direction: 'UD'\n",
       "                    }}\n",
       "                   };\n",
       "     var network = new vis.Network(container, data, options);\n",
       "     network.on(\"hoverNode\", function (params) {\n",
       "             \n",
       "     });\n",
       "     network.on(\"hoverEdge\", function (params) {\n",
       "            \n",
       "     });\n",
       "     network.on(\"blurNode\", function (params) {\n",
       "             \n",
       "     });\n",
       "     network.on(\"blurEdge\", function (params) {\n",
       "             \n",
       "     });\n",
       "});"
      ],
      "text/plain": [
       "<IPython.core.display.Javascript object>"
      ]
     },
     "metadata": {},
     "output_type": "display_data"
    },
    {
     "data": {
      "application/javascript": [
       "window.nodesList=[{\"id\": 0, \"label\": \"0\\ntest_deps\", \"color\": \"Red\", \"font\": {\"background\": \"white\"}, \"title\": \"Failed\"}, {\"id\": 1, \"label\": \"1\\nsleep_fail\", \"color\": \"Green\", \"font\": {\"background\": \"white\"}, \"title\": \"Finished\"}, {\"id\": 2, \"label\": \"2\\nsleep_fail\", \"color\": \"Red\", \"font\": {\"background\": \"white\"}, \"title\": \"Failed\"}, {\"id\": 3, \"label\": \"3\\nsleep_fail\", \"color\": \"Green\", \"font\": {\"background\": \"white\"}, \"title\": \"Finished\"}, {\"id\": 4, \"label\": \"4\\nsleep_fail\", \"color\": \"Green\", \"font\": {\"background\": \"white\"}, \"title\": \"Finished\"}, {\"id\": 5, \"label\": \"5\\nsleep_fail\", \"color\": \"Green\", \"font\": {\"background\": \"white\"}, \"title\": \"Finished\"}, {\"id\": 6, \"label\": \"6\\nsleep_fail\", \"color\": \"Green\", \"font\": {\"background\": \"white\"}, \"title\": \"Finished\"}, {\"id\": 7, \"label\": \"7\\nsleep_fail\", \"color\": \"Green\", \"font\": {\"background\": \"white\"}, \"title\": \"Finished\"}, {\"id\": 8, \"label\": \"8\\nsleep_fail\", \"color\": \"Red\", \"font\": {\"background\": \"white\"}, \"title\": \"Failed\"}, {\"id\": 9, \"label\": \"9\\nsleep_fail\", \"color\": \"Red\", \"font\": {\"background\": \"white\"}, \"title\": \"Failed\"}, {\"id\": 10, \"label\": \"10\\nsleep_fail\", \"color\": \"Red\", \"font\": {\"background\": \"white\"}, \"title\": \"Failed\"}, {\"id\": 11, \"label\": \"11\\nsleep_fail\", \"color\": \"Green\", \"font\": {\"background\": \"white\"}, \"title\": \"Finished\"}, {\"id\": 12, \"label\": \"12\\nsleep_fail\", \"color\": \"Red\", \"font\": {\"background\": \"white\"}, \"title\": \"Failed\"}, {\"id\": 13, \"label\": \"13\\nsleep_fail\", \"color\": \"Red\", \"font\": {\"background\": \"white\"}, \"title\": \"Failed\"}, {\"id\": 14, \"label\": \"14\\nsleep_fail\", \"color\": \"Green\", \"font\": {\"background\": \"white\"}, \"title\": \"Finished\"}, {\"id\": 15, \"label\": \"15\\nsleep_fail\", \"color\": \"Green\", \"font\": {\"background\": \"white\"}, \"title\": \"Finished\"}, {\"id\": 16, \"label\": \"16\\nsleep_fail\", \"color\": \"Green\", \"font\": {\"background\": \"white\"}, \"title\": \"Finished\"}, {\"id\": 17, \"label\": \"17\\nsleep_fail\", \"color\": \"orange\", \"font\": {\"background\": \"white\"}, \"title\": \"Dependency Failure\"}, {\"id\": 18, \"label\": \"18\\nsleep_fail\", \"color\": \"Green\", \"font\": {\"background\": \"white\"}, \"title\": \"Finished\"}, {\"id\": 19, \"label\": \"19\\nsleep_fail\", \"color\": \"Green\", \"font\": {\"background\": \"white\"}, \"title\": \"Finished\"}, {\"id\": 20, \"label\": \"20\\nsleep_fail\", \"color\": \"Green\", \"font\": {\"background\": \"white\"}, \"title\": \"Finished\"}, {\"id\": 21, \"label\": \"21\\nsleep_fail\", \"color\": \"Green\", \"font\": {\"background\": \"white\"}, \"title\": \"Finished\"}, {\"id\": 22, \"label\": \"22\\nsleep_fail\", \"color\": \"Green\", \"font\": {\"background\": \"white\"}, \"title\": \"Finished\"}, {\"id\": 23, \"label\": \"23\\nsleep_fail\", \"color\": \"orange\", \"font\": {\"background\": \"white\"}, \"title\": \"Dependency Failure\"}, {\"id\": 24, \"label\": \"24\\nsleep_fail\", \"color\": \"Red\", \"font\": {\"background\": \"white\"}, \"title\": \"Failed\"}, {\"id\": 25, \"label\": \"25\\nsleep_fail\", \"color\": \"orange\", \"font\": {\"background\": \"white\"}, \"title\": \"Dependency Failure\"}, {\"id\": 26, \"label\": \"26\\nsleep_fail\", \"color\": \"Green\", \"font\": {\"background\": \"white\"}, \"title\": \"Finished\"}, {\"id\": 27, \"label\": \"27\\nsleep_fail\", \"color\": \"orange\", \"font\": {\"background\": \"white\"}, \"title\": \"Dependency Failure\"}, {\"id\": 28, \"label\": \"28\\nsleep_fail\", \"color\": \"orange\", \"font\": {\"background\": \"white\"}, \"title\": \"Dependency Failure\"}, {\"id\": 29, \"label\": \"29\\nsleep_fail\", \"color\": \"Green\", \"font\": {\"background\": \"white\"}, \"title\": \"Finished\"}, {\"id\": 30, \"label\": \"30\\nsleep_fail\", \"color\": \"Green\", \"font\": {\"background\": \"white\"}, \"title\": \"Finished\"}, {\"id\": 31, \"label\": \"31\\nsleep_fail\", \"color\": \"orange\", \"font\": {\"background\": \"white\"}, \"title\": \"Dependency Failure\"}];\n",
       "                      window.edgesList=[{\"from\": 1, \"to\": 16, \"arrows\": \"to\"}, {\"from\": 2, \"to\": 17, \"arrows\": \"to\"}, {\"from\": 3, \"to\": 18, \"arrows\": \"to\"}, {\"from\": 4, \"to\": 19, \"arrows\": \"to\"}, {\"from\": 5, \"to\": 20, \"arrows\": \"to\"}, {\"from\": 6, \"to\": 21, \"arrows\": \"to\"}, {\"from\": 7, \"to\": 22, \"arrows\": \"to\"}, {\"from\": 8, \"to\": 23, \"arrows\": \"to\"}, {\"from\": 9, \"to\": 24, \"arrows\": \"to\"}, {\"from\": 10, \"to\": 25, \"arrows\": \"to\"}, {\"from\": 11, \"to\": 26, \"arrows\": \"to\"}, {\"from\": 12, \"to\": 27, \"arrows\": \"to\"}, {\"from\": 13, \"to\": 28, \"arrows\": \"to\"}, {\"from\": 14, \"to\": 29, \"arrows\": \"to\"}, {\"from\": 15, \"to\": 30, \"arrows\": \"to\"}, {\"from\": 16, \"to\": 31, \"arrows\": \"to\"}, {\"from\": 17, \"to\": 31, \"arrows\": \"to\"}, {\"from\": 18, \"to\": 31, \"arrows\": \"to\"}, {\"from\": 19, \"to\": 31, \"arrows\": \"to\"}, {\"from\": 20, \"to\": 31, \"arrows\": \"to\"}, {\"from\": 21, \"to\": 31, \"arrows\": \"to\"}, {\"from\": 22, \"to\": 31, \"arrows\": \"to\"}, {\"from\": 23, \"to\": 31, \"arrows\": \"to\"}, {\"from\": 24, \"to\": 31, \"arrows\": \"to\"}, {\"from\": 25, \"to\": 31, \"arrows\": \"to\"}, {\"from\": 26, \"to\": 31, \"arrows\": \"to\"}, {\"from\": 27, \"to\": 31, \"arrows\": \"to\"}, {\"from\": 28, \"to\": 31, \"arrows\": \"to\"}, {\"from\": 29, \"to\": 31, \"arrows\": \"to\"}, {\"from\": 30, \"to\": 31, \"arrows\": \"to\"}];\n",
       "                   "
      ],
      "text/plain": [
       "<IPython.core.display.Javascript object>"
      ]
     },
     "metadata": {},
     "output_type": "display_data"
    },
    {
     "data": {
      "application/javascript": [
       "require.config({paths: {vis: 'https://cdnjs.cloudflare.com/ajax/libs/vis/4.21.0/vis.min'}});\n",
       "require(['vis'], function (vis){\n",
       "    if (document.getElementById(\"mynetwork\") == null) {\n",
       "        element.append('<div id=\"mynetwork\" style=\"width:950px;height:750px;border:1px solid lightgray;\"></div>');\n",
       "    }\n",
       "    var nodes = new vis.DataSet(window.nodesList);\n",
       "    var edges = new vis.DataSet(window.edgesList);\n",
       "    var container = document.getElementById('mynetwork');\n",
       "    var data = {\n",
       "         nodes: nodes,\n",
       "         edges: edges\n",
       "     };\n",
       "     var options = {interaction:{hover:true}, \n",
       "                   layout: {\n",
       "                    hierarchical: {\n",
       "                        direction: 'UD'\n",
       "                    }}\n",
       "                   };\n",
       "     var network = new vis.Network(container, data, options);\n",
       "     network.on(\"hoverNode\", function (params) {\n",
       "             \n",
       "     });\n",
       "     network.on(\"hoverEdge\", function (params) {\n",
       "            \n",
       "     });\n",
       "     network.on(\"blurNode\", function (params) {\n",
       "             \n",
       "     });\n",
       "     network.on(\"blurEdge\", function (params) {\n",
       "             \n",
       "     });\n",
       "});"
      ],
      "text/plain": [
       "<IPython.core.display.Javascript object>"
      ]
     },
     "metadata": {},
     "output_type": "display_data"
    },
    {
     "data": {
      "application/javascript": [
       "window.nodesList=[{\"id\": 0, \"label\": \"0\\ntest_deps\", \"color\": \"Red\", \"font\": {\"background\": \"white\"}, \"title\": \"Failed\"}, {\"id\": 1, \"label\": \"1\\nsleep_fail\", \"color\": \"Green\", \"font\": {\"background\": \"white\"}, \"title\": \"Finished\"}, {\"id\": 2, \"label\": \"2\\nsleep_fail\", \"color\": \"Red\", \"font\": {\"background\": \"white\"}, \"title\": \"Failed\"}, {\"id\": 3, \"label\": \"3\\nsleep_fail\", \"color\": \"Green\", \"font\": {\"background\": \"white\"}, \"title\": \"Finished\"}, {\"id\": 4, \"label\": \"4\\nsleep_fail\", \"color\": \"Green\", \"font\": {\"background\": \"white\"}, \"title\": \"Finished\"}, {\"id\": 5, \"label\": \"5\\nsleep_fail\", \"color\": \"Green\", \"font\": {\"background\": \"white\"}, \"title\": \"Finished\"}, {\"id\": 6, \"label\": \"6\\nsleep_fail\", \"color\": \"Green\", \"font\": {\"background\": \"white\"}, \"title\": \"Finished\"}, {\"id\": 7, \"label\": \"7\\nsleep_fail\", \"color\": \"Green\", \"font\": {\"background\": \"white\"}, \"title\": \"Finished\"}, {\"id\": 8, \"label\": \"8\\nsleep_fail\", \"color\": \"Red\", \"font\": {\"background\": \"white\"}, \"title\": \"Failed\"}, {\"id\": 9, \"label\": \"9\\nsleep_fail\", \"color\": \"Red\", \"font\": {\"background\": \"white\"}, \"title\": \"Failed\"}, {\"id\": 10, \"label\": \"10\\nsleep_fail\", \"color\": \"Red\", \"font\": {\"background\": \"white\"}, \"title\": \"Failed\"}, {\"id\": 11, \"label\": \"11\\nsleep_fail\", \"color\": \"Green\", \"font\": {\"background\": \"white\"}, \"title\": \"Finished\"}, {\"id\": 12, \"label\": \"12\\nsleep_fail\", \"color\": \"Red\", \"font\": {\"background\": \"white\"}, \"title\": \"Failed\"}, {\"id\": 13, \"label\": \"13\\nsleep_fail\", \"color\": \"Red\", \"font\": {\"background\": \"white\"}, \"title\": \"Failed\"}, {\"id\": 14, \"label\": \"14\\nsleep_fail\", \"color\": \"Green\", \"font\": {\"background\": \"white\"}, \"title\": \"Finished\"}, {\"id\": 15, \"label\": \"15\\nsleep_fail\", \"color\": \"Green\", \"font\": {\"background\": \"white\"}, \"title\": \"Finished\"}, {\"id\": 16, \"label\": \"16\\nsleep_fail\", \"color\": \"Green\", \"font\": {\"background\": \"white\"}, \"title\": \"Finished\"}, {\"id\": 17, \"label\": \"17\\nsleep_fail\", \"color\": \"orange\", \"font\": {\"background\": \"white\"}, \"title\": \"Dependency Failure\"}, {\"id\": 18, \"label\": \"18\\nsleep_fail\", \"color\": \"Green\", \"font\": {\"background\": \"white\"}, \"title\": \"Finished\"}, {\"id\": 19, \"label\": \"19\\nsleep_fail\", \"color\": \"Green\", \"font\": {\"background\": \"white\"}, \"title\": \"Finished\"}, {\"id\": 20, \"label\": \"20\\nsleep_fail\", \"color\": \"Green\", \"font\": {\"background\": \"white\"}, \"title\": \"Finished\"}, {\"id\": 21, \"label\": \"21\\nsleep_fail\", \"color\": \"Green\", \"font\": {\"background\": \"white\"}, \"title\": \"Finished\"}, {\"id\": 22, \"label\": \"22\\nsleep_fail\", \"color\": \"Green\", \"font\": {\"background\": \"white\"}, \"title\": \"Finished\"}, {\"id\": 23, \"label\": \"23\\nsleep_fail\", \"color\": \"orange\", \"font\": {\"background\": \"white\"}, \"title\": \"Dependency Failure\"}, {\"id\": 24, \"label\": \"24\\nsleep_fail\", \"color\": \"Red\", \"font\": {\"background\": \"white\"}, \"title\": \"Failed\"}, {\"id\": 25, \"label\": \"25\\nsleep_fail\", \"color\": \"orange\", \"font\": {\"background\": \"white\"}, \"title\": \"Dependency Failure\"}, {\"id\": 26, \"label\": \"26\\nsleep_fail\", \"color\": \"Green\", \"font\": {\"background\": \"white\"}, \"title\": \"Finished\"}, {\"id\": 27, \"label\": \"27\\nsleep_fail\", \"color\": \"orange\", \"font\": {\"background\": \"white\"}, \"title\": \"Dependency Failure\"}, {\"id\": 28, \"label\": \"28\\nsleep_fail\", \"color\": \"orange\", \"font\": {\"background\": \"white\"}, \"title\": \"Dependency Failure\"}, {\"id\": 29, \"label\": \"29\\nsleep_fail\", \"color\": \"Green\", \"font\": {\"background\": \"white\"}, \"title\": \"Finished\"}, {\"id\": 30, \"label\": \"30\\nsleep_fail\", \"color\": \"Green\", \"font\": {\"background\": \"white\"}, \"title\": \"Finished\"}, {\"id\": 31, \"label\": \"31\\nsleep_fail\", \"color\": \"orange\", \"font\": {\"background\": \"white\"}, \"title\": \"Dependency Failure\"}];\n",
       "                      window.edgesList=[{\"from\": 1, \"to\": 16, \"arrows\": \"to\"}, {\"from\": 2, \"to\": 17, \"arrows\": \"to\"}, {\"from\": 3, \"to\": 18, \"arrows\": \"to\"}, {\"from\": 4, \"to\": 19, \"arrows\": \"to\"}, {\"from\": 5, \"to\": 20, \"arrows\": \"to\"}, {\"from\": 6, \"to\": 21, \"arrows\": \"to\"}, {\"from\": 7, \"to\": 22, \"arrows\": \"to\"}, {\"from\": 8, \"to\": 23, \"arrows\": \"to\"}, {\"from\": 9, \"to\": 24, \"arrows\": \"to\"}, {\"from\": 10, \"to\": 25, \"arrows\": \"to\"}, {\"from\": 11, \"to\": 26, \"arrows\": \"to\"}, {\"from\": 12, \"to\": 27, \"arrows\": \"to\"}, {\"from\": 13, \"to\": 28, \"arrows\": \"to\"}, {\"from\": 14, \"to\": 29, \"arrows\": \"to\"}, {\"from\": 15, \"to\": 30, \"arrows\": \"to\"}, {\"from\": 16, \"to\": 31, \"arrows\": \"to\"}, {\"from\": 17, \"to\": 31, \"arrows\": \"to\"}, {\"from\": 18, \"to\": 31, \"arrows\": \"to\"}, {\"from\": 19, \"to\": 31, \"arrows\": \"to\"}, {\"from\": 20, \"to\": 31, \"arrows\": \"to\"}, {\"from\": 21, \"to\": 31, \"arrows\": \"to\"}, {\"from\": 22, \"to\": 31, \"arrows\": \"to\"}, {\"from\": 23, \"to\": 31, \"arrows\": \"to\"}, {\"from\": 24, \"to\": 31, \"arrows\": \"to\"}, {\"from\": 25, \"to\": 31, \"arrows\": \"to\"}, {\"from\": 26, \"to\": 31, \"arrows\": \"to\"}, {\"from\": 27, \"to\": 31, \"arrows\": \"to\"}, {\"from\": 28, \"to\": 31, \"arrows\": \"to\"}, {\"from\": 29, \"to\": 31, \"arrows\": \"to\"}, {\"from\": 30, \"to\": 31, \"arrows\": \"to\"}];\n",
       "                   "
      ],
      "text/plain": [
       "<IPython.core.display.Javascript object>"
      ]
     },
     "metadata": {},
     "output_type": "display_data"
    },
    {
     "data": {
      "application/javascript": [
       "require.config({paths: {vis: 'https://cdnjs.cloudflare.com/ajax/libs/vis/4.21.0/vis.min'}});\n",
       "require(['vis'], function (vis){\n",
       "    if (document.getElementById(\"mynetwork\") == null) {\n",
       "        element.append('<div id=\"mynetwork\" style=\"width:950px;height:750px;border:1px solid lightgray;\"></div>');\n",
       "    }\n",
       "    var nodes = new vis.DataSet(window.nodesList);\n",
       "    var edges = new vis.DataSet(window.edgesList);\n",
       "    var container = document.getElementById('mynetwork');\n",
       "    var data = {\n",
       "         nodes: nodes,\n",
       "         edges: edges\n",
       "     };\n",
       "     var options = {interaction:{hover:true}, \n",
       "                   layout: {\n",
       "                    hierarchical: {\n",
       "                        direction: 'UD'\n",
       "                    }}\n",
       "                   };\n",
       "     var network = new vis.Network(container, data, options);\n",
       "     network.on(\"hoverNode\", function (params) {\n",
       "             \n",
       "     });\n",
       "     network.on(\"hoverEdge\", function (params) {\n",
       "            \n",
       "     });\n",
       "     network.on(\"blurNode\", function (params) {\n",
       "             \n",
       "     });\n",
       "     network.on(\"blurEdge\", function (params) {\n",
       "             \n",
       "     });\n",
       "});"
      ],
      "text/plain": [
       "<IPython.core.display.Javascript object>"
      ]
     },
     "metadata": {},
     "output_type": "display_data"
    },
    {
     "data": {
      "application/javascript": [
       "window.nodesList=[{\"id\": 0, \"label\": \"0\\ntest_deps\", \"color\": \"Red\", \"font\": {\"background\": \"white\"}, \"title\": \"Failed\"}, {\"id\": 1, \"label\": \"1\\nsleep_fail\", \"color\": \"Green\", \"font\": {\"background\": \"white\"}, \"title\": \"Finished\"}, {\"id\": 2, \"label\": \"2\\nsleep_fail\", \"color\": \"Red\", \"font\": {\"background\": \"white\"}, \"title\": \"Failed\"}, {\"id\": 3, \"label\": \"3\\nsleep_fail\", \"color\": \"Green\", \"font\": {\"background\": \"white\"}, \"title\": \"Finished\"}, {\"id\": 4, \"label\": \"4\\nsleep_fail\", \"color\": \"Green\", \"font\": {\"background\": \"white\"}, \"title\": \"Finished\"}, {\"id\": 5, \"label\": \"5\\nsleep_fail\", \"color\": \"Green\", \"font\": {\"background\": \"white\"}, \"title\": \"Finished\"}, {\"id\": 6, \"label\": \"6\\nsleep_fail\", \"color\": \"Green\", \"font\": {\"background\": \"white\"}, \"title\": \"Finished\"}, {\"id\": 7, \"label\": \"7\\nsleep_fail\", \"color\": \"Green\", \"font\": {\"background\": \"white\"}, \"title\": \"Finished\"}, {\"id\": 8, \"label\": \"8\\nsleep_fail\", \"color\": \"Red\", \"font\": {\"background\": \"white\"}, \"title\": \"Failed\"}, {\"id\": 9, \"label\": \"9\\nsleep_fail\", \"color\": \"Red\", \"font\": {\"background\": \"white\"}, \"title\": \"Failed\"}, {\"id\": 10, \"label\": \"10\\nsleep_fail\", \"color\": \"Red\", \"font\": {\"background\": \"white\"}, \"title\": \"Failed\"}, {\"id\": 11, \"label\": \"11\\nsleep_fail\", \"color\": \"Green\", \"font\": {\"background\": \"white\"}, \"title\": \"Finished\"}, {\"id\": 12, \"label\": \"12\\nsleep_fail\", \"color\": \"Red\", \"font\": {\"background\": \"white\"}, \"title\": \"Failed\"}, {\"id\": 13, \"label\": \"13\\nsleep_fail\", \"color\": \"Red\", \"font\": {\"background\": \"white\"}, \"title\": \"Failed\"}, {\"id\": 14, \"label\": \"14\\nsleep_fail\", \"color\": \"Green\", \"font\": {\"background\": \"white\"}, \"title\": \"Finished\"}, {\"id\": 15, \"label\": \"15\\nsleep_fail\", \"color\": \"Green\", \"font\": {\"background\": \"white\"}, \"title\": \"Finished\"}, {\"id\": 16, \"label\": \"16\\nsleep_fail\", \"color\": \"Green\", \"font\": {\"background\": \"white\"}, \"title\": \"Finished\"}, {\"id\": 17, \"label\": \"17\\nsleep_fail\", \"color\": \"orange\", \"font\": {\"background\": \"white\"}, \"title\": \"Dependency Failure\"}, {\"id\": 18, \"label\": \"18\\nsleep_fail\", \"color\": \"Green\", \"font\": {\"background\": \"white\"}, \"title\": \"Finished\"}, {\"id\": 19, \"label\": \"19\\nsleep_fail\", \"color\": \"Green\", \"font\": {\"background\": \"white\"}, \"title\": \"Finished\"}, {\"id\": 20, \"label\": \"20\\nsleep_fail\", \"color\": \"Green\", \"font\": {\"background\": \"white\"}, \"title\": \"Finished\"}, {\"id\": 21, \"label\": \"21\\nsleep_fail\", \"color\": \"Green\", \"font\": {\"background\": \"white\"}, \"title\": \"Finished\"}, {\"id\": 22, \"label\": \"22\\nsleep_fail\", \"color\": \"Green\", \"font\": {\"background\": \"white\"}, \"title\": \"Finished\"}, {\"id\": 23, \"label\": \"23\\nsleep_fail\", \"color\": \"orange\", \"font\": {\"background\": \"white\"}, \"title\": \"Dependency Failure\"}, {\"id\": 24, \"label\": \"24\\nsleep_fail\", \"color\": \"Red\", \"font\": {\"background\": \"white\"}, \"title\": \"Failed\"}, {\"id\": 25, \"label\": \"25\\nsleep_fail\", \"color\": \"orange\", \"font\": {\"background\": \"white\"}, \"title\": \"Dependency Failure\"}, {\"id\": 26, \"label\": \"26\\nsleep_fail\", \"color\": \"Green\", \"font\": {\"background\": \"white\"}, \"title\": \"Finished\"}, {\"id\": 27, \"label\": \"27\\nsleep_fail\", \"color\": \"orange\", \"font\": {\"background\": \"white\"}, \"title\": \"Dependency Failure\"}, {\"id\": 28, \"label\": \"28\\nsleep_fail\", \"color\": \"orange\", \"font\": {\"background\": \"white\"}, \"title\": \"Dependency Failure\"}, {\"id\": 29, \"label\": \"29\\nsleep_fail\", \"color\": \"Green\", \"font\": {\"background\": \"white\"}, \"title\": \"Finished\"}, {\"id\": 30, \"label\": \"30\\nsleep_fail\", \"color\": \"Green\", \"font\": {\"background\": \"white\"}, \"title\": \"Finished\"}, {\"id\": 31, \"label\": \"31\\nsleep_fail\", \"color\": \"orange\", \"font\": {\"background\": \"white\"}, \"title\": \"Dependency Failure\"}];\n",
       "                      window.edgesList=[{\"from\": 1, \"to\": 16, \"arrows\": \"to\"}, {\"from\": 2, \"to\": 17, \"arrows\": \"to\"}, {\"from\": 3, \"to\": 18, \"arrows\": \"to\"}, {\"from\": 4, \"to\": 19, \"arrows\": \"to\"}, {\"from\": 5, \"to\": 20, \"arrows\": \"to\"}, {\"from\": 6, \"to\": 21, \"arrows\": \"to\"}, {\"from\": 7, \"to\": 22, \"arrows\": \"to\"}, {\"from\": 8, \"to\": 23, \"arrows\": \"to\"}, {\"from\": 9, \"to\": 24, \"arrows\": \"to\"}, {\"from\": 10, \"to\": 25, \"arrows\": \"to\"}, {\"from\": 11, \"to\": 26, \"arrows\": \"to\"}, {\"from\": 12, \"to\": 27, \"arrows\": \"to\"}, {\"from\": 13, \"to\": 28, \"arrows\": \"to\"}, {\"from\": 14, \"to\": 29, \"arrows\": \"to\"}, {\"from\": 15, \"to\": 30, \"arrows\": \"to\"}, {\"from\": 16, \"to\": 31, \"arrows\": \"to\"}, {\"from\": 17, \"to\": 31, \"arrows\": \"to\"}, {\"from\": 18, \"to\": 31, \"arrows\": \"to\"}, {\"from\": 19, \"to\": 31, \"arrows\": \"to\"}, {\"from\": 20, \"to\": 31, \"arrows\": \"to\"}, {\"from\": 21, \"to\": 31, \"arrows\": \"to\"}, {\"from\": 22, \"to\": 31, \"arrows\": \"to\"}, {\"from\": 23, \"to\": 31, \"arrows\": \"to\"}, {\"from\": 24, \"to\": 31, \"arrows\": \"to\"}, {\"from\": 25, \"to\": 31, \"arrows\": \"to\"}, {\"from\": 26, \"to\": 31, \"arrows\": \"to\"}, {\"from\": 27, \"to\": 31, \"arrows\": \"to\"}, {\"from\": 28, \"to\": 31, \"arrows\": \"to\"}, {\"from\": 29, \"to\": 31, \"arrows\": \"to\"}, {\"from\": 30, \"to\": 31, \"arrows\": \"to\"}];\n",
       "                   "
      ],
      "text/plain": [
       "<IPython.core.display.Javascript object>"
      ]
     },
     "metadata": {},
     "output_type": "display_data"
    },
    {
     "data": {
      "application/javascript": [
       "require.config({paths: {vis: 'https://cdnjs.cloudflare.com/ajax/libs/vis/4.21.0/vis.min'}});\n",
       "require(['vis'], function (vis){\n",
       "    if (document.getElementById(\"mynetwork\") == null) {\n",
       "        element.append('<div id=\"mynetwork\" style=\"width:950px;height:750px;border:1px solid lightgray;\"></div>');\n",
       "    }\n",
       "    var nodes = new vis.DataSet(window.nodesList);\n",
       "    var edges = new vis.DataSet(window.edgesList);\n",
       "    var container = document.getElementById('mynetwork');\n",
       "    var data = {\n",
       "         nodes: nodes,\n",
       "         edges: edges\n",
       "     };\n",
       "     var options = {interaction:{hover:true}, \n",
       "                   layout: {\n",
       "                    hierarchical: {\n",
       "                        direction: 'UD'\n",
       "                    }}\n",
       "                   };\n",
       "     var network = new vis.Network(container, data, options);\n",
       "     network.on(\"hoverNode\", function (params) {\n",
       "             \n",
       "     });\n",
       "     network.on(\"hoverEdge\", function (params) {\n",
       "            \n",
       "     });\n",
       "     network.on(\"blurNode\", function (params) {\n",
       "             \n",
       "     });\n",
       "     network.on(\"blurEdge\", function (params) {\n",
       "             \n",
       "     });\n",
       "});"
      ],
      "text/plain": [
       "<IPython.core.display.Javascript object>"
      ]
     },
     "metadata": {},
     "output_type": "display_data"
    },
    {
     "data": {
      "application/javascript": [
       "window.nodesList=[{\"id\": 0, \"label\": \"0\\ntest_deps\", \"color\": \"Red\", \"font\": {\"background\": \"white\"}, \"title\": \"Failed\"}, {\"id\": 1, \"label\": \"1\\nsleep_fail\", \"color\": \"Green\", \"font\": {\"background\": \"white\"}, \"title\": \"Finished\"}, {\"id\": 2, \"label\": \"2\\nsleep_fail\", \"color\": \"Red\", \"font\": {\"background\": \"white\"}, \"title\": \"Failed\"}, {\"id\": 3, \"label\": \"3\\nsleep_fail\", \"color\": \"Green\", \"font\": {\"background\": \"white\"}, \"title\": \"Finished\"}, {\"id\": 4, \"label\": \"4\\nsleep_fail\", \"color\": \"Green\", \"font\": {\"background\": \"white\"}, \"title\": \"Finished\"}, {\"id\": 5, \"label\": \"5\\nsleep_fail\", \"color\": \"Green\", \"font\": {\"background\": \"white\"}, \"title\": \"Finished\"}, {\"id\": 6, \"label\": \"6\\nsleep_fail\", \"color\": \"Green\", \"font\": {\"background\": \"white\"}, \"title\": \"Finished\"}, {\"id\": 7, \"label\": \"7\\nsleep_fail\", \"color\": \"Green\", \"font\": {\"background\": \"white\"}, \"title\": \"Finished\"}, {\"id\": 8, \"label\": \"8\\nsleep_fail\", \"color\": \"Red\", \"font\": {\"background\": \"white\"}, \"title\": \"Failed\"}, {\"id\": 9, \"label\": \"9\\nsleep_fail\", \"color\": \"Red\", \"font\": {\"background\": \"white\"}, \"title\": \"Failed\"}, {\"id\": 10, \"label\": \"10\\nsleep_fail\", \"color\": \"Red\", \"font\": {\"background\": \"white\"}, \"title\": \"Failed\"}, {\"id\": 11, \"label\": \"11\\nsleep_fail\", \"color\": \"Green\", \"font\": {\"background\": \"white\"}, \"title\": \"Finished\"}, {\"id\": 12, \"label\": \"12\\nsleep_fail\", \"color\": \"Red\", \"font\": {\"background\": \"white\"}, \"title\": \"Failed\"}, {\"id\": 13, \"label\": \"13\\nsleep_fail\", \"color\": \"Red\", \"font\": {\"background\": \"white\"}, \"title\": \"Failed\"}, {\"id\": 14, \"label\": \"14\\nsleep_fail\", \"color\": \"Green\", \"font\": {\"background\": \"white\"}, \"title\": \"Finished\"}, {\"id\": 15, \"label\": \"15\\nsleep_fail\", \"color\": \"Green\", \"font\": {\"background\": \"white\"}, \"title\": \"Finished\"}, {\"id\": 16, \"label\": \"16\\nsleep_fail\", \"color\": \"Green\", \"font\": {\"background\": \"white\"}, \"title\": \"Finished\"}, {\"id\": 17, \"label\": \"17\\nsleep_fail\", \"color\": \"orange\", \"font\": {\"background\": \"white\"}, \"title\": \"Dependency Failure\"}, {\"id\": 18, \"label\": \"18\\nsleep_fail\", \"color\": \"Green\", \"font\": {\"background\": \"white\"}, \"title\": \"Finished\"}, {\"id\": 19, \"label\": \"19\\nsleep_fail\", \"color\": \"Green\", \"font\": {\"background\": \"white\"}, \"title\": \"Finished\"}, {\"id\": 20, \"label\": \"20\\nsleep_fail\", \"color\": \"Green\", \"font\": {\"background\": \"white\"}, \"title\": \"Finished\"}, {\"id\": 21, \"label\": \"21\\nsleep_fail\", \"color\": \"Green\", \"font\": {\"background\": \"white\"}, \"title\": \"Finished\"}, {\"id\": 22, \"label\": \"22\\nsleep_fail\", \"color\": \"Green\", \"font\": {\"background\": \"white\"}, \"title\": \"Finished\"}, {\"id\": 23, \"label\": \"23\\nsleep_fail\", \"color\": \"orange\", \"font\": {\"background\": \"white\"}, \"title\": \"Dependency Failure\"}, {\"id\": 24, \"label\": \"24\\nsleep_fail\", \"color\": \"Red\", \"font\": {\"background\": \"white\"}, \"title\": \"Failed\"}, {\"id\": 25, \"label\": \"25\\nsleep_fail\", \"color\": \"orange\", \"font\": {\"background\": \"white\"}, \"title\": \"Dependency Failure\"}, {\"id\": 26, \"label\": \"26\\nsleep_fail\", \"color\": \"Green\", \"font\": {\"background\": \"white\"}, \"title\": \"Finished\"}, {\"id\": 27, \"label\": \"27\\nsleep_fail\", \"color\": \"orange\", \"font\": {\"background\": \"white\"}, \"title\": \"Dependency Failure\"}, {\"id\": 28, \"label\": \"28\\nsleep_fail\", \"color\": \"orange\", \"font\": {\"background\": \"white\"}, \"title\": \"Dependency Failure\"}, {\"id\": 29, \"label\": \"29\\nsleep_fail\", \"color\": \"Green\", \"font\": {\"background\": \"white\"}, \"title\": \"Finished\"}, {\"id\": 30, \"label\": \"30\\nsleep_fail\", \"color\": \"Green\", \"font\": {\"background\": \"white\"}, \"title\": \"Finished\"}, {\"id\": 31, \"label\": \"31\\nsleep_fail\", \"color\": \"orange\", \"font\": {\"background\": \"white\"}, \"title\": \"Dependency Failure\"}];\n",
       "                      window.edgesList=[{\"from\": 1, \"to\": 16, \"arrows\": \"to\"}, {\"from\": 2, \"to\": 17, \"arrows\": \"to\"}, {\"from\": 3, \"to\": 18, \"arrows\": \"to\"}, {\"from\": 4, \"to\": 19, \"arrows\": \"to\"}, {\"from\": 5, \"to\": 20, \"arrows\": \"to\"}, {\"from\": 6, \"to\": 21, \"arrows\": \"to\"}, {\"from\": 7, \"to\": 22, \"arrows\": \"to\"}, {\"from\": 8, \"to\": 23, \"arrows\": \"to\"}, {\"from\": 9, \"to\": 24, \"arrows\": \"to\"}, {\"from\": 10, \"to\": 25, \"arrows\": \"to\"}, {\"from\": 11, \"to\": 26, \"arrows\": \"to\"}, {\"from\": 12, \"to\": 27, \"arrows\": \"to\"}, {\"from\": 13, \"to\": 28, \"arrows\": \"to\"}, {\"from\": 14, \"to\": 29, \"arrows\": \"to\"}, {\"from\": 15, \"to\": 30, \"arrows\": \"to\"}, {\"from\": 16, \"to\": 31, \"arrows\": \"to\"}, {\"from\": 17, \"to\": 31, \"arrows\": \"to\"}, {\"from\": 18, \"to\": 31, \"arrows\": \"to\"}, {\"from\": 19, \"to\": 31, \"arrows\": \"to\"}, {\"from\": 20, \"to\": 31, \"arrows\": \"to\"}, {\"from\": 21, \"to\": 31, \"arrows\": \"to\"}, {\"from\": 22, \"to\": 31, \"arrows\": \"to\"}, {\"from\": 23, \"to\": 31, \"arrows\": \"to\"}, {\"from\": 24, \"to\": 31, \"arrows\": \"to\"}, {\"from\": 25, \"to\": 31, \"arrows\": \"to\"}, {\"from\": 26, \"to\": 31, \"arrows\": \"to\"}, {\"from\": 27, \"to\": 31, \"arrows\": \"to\"}, {\"from\": 28, \"to\": 31, \"arrows\": \"to\"}, {\"from\": 29, \"to\": 31, \"arrows\": \"to\"}, {\"from\": 30, \"to\": 31, \"arrows\": \"to\"}];\n",
       "                   "
      ],
      "text/plain": [
       "<IPython.core.display.Javascript object>"
      ]
     },
     "metadata": {},
     "output_type": "display_data"
    },
    {
     "data": {
      "application/javascript": [
       "require.config({paths: {vis: 'https://cdnjs.cloudflare.com/ajax/libs/vis/4.21.0/vis.min'}});\n",
       "require(['vis'], function (vis){\n",
       "    if (document.getElementById(\"mynetwork\") == null) {\n",
       "        element.append('<div id=\"mynetwork\" style=\"width:950px;height:750px;border:1px solid lightgray;\"></div>');\n",
       "    }\n",
       "    var nodes = new vis.DataSet(window.nodesList);\n",
       "    var edges = new vis.DataSet(window.edgesList);\n",
       "    var container = document.getElementById('mynetwork');\n",
       "    var data = {\n",
       "         nodes: nodes,\n",
       "         edges: edges\n",
       "     };\n",
       "     var options = {interaction:{hover:true}, \n",
       "                   layout: {\n",
       "                    hierarchical: {\n",
       "                        direction: 'UD'\n",
       "                    }}\n",
       "                   };\n",
       "     var network = new vis.Network(container, data, options);\n",
       "     network.on(\"hoverNode\", function (params) {\n",
       "             \n",
       "     });\n",
       "     network.on(\"hoverEdge\", function (params) {\n",
       "            \n",
       "     });\n",
       "     network.on(\"blurNode\", function (params) {\n",
       "             \n",
       "     });\n",
       "     network.on(\"blurEdge\", function (params) {\n",
       "             \n",
       "     });\n",
       "});"
      ],
      "text/plain": [
       "<IPython.core.display.Javascript object>"
      ]
     },
     "metadata": {},
     "output_type": "display_data"
    },
    {
     "data": {
      "application/javascript": [
       "window.nodesList=[{\"id\": 0, \"label\": \"0\\ntest_deps\", \"color\": \"Red\", \"font\": {\"background\": \"white\"}, \"title\": \"Failed\"}, {\"id\": 1, \"label\": \"1\\nsleep_fail\", \"color\": \"Green\", \"font\": {\"background\": \"white\"}, \"title\": \"Finished\"}, {\"id\": 2, \"label\": \"2\\nsleep_fail\", \"color\": \"Red\", \"font\": {\"background\": \"white\"}, \"title\": \"Failed\"}, {\"id\": 3, \"label\": \"3\\nsleep_fail\", \"color\": \"Green\", \"font\": {\"background\": \"white\"}, \"title\": \"Finished\"}, {\"id\": 4, \"label\": \"4\\nsleep_fail\", \"color\": \"Green\", \"font\": {\"background\": \"white\"}, \"title\": \"Finished\"}, {\"id\": 5, \"label\": \"5\\nsleep_fail\", \"color\": \"Green\", \"font\": {\"background\": \"white\"}, \"title\": \"Finished\"}, {\"id\": 6, \"label\": \"6\\nsleep_fail\", \"color\": \"Green\", \"font\": {\"background\": \"white\"}, \"title\": \"Finished\"}, {\"id\": 7, \"label\": \"7\\nsleep_fail\", \"color\": \"Green\", \"font\": {\"background\": \"white\"}, \"title\": \"Finished\"}, {\"id\": 8, \"label\": \"8\\nsleep_fail\", \"color\": \"Red\", \"font\": {\"background\": \"white\"}, \"title\": \"Failed\"}, {\"id\": 9, \"label\": \"9\\nsleep_fail\", \"color\": \"Red\", \"font\": {\"background\": \"white\"}, \"title\": \"Failed\"}, {\"id\": 10, \"label\": \"10\\nsleep_fail\", \"color\": \"Red\", \"font\": {\"background\": \"white\"}, \"title\": \"Failed\"}, {\"id\": 11, \"label\": \"11\\nsleep_fail\", \"color\": \"Green\", \"font\": {\"background\": \"white\"}, \"title\": \"Finished\"}, {\"id\": 12, \"label\": \"12\\nsleep_fail\", \"color\": \"Red\", \"font\": {\"background\": \"white\"}, \"title\": \"Failed\"}, {\"id\": 13, \"label\": \"13\\nsleep_fail\", \"color\": \"Red\", \"font\": {\"background\": \"white\"}, \"title\": \"Failed\"}, {\"id\": 14, \"label\": \"14\\nsleep_fail\", \"color\": \"Green\", \"font\": {\"background\": \"white\"}, \"title\": \"Finished\"}, {\"id\": 15, \"label\": \"15\\nsleep_fail\", \"color\": \"Green\", \"font\": {\"background\": \"white\"}, \"title\": \"Finished\"}, {\"id\": 16, \"label\": \"16\\nsleep_fail\", \"color\": \"Green\", \"font\": {\"background\": \"white\"}, \"title\": \"Finished\"}, {\"id\": 17, \"label\": \"17\\nsleep_fail\", \"color\": \"orange\", \"font\": {\"background\": \"white\"}, \"title\": \"Dependency Failure\"}, {\"id\": 18, \"label\": \"18\\nsleep_fail\", \"color\": \"Green\", \"font\": {\"background\": \"white\"}, \"title\": \"Finished\"}, {\"id\": 19, \"label\": \"19\\nsleep_fail\", \"color\": \"Green\", \"font\": {\"background\": \"white\"}, \"title\": \"Finished\"}, {\"id\": 20, \"label\": \"20\\nsleep_fail\", \"color\": \"Green\", \"font\": {\"background\": \"white\"}, \"title\": \"Finished\"}, {\"id\": 21, \"label\": \"21\\nsleep_fail\", \"color\": \"Green\", \"font\": {\"background\": \"white\"}, \"title\": \"Finished\"}, {\"id\": 22, \"label\": \"22\\nsleep_fail\", \"color\": \"Green\", \"font\": {\"background\": \"white\"}, \"title\": \"Finished\"}, {\"id\": 23, \"label\": \"23\\nsleep_fail\", \"color\": \"orange\", \"font\": {\"background\": \"white\"}, \"title\": \"Dependency Failure\"}, {\"id\": 24, \"label\": \"24\\nsleep_fail\", \"color\": \"Red\", \"font\": {\"background\": \"white\"}, \"title\": \"Failed\"}, {\"id\": 25, \"label\": \"25\\nsleep_fail\", \"color\": \"orange\", \"font\": {\"background\": \"white\"}, \"title\": \"Dependency Failure\"}, {\"id\": 26, \"label\": \"26\\nsleep_fail\", \"color\": \"Green\", \"font\": {\"background\": \"white\"}, \"title\": \"Finished\"}, {\"id\": 27, \"label\": \"27\\nsleep_fail\", \"color\": \"orange\", \"font\": {\"background\": \"white\"}, \"title\": \"Dependency Failure\"}, {\"id\": 28, \"label\": \"28\\nsleep_fail\", \"color\": \"orange\", \"font\": {\"background\": \"white\"}, \"title\": \"Dependency Failure\"}, {\"id\": 29, \"label\": \"29\\nsleep_fail\", \"color\": \"Green\", \"font\": {\"background\": \"white\"}, \"title\": \"Finished\"}, {\"id\": 30, \"label\": \"30\\nsleep_fail\", \"color\": \"Green\", \"font\": {\"background\": \"white\"}, \"title\": \"Finished\"}, {\"id\": 31, \"label\": \"31\\nsleep_fail\", \"color\": \"orange\", \"font\": {\"background\": \"white\"}, \"title\": \"Dependency Failure\"}];\n",
       "                      window.edgesList=[{\"from\": 1, \"to\": 16, \"arrows\": \"to\"}, {\"from\": 2, \"to\": 17, \"arrows\": \"to\"}, {\"from\": 3, \"to\": 18, \"arrows\": \"to\"}, {\"from\": 4, \"to\": 19, \"arrows\": \"to\"}, {\"from\": 5, \"to\": 20, \"arrows\": \"to\"}, {\"from\": 6, \"to\": 21, \"arrows\": \"to\"}, {\"from\": 7, \"to\": 22, \"arrows\": \"to\"}, {\"from\": 8, \"to\": 23, \"arrows\": \"to\"}, {\"from\": 9, \"to\": 24, \"arrows\": \"to\"}, {\"from\": 10, \"to\": 25, \"arrows\": \"to\"}, {\"from\": 11, \"to\": 26, \"arrows\": \"to\"}, {\"from\": 12, \"to\": 27, \"arrows\": \"to\"}, {\"from\": 13, \"to\": 28, \"arrows\": \"to\"}, {\"from\": 14, \"to\": 29, \"arrows\": \"to\"}, {\"from\": 15, \"to\": 30, \"arrows\": \"to\"}, {\"from\": 16, \"to\": 31, \"arrows\": \"to\"}, {\"from\": 17, \"to\": 31, \"arrows\": \"to\"}, {\"from\": 18, \"to\": 31, \"arrows\": \"to\"}, {\"from\": 19, \"to\": 31, \"arrows\": \"to\"}, {\"from\": 20, \"to\": 31, \"arrows\": \"to\"}, {\"from\": 21, \"to\": 31, \"arrows\": \"to\"}, {\"from\": 22, \"to\": 31, \"arrows\": \"to\"}, {\"from\": 23, \"to\": 31, \"arrows\": \"to\"}, {\"from\": 24, \"to\": 31, \"arrows\": \"to\"}, {\"from\": 25, \"to\": 31, \"arrows\": \"to\"}, {\"from\": 26, \"to\": 31, \"arrows\": \"to\"}, {\"from\": 27, \"to\": 31, \"arrows\": \"to\"}, {\"from\": 28, \"to\": 31, \"arrows\": \"to\"}, {\"from\": 29, \"to\": 31, \"arrows\": \"to\"}, {\"from\": 30, \"to\": 31, \"arrows\": \"to\"}];\n",
       "                   "
      ],
      "text/plain": [
       "<IPython.core.display.Javascript object>"
      ]
     },
     "metadata": {},
     "output_type": "display_data"
    },
    {
     "data": {
      "application/javascript": [
       "require.config({paths: {vis: 'https://cdnjs.cloudflare.com/ajax/libs/vis/4.21.0/vis.min'}});\n",
       "require(['vis'], function (vis){\n",
       "    if (document.getElementById(\"mynetwork\") == null) {\n",
       "        element.append('<div id=\"mynetwork\" style=\"width:950px;height:750px;border:1px solid lightgray;\"></div>');\n",
       "    }\n",
       "    var nodes = new vis.DataSet(window.nodesList);\n",
       "    var edges = new vis.DataSet(window.edgesList);\n",
       "    var container = document.getElementById('mynetwork');\n",
       "    var data = {\n",
       "         nodes: nodes,\n",
       "         edges: edges\n",
       "     };\n",
       "     var options = {interaction:{hover:true}, \n",
       "                   layout: {\n",
       "                    hierarchical: {\n",
       "                        direction: 'UD'\n",
       "                    }}\n",
       "                   };\n",
       "     var network = new vis.Network(container, data, options);\n",
       "     network.on(\"hoverNode\", function (params) {\n",
       "             \n",
       "     });\n",
       "     network.on(\"hoverEdge\", function (params) {\n",
       "            \n",
       "     });\n",
       "     network.on(\"blurNode\", function (params) {\n",
       "             \n",
       "     });\n",
       "     network.on(\"blurEdge\", function (params) {\n",
       "             \n",
       "     });\n",
       "});"
      ],
      "text/plain": [
       "<IPython.core.display.Javascript object>"
      ]
     },
     "metadata": {},
     "output_type": "display_data"
    },
    {
     "data": {
      "application/javascript": [
       "window.nodesList=[{\"id\": 0, \"label\": \"0\\ntest_deps\", \"color\": \"Red\", \"font\": {\"background\": \"white\"}, \"title\": \"Failed\"}, {\"id\": 1, \"label\": \"1\\nsleep_fail\", \"color\": \"Green\", \"font\": {\"background\": \"white\"}, \"title\": \"Finished\"}, {\"id\": 2, \"label\": \"2\\nsleep_fail\", \"color\": \"Red\", \"font\": {\"background\": \"white\"}, \"title\": \"Failed\"}, {\"id\": 3, \"label\": \"3\\nsleep_fail\", \"color\": \"Green\", \"font\": {\"background\": \"white\"}, \"title\": \"Finished\"}, {\"id\": 4, \"label\": \"4\\nsleep_fail\", \"color\": \"Green\", \"font\": {\"background\": \"white\"}, \"title\": \"Finished\"}, {\"id\": 5, \"label\": \"5\\nsleep_fail\", \"color\": \"Green\", \"font\": {\"background\": \"white\"}, \"title\": \"Finished\"}, {\"id\": 6, \"label\": \"6\\nsleep_fail\", \"color\": \"Green\", \"font\": {\"background\": \"white\"}, \"title\": \"Finished\"}, {\"id\": 7, \"label\": \"7\\nsleep_fail\", \"color\": \"Green\", \"font\": {\"background\": \"white\"}, \"title\": \"Finished\"}, {\"id\": 8, \"label\": \"8\\nsleep_fail\", \"color\": \"Red\", \"font\": {\"background\": \"white\"}, \"title\": \"Failed\"}, {\"id\": 9, \"label\": \"9\\nsleep_fail\", \"color\": \"Red\", \"font\": {\"background\": \"white\"}, \"title\": \"Failed\"}, {\"id\": 10, \"label\": \"10\\nsleep_fail\", \"color\": \"Red\", \"font\": {\"background\": \"white\"}, \"title\": \"Failed\"}, {\"id\": 11, \"label\": \"11\\nsleep_fail\", \"color\": \"Green\", \"font\": {\"background\": \"white\"}, \"title\": \"Finished\"}, {\"id\": 12, \"label\": \"12\\nsleep_fail\", \"color\": \"Red\", \"font\": {\"background\": \"white\"}, \"title\": \"Failed\"}, {\"id\": 13, \"label\": \"13\\nsleep_fail\", \"color\": \"Red\", \"font\": {\"background\": \"white\"}, \"title\": \"Failed\"}, {\"id\": 14, \"label\": \"14\\nsleep_fail\", \"color\": \"Green\", \"font\": {\"background\": \"white\"}, \"title\": \"Finished\"}, {\"id\": 15, \"label\": \"15\\nsleep_fail\", \"color\": \"Green\", \"font\": {\"background\": \"white\"}, \"title\": \"Finished\"}, {\"id\": 16, \"label\": \"16\\nsleep_fail\", \"color\": \"Green\", \"font\": {\"background\": \"white\"}, \"title\": \"Finished\"}, {\"id\": 17, \"label\": \"17\\nsleep_fail\", \"color\": \"orange\", \"font\": {\"background\": \"white\"}, \"title\": \"Dependency Failure\"}, {\"id\": 18, \"label\": \"18\\nsleep_fail\", \"color\": \"Green\", \"font\": {\"background\": \"white\"}, \"title\": \"Finished\"}, {\"id\": 19, \"label\": \"19\\nsleep_fail\", \"color\": \"Green\", \"font\": {\"background\": \"white\"}, \"title\": \"Finished\"}, {\"id\": 20, \"label\": \"20\\nsleep_fail\", \"color\": \"Green\", \"font\": {\"background\": \"white\"}, \"title\": \"Finished\"}, {\"id\": 21, \"label\": \"21\\nsleep_fail\", \"color\": \"Green\", \"font\": {\"background\": \"white\"}, \"title\": \"Finished\"}, {\"id\": 22, \"label\": \"22\\nsleep_fail\", \"color\": \"Green\", \"font\": {\"background\": \"white\"}, \"title\": \"Finished\"}, {\"id\": 23, \"label\": \"23\\nsleep_fail\", \"color\": \"orange\", \"font\": {\"background\": \"white\"}, \"title\": \"Dependency Failure\"}, {\"id\": 24, \"label\": \"24\\nsleep_fail\", \"color\": \"Red\", \"font\": {\"background\": \"white\"}, \"title\": \"Failed\"}, {\"id\": 25, \"label\": \"25\\nsleep_fail\", \"color\": \"orange\", \"font\": {\"background\": \"white\"}, \"title\": \"Dependency Failure\"}, {\"id\": 26, \"label\": \"26\\nsleep_fail\", \"color\": \"Green\", \"font\": {\"background\": \"white\"}, \"title\": \"Finished\"}, {\"id\": 27, \"label\": \"27\\nsleep_fail\", \"color\": \"orange\", \"font\": {\"background\": \"white\"}, \"title\": \"Dependency Failure\"}, {\"id\": 28, \"label\": \"28\\nsleep_fail\", \"color\": \"orange\", \"font\": {\"background\": \"white\"}, \"title\": \"Dependency Failure\"}, {\"id\": 29, \"label\": \"29\\nsleep_fail\", \"color\": \"Green\", \"font\": {\"background\": \"white\"}, \"title\": \"Finished\"}, {\"id\": 30, \"label\": \"30\\nsleep_fail\", \"color\": \"Green\", \"font\": {\"background\": \"white\"}, \"title\": \"Finished\"}, {\"id\": 31, \"label\": \"31\\nsleep_fail\", \"color\": \"orange\", \"font\": {\"background\": \"white\"}, \"title\": \"Dependency Failure\"}];\n",
       "                      window.edgesList=[{\"from\": 1, \"to\": 16, \"arrows\": \"to\"}, {\"from\": 2, \"to\": 17, \"arrows\": \"to\"}, {\"from\": 3, \"to\": 18, \"arrows\": \"to\"}, {\"from\": 4, \"to\": 19, \"arrows\": \"to\"}, {\"from\": 5, \"to\": 20, \"arrows\": \"to\"}, {\"from\": 6, \"to\": 21, \"arrows\": \"to\"}, {\"from\": 7, \"to\": 22, \"arrows\": \"to\"}, {\"from\": 8, \"to\": 23, \"arrows\": \"to\"}, {\"from\": 9, \"to\": 24, \"arrows\": \"to\"}, {\"from\": 10, \"to\": 25, \"arrows\": \"to\"}, {\"from\": 11, \"to\": 26, \"arrows\": \"to\"}, {\"from\": 12, \"to\": 27, \"arrows\": \"to\"}, {\"from\": 13, \"to\": 28, \"arrows\": \"to\"}, {\"from\": 14, \"to\": 29, \"arrows\": \"to\"}, {\"from\": 15, \"to\": 30, \"arrows\": \"to\"}, {\"from\": 16, \"to\": 31, \"arrows\": \"to\"}, {\"from\": 17, \"to\": 31, \"arrows\": \"to\"}, {\"from\": 18, \"to\": 31, \"arrows\": \"to\"}, {\"from\": 19, \"to\": 31, \"arrows\": \"to\"}, {\"from\": 20, \"to\": 31, \"arrows\": \"to\"}, {\"from\": 21, \"to\": 31, \"arrows\": \"to\"}, {\"from\": 22, \"to\": 31, \"arrows\": \"to\"}, {\"from\": 23, \"to\": 31, \"arrows\": \"to\"}, {\"from\": 24, \"to\": 31, \"arrows\": \"to\"}, {\"from\": 25, \"to\": 31, \"arrows\": \"to\"}, {\"from\": 26, \"to\": 31, \"arrows\": \"to\"}, {\"from\": 27, \"to\": 31, \"arrows\": \"to\"}, {\"from\": 28, \"to\": 31, \"arrows\": \"to\"}, {\"from\": 29, \"to\": 31, \"arrows\": \"to\"}, {\"from\": 30, \"to\": 31, \"arrows\": \"to\"}];\n",
       "                   "
      ],
      "text/plain": [
       "<IPython.core.display.Javascript object>"
      ]
     },
     "metadata": {},
     "output_type": "display_data"
    },
    {
     "data": {
      "application/javascript": [
       "require.config({paths: {vis: 'https://cdnjs.cloudflare.com/ajax/libs/vis/4.21.0/vis.min'}});\n",
       "require(['vis'], function (vis){\n",
       "    if (document.getElementById(\"mynetwork\") == null) {\n",
       "        element.append('<div id=\"mynetwork\" style=\"width:950px;height:750px;border:1px solid lightgray;\"></div>');\n",
       "    }\n",
       "    var nodes = new vis.DataSet(window.nodesList);\n",
       "    var edges = new vis.DataSet(window.edgesList);\n",
       "    var container = document.getElementById('mynetwork');\n",
       "    var data = {\n",
       "         nodes: nodes,\n",
       "         edges: edges\n",
       "     };\n",
       "     var options = {interaction:{hover:true}, \n",
       "                   layout: {\n",
       "                    hierarchical: {\n",
       "                        direction: 'UD'\n",
       "                    }}\n",
       "                   };\n",
       "     var network = new vis.Network(container, data, options);\n",
       "     network.on(\"hoverNode\", function (params) {\n",
       "             \n",
       "     });\n",
       "     network.on(\"hoverEdge\", function (params) {\n",
       "            \n",
       "     });\n",
       "     network.on(\"blurNode\", function (params) {\n",
       "             \n",
       "     });\n",
       "     network.on(\"blurEdge\", function (params) {\n",
       "             \n",
       "     });\n",
       "});"
      ],
      "text/plain": [
       "<IPython.core.display.Javascript object>"
      ]
     },
     "metadata": {},
     "output_type": "display_data"
    },
    {
     "data": {
      "application/javascript": [
       "window.nodesList=[{\"id\": 0, \"label\": \"0\\ntest_deps\", \"color\": \"Red\", \"font\": {\"background\": \"white\"}, \"title\": \"Failed\"}, {\"id\": 1, \"label\": \"1\\nsleep_fail\", \"color\": \"Green\", \"font\": {\"background\": \"white\"}, \"title\": \"Finished\"}, {\"id\": 2, \"label\": \"2\\nsleep_fail\", \"color\": \"Red\", \"font\": {\"background\": \"white\"}, \"title\": \"Failed\"}, {\"id\": 3, \"label\": \"3\\nsleep_fail\", \"color\": \"Green\", \"font\": {\"background\": \"white\"}, \"title\": \"Finished\"}, {\"id\": 4, \"label\": \"4\\nsleep_fail\", \"color\": \"Green\", \"font\": {\"background\": \"white\"}, \"title\": \"Finished\"}, {\"id\": 5, \"label\": \"5\\nsleep_fail\", \"color\": \"Green\", \"font\": {\"background\": \"white\"}, \"title\": \"Finished\"}, {\"id\": 6, \"label\": \"6\\nsleep_fail\", \"color\": \"Green\", \"font\": {\"background\": \"white\"}, \"title\": \"Finished\"}, {\"id\": 7, \"label\": \"7\\nsleep_fail\", \"color\": \"Green\", \"font\": {\"background\": \"white\"}, \"title\": \"Finished\"}, {\"id\": 8, \"label\": \"8\\nsleep_fail\", \"color\": \"Red\", \"font\": {\"background\": \"white\"}, \"title\": \"Failed\"}, {\"id\": 9, \"label\": \"9\\nsleep_fail\", \"color\": \"Red\", \"font\": {\"background\": \"white\"}, \"title\": \"Failed\"}, {\"id\": 10, \"label\": \"10\\nsleep_fail\", \"color\": \"Red\", \"font\": {\"background\": \"white\"}, \"title\": \"Failed\"}, {\"id\": 11, \"label\": \"11\\nsleep_fail\", \"color\": \"Green\", \"font\": {\"background\": \"white\"}, \"title\": \"Finished\"}, {\"id\": 12, \"label\": \"12\\nsleep_fail\", \"color\": \"Red\", \"font\": {\"background\": \"white\"}, \"title\": \"Failed\"}, {\"id\": 13, \"label\": \"13\\nsleep_fail\", \"color\": \"Red\", \"font\": {\"background\": \"white\"}, \"title\": \"Failed\"}, {\"id\": 14, \"label\": \"14\\nsleep_fail\", \"color\": \"Green\", \"font\": {\"background\": \"white\"}, \"title\": \"Finished\"}, {\"id\": 15, \"label\": \"15\\nsleep_fail\", \"color\": \"Green\", \"font\": {\"background\": \"white\"}, \"title\": \"Finished\"}, {\"id\": 16, \"label\": \"16\\nsleep_fail\", \"color\": \"Green\", \"font\": {\"background\": \"white\"}, \"title\": \"Finished\"}, {\"id\": 17, \"label\": \"17\\nsleep_fail\", \"color\": \"orange\", \"font\": {\"background\": \"white\"}, \"title\": \"Dependency Failure\"}, {\"id\": 18, \"label\": \"18\\nsleep_fail\", \"color\": \"Green\", \"font\": {\"background\": \"white\"}, \"title\": \"Finished\"}, {\"id\": 19, \"label\": \"19\\nsleep_fail\", \"color\": \"Green\", \"font\": {\"background\": \"white\"}, \"title\": \"Finished\"}, {\"id\": 20, \"label\": \"20\\nsleep_fail\", \"color\": \"Green\", \"font\": {\"background\": \"white\"}, \"title\": \"Finished\"}, {\"id\": 21, \"label\": \"21\\nsleep_fail\", \"color\": \"Green\", \"font\": {\"background\": \"white\"}, \"title\": \"Finished\"}, {\"id\": 22, \"label\": \"22\\nsleep_fail\", \"color\": \"Green\", \"font\": {\"background\": \"white\"}, \"title\": \"Finished\"}, {\"id\": 23, \"label\": \"23\\nsleep_fail\", \"color\": \"orange\", \"font\": {\"background\": \"white\"}, \"title\": \"Dependency Failure\"}, {\"id\": 24, \"label\": \"24\\nsleep_fail\", \"color\": \"Red\", \"font\": {\"background\": \"white\"}, \"title\": \"Failed\"}, {\"id\": 25, \"label\": \"25\\nsleep_fail\", \"color\": \"orange\", \"font\": {\"background\": \"white\"}, \"title\": \"Dependency Failure\"}, {\"id\": 26, \"label\": \"26\\nsleep_fail\", \"color\": \"Green\", \"font\": {\"background\": \"white\"}, \"title\": \"Finished\"}, {\"id\": 27, \"label\": \"27\\nsleep_fail\", \"color\": \"orange\", \"font\": {\"background\": \"white\"}, \"title\": \"Dependency Failure\"}, {\"id\": 28, \"label\": \"28\\nsleep_fail\", \"color\": \"orange\", \"font\": {\"background\": \"white\"}, \"title\": \"Dependency Failure\"}, {\"id\": 29, \"label\": \"29\\nsleep_fail\", \"color\": \"Green\", \"font\": {\"background\": \"white\"}, \"title\": \"Finished\"}, {\"id\": 30, \"label\": \"30\\nsleep_fail\", \"color\": \"Green\", \"font\": {\"background\": \"white\"}, \"title\": \"Finished\"}, {\"id\": 31, \"label\": \"31\\nsleep_fail\", \"color\": \"orange\", \"font\": {\"background\": \"white\"}, \"title\": \"Dependency Failure\"}];\n",
       "                      window.edgesList=[{\"from\": 1, \"to\": 16, \"arrows\": \"to\"}, {\"from\": 2, \"to\": 17, \"arrows\": \"to\"}, {\"from\": 3, \"to\": 18, \"arrows\": \"to\"}, {\"from\": 4, \"to\": 19, \"arrows\": \"to\"}, {\"from\": 5, \"to\": 20, \"arrows\": \"to\"}, {\"from\": 6, \"to\": 21, \"arrows\": \"to\"}, {\"from\": 7, \"to\": 22, \"arrows\": \"to\"}, {\"from\": 8, \"to\": 23, \"arrows\": \"to\"}, {\"from\": 9, \"to\": 24, \"arrows\": \"to\"}, {\"from\": 10, \"to\": 25, \"arrows\": \"to\"}, {\"from\": 11, \"to\": 26, \"arrows\": \"to\"}, {\"from\": 12, \"to\": 27, \"arrows\": \"to\"}, {\"from\": 13, \"to\": 28, \"arrows\": \"to\"}, {\"from\": 14, \"to\": 29, \"arrows\": \"to\"}, {\"from\": 15, \"to\": 30, \"arrows\": \"to\"}, {\"from\": 16, \"to\": 31, \"arrows\": \"to\"}, {\"from\": 17, \"to\": 31, \"arrows\": \"to\"}, {\"from\": 18, \"to\": 31, \"arrows\": \"to\"}, {\"from\": 19, \"to\": 31, \"arrows\": \"to\"}, {\"from\": 20, \"to\": 31, \"arrows\": \"to\"}, {\"from\": 21, \"to\": 31, \"arrows\": \"to\"}, {\"from\": 22, \"to\": 31, \"arrows\": \"to\"}, {\"from\": 23, \"to\": 31, \"arrows\": \"to\"}, {\"from\": 24, \"to\": 31, \"arrows\": \"to\"}, {\"from\": 25, \"to\": 31, \"arrows\": \"to\"}, {\"from\": 26, \"to\": 31, \"arrows\": \"to\"}, {\"from\": 27, \"to\": 31, \"arrows\": \"to\"}, {\"from\": 28, \"to\": 31, \"arrows\": \"to\"}, {\"from\": 29, \"to\": 31, \"arrows\": \"to\"}, {\"from\": 30, \"to\": 31, \"arrows\": \"to\"}];\n",
       "                   "
      ],
      "text/plain": [
       "<IPython.core.display.Javascript object>"
      ]
     },
     "metadata": {},
     "output_type": "display_data"
    },
    {
     "data": {
      "application/javascript": [
       "require.config({paths: {vis: 'https://cdnjs.cloudflare.com/ajax/libs/vis/4.21.0/vis.min'}});\n",
       "require(['vis'], function (vis){\n",
       "    if (document.getElementById(\"mynetwork\") == null) {\n",
       "        element.append('<div id=\"mynetwork\" style=\"width:950px;height:750px;border:1px solid lightgray;\"></div>');\n",
       "    }\n",
       "    var nodes = new vis.DataSet(window.nodesList);\n",
       "    var edges = new vis.DataSet(window.edgesList);\n",
       "    var container = document.getElementById('mynetwork');\n",
       "    var data = {\n",
       "         nodes: nodes,\n",
       "         edges: edges\n",
       "     };\n",
       "     var options = {interaction:{hover:true}, \n",
       "                   layout: {\n",
       "                    hierarchical: {\n",
       "                        direction: 'UD'\n",
       "                    }}\n",
       "                   };\n",
       "     var network = new vis.Network(container, data, options);\n",
       "     network.on(\"hoverNode\", function (params) {\n",
       "             \n",
       "     });\n",
       "     network.on(\"hoverEdge\", function (params) {\n",
       "            \n",
       "     });\n",
       "     network.on(\"blurNode\", function (params) {\n",
       "             \n",
       "     });\n",
       "     network.on(\"blurEdge\", function (params) {\n",
       "             \n",
       "     });\n",
       "});"
      ],
      "text/plain": [
       "<IPython.core.display.Javascript object>"
      ]
     },
     "metadata": {},
     "output_type": "display_data"
    },
    {
     "data": {
      "application/javascript": [
       "window.nodesList=[{\"id\": 0, \"label\": \"0\\ntest_deps\", \"color\": \"Red\", \"font\": {\"background\": \"white\"}, \"title\": \"Failed\"}, {\"id\": 1, \"label\": \"1\\nsleep_fail\", \"color\": \"Green\", \"font\": {\"background\": \"white\"}, \"title\": \"Finished\"}, {\"id\": 2, \"label\": \"2\\nsleep_fail\", \"color\": \"Red\", \"font\": {\"background\": \"white\"}, \"title\": \"Failed\"}, {\"id\": 3, \"label\": \"3\\nsleep_fail\", \"color\": \"Green\", \"font\": {\"background\": \"white\"}, \"title\": \"Finished\"}, {\"id\": 4, \"label\": \"4\\nsleep_fail\", \"color\": \"Green\", \"font\": {\"background\": \"white\"}, \"title\": \"Finished\"}, {\"id\": 5, \"label\": \"5\\nsleep_fail\", \"color\": \"Green\", \"font\": {\"background\": \"white\"}, \"title\": \"Finished\"}, {\"id\": 6, \"label\": \"6\\nsleep_fail\", \"color\": \"Green\", \"font\": {\"background\": \"white\"}, \"title\": \"Finished\"}, {\"id\": 7, \"label\": \"7\\nsleep_fail\", \"color\": \"Green\", \"font\": {\"background\": \"white\"}, \"title\": \"Finished\"}, {\"id\": 8, \"label\": \"8\\nsleep_fail\", \"color\": \"Red\", \"font\": {\"background\": \"white\"}, \"title\": \"Failed\"}, {\"id\": 9, \"label\": \"9\\nsleep_fail\", \"color\": \"Red\", \"font\": {\"background\": \"white\"}, \"title\": \"Failed\"}, {\"id\": 10, \"label\": \"10\\nsleep_fail\", \"color\": \"Red\", \"font\": {\"background\": \"white\"}, \"title\": \"Failed\"}, {\"id\": 11, \"label\": \"11\\nsleep_fail\", \"color\": \"Green\", \"font\": {\"background\": \"white\"}, \"title\": \"Finished\"}, {\"id\": 12, \"label\": \"12\\nsleep_fail\", \"color\": \"Red\", \"font\": {\"background\": \"white\"}, \"title\": \"Failed\"}, {\"id\": 13, \"label\": \"13\\nsleep_fail\", \"color\": \"Red\", \"font\": {\"background\": \"white\"}, \"title\": \"Failed\"}, {\"id\": 14, \"label\": \"14\\nsleep_fail\", \"color\": \"Green\", \"font\": {\"background\": \"white\"}, \"title\": \"Finished\"}, {\"id\": 15, \"label\": \"15\\nsleep_fail\", \"color\": \"Green\", \"font\": {\"background\": \"white\"}, \"title\": \"Finished\"}, {\"id\": 16, \"label\": \"16\\nsleep_fail\", \"color\": \"Green\", \"font\": {\"background\": \"white\"}, \"title\": \"Finished\"}, {\"id\": 17, \"label\": \"17\\nsleep_fail\", \"color\": \"orange\", \"font\": {\"background\": \"white\"}, \"title\": \"Dependency Failure\"}, {\"id\": 18, \"label\": \"18\\nsleep_fail\", \"color\": \"Green\", \"font\": {\"background\": \"white\"}, \"title\": \"Finished\"}, {\"id\": 19, \"label\": \"19\\nsleep_fail\", \"color\": \"Green\", \"font\": {\"background\": \"white\"}, \"title\": \"Finished\"}, {\"id\": 20, \"label\": \"20\\nsleep_fail\", \"color\": \"Green\", \"font\": {\"background\": \"white\"}, \"title\": \"Finished\"}, {\"id\": 21, \"label\": \"21\\nsleep_fail\", \"color\": \"Green\", \"font\": {\"background\": \"white\"}, \"title\": \"Finished\"}, {\"id\": 22, \"label\": \"22\\nsleep_fail\", \"color\": \"Green\", \"font\": {\"background\": \"white\"}, \"title\": \"Finished\"}, {\"id\": 23, \"label\": \"23\\nsleep_fail\", \"color\": \"orange\", \"font\": {\"background\": \"white\"}, \"title\": \"Dependency Failure\"}, {\"id\": 24, \"label\": \"24\\nsleep_fail\", \"color\": \"Red\", \"font\": {\"background\": \"white\"}, \"title\": \"Failed\"}, {\"id\": 25, \"label\": \"25\\nsleep_fail\", \"color\": \"orange\", \"font\": {\"background\": \"white\"}, \"title\": \"Dependency Failure\"}, {\"id\": 26, \"label\": \"26\\nsleep_fail\", \"color\": \"Green\", \"font\": {\"background\": \"white\"}, \"title\": \"Finished\"}, {\"id\": 27, \"label\": \"27\\nsleep_fail\", \"color\": \"orange\", \"font\": {\"background\": \"white\"}, \"title\": \"Dependency Failure\"}, {\"id\": 28, \"label\": \"28\\nsleep_fail\", \"color\": \"orange\", \"font\": {\"background\": \"white\"}, \"title\": \"Dependency Failure\"}, {\"id\": 29, \"label\": \"29\\nsleep_fail\", \"color\": \"Green\", \"font\": {\"background\": \"white\"}, \"title\": \"Finished\"}, {\"id\": 30, \"label\": \"30\\nsleep_fail\", \"color\": \"Green\", \"font\": {\"background\": \"white\"}, \"title\": \"Finished\"}, {\"id\": 31, \"label\": \"31\\nsleep_fail\", \"color\": \"orange\", \"font\": {\"background\": \"white\"}, \"title\": \"Dependency Failure\"}];\n",
       "                      window.edgesList=[{\"from\": 1, \"to\": 16, \"arrows\": \"to\"}, {\"from\": 2, \"to\": 17, \"arrows\": \"to\"}, {\"from\": 3, \"to\": 18, \"arrows\": \"to\"}, {\"from\": 4, \"to\": 19, \"arrows\": \"to\"}, {\"from\": 5, \"to\": 20, \"arrows\": \"to\"}, {\"from\": 6, \"to\": 21, \"arrows\": \"to\"}, {\"from\": 7, \"to\": 22, \"arrows\": \"to\"}, {\"from\": 8, \"to\": 23, \"arrows\": \"to\"}, {\"from\": 9, \"to\": 24, \"arrows\": \"to\"}, {\"from\": 10, \"to\": 25, \"arrows\": \"to\"}, {\"from\": 11, \"to\": 26, \"arrows\": \"to\"}, {\"from\": 12, \"to\": 27, \"arrows\": \"to\"}, {\"from\": 13, \"to\": 28, \"arrows\": \"to\"}, {\"from\": 14, \"to\": 29, \"arrows\": \"to\"}, {\"from\": 15, \"to\": 30, \"arrows\": \"to\"}, {\"from\": 16, \"to\": 31, \"arrows\": \"to\"}, {\"from\": 17, \"to\": 31, \"arrows\": \"to\"}, {\"from\": 18, \"to\": 31, \"arrows\": \"to\"}, {\"from\": 19, \"to\": 31, \"arrows\": \"to\"}, {\"from\": 20, \"to\": 31, \"arrows\": \"to\"}, {\"from\": 21, \"to\": 31, \"arrows\": \"to\"}, {\"from\": 22, \"to\": 31, \"arrows\": \"to\"}, {\"from\": 23, \"to\": 31, \"arrows\": \"to\"}, {\"from\": 24, \"to\": 31, \"arrows\": \"to\"}, {\"from\": 25, \"to\": 31, \"arrows\": \"to\"}, {\"from\": 26, \"to\": 31, \"arrows\": \"to\"}, {\"from\": 27, \"to\": 31, \"arrows\": \"to\"}, {\"from\": 28, \"to\": 31, \"arrows\": \"to\"}, {\"from\": 29, \"to\": 31, \"arrows\": \"to\"}, {\"from\": 30, \"to\": 31, \"arrows\": \"to\"}];\n",
       "                   "
      ],
      "text/plain": [
       "<IPython.core.display.Javascript object>"
      ]
     },
     "metadata": {},
     "output_type": "display_data"
    },
    {
     "data": {
      "application/javascript": [
       "require.config({paths: {vis: 'https://cdnjs.cloudflare.com/ajax/libs/vis/4.21.0/vis.min'}});\n",
       "require(['vis'], function (vis){\n",
       "    if (document.getElementById(\"mynetwork\") == null) {\n",
       "        element.append('<div id=\"mynetwork\" style=\"width:950px;height:750px;border:1px solid lightgray;\"></div>');\n",
       "    }\n",
       "    var nodes = new vis.DataSet(window.nodesList);\n",
       "    var edges = new vis.DataSet(window.edgesList);\n",
       "    var container = document.getElementById('mynetwork');\n",
       "    var data = {\n",
       "         nodes: nodes,\n",
       "         edges: edges\n",
       "     };\n",
       "     var options = {interaction:{hover:true}, \n",
       "                   layout: {\n",
       "                    hierarchical: {\n",
       "                        direction: 'UD'\n",
       "                    }}\n",
       "                   };\n",
       "     var network = new vis.Network(container, data, options);\n",
       "     network.on(\"hoverNode\", function (params) {\n",
       "             \n",
       "     });\n",
       "     network.on(\"hoverEdge\", function (params) {\n",
       "            \n",
       "     });\n",
       "     network.on(\"blurNode\", function (params) {\n",
       "             \n",
       "     });\n",
       "     network.on(\"blurEdge\", function (params) {\n",
       "             \n",
       "     });\n",
       "});"
      ],
      "text/plain": [
       "<IPython.core.display.Javascript object>"
      ]
     },
     "metadata": {},
     "output_type": "display_data"
    },
    {
     "data": {
      "application/javascript": [
       "window.nodesList=[{\"id\": 0, \"label\": \"0\\ntest_deps\", \"color\": \"Red\", \"font\": {\"background\": \"white\"}, \"title\": \"Failed\"}, {\"id\": 1, \"label\": \"1\\nsleep_fail\", \"color\": \"Green\", \"font\": {\"background\": \"white\"}, \"title\": \"Finished\"}, {\"id\": 2, \"label\": \"2\\nsleep_fail\", \"color\": \"Red\", \"font\": {\"background\": \"white\"}, \"title\": \"Failed\"}, {\"id\": 3, \"label\": \"3\\nsleep_fail\", \"color\": \"Green\", \"font\": {\"background\": \"white\"}, \"title\": \"Finished\"}, {\"id\": 4, \"label\": \"4\\nsleep_fail\", \"color\": \"Green\", \"font\": {\"background\": \"white\"}, \"title\": \"Finished\"}, {\"id\": 5, \"label\": \"5\\nsleep_fail\", \"color\": \"Green\", \"font\": {\"background\": \"white\"}, \"title\": \"Finished\"}, {\"id\": 6, \"label\": \"6\\nsleep_fail\", \"color\": \"Green\", \"font\": {\"background\": \"white\"}, \"title\": \"Finished\"}, {\"id\": 7, \"label\": \"7\\nsleep_fail\", \"color\": \"Green\", \"font\": {\"background\": \"white\"}, \"title\": \"Finished\"}, {\"id\": 8, \"label\": \"8\\nsleep_fail\", \"color\": \"Red\", \"font\": {\"background\": \"white\"}, \"title\": \"Failed\"}, {\"id\": 9, \"label\": \"9\\nsleep_fail\", \"color\": \"Red\", \"font\": {\"background\": \"white\"}, \"title\": \"Failed\"}, {\"id\": 10, \"label\": \"10\\nsleep_fail\", \"color\": \"Red\", \"font\": {\"background\": \"white\"}, \"title\": \"Failed\"}, {\"id\": 11, \"label\": \"11\\nsleep_fail\", \"color\": \"Green\", \"font\": {\"background\": \"white\"}, \"title\": \"Finished\"}, {\"id\": 12, \"label\": \"12\\nsleep_fail\", \"color\": \"Red\", \"font\": {\"background\": \"white\"}, \"title\": \"Failed\"}, {\"id\": 13, \"label\": \"13\\nsleep_fail\", \"color\": \"Red\", \"font\": {\"background\": \"white\"}, \"title\": \"Failed\"}, {\"id\": 14, \"label\": \"14\\nsleep_fail\", \"color\": \"Green\", \"font\": {\"background\": \"white\"}, \"title\": \"Finished\"}, {\"id\": 15, \"label\": \"15\\nsleep_fail\", \"color\": \"Green\", \"font\": {\"background\": \"white\"}, \"title\": \"Finished\"}, {\"id\": 16, \"label\": \"16\\nsleep_fail\", \"color\": \"Green\", \"font\": {\"background\": \"white\"}, \"title\": \"Finished\"}, {\"id\": 17, \"label\": \"17\\nsleep_fail\", \"color\": \"orange\", \"font\": {\"background\": \"white\"}, \"title\": \"Dependency Failure\"}, {\"id\": 18, \"label\": \"18\\nsleep_fail\", \"color\": \"Green\", \"font\": {\"background\": \"white\"}, \"title\": \"Finished\"}, {\"id\": 19, \"label\": \"19\\nsleep_fail\", \"color\": \"Green\", \"font\": {\"background\": \"white\"}, \"title\": \"Finished\"}, {\"id\": 20, \"label\": \"20\\nsleep_fail\", \"color\": \"Green\", \"font\": {\"background\": \"white\"}, \"title\": \"Finished\"}, {\"id\": 21, \"label\": \"21\\nsleep_fail\", \"color\": \"Green\", \"font\": {\"background\": \"white\"}, \"title\": \"Finished\"}, {\"id\": 22, \"label\": \"22\\nsleep_fail\", \"color\": \"Green\", \"font\": {\"background\": \"white\"}, \"title\": \"Finished\"}, {\"id\": 23, \"label\": \"23\\nsleep_fail\", \"color\": \"orange\", \"font\": {\"background\": \"white\"}, \"title\": \"Dependency Failure\"}, {\"id\": 24, \"label\": \"24\\nsleep_fail\", \"color\": \"Red\", \"font\": {\"background\": \"white\"}, \"title\": \"Failed\"}, {\"id\": 25, \"label\": \"25\\nsleep_fail\", \"color\": \"orange\", \"font\": {\"background\": \"white\"}, \"title\": \"Dependency Failure\"}, {\"id\": 26, \"label\": \"26\\nsleep_fail\", \"color\": \"Green\", \"font\": {\"background\": \"white\"}, \"title\": \"Finished\"}, {\"id\": 27, \"label\": \"27\\nsleep_fail\", \"color\": \"orange\", \"font\": {\"background\": \"white\"}, \"title\": \"Dependency Failure\"}, {\"id\": 28, \"label\": \"28\\nsleep_fail\", \"color\": \"orange\", \"font\": {\"background\": \"white\"}, \"title\": \"Dependency Failure\"}, {\"id\": 29, \"label\": \"29\\nsleep_fail\", \"color\": \"Green\", \"font\": {\"background\": \"white\"}, \"title\": \"Finished\"}, {\"id\": 30, \"label\": \"30\\nsleep_fail\", \"color\": \"Green\", \"font\": {\"background\": \"white\"}, \"title\": \"Finished\"}, {\"id\": 31, \"label\": \"31\\nsleep_fail\", \"color\": \"orange\", \"font\": {\"background\": \"white\"}, \"title\": \"Dependency Failure\"}];\n",
       "                      window.edgesList=[{\"from\": 1, \"to\": 16, \"arrows\": \"to\"}, {\"from\": 2, \"to\": 17, \"arrows\": \"to\"}, {\"from\": 3, \"to\": 18, \"arrows\": \"to\"}, {\"from\": 4, \"to\": 19, \"arrows\": \"to\"}, {\"from\": 5, \"to\": 20, \"arrows\": \"to\"}, {\"from\": 6, \"to\": 21, \"arrows\": \"to\"}, {\"from\": 7, \"to\": 22, \"arrows\": \"to\"}, {\"from\": 8, \"to\": 23, \"arrows\": \"to\"}, {\"from\": 9, \"to\": 24, \"arrows\": \"to\"}, {\"from\": 10, \"to\": 25, \"arrows\": \"to\"}, {\"from\": 11, \"to\": 26, \"arrows\": \"to\"}, {\"from\": 12, \"to\": 27, \"arrows\": \"to\"}, {\"from\": 13, \"to\": 28, \"arrows\": \"to\"}, {\"from\": 14, \"to\": 29, \"arrows\": \"to\"}, {\"from\": 15, \"to\": 30, \"arrows\": \"to\"}, {\"from\": 16, \"to\": 31, \"arrows\": \"to\"}, {\"from\": 17, \"to\": 31, \"arrows\": \"to\"}, {\"from\": 18, \"to\": 31, \"arrows\": \"to\"}, {\"from\": 19, \"to\": 31, \"arrows\": \"to\"}, {\"from\": 20, \"to\": 31, \"arrows\": \"to\"}, {\"from\": 21, \"to\": 31, \"arrows\": \"to\"}, {\"from\": 22, \"to\": 31, \"arrows\": \"to\"}, {\"from\": 23, \"to\": 31, \"arrows\": \"to\"}, {\"from\": 24, \"to\": 31, \"arrows\": \"to\"}, {\"from\": 25, \"to\": 31, \"arrows\": \"to\"}, {\"from\": 26, \"to\": 31, \"arrows\": \"to\"}, {\"from\": 27, \"to\": 31, \"arrows\": \"to\"}, {\"from\": 28, \"to\": 31, \"arrows\": \"to\"}, {\"from\": 29, \"to\": 31, \"arrows\": \"to\"}, {\"from\": 30, \"to\": 31, \"arrows\": \"to\"}];\n",
       "                   "
      ],
      "text/plain": [
       "<IPython.core.display.Javascript object>"
      ]
     },
     "metadata": {},
     "output_type": "display_data"
    },
    {
     "data": {
      "application/javascript": [
       "require.config({paths: {vis: 'https://cdnjs.cloudflare.com/ajax/libs/vis/4.21.0/vis.min'}});\n",
       "require(['vis'], function (vis){\n",
       "    if (document.getElementById(\"mynetwork\") == null) {\n",
       "        element.append('<div id=\"mynetwork\" style=\"width:950px;height:750px;border:1px solid lightgray;\"></div>');\n",
       "    }\n",
       "    var nodes = new vis.DataSet(window.nodesList);\n",
       "    var edges = new vis.DataSet(window.edgesList);\n",
       "    var container = document.getElementById('mynetwork');\n",
       "    var data = {\n",
       "         nodes: nodes,\n",
       "         edges: edges\n",
       "     };\n",
       "     var options = {interaction:{hover:true}, \n",
       "                   layout: {\n",
       "                    hierarchical: {\n",
       "                        direction: 'UD'\n",
       "                    }}\n",
       "                   };\n",
       "     var network = new vis.Network(container, data, options);\n",
       "     network.on(\"hoverNode\", function (params) {\n",
       "             \n",
       "     });\n",
       "     network.on(\"hoverEdge\", function (params) {\n",
       "            \n",
       "     });\n",
       "     network.on(\"blurNode\", function (params) {\n",
       "             \n",
       "     });\n",
       "     network.on(\"blurEdge\", function (params) {\n",
       "             \n",
       "     });\n",
       "});"
      ],
      "text/plain": [
       "<IPython.core.display.Javascript object>"
      ]
     },
     "metadata": {},
     "output_type": "display_data"
    },
    {
     "data": {
      "application/javascript": [
       "window.nodesList=[{\"id\": 0, \"label\": \"0\\ntest_deps\", \"color\": \"Red\", \"font\": {\"background\": \"white\"}, \"title\": \"Failed\"}, {\"id\": 1, \"label\": \"1\\nsleep_fail\", \"color\": \"Green\", \"font\": {\"background\": \"white\"}, \"title\": \"Finished\"}, {\"id\": 2, \"label\": \"2\\nsleep_fail\", \"color\": \"Red\", \"font\": {\"background\": \"white\"}, \"title\": \"Failed\"}, {\"id\": 3, \"label\": \"3\\nsleep_fail\", \"color\": \"Green\", \"font\": {\"background\": \"white\"}, \"title\": \"Finished\"}, {\"id\": 4, \"label\": \"4\\nsleep_fail\", \"color\": \"Green\", \"font\": {\"background\": \"white\"}, \"title\": \"Finished\"}, {\"id\": 5, \"label\": \"5\\nsleep_fail\", \"color\": \"Green\", \"font\": {\"background\": \"white\"}, \"title\": \"Finished\"}, {\"id\": 6, \"label\": \"6\\nsleep_fail\", \"color\": \"Green\", \"font\": {\"background\": \"white\"}, \"title\": \"Finished\"}, {\"id\": 7, \"label\": \"7\\nsleep_fail\", \"color\": \"Green\", \"font\": {\"background\": \"white\"}, \"title\": \"Finished\"}, {\"id\": 8, \"label\": \"8\\nsleep_fail\", \"color\": \"Red\", \"font\": {\"background\": \"white\"}, \"title\": \"Failed\"}, {\"id\": 9, \"label\": \"9\\nsleep_fail\", \"color\": \"Red\", \"font\": {\"background\": \"white\"}, \"title\": \"Failed\"}, {\"id\": 10, \"label\": \"10\\nsleep_fail\", \"color\": \"Red\", \"font\": {\"background\": \"white\"}, \"title\": \"Failed\"}, {\"id\": 11, \"label\": \"11\\nsleep_fail\", \"color\": \"Green\", \"font\": {\"background\": \"white\"}, \"title\": \"Finished\"}, {\"id\": 12, \"label\": \"12\\nsleep_fail\", \"color\": \"Red\", \"font\": {\"background\": \"white\"}, \"title\": \"Failed\"}, {\"id\": 13, \"label\": \"13\\nsleep_fail\", \"color\": \"Red\", \"font\": {\"background\": \"white\"}, \"title\": \"Failed\"}, {\"id\": 14, \"label\": \"14\\nsleep_fail\", \"color\": \"Green\", \"font\": {\"background\": \"white\"}, \"title\": \"Finished\"}, {\"id\": 15, \"label\": \"15\\nsleep_fail\", \"color\": \"Green\", \"font\": {\"background\": \"white\"}, \"title\": \"Finished\"}, {\"id\": 16, \"label\": \"16\\nsleep_fail\", \"color\": \"Green\", \"font\": {\"background\": \"white\"}, \"title\": \"Finished\"}, {\"id\": 17, \"label\": \"17\\nsleep_fail\", \"color\": \"orange\", \"font\": {\"background\": \"white\"}, \"title\": \"Dependency Failure\"}, {\"id\": 18, \"label\": \"18\\nsleep_fail\", \"color\": \"Green\", \"font\": {\"background\": \"white\"}, \"title\": \"Finished\"}, {\"id\": 19, \"label\": \"19\\nsleep_fail\", \"color\": \"Green\", \"font\": {\"background\": \"white\"}, \"title\": \"Finished\"}, {\"id\": 20, \"label\": \"20\\nsleep_fail\", \"color\": \"Green\", \"font\": {\"background\": \"white\"}, \"title\": \"Finished\"}, {\"id\": 21, \"label\": \"21\\nsleep_fail\", \"color\": \"Green\", \"font\": {\"background\": \"white\"}, \"title\": \"Finished\"}, {\"id\": 22, \"label\": \"22\\nsleep_fail\", \"color\": \"Green\", \"font\": {\"background\": \"white\"}, \"title\": \"Finished\"}, {\"id\": 23, \"label\": \"23\\nsleep_fail\", \"color\": \"orange\", \"font\": {\"background\": \"white\"}, \"title\": \"Dependency Failure\"}, {\"id\": 24, \"label\": \"24\\nsleep_fail\", \"color\": \"Red\", \"font\": {\"background\": \"white\"}, \"title\": \"Failed\"}, {\"id\": 25, \"label\": \"25\\nsleep_fail\", \"color\": \"orange\", \"font\": {\"background\": \"white\"}, \"title\": \"Dependency Failure\"}, {\"id\": 26, \"label\": \"26\\nsleep_fail\", \"color\": \"Green\", \"font\": {\"background\": \"white\"}, \"title\": \"Finished\"}, {\"id\": 27, \"label\": \"27\\nsleep_fail\", \"color\": \"orange\", \"font\": {\"background\": \"white\"}, \"title\": \"Dependency Failure\"}, {\"id\": 28, \"label\": \"28\\nsleep_fail\", \"color\": \"orange\", \"font\": {\"background\": \"white\"}, \"title\": \"Dependency Failure\"}, {\"id\": 29, \"label\": \"29\\nsleep_fail\", \"color\": \"Green\", \"font\": {\"background\": \"white\"}, \"title\": \"Finished\"}, {\"id\": 30, \"label\": \"30\\nsleep_fail\", \"color\": \"Green\", \"font\": {\"background\": \"white\"}, \"title\": \"Finished\"}, {\"id\": 31, \"label\": \"31\\nsleep_fail\", \"color\": \"orange\", \"font\": {\"background\": \"white\"}, \"title\": \"Dependency Failure\"}];\n",
       "                      window.edgesList=[{\"from\": 1, \"to\": 16, \"arrows\": \"to\"}, {\"from\": 2, \"to\": 17, \"arrows\": \"to\"}, {\"from\": 3, \"to\": 18, \"arrows\": \"to\"}, {\"from\": 4, \"to\": 19, \"arrows\": \"to\"}, {\"from\": 5, \"to\": 20, \"arrows\": \"to\"}, {\"from\": 6, \"to\": 21, \"arrows\": \"to\"}, {\"from\": 7, \"to\": 22, \"arrows\": \"to\"}, {\"from\": 8, \"to\": 23, \"arrows\": \"to\"}, {\"from\": 9, \"to\": 24, \"arrows\": \"to\"}, {\"from\": 10, \"to\": 25, \"arrows\": \"to\"}, {\"from\": 11, \"to\": 26, \"arrows\": \"to\"}, {\"from\": 12, \"to\": 27, \"arrows\": \"to\"}, {\"from\": 13, \"to\": 28, \"arrows\": \"to\"}, {\"from\": 14, \"to\": 29, \"arrows\": \"to\"}, {\"from\": 15, \"to\": 30, \"arrows\": \"to\"}, {\"from\": 16, \"to\": 31, \"arrows\": \"to\"}, {\"from\": 17, \"to\": 31, \"arrows\": \"to\"}, {\"from\": 18, \"to\": 31, \"arrows\": \"to\"}, {\"from\": 19, \"to\": 31, \"arrows\": \"to\"}, {\"from\": 20, \"to\": 31, \"arrows\": \"to\"}, {\"from\": 21, \"to\": 31, \"arrows\": \"to\"}, {\"from\": 22, \"to\": 31, \"arrows\": \"to\"}, {\"from\": 23, \"to\": 31, \"arrows\": \"to\"}, {\"from\": 24, \"to\": 31, \"arrows\": \"to\"}, {\"from\": 25, \"to\": 31, \"arrows\": \"to\"}, {\"from\": 26, \"to\": 31, \"arrows\": \"to\"}, {\"from\": 27, \"to\": 31, \"arrows\": \"to\"}, {\"from\": 28, \"to\": 31, \"arrows\": \"to\"}, {\"from\": 29, \"to\": 31, \"arrows\": \"to\"}, {\"from\": 30, \"to\": 31, \"arrows\": \"to\"}];\n",
       "                   "
      ],
      "text/plain": [
       "<IPython.core.display.Javascript object>"
      ]
     },
     "metadata": {},
     "output_type": "display_data"
    },
    {
     "data": {
      "application/javascript": [
       "require.config({paths: {vis: 'https://cdnjs.cloudflare.com/ajax/libs/vis/4.21.0/vis.min'}});\n",
       "require(['vis'], function (vis){\n",
       "    if (document.getElementById(\"mynetwork\") == null) {\n",
       "        element.append('<div id=\"mynetwork\" style=\"width:950px;height:750px;border:1px solid lightgray;\"></div>');\n",
       "    }\n",
       "    var nodes = new vis.DataSet(window.nodesList);\n",
       "    var edges = new vis.DataSet(window.edgesList);\n",
       "    var container = document.getElementById('mynetwork');\n",
       "    var data = {\n",
       "         nodes: nodes,\n",
       "         edges: edges\n",
       "     };\n",
       "     var options = {interaction:{hover:true}, \n",
       "                   layout: {\n",
       "                    hierarchical: {\n",
       "                        direction: 'UD'\n",
       "                    }}\n",
       "                   };\n",
       "     var network = new vis.Network(container, data, options);\n",
       "     network.on(\"hoverNode\", function (params) {\n",
       "             \n",
       "     });\n",
       "     network.on(\"hoverEdge\", function (params) {\n",
       "            \n",
       "     });\n",
       "     network.on(\"blurNode\", function (params) {\n",
       "             \n",
       "     });\n",
       "     network.on(\"blurEdge\", function (params) {\n",
       "             \n",
       "     });\n",
       "});"
      ],
      "text/plain": [
       "<IPython.core.display.Javascript object>"
      ]
     },
     "metadata": {},
     "output_type": "display_data"
    },
    {
     "data": {
      "application/javascript": [
       "window.nodesList=[{\"id\": 0, \"label\": \"0\\ntest_deps\", \"color\": \"Red\", \"font\": {\"background\": \"white\"}, \"title\": \"Failed\"}, {\"id\": 1, \"label\": \"1\\nsleep_fail\", \"color\": \"Green\", \"font\": {\"background\": \"white\"}, \"title\": \"Finished\"}, {\"id\": 2, \"label\": \"2\\nsleep_fail\", \"color\": \"Red\", \"font\": {\"background\": \"white\"}, \"title\": \"Failed\"}, {\"id\": 3, \"label\": \"3\\nsleep_fail\", \"color\": \"Green\", \"font\": {\"background\": \"white\"}, \"title\": \"Finished\"}, {\"id\": 4, \"label\": \"4\\nsleep_fail\", \"color\": \"Green\", \"font\": {\"background\": \"white\"}, \"title\": \"Finished\"}, {\"id\": 5, \"label\": \"5\\nsleep_fail\", \"color\": \"Green\", \"font\": {\"background\": \"white\"}, \"title\": \"Finished\"}, {\"id\": 6, \"label\": \"6\\nsleep_fail\", \"color\": \"Green\", \"font\": {\"background\": \"white\"}, \"title\": \"Finished\"}, {\"id\": 7, \"label\": \"7\\nsleep_fail\", \"color\": \"Green\", \"font\": {\"background\": \"white\"}, \"title\": \"Finished\"}, {\"id\": 8, \"label\": \"8\\nsleep_fail\", \"color\": \"Red\", \"font\": {\"background\": \"white\"}, \"title\": \"Failed\"}, {\"id\": 9, \"label\": \"9\\nsleep_fail\", \"color\": \"Red\", \"font\": {\"background\": \"white\"}, \"title\": \"Failed\"}, {\"id\": 10, \"label\": \"10\\nsleep_fail\", \"color\": \"Red\", \"font\": {\"background\": \"white\"}, \"title\": \"Failed\"}, {\"id\": 11, \"label\": \"11\\nsleep_fail\", \"color\": \"Green\", \"font\": {\"background\": \"white\"}, \"title\": \"Finished\"}, {\"id\": 12, \"label\": \"12\\nsleep_fail\", \"color\": \"Red\", \"font\": {\"background\": \"white\"}, \"title\": \"Failed\"}, {\"id\": 13, \"label\": \"13\\nsleep_fail\", \"color\": \"Red\", \"font\": {\"background\": \"white\"}, \"title\": \"Failed\"}, {\"id\": 14, \"label\": \"14\\nsleep_fail\", \"color\": \"Green\", \"font\": {\"background\": \"white\"}, \"title\": \"Finished\"}, {\"id\": 15, \"label\": \"15\\nsleep_fail\", \"color\": \"Green\", \"font\": {\"background\": \"white\"}, \"title\": \"Finished\"}, {\"id\": 16, \"label\": \"16\\nsleep_fail\", \"color\": \"Green\", \"font\": {\"background\": \"white\"}, \"title\": \"Finished\"}, {\"id\": 17, \"label\": \"17\\nsleep_fail\", \"color\": \"orange\", \"font\": {\"background\": \"white\"}, \"title\": \"Dependency Failure\"}, {\"id\": 18, \"label\": \"18\\nsleep_fail\", \"color\": \"Green\", \"font\": {\"background\": \"white\"}, \"title\": \"Finished\"}, {\"id\": 19, \"label\": \"19\\nsleep_fail\", \"color\": \"Green\", \"font\": {\"background\": \"white\"}, \"title\": \"Finished\"}, {\"id\": 20, \"label\": \"20\\nsleep_fail\", \"color\": \"Green\", \"font\": {\"background\": \"white\"}, \"title\": \"Finished\"}, {\"id\": 21, \"label\": \"21\\nsleep_fail\", \"color\": \"Green\", \"font\": {\"background\": \"white\"}, \"title\": \"Finished\"}, {\"id\": 22, \"label\": \"22\\nsleep_fail\", \"color\": \"Green\", \"font\": {\"background\": \"white\"}, \"title\": \"Finished\"}, {\"id\": 23, \"label\": \"23\\nsleep_fail\", \"color\": \"orange\", \"font\": {\"background\": \"white\"}, \"title\": \"Dependency Failure\"}, {\"id\": 24, \"label\": \"24\\nsleep_fail\", \"color\": \"Red\", \"font\": {\"background\": \"white\"}, \"title\": \"Failed\"}, {\"id\": 25, \"label\": \"25\\nsleep_fail\", \"color\": \"orange\", \"font\": {\"background\": \"white\"}, \"title\": \"Dependency Failure\"}, {\"id\": 26, \"label\": \"26\\nsleep_fail\", \"color\": \"Green\", \"font\": {\"background\": \"white\"}, \"title\": \"Finished\"}, {\"id\": 27, \"label\": \"27\\nsleep_fail\", \"color\": \"orange\", \"font\": {\"background\": \"white\"}, \"title\": \"Dependency Failure\"}, {\"id\": 28, \"label\": \"28\\nsleep_fail\", \"color\": \"orange\", \"font\": {\"background\": \"white\"}, \"title\": \"Dependency Failure\"}, {\"id\": 29, \"label\": \"29\\nsleep_fail\", \"color\": \"Green\", \"font\": {\"background\": \"white\"}, \"title\": \"Finished\"}, {\"id\": 30, \"label\": \"30\\nsleep_fail\", \"color\": \"Green\", \"font\": {\"background\": \"white\"}, \"title\": \"Finished\"}, {\"id\": 31, \"label\": \"31\\nsleep_fail\", \"color\": \"orange\", \"font\": {\"background\": \"white\"}, \"title\": \"Dependency Failure\"}];\n",
       "                      window.edgesList=[{\"from\": 1, \"to\": 16, \"arrows\": \"to\"}, {\"from\": 2, \"to\": 17, \"arrows\": \"to\"}, {\"from\": 3, \"to\": 18, \"arrows\": \"to\"}, {\"from\": 4, \"to\": 19, \"arrows\": \"to\"}, {\"from\": 5, \"to\": 20, \"arrows\": \"to\"}, {\"from\": 6, \"to\": 21, \"arrows\": \"to\"}, {\"from\": 7, \"to\": 22, \"arrows\": \"to\"}, {\"from\": 8, \"to\": 23, \"arrows\": \"to\"}, {\"from\": 9, \"to\": 24, \"arrows\": \"to\"}, {\"from\": 10, \"to\": 25, \"arrows\": \"to\"}, {\"from\": 11, \"to\": 26, \"arrows\": \"to\"}, {\"from\": 12, \"to\": 27, \"arrows\": \"to\"}, {\"from\": 13, \"to\": 28, \"arrows\": \"to\"}, {\"from\": 14, \"to\": 29, \"arrows\": \"to\"}, {\"from\": 15, \"to\": 30, \"arrows\": \"to\"}, {\"from\": 16, \"to\": 31, \"arrows\": \"to\"}, {\"from\": 17, \"to\": 31, \"arrows\": \"to\"}, {\"from\": 18, \"to\": 31, \"arrows\": \"to\"}, {\"from\": 19, \"to\": 31, \"arrows\": \"to\"}, {\"from\": 20, \"to\": 31, \"arrows\": \"to\"}, {\"from\": 21, \"to\": 31, \"arrows\": \"to\"}, {\"from\": 22, \"to\": 31, \"arrows\": \"to\"}, {\"from\": 23, \"to\": 31, \"arrows\": \"to\"}, {\"from\": 24, \"to\": 31, \"arrows\": \"to\"}, {\"from\": 25, \"to\": 31, \"arrows\": \"to\"}, {\"from\": 26, \"to\": 31, \"arrows\": \"to\"}, {\"from\": 27, \"to\": 31, \"arrows\": \"to\"}, {\"from\": 28, \"to\": 31, \"arrows\": \"to\"}, {\"from\": 29, \"to\": 31, \"arrows\": \"to\"}, {\"from\": 30, \"to\": 31, \"arrows\": \"to\"}];\n",
       "                   "
      ],
      "text/plain": [
       "<IPython.core.display.Javascript object>"
      ]
     },
     "metadata": {},
     "output_type": "display_data"
    },
    {
     "data": {
      "application/javascript": [
       "require.config({paths: {vis: 'https://cdnjs.cloudflare.com/ajax/libs/vis/4.21.0/vis.min'}});\n",
       "require(['vis'], function (vis){\n",
       "    if (document.getElementById(\"mynetwork\") == null) {\n",
       "        element.append('<div id=\"mynetwork\" style=\"width:950px;height:750px;border:1px solid lightgray;\"></div>');\n",
       "    }\n",
       "    var nodes = new vis.DataSet(window.nodesList);\n",
       "    var edges = new vis.DataSet(window.edgesList);\n",
       "    var container = document.getElementById('mynetwork');\n",
       "    var data = {\n",
       "         nodes: nodes,\n",
       "         edges: edges\n",
       "     };\n",
       "     var options = {interaction:{hover:true}, \n",
       "                   layout: {\n",
       "                    hierarchical: {\n",
       "                        direction: 'UD'\n",
       "                    }}\n",
       "                   };\n",
       "     var network = new vis.Network(container, data, options);\n",
       "     network.on(\"hoverNode\", function (params) {\n",
       "             \n",
       "     });\n",
       "     network.on(\"hoverEdge\", function (params) {\n",
       "            \n",
       "     });\n",
       "     network.on(\"blurNode\", function (params) {\n",
       "             \n",
       "     });\n",
       "     network.on(\"blurEdge\", function (params) {\n",
       "             \n",
       "     });\n",
       "});"
      ],
      "text/plain": [
       "<IPython.core.display.Javascript object>"
      ]
     },
     "metadata": {},
     "output_type": "display_data"
    },
    {
     "data": {
      "application/javascript": [
       "window.nodesList=[{\"id\": 0, \"label\": \"0\\ntest_deps\", \"color\": \"Red\", \"font\": {\"background\": \"white\"}, \"title\": \"Failed\"}, {\"id\": 1, \"label\": \"1\\nsleep_fail\", \"color\": \"Green\", \"font\": {\"background\": \"white\"}, \"title\": \"Finished\"}, {\"id\": 2, \"label\": \"2\\nsleep_fail\", \"color\": \"Red\", \"font\": {\"background\": \"white\"}, \"title\": \"Failed\"}, {\"id\": 3, \"label\": \"3\\nsleep_fail\", \"color\": \"Green\", \"font\": {\"background\": \"white\"}, \"title\": \"Finished\"}, {\"id\": 4, \"label\": \"4\\nsleep_fail\", \"color\": \"Green\", \"font\": {\"background\": \"white\"}, \"title\": \"Finished\"}, {\"id\": 5, \"label\": \"5\\nsleep_fail\", \"color\": \"Green\", \"font\": {\"background\": \"white\"}, \"title\": \"Finished\"}, {\"id\": 6, \"label\": \"6\\nsleep_fail\", \"color\": \"Green\", \"font\": {\"background\": \"white\"}, \"title\": \"Finished\"}, {\"id\": 7, \"label\": \"7\\nsleep_fail\", \"color\": \"Green\", \"font\": {\"background\": \"white\"}, \"title\": \"Finished\"}, {\"id\": 8, \"label\": \"8\\nsleep_fail\", \"color\": \"Red\", \"font\": {\"background\": \"white\"}, \"title\": \"Failed\"}, {\"id\": 9, \"label\": \"9\\nsleep_fail\", \"color\": \"Red\", \"font\": {\"background\": \"white\"}, \"title\": \"Failed\"}, {\"id\": 10, \"label\": \"10\\nsleep_fail\", \"color\": \"Red\", \"font\": {\"background\": \"white\"}, \"title\": \"Failed\"}, {\"id\": 11, \"label\": \"11\\nsleep_fail\", \"color\": \"Green\", \"font\": {\"background\": \"white\"}, \"title\": \"Finished\"}, {\"id\": 12, \"label\": \"12\\nsleep_fail\", \"color\": \"Red\", \"font\": {\"background\": \"white\"}, \"title\": \"Failed\"}, {\"id\": 13, \"label\": \"13\\nsleep_fail\", \"color\": \"Red\", \"font\": {\"background\": \"white\"}, \"title\": \"Failed\"}, {\"id\": 14, \"label\": \"14\\nsleep_fail\", \"color\": \"Green\", \"font\": {\"background\": \"white\"}, \"title\": \"Finished\"}, {\"id\": 15, \"label\": \"15\\nsleep_fail\", \"color\": \"Green\", \"font\": {\"background\": \"white\"}, \"title\": \"Finished\"}, {\"id\": 16, \"label\": \"16\\nsleep_fail\", \"color\": \"Green\", \"font\": {\"background\": \"white\"}, \"title\": \"Finished\"}, {\"id\": 17, \"label\": \"17\\nsleep_fail\", \"color\": \"orange\", \"font\": {\"background\": \"white\"}, \"title\": \"Dependency Failure\"}, {\"id\": 18, \"label\": \"18\\nsleep_fail\", \"color\": \"Green\", \"font\": {\"background\": \"white\"}, \"title\": \"Finished\"}, {\"id\": 19, \"label\": \"19\\nsleep_fail\", \"color\": \"Green\", \"font\": {\"background\": \"white\"}, \"title\": \"Finished\"}, {\"id\": 20, \"label\": \"20\\nsleep_fail\", \"color\": \"Green\", \"font\": {\"background\": \"white\"}, \"title\": \"Finished\"}, {\"id\": 21, \"label\": \"21\\nsleep_fail\", \"color\": \"Green\", \"font\": {\"background\": \"white\"}, \"title\": \"Finished\"}, {\"id\": 22, \"label\": \"22\\nsleep_fail\", \"color\": \"Green\", \"font\": {\"background\": \"white\"}, \"title\": \"Finished\"}, {\"id\": 23, \"label\": \"23\\nsleep_fail\", \"color\": \"orange\", \"font\": {\"background\": \"white\"}, \"title\": \"Dependency Failure\"}, {\"id\": 24, \"label\": \"24\\nsleep_fail\", \"color\": \"Red\", \"font\": {\"background\": \"white\"}, \"title\": \"Failed\"}, {\"id\": 25, \"label\": \"25\\nsleep_fail\", \"color\": \"orange\", \"font\": {\"background\": \"white\"}, \"title\": \"Dependency Failure\"}, {\"id\": 26, \"label\": \"26\\nsleep_fail\", \"color\": \"Green\", \"font\": {\"background\": \"white\"}, \"title\": \"Finished\"}, {\"id\": 27, \"label\": \"27\\nsleep_fail\", \"color\": \"orange\", \"font\": {\"background\": \"white\"}, \"title\": \"Dependency Failure\"}, {\"id\": 28, \"label\": \"28\\nsleep_fail\", \"color\": \"orange\", \"font\": {\"background\": \"white\"}, \"title\": \"Dependency Failure\"}, {\"id\": 29, \"label\": \"29\\nsleep_fail\", \"color\": \"Green\", \"font\": {\"background\": \"white\"}, \"title\": \"Finished\"}, {\"id\": 30, \"label\": \"30\\nsleep_fail\", \"color\": \"Green\", \"font\": {\"background\": \"white\"}, \"title\": \"Finished\"}, {\"id\": 31, \"label\": \"31\\nsleep_fail\", \"color\": \"orange\", \"font\": {\"background\": \"white\"}, \"title\": \"Dependency Failure\"}];\n",
       "                      window.edgesList=[{\"from\": 1, \"to\": 16, \"arrows\": \"to\"}, {\"from\": 2, \"to\": 17, \"arrows\": \"to\"}, {\"from\": 3, \"to\": 18, \"arrows\": \"to\"}, {\"from\": 4, \"to\": 19, \"arrows\": \"to\"}, {\"from\": 5, \"to\": 20, \"arrows\": \"to\"}, {\"from\": 6, \"to\": 21, \"arrows\": \"to\"}, {\"from\": 7, \"to\": 22, \"arrows\": \"to\"}, {\"from\": 8, \"to\": 23, \"arrows\": \"to\"}, {\"from\": 9, \"to\": 24, \"arrows\": \"to\"}, {\"from\": 10, \"to\": 25, \"arrows\": \"to\"}, {\"from\": 11, \"to\": 26, \"arrows\": \"to\"}, {\"from\": 12, \"to\": 27, \"arrows\": \"to\"}, {\"from\": 13, \"to\": 28, \"arrows\": \"to\"}, {\"from\": 14, \"to\": 29, \"arrows\": \"to\"}, {\"from\": 15, \"to\": 30, \"arrows\": \"to\"}, {\"from\": 16, \"to\": 31, \"arrows\": \"to\"}, {\"from\": 17, \"to\": 31, \"arrows\": \"to\"}, {\"from\": 18, \"to\": 31, \"arrows\": \"to\"}, {\"from\": 19, \"to\": 31, \"arrows\": \"to\"}, {\"from\": 20, \"to\": 31, \"arrows\": \"to\"}, {\"from\": 21, \"to\": 31, \"arrows\": \"to\"}, {\"from\": 22, \"to\": 31, \"arrows\": \"to\"}, {\"from\": 23, \"to\": 31, \"arrows\": \"to\"}, {\"from\": 24, \"to\": 31, \"arrows\": \"to\"}, {\"from\": 25, \"to\": 31, \"arrows\": \"to\"}, {\"from\": 26, \"to\": 31, \"arrows\": \"to\"}, {\"from\": 27, \"to\": 31, \"arrows\": \"to\"}, {\"from\": 28, \"to\": 31, \"arrows\": \"to\"}, {\"from\": 29, \"to\": 31, \"arrows\": \"to\"}, {\"from\": 30, \"to\": 31, \"arrows\": \"to\"}];\n",
       "                   "
      ],
      "text/plain": [
       "<IPython.core.display.Javascript object>"
      ]
     },
     "metadata": {},
     "output_type": "display_data"
    },
    {
     "data": {
      "application/javascript": [
       "require.config({paths: {vis: 'https://cdnjs.cloudflare.com/ajax/libs/vis/4.21.0/vis.min'}});\n",
       "require(['vis'], function (vis){\n",
       "    if (document.getElementById(\"mynetwork\") == null) {\n",
       "        element.append('<div id=\"mynetwork\" style=\"width:950px;height:750px;border:1px solid lightgray;\"></div>');\n",
       "    }\n",
       "    var nodes = new vis.DataSet(window.nodesList);\n",
       "    var edges = new vis.DataSet(window.edgesList);\n",
       "    var container = document.getElementById('mynetwork');\n",
       "    var data = {\n",
       "         nodes: nodes,\n",
       "         edges: edges\n",
       "     };\n",
       "     var options = {interaction:{hover:true}, \n",
       "                   layout: {\n",
       "                    hierarchical: {\n",
       "                        direction: 'UD'\n",
       "                    }}\n",
       "                   };\n",
       "     var network = new vis.Network(container, data, options);\n",
       "     network.on(\"hoverNode\", function (params) {\n",
       "             \n",
       "     });\n",
       "     network.on(\"hoverEdge\", function (params) {\n",
       "            \n",
       "     });\n",
       "     network.on(\"blurNode\", function (params) {\n",
       "             \n",
       "     });\n",
       "     network.on(\"blurEdge\", function (params) {\n",
       "             \n",
       "     });\n",
       "});"
      ],
      "text/plain": [
       "<IPython.core.display.Javascript object>"
      ]
     },
     "metadata": {},
     "output_type": "display_data"
    },
    {
     "data": {
      "application/javascript": [
       "window.nodesList=[{\"id\": 0, \"label\": \"0\\ntest_deps\", \"color\": \"Red\", \"font\": {\"background\": \"white\"}, \"title\": \"Failed\"}, {\"id\": 1, \"label\": \"1\\nsleep_fail\", \"color\": \"Green\", \"font\": {\"background\": \"white\"}, \"title\": \"Finished\"}, {\"id\": 2, \"label\": \"2\\nsleep_fail\", \"color\": \"Red\", \"font\": {\"background\": \"white\"}, \"title\": \"Failed\"}, {\"id\": 3, \"label\": \"3\\nsleep_fail\", \"color\": \"Green\", \"font\": {\"background\": \"white\"}, \"title\": \"Finished\"}, {\"id\": 4, \"label\": \"4\\nsleep_fail\", \"color\": \"Green\", \"font\": {\"background\": \"white\"}, \"title\": \"Finished\"}, {\"id\": 5, \"label\": \"5\\nsleep_fail\", \"color\": \"Green\", \"font\": {\"background\": \"white\"}, \"title\": \"Finished\"}, {\"id\": 6, \"label\": \"6\\nsleep_fail\", \"color\": \"Green\", \"font\": {\"background\": \"white\"}, \"title\": \"Finished\"}, {\"id\": 7, \"label\": \"7\\nsleep_fail\", \"color\": \"Green\", \"font\": {\"background\": \"white\"}, \"title\": \"Finished\"}, {\"id\": 8, \"label\": \"8\\nsleep_fail\", \"color\": \"Red\", \"font\": {\"background\": \"white\"}, \"title\": \"Failed\"}, {\"id\": 9, \"label\": \"9\\nsleep_fail\", \"color\": \"Red\", \"font\": {\"background\": \"white\"}, \"title\": \"Failed\"}, {\"id\": 10, \"label\": \"10\\nsleep_fail\", \"color\": \"Red\", \"font\": {\"background\": \"white\"}, \"title\": \"Failed\"}, {\"id\": 11, \"label\": \"11\\nsleep_fail\", \"color\": \"Green\", \"font\": {\"background\": \"white\"}, \"title\": \"Finished\"}, {\"id\": 12, \"label\": \"12\\nsleep_fail\", \"color\": \"Red\", \"font\": {\"background\": \"white\"}, \"title\": \"Failed\"}, {\"id\": 13, \"label\": \"13\\nsleep_fail\", \"color\": \"Red\", \"font\": {\"background\": \"white\"}, \"title\": \"Failed\"}, {\"id\": 14, \"label\": \"14\\nsleep_fail\", \"color\": \"Green\", \"font\": {\"background\": \"white\"}, \"title\": \"Finished\"}, {\"id\": 15, \"label\": \"15\\nsleep_fail\", \"color\": \"Green\", \"font\": {\"background\": \"white\"}, \"title\": \"Finished\"}, {\"id\": 16, \"label\": \"16\\nsleep_fail\", \"color\": \"Green\", \"font\": {\"background\": \"white\"}, \"title\": \"Finished\"}, {\"id\": 17, \"label\": \"17\\nsleep_fail\", \"color\": \"orange\", \"font\": {\"background\": \"white\"}, \"title\": \"Dependency Failure\"}, {\"id\": 18, \"label\": \"18\\nsleep_fail\", \"color\": \"Green\", \"font\": {\"background\": \"white\"}, \"title\": \"Finished\"}, {\"id\": 19, \"label\": \"19\\nsleep_fail\", \"color\": \"Green\", \"font\": {\"background\": \"white\"}, \"title\": \"Finished\"}, {\"id\": 20, \"label\": \"20\\nsleep_fail\", \"color\": \"Green\", \"font\": {\"background\": \"white\"}, \"title\": \"Finished\"}, {\"id\": 21, \"label\": \"21\\nsleep_fail\", \"color\": \"Green\", \"font\": {\"background\": \"white\"}, \"title\": \"Finished\"}, {\"id\": 22, \"label\": \"22\\nsleep_fail\", \"color\": \"Green\", \"font\": {\"background\": \"white\"}, \"title\": \"Finished\"}, {\"id\": 23, \"label\": \"23\\nsleep_fail\", \"color\": \"orange\", \"font\": {\"background\": \"white\"}, \"title\": \"Dependency Failure\"}, {\"id\": 24, \"label\": \"24\\nsleep_fail\", \"color\": \"Red\", \"font\": {\"background\": \"white\"}, \"title\": \"Failed\"}, {\"id\": 25, \"label\": \"25\\nsleep_fail\", \"color\": \"orange\", \"font\": {\"background\": \"white\"}, \"title\": \"Dependency Failure\"}, {\"id\": 26, \"label\": \"26\\nsleep_fail\", \"color\": \"Green\", \"font\": {\"background\": \"white\"}, \"title\": \"Finished\"}, {\"id\": 27, \"label\": \"27\\nsleep_fail\", \"color\": \"orange\", \"font\": {\"background\": \"white\"}, \"title\": \"Dependency Failure\"}, {\"id\": 28, \"label\": \"28\\nsleep_fail\", \"color\": \"orange\", \"font\": {\"background\": \"white\"}, \"title\": \"Dependency Failure\"}, {\"id\": 29, \"label\": \"29\\nsleep_fail\", \"color\": \"Green\", \"font\": {\"background\": \"white\"}, \"title\": \"Finished\"}, {\"id\": 30, \"label\": \"30\\nsleep_fail\", \"color\": \"Green\", \"font\": {\"background\": \"white\"}, \"title\": \"Finished\"}, {\"id\": 31, \"label\": \"31\\nsleep_fail\", \"color\": \"orange\", \"font\": {\"background\": \"white\"}, \"title\": \"Dependency Failure\"}];\n",
       "                      window.edgesList=[{\"from\": 1, \"to\": 16, \"arrows\": \"to\"}, {\"from\": 2, \"to\": 17, \"arrows\": \"to\"}, {\"from\": 3, \"to\": 18, \"arrows\": \"to\"}, {\"from\": 4, \"to\": 19, \"arrows\": \"to\"}, {\"from\": 5, \"to\": 20, \"arrows\": \"to\"}, {\"from\": 6, \"to\": 21, \"arrows\": \"to\"}, {\"from\": 7, \"to\": 22, \"arrows\": \"to\"}, {\"from\": 8, \"to\": 23, \"arrows\": \"to\"}, {\"from\": 9, \"to\": 24, \"arrows\": \"to\"}, {\"from\": 10, \"to\": 25, \"arrows\": \"to\"}, {\"from\": 11, \"to\": 26, \"arrows\": \"to\"}, {\"from\": 12, \"to\": 27, \"arrows\": \"to\"}, {\"from\": 13, \"to\": 28, \"arrows\": \"to\"}, {\"from\": 14, \"to\": 29, \"arrows\": \"to\"}, {\"from\": 15, \"to\": 30, \"arrows\": \"to\"}, {\"from\": 16, \"to\": 31, \"arrows\": \"to\"}, {\"from\": 17, \"to\": 31, \"arrows\": \"to\"}, {\"from\": 18, \"to\": 31, \"arrows\": \"to\"}, {\"from\": 19, \"to\": 31, \"arrows\": \"to\"}, {\"from\": 20, \"to\": 31, \"arrows\": \"to\"}, {\"from\": 21, \"to\": 31, \"arrows\": \"to\"}, {\"from\": 22, \"to\": 31, \"arrows\": \"to\"}, {\"from\": 23, \"to\": 31, \"arrows\": \"to\"}, {\"from\": 24, \"to\": 31, \"arrows\": \"to\"}, {\"from\": 25, \"to\": 31, \"arrows\": \"to\"}, {\"from\": 26, \"to\": 31, \"arrows\": \"to\"}, {\"from\": 27, \"to\": 31, \"arrows\": \"to\"}, {\"from\": 28, \"to\": 31, \"arrows\": \"to\"}, {\"from\": 29, \"to\": 31, \"arrows\": \"to\"}, {\"from\": 30, \"to\": 31, \"arrows\": \"to\"}];\n",
       "                   "
      ],
      "text/plain": [
       "<IPython.core.display.Javascript object>"
      ]
     },
     "metadata": {},
     "output_type": "display_data"
    },
    {
     "data": {
      "application/javascript": [
       "require.config({paths: {vis: 'https://cdnjs.cloudflare.com/ajax/libs/vis/4.21.0/vis.min'}});\n",
       "require(['vis'], function (vis){\n",
       "    if (document.getElementById(\"mynetwork\") == null) {\n",
       "        element.append('<div id=\"mynetwork\" style=\"width:950px;height:750px;border:1px solid lightgray;\"></div>');\n",
       "    }\n",
       "    var nodes = new vis.DataSet(window.nodesList);\n",
       "    var edges = new vis.DataSet(window.edgesList);\n",
       "    var container = document.getElementById('mynetwork');\n",
       "    var data = {\n",
       "         nodes: nodes,\n",
       "         edges: edges\n",
       "     };\n",
       "     var options = {interaction:{hover:true}, \n",
       "                   layout: {\n",
       "                    hierarchical: {\n",
       "                        direction: 'UD'\n",
       "                    }}\n",
       "                   };\n",
       "     var network = new vis.Network(container, data, options);\n",
       "     network.on(\"hoverNode\", function (params) {\n",
       "             \n",
       "     });\n",
       "     network.on(\"hoverEdge\", function (params) {\n",
       "            \n",
       "     });\n",
       "     network.on(\"blurNode\", function (params) {\n",
       "             \n",
       "     });\n",
       "     network.on(\"blurEdge\", function (params) {\n",
       "             \n",
       "     });\n",
       "});"
      ],
      "text/plain": [
       "<IPython.core.display.Javascript object>"
      ]
     },
     "metadata": {},
     "output_type": "display_data"
    }
   ],
   "source": [
    "dfkl.auto_updater(10)"
   ]
  },
  {
   "cell_type": "code",
   "execution_count": null,
   "metadata": {},
   "outputs": [],
   "source": []
  }
 ],
 "metadata": {
  "kernelspec": {
   "display_name": "Python 3",
   "language": "python",
   "name": "python3"
  },
  "language_info": {
   "codemirror_mode": {
    "name": "ipython",
    "version": 3
   },
   "file_extension": ".py",
   "mimetype": "text/x-python",
   "name": "python",
   "nbconvert_exporter": "python",
   "pygments_lexer": "ipython3",
   "version": "3.6.3"
  }
 },
 "nbformat": 4,
 "nbformat_minor": 2
}
