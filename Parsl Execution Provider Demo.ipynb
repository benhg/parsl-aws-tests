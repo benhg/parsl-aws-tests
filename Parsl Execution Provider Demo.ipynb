{
 "cells": [
  {
   "cell_type": "markdown",
   "metadata": {},
   "source": [
    "This interactive Jupyter Notebook will teach the basics of how to interact with a parsl cloud execution provider. \n",
    "In this case, we are using an AWS EC2 provider."
   ]
  },
  {
   "cell_type": "code",
   "execution_count": 4,
   "metadata": {},
   "outputs": [
    {
     "name": "stdout",
     "output_type": "stream",
     "text": [
      "{\n",
      "\t\"site\": \"EC2\",\n",
      "\t\"instancetype\": \"t2.nano\",\n",
      "\t\"nodeGranularity\": 1,\n",
      "\t\"maxNodes\": 100,\n",
      "\t\"AMIID\": \"ami-ae90b6cb\",\n",
      "\t\"AWSKeyName\": \"benglick-key\",\n",
      "\t\"logFile\":\"awsprovider.log\"\n",
      "}\n",
      "\n"
     ]
    }
   ],
   "source": [
    "from parsl import *\n",
    "import parsl\n",
    "from ipyparallel import Client\n",
    "import aws\n",
    "import time\n",
    "\n",
    "#set up executor, dataflow kernel, and provider\n",
    "executor = parsl.executors.ipp.IPyParallelExecutor()\n",
    "dfk = DataFlowKernel(executor)\n",
    "provider = aws.EC2Provider('providerconf.json')\n",
    "with open('providerconf.json', 'r') as fin:\n",
    "    print (fin.read())"
   ]
  },
  {
   "cell_type": "code",
   "execution_count": null,
   "metadata": {
    "collapsed": true
   },
   "outputs": [],
   "source": [
    "#Show the aws architecture. Run this cell at any time to see what's running\n",
    "print(provider.show_summary())"
   ]
  },
  {
   "cell_type": "code",
   "execution_count": null,
   "metadata": {
    "collapsed": true
   },
   "outputs": [],
   "source": [
    "#Submit a request to the provider to increase the size of your cluster and wait for it to connect\n",
    "instances = provider.scale_out(1)\n",
    "time.sleep(180)"
   ]
  },
  {
   "cell_type": "code",
   "execution_count": null,
   "metadata": {
    "collapsed": true
   },
   "outputs": [],
   "source": [
    "#Define a parsl app.\n",
    "#In this case, we will use monte carlo pi, as it is nice and simple\n",
    "import random\n",
    "@App('python', dfk)\n",
    "def mc_pi(n):\n",
    "    import random\n",
    "    count = 0\n",
    "    for i in range(n):\n",
    "        x = random.random()\n",
    "        y = random.random()\n",
    "        if (x**2 + y**2) <= 1:\n",
    "            count += 1\n",
    "    return count/n\n",
    "\n",
    "#For comparison, we'll also define a serial version. \n",
    "#Note the only difference is the lack of an @App decorator\n",
    "def mc_pi_serial(n):\n",
    "    import random\n",
    "    count = 0\n",
    "    for i in range(n):\n",
    "        x = random.random()\n",
    "        y = random.random()\n",
    "        if (x**2 + y**2) <= 1:\n",
    "            count += 1\n",
    "    return count/n"
   ]
  },
  {
   "cell_type": "code",
   "execution_count": null,
   "metadata": {
    "collapsed": true
   },
   "outputs": [],
   "source": [
    "#Time the serial version\n",
    "%timeit mc_pi_serial(1000000)"
   ]
  },
  {
   "cell_type": "code",
   "execution_count": null,
   "metadata": {
    "collapsed": true
   },
   "outputs": [],
   "source": [
    "#scale out cluster (we had 1 node before, so we should have 4 now)\n",
    "provider.scale_out(3)\n",
    "time.sleep(180)"
   ]
  },
  {
   "cell_type": "code",
   "execution_count": null,
   "metadata": {
    "collapsed": true
   },
   "outputs": [],
   "source": [
    "#time the parallel version. Make sure to scale out the cluster before you run this\n",
    "%%timeit\n",
    "results = [mc_pi(n) for n in [250000]*8]\n",
    "pi = sum([result.result() for result in results])/2\n",
    "print(pi)"
   ]
  },
  {
   "cell_type": "code",
   "execution_count": null,
   "metadata": {
    "collapsed": true
   },
   "outputs": [],
   "source": [
    "#Shut down cluster\n",
    "provider.scale_in(99)"
   ]
  }
 ],
 "metadata": {
  "kernelspec": {
   "display_name": "Python 3",
   "language": "python",
   "name": "python3"
  },
  "language_info": {
   "codemirror_mode": {
    "name": "ipython",
    "version": 3
   },
   "file_extension": ".py",
   "mimetype": "text/x-python",
   "name": "python",
   "nbconvert_exporter": "python",
   "pygments_lexer": "ipython3",
   "version": "3.5.2"
  }
 },
 "nbformat": 4,
 "nbformat_minor": 2
}
