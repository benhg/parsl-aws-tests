{
 "cells": [
  {
   "cell_type": "code",
   "execution_count": 1,
   "metadata": {},
   "outputs": [],
   "source": [
    "import dag_vis.dag_vis as dag_vis\n",
    "import random\n",
    "from parsl import *\n",
    "import json\n",
    "\n",
    "workers = ThreadPoolExecutor(max_workers=4)\n",
    "dfk = DataFlowKernel(executors=[workers])"
   ]
  },
  {
   "cell_type": "code",
   "execution_count": 2,
   "metadata": {},
   "outputs": [],
   "source": [
    "import time    \n",
    "@App('python', dfk)\n",
    "def sleep_fail(sleep_dur, sleep_rand_max, fail_prob, inputs=[]):\n",
    "    import time\n",
    "    import random\n",
    "\n",
    "    s = sleep_dur + random.randint(-sleep_rand_max, sleep_rand_max)\n",
    "    print(\"Sleeping for : \", s)\n",
    "    time.sleep(s)\n",
    "    x = float(random.randint(0,100)) / 100\n",
    "    if x <= fail_prob :\n",
    "        print(\"Fail\")\n",
    "        raise Exception(\"App failure\")\n",
    "    else:\n",
    "        print(\"Succeed\")\n",
    "\n",
    "\n",
    "@App('python', dfk)\n",
    "def test1 (numtasks ) :\n",
    "    fus = []\n",
    "    for i in range(0,10):\n",
    "\n",
    "        fu = sleep_fail(0, 0, .0)\n",
    "        fus.extend([fu])\n",
    "\n",
    "\n",
    "    count = 0\n",
    "    for fu in fus :\n",
    "        try:\n",
    "            x = fu.result()\n",
    "        except Exception as e:\n",
    "            count += 1\n",
    "            print(\"Caught fail \")\n",
    "\n",
    "    print(\"Caught failures of  {0}/{1}\".format(count, len(fus)))\n",
    "\n",
    "@App('python', dfk)\n",
    "def test_deps (numtasks) :\n",
    "\n",
    "    '''\n",
    "    App1   App2  ... AppN\n",
    "    '''\n",
    "    fus = []\n",
    "    for i in range(0,10):\n",
    "        fu = sleep_fail(1, 0, .0)\n",
    "        fus.extend([fu])\n",
    "\n",
    "    '''\n",
    "    App1   App2  ... AppN\n",
    "    |       |        |\n",
    "    V       V        V\n",
    "    App1   App2  ... AppN\n",
    "    '''\n",
    "\n",
    "    fus_2 = []\n",
    "    for fu in fus:\n",
    "        fu = sleep_fail(0, 0, .0, inputs=[fu])\n",
    "        fus_2.extend([fu])\n",
    "\n",
    "    '''\n",
    "    App1   App2  ... AppN\n",
    "      |       |        |\n",
    "      V       V        V\n",
    "    App1   App2  ... AppN\n",
    "       \\      |       /\n",
    "        \\     |      /\n",
    "          App_Final\n",
    "    '''\n",
    "    fu_final = sleep_fail(1, 0, 0, inputs=fus_2)\n",
    "\n",
    "\n",
    "    print(\"Final status : \", fu_final.result())\n",
    "    time.sleep(1)"
   ]
  },
  {
   "cell_type": "code",
   "execution_count": 3,
   "metadata": {},
   "outputs": [
    {
     "name": "stdout",
     "output_type": "stream",
     "text": [
      "Sleeping for : Sleeping for : "
     ]
    },
    {
     "data": {
      "text/plain": [
       "<AppFuture at 0x10478bc18 state=running>"
      ]
     },
     "execution_count": 3,
     "metadata": {},
     "output_type": "execute_result"
    },
    {
     "name": "stdout",
     "output_type": "stream",
     "text": [
      " Sleeping for :   111\n",
      "\n",
      "\n"
     ]
    }
   ],
   "source": [
    "test_deps(1000)"
   ]
  },
  {
   "cell_type": "code",
   "execution_count": 4,
   "metadata": {},
   "outputs": [],
   "source": [
    "dfkl = dag_vis.DFKListener(dfk)"
   ]
  },
  {
   "cell_type": "code",
   "execution_count": 5,
   "metadata": {},
   "outputs": [
    {
     "name": "stdout",
     "output_type": "stream",
     "text": [
      "Succeed\n",
      "Sleeping for :  1\n",
      "Succeed\n",
      "Sleeping for :  1\n",
      "Succeed\n",
      "Sleeping for :  1\n"
     ]
    },
    {
     "data": {
      "application/javascript": [
       "window.nodesList=[{\"id\": 0, \"label\": 0, \"color\": \"Lime\", \"font\": {\"background\": \"white\"}, \"title\": \"Running\"}, {\"id\": 1, \"label\": 1, \"color\": \"Green\", \"font\": {\"background\": \"white\"}, \"title\": \"Finished\"}, {\"id\": 2, \"label\": 2, \"color\": \"Green\", \"font\": {\"background\": \"white\"}, \"title\": \"Finished\"}, {\"id\": 3, \"label\": 3, \"color\": \"Green\", \"font\": {\"background\": \"white\"}, \"title\": \"Finished\"}, {\"id\": 4, \"label\": 4, \"color\": \"Lime\", \"font\": {\"background\": \"white\"}, \"title\": \"Running\"}, {\"id\": 5, \"label\": 5, \"color\": \"Lime\", \"font\": {\"background\": \"white\"}, \"title\": \"Running\"}, {\"id\": 6, \"label\": 6, \"color\": \"Lime\", \"font\": {\"background\": \"white\"}, \"title\": \"Running\"}, {\"id\": 7, \"label\": 7, \"color\": \"Lime\", \"font\": {\"background\": \"white\"}, \"title\": \"Running\"}, {\"id\": 8, \"label\": 8, \"color\": \"Lime\", \"font\": {\"background\": \"white\"}, \"title\": \"Running\"}, {\"id\": 9, \"label\": 9, \"color\": \"Lime\", \"font\": {\"background\": \"white\"}, \"title\": \"Running\"}, {\"id\": 10, \"label\": 10, \"color\": \"Lime\", \"font\": {\"background\": \"white\"}, \"title\": \"Running\"}, {\"id\": 11, \"label\": 11, \"color\": \"Lime\", \"font\": {\"background\": \"white\"}, \"title\": \"Running\"}, {\"id\": 12, \"label\": 12, \"color\": \"Lime\", \"font\": {\"background\": \"white\"}, \"title\": \"Running\"}, {\"id\": 13, \"label\": 13, \"color\": \"Lime\", \"font\": {\"background\": \"white\"}, \"title\": \"Running\"}, {\"id\": 14, \"label\": 14, \"color\": \"Yellow\", \"font\": {\"background\": \"white\"}, \"title\": \"Pending\"}, {\"id\": 15, \"label\": 15, \"color\": \"Yellow\", \"font\": {\"background\": \"white\"}, \"title\": \"Pending\"}, {\"id\": 16, \"label\": 16, \"color\": \"Yellow\", \"font\": {\"background\": \"white\"}, \"title\": \"Pending\"}, {\"id\": 17, \"label\": 17, \"color\": \"Yellow\", \"font\": {\"background\": \"white\"}, \"title\": \"Pending\"}, {\"id\": 18, \"label\": 18, \"color\": \"Yellow\", \"font\": {\"background\": \"white\"}, \"title\": \"Pending\"}, {\"id\": 19, \"label\": 19, \"color\": \"Yellow\", \"font\": {\"background\": \"white\"}, \"title\": \"Pending\"}, {\"id\": 20, \"label\": 20, \"color\": \"Yellow\", \"font\": {\"background\": \"white\"}, \"title\": \"Pending\"}, {\"id\": 21, \"label\": 21, \"color\": \"Yellow\", \"font\": {\"background\": \"white\"}, \"title\": \"Pending\"}];\n",
       "                      window.edgesList=[{\"from\": 1, \"to\": 11, \"arrows\": \"to\"}, {\"from\": 2, \"to\": 12, \"arrows\": \"to\"}, {\"from\": 3, \"to\": 13, \"arrows\": \"to\"}, {\"from\": 4, \"to\": 14, \"arrows\": \"to\"}, {\"from\": 5, \"to\": 15, \"arrows\": \"to\"}, {\"from\": 6, \"to\": 16, \"arrows\": \"to\"}, {\"from\": 7, \"to\": 17, \"arrows\": \"to\"}, {\"from\": 8, \"to\": 18, \"arrows\": \"to\"}, {\"from\": 9, \"to\": 19, \"arrows\": \"to\"}, {\"from\": 10, \"to\": 20, \"arrows\": \"to\"}, {\"from\": 11, \"to\": 21, \"arrows\": \"to\"}, {\"from\": 12, \"to\": 21, \"arrows\": \"to\"}, {\"from\": 13, \"to\": 21, \"arrows\": \"to\"}, {\"from\": 14, \"to\": 21, \"arrows\": \"to\"}, {\"from\": 15, \"to\": 21, \"arrows\": \"to\"}, {\"from\": 16, \"to\": 21, \"arrows\": \"to\"}, {\"from\": 17, \"to\": 21, \"arrows\": \"to\"}, {\"from\": 18, \"to\": 21, \"arrows\": \"to\"}, {\"from\": 19, \"to\": 21, \"arrows\": \"to\"}, {\"from\": 20, \"to\": 21, \"arrows\": \"to\"}];\n",
       "                   "
      ],
      "text/plain": [
       "<IPython.core.display.Javascript object>"
      ]
     },
     "metadata": {},
     "output_type": "display_data"
    },
    {
     "data": {
      "application/javascript": [
       "require.config({paths: {vis: 'https://cdnjs.cloudflare.com/ajax/libs/vis/4.21.0/vis.min'}});\n",
       "require(['vis'], function (vis){\n",
       "    element.append('<div id=\"mynetwork\" style=\"width:950px;height:750px;border:1px solid lightgray;\"></div>');\n",
       "    var nodes = new vis.DataSet(window.nodesList);\n",
       "    var edges = new vis.DataSet(window.edgesList);\n",
       "    var container = document.getElementById('mynetwork');\n",
       "    var data = {\n",
       "         nodes: nodes,\n",
       "         edges: edges\n",
       "     };\n",
       "     var options = {interaction:{hover:true}, \n",
       "                   layout: {\n",
       "                    hierarchical: {\n",
       "                        direction: 'UD'\n",
       "                    }}\n",
       "                   };\n",
       "     var network = new vis.Network(container, data, options);\n",
       "     network.on(\"hoverNode\", function (params) {\n",
       "             \n",
       "     });\n",
       "     network.on(\"hoverEdge\", function (params) {\n",
       "            \n",
       "     });\n",
       "     network.on(\"blurNode\", function (params) {\n",
       "             \n",
       "     });\n",
       "     network.on(\"blurEdge\", function (params) {\n",
       "             \n",
       "     });\n",
       "});"
      ],
      "text/plain": [
       "<IPython.core.display.Javascript object>"
      ]
     },
     "metadata": {},
     "output_type": "display_data"
    },
    {
     "name": "stdout",
     "output_type": "stream",
     "text": [
      "SucceedSucceed\n",
      "\n",
      "Sleeping for : Sleeping for :   11\n",
      "\n",
      "Succeed\n",
      "Sleeping for :  1\n",
      "SucceedSucceed\n",
      "\n",
      "Sleeping for : Sleeping for :   10\n",
      "\n",
      "Succeed\n",
      "Sleeping for :  0\n",
      "Succeed\n",
      "Sleeping for :  0\n",
      "Succeed\n",
      "Sleeping for :  0\n",
      "Succeed\n",
      "Sleeping for :  0\n",
      "Succeed\n",
      "Sleeping for :  0\n",
      "Succeed\n",
      "Sleeping for :  0\n",
      "SucceedSucceed\n",
      "\n",
      "Sleeping for : Sleeping for :   00\n",
      "\n",
      "SucceedSucceed\n",
      "\n",
      "Succeed\n",
      "Sleeping for :  0\n",
      "Succeed\n",
      "Sleeping for :  1\n",
      "Succeed\n",
      "Final status :  None\n"
     ]
    }
   ],
   "source": [
    "dfkl.set_javascript()\n",
    "dfkl.show_window()"
   ]
  },
  {
   "cell_type": "code",
   "execution_count": null,
   "metadata": {},
   "outputs": [],
   "source": []
  }
 ],
 "metadata": {
  "kernelspec": {
   "display_name": "Python 3",
   "language": "python",
   "name": "python3"
  },
  "language_info": {
   "codemirror_mode": {
    "name": "ipython",
    "version": 3
   },
   "file_extension": ".py",
   "mimetype": "text/x-python",
   "name": "python",
   "nbconvert_exporter": "python",
   "pygments_lexer": "ipython3",
   "version": "3.6.3"
  }
 },
 "nbformat": 4,
 "nbformat_minor": 2
}
