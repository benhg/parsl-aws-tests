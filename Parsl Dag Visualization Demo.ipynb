{
 "cells": [
  {
   "cell_type": "code",
   "execution_count": 17,
   "metadata": {
    "collapsed": true
   },
   "outputs": [],
   "source": [
    "import random\n",
    "from parsl import DataFlowKernel, ThreadPoolExecutor, App\n",
    "import pprint\n",
    "import json\n",
    "\n",
    "workers = ThreadPoolExecutor(max_workers=8)\n",
    "dfk = DataFlowKernel(workers)"
   ]
  },
  {
   "cell_type": "code",
   "execution_count": 18,
   "metadata": {
    "collapsed": true
   },
   "outputs": [],
   "source": [
    "@App('python', dfk)\n",
    "def add(x, y):  \n",
    "    import time\n",
    "    time.sleep(1)\n",
    "    return x+y"
   ]
  },
  {
   "cell_type": "code",
   "execution_count": 19,
   "metadata": {
    "collapsed": true
   },
   "outputs": [],
   "source": [
    "fibs = [0,1]\n",
    "for i in range(0,99):\n",
    "    cur = add(fibs[i], fibs[i+1])\n",
    "    #print(\"Index[{0}] : {1}\".format(i+2, cur))\n",
    "    fibs.extend([cur])\n",
    "\n"
   ]
  },
  {
   "cell_type": "code",
   "execution_count": 20,
   "metadata": {
    "collapsed": true
   },
   "outputs": [],
   "source": [
    "from parsl.dataflow.states import States\n",
    "from IPython.display import Javascript\n",
    "import json\n",
    "\n",
    "class DFKListener():\n",
    "    def __init__(self, dfk):\n",
    "        self.dfk = dfk\n",
    "        self.nodes_list = []\n",
    "        self.edges_list = []\n",
    "        self.color_lookup_table = {\n",
    "                     States.unsched : \"Pink\",\n",
    "                      States.pending : \"Yellow\",\n",
    "                      States.runnable: \"Blue\",\n",
    "                      States.running : \"Lime\",\n",
    "                      States.done: \"Green\",\n",
    "                      States.failed  : \"Red\",\n",
    "                      States.dep_fail: \"orange\"\n",
    "        }\n",
    "        self.state_lookup_table = {\n",
    "                     States.unsched : \"Unscheduled\",\n",
    "                      States.pending : \"Pending\",\n",
    "                      States.runnable: \"Runnable\",\n",
    "                      States.running : \"Running\",\n",
    "                      States.done: \"Finished\",\n",
    "                      States.failed  : \"Failed\",\n",
    "                      States.dep_fail: \"Dependency Failure\"\n",
    "        }\n",
    "\n",
    "\n",
    "    @property\n",
    "    def nodes(self):\n",
    "        return self.nodes_list\n",
    "        \n",
    "    @property\n",
    "    def edges(self):\n",
    "        return self.edges_list\n",
    "    \n",
    "    \n",
    "    def create_nodes(self, dfke=None):\n",
    "        dfk = dfke if dfke else self.dfk\n",
    "        for task in dfk.tasks:\n",
    "            state = dfk.tasks[task]['status']\n",
    "            tid = dfk.tasks[task]['app_fu'].tid\n",
    "            task = {\"id\": tid, \"label\": tid, \"color\": self.color_lookup_table[state], \"font\": {\"background\": \"white\"}, \"title\": self.state_lookup_table[state]}\n",
    "            self.nodes_list.append(task)\n",
    "        return self.nodes\n",
    "    \n",
    "    def create_edges(self, dfke=None):\n",
    "        dfk = dfke if dfke else self.dfk\n",
    "        for task in dfk.tasks:\n",
    "            deps = state = dfk.tasks[task]['depends']\n",
    "            for dep in deps:\n",
    "                edge = {\"from\" : dep.tid, \"to\": task, \"arrows\":'to'}\n",
    "                self.edges_list.append(edge)\n",
    "        return self.edges\n",
    "    \n",
    "    def update(self):\n",
    "        self.create_nodes()\n",
    "        self.create_edges()\n",
    "        return json.dumps({\"nodes\":self.nodes,\"edges\":self.edges})\n",
    "    \n",
    "    def set_javascript(self):\n",
    "        self.update()\n",
    "        nodes = json.dumps(self.nodes)\n",
    "        edges = json.dumps(self.edges)\n",
    "        Javascript(\"\"\"window.nodesList={}; window.edgesList={};\"\"\".format(nodes,edges))"
   ]
  },
  {
   "cell_type": "code",
   "execution_count": 29,
   "metadata": {
    "collapsed": true
   },
   "outputs": [],
   "source": [
    "dfkl = DFKListener(dfk)"
   ]
  },
  {
   "cell_type": "code",
   "execution_count": 30,
   "metadata": {
    "collapsed": true
   },
   "outputs": [],
   "source": [
    "dfkl.set_javascript()"
   ]
  },
  {
   "cell_type": "code",
   "execution_count": 31,
   "metadata": {},
   "outputs": [
    {
     "data": {
      "text/plain": [
       "'{\"nodes\": [{\"id\": 0, \"label\": 0, \"color\": \"Green\", \"font\": {\"background\": \"white\"}, \"title\": \"Finished\"}, {\"id\": 1, \"label\": 1, \"color\": \"Green\", \"font\": {\"background\": \"white\"}, \"title\": \"Finished\"}, {\"id\": 2, \"label\": 2, \"color\": \"Green\", \"font\": {\"background\": \"white\"}, \"title\": \"Finished\"}, {\"id\": 3, \"label\": 3, \"color\": \"Green\", \"font\": {\"background\": \"white\"}, \"title\": \"Finished\"}, {\"id\": 4, \"label\": 4, \"color\": \"Green\", \"font\": {\"background\": \"white\"}, \"title\": \"Finished\"}, {\"id\": 5, \"label\": 5, \"color\": \"Green\", \"font\": {\"background\": \"white\"}, \"title\": \"Finished\"}, {\"id\": 6, \"label\": 6, \"color\": \"Green\", \"font\": {\"background\": \"white\"}, \"title\": \"Finished\"}, {\"id\": 7, \"label\": 7, \"color\": \"Green\", \"font\": {\"background\": \"white\"}, \"title\": \"Finished\"}, {\"id\": 8, \"label\": 8, \"color\": \"Green\", \"font\": {\"background\": \"white\"}, \"title\": \"Finished\"}, {\"id\": 9, \"label\": 9, \"color\": \"Green\", \"font\": {\"background\": \"white\"}, \"title\": \"Finished\"}, {\"id\": 10, \"label\": 10, \"color\": \"Green\", \"font\": {\"background\": \"white\"}, \"title\": \"Finished\"}, {\"id\": 11, \"label\": 11, \"color\": \"Green\", \"font\": {\"background\": \"white\"}, \"title\": \"Finished\"}, {\"id\": 12, \"label\": 12, \"color\": \"Green\", \"font\": {\"background\": \"white\"}, \"title\": \"Finished\"}, {\"id\": 13, \"label\": 13, \"color\": \"Green\", \"font\": {\"background\": \"white\"}, \"title\": \"Finished\"}, {\"id\": 14, \"label\": 14, \"color\": \"Green\", \"font\": {\"background\": \"white\"}, \"title\": \"Finished\"}, {\"id\": 15, \"label\": 15, \"color\": \"Green\", \"font\": {\"background\": \"white\"}, \"title\": \"Finished\"}, {\"id\": 16, \"label\": 16, \"color\": \"Green\", \"font\": {\"background\": \"white\"}, \"title\": \"Finished\"}, {\"id\": 17, \"label\": 17, \"color\": \"Green\", \"font\": {\"background\": \"white\"}, \"title\": \"Finished\"}, {\"id\": 18, \"label\": 18, \"color\": \"Green\", \"font\": {\"background\": \"white\"}, \"title\": \"Finished\"}, {\"id\": 19, \"label\": 19, \"color\": \"Green\", \"font\": {\"background\": \"white\"}, \"title\": \"Finished\"}, {\"id\": 20, \"label\": 20, \"color\": \"Green\", \"font\": {\"background\": \"white\"}, \"title\": \"Finished\"}, {\"id\": 21, \"label\": 21, \"color\": \"Green\", \"font\": {\"background\": \"white\"}, \"title\": \"Finished\"}, {\"id\": 22, \"label\": 22, \"color\": \"Green\", \"font\": {\"background\": \"white\"}, \"title\": \"Finished\"}, {\"id\": 23, \"label\": 23, \"color\": \"Green\", \"font\": {\"background\": \"white\"}, \"title\": \"Finished\"}, {\"id\": 24, \"label\": 24, \"color\": \"Green\", \"font\": {\"background\": \"white\"}, \"title\": \"Finished\"}, {\"id\": 25, \"label\": 25, \"color\": \"Green\", \"font\": {\"background\": \"white\"}, \"title\": \"Finished\"}, {\"id\": 26, \"label\": 26, \"color\": \"Green\", \"font\": {\"background\": \"white\"}, \"title\": \"Finished\"}, {\"id\": 27, \"label\": 27, \"color\": \"Green\", \"font\": {\"background\": \"white\"}, \"title\": \"Finished\"}, {\"id\": 28, \"label\": 28, \"color\": \"Green\", \"font\": {\"background\": \"white\"}, \"title\": \"Finished\"}, {\"id\": 29, \"label\": 29, \"color\": \"Green\", \"font\": {\"background\": \"white\"}, \"title\": \"Finished\"}, {\"id\": 30, \"label\": 30, \"color\": \"Green\", \"font\": {\"background\": \"white\"}, \"title\": \"Finished\"}, {\"id\": 31, \"label\": 31, \"color\": \"Green\", \"font\": {\"background\": \"white\"}, \"title\": \"Finished\"}, {\"id\": 32, \"label\": 32, \"color\": \"Green\", \"font\": {\"background\": \"white\"}, \"title\": \"Finished\"}, {\"id\": 33, \"label\": 33, \"color\": \"Green\", \"font\": {\"background\": \"white\"}, \"title\": \"Finished\"}, {\"id\": 34, \"label\": 34, \"color\": \"Green\", \"font\": {\"background\": \"white\"}, \"title\": \"Finished\"}, {\"id\": 35, \"label\": 35, \"color\": \"Green\", \"font\": {\"background\": \"white\"}, \"title\": \"Finished\"}, {\"id\": 36, \"label\": 36, \"color\": \"Green\", \"font\": {\"background\": \"white\"}, \"title\": \"Finished\"}, {\"id\": 37, \"label\": 37, \"color\": \"Green\", \"font\": {\"background\": \"white\"}, \"title\": \"Finished\"}, {\"id\": 38, \"label\": 38, \"color\": \"Green\", \"font\": {\"background\": \"white\"}, \"title\": \"Finished\"}, {\"id\": 39, \"label\": 39, \"color\": \"Green\", \"font\": {\"background\": \"white\"}, \"title\": \"Finished\"}, {\"id\": 40, \"label\": 40, \"color\": \"Green\", \"font\": {\"background\": \"white\"}, \"title\": \"Finished\"}, {\"id\": 41, \"label\": 41, \"color\": \"Green\", \"font\": {\"background\": \"white\"}, \"title\": \"Finished\"}, {\"id\": 42, \"label\": 42, \"color\": \"Green\", \"font\": {\"background\": \"white\"}, \"title\": \"Finished\"}, {\"id\": 43, \"label\": 43, \"color\": \"Green\", \"font\": {\"background\": \"white\"}, \"title\": \"Finished\"}, {\"id\": 44, \"label\": 44, \"color\": \"Green\", \"font\": {\"background\": \"white\"}, \"title\": \"Finished\"}, {\"id\": 45, \"label\": 45, \"color\": \"Green\", \"font\": {\"background\": \"white\"}, \"title\": \"Finished\"}, {\"id\": 46, \"label\": 46, \"color\": \"Green\", \"font\": {\"background\": \"white\"}, \"title\": \"Finished\"}, {\"id\": 47, \"label\": 47, \"color\": \"Green\", \"font\": {\"background\": \"white\"}, \"title\": \"Finished\"}, {\"id\": 48, \"label\": 48, \"color\": \"Green\", \"font\": {\"background\": \"white\"}, \"title\": \"Finished\"}, {\"id\": 49, \"label\": 49, \"color\": \"Green\", \"font\": {\"background\": \"white\"}, \"title\": \"Finished\"}, {\"id\": 50, \"label\": 50, \"color\": \"Green\", \"font\": {\"background\": \"white\"}, \"title\": \"Finished\"}, {\"id\": 51, \"label\": 51, \"color\": \"Green\", \"font\": {\"background\": \"white\"}, \"title\": \"Finished\"}, {\"id\": 52, \"label\": 52, \"color\": \"Green\", \"font\": {\"background\": \"white\"}, \"title\": \"Finished\"}, {\"id\": 53, \"label\": 53, \"color\": \"Green\", \"font\": {\"background\": \"white\"}, \"title\": \"Finished\"}, {\"id\": 54, \"label\": 54, \"color\": \"Green\", \"font\": {\"background\": \"white\"}, \"title\": \"Finished\"}, {\"id\": 55, \"label\": 55, \"color\": \"Green\", \"font\": {\"background\": \"white\"}, \"title\": \"Finished\"}, {\"id\": 56, \"label\": 56, \"color\": \"Green\", \"font\": {\"background\": \"white\"}, \"title\": \"Finished\"}, {\"id\": 57, \"label\": 57, \"color\": \"Green\", \"font\": {\"background\": \"white\"}, \"title\": \"Finished\"}, {\"id\": 58, \"label\": 58, \"color\": \"Green\", \"font\": {\"background\": \"white\"}, \"title\": \"Finished\"}, {\"id\": 59, \"label\": 59, \"color\": \"Green\", \"font\": {\"background\": \"white\"}, \"title\": \"Finished\"}, {\"id\": 60, \"label\": 60, \"color\": \"Green\", \"font\": {\"background\": \"white\"}, \"title\": \"Finished\"}, {\"id\": 61, \"label\": 61, \"color\": \"Green\", \"font\": {\"background\": \"white\"}, \"title\": \"Finished\"}, {\"id\": 62, \"label\": 62, \"color\": \"Green\", \"font\": {\"background\": \"white\"}, \"title\": \"Finished\"}, {\"id\": 63, \"label\": 63, \"color\": \"Green\", \"font\": {\"background\": \"white\"}, \"title\": \"Finished\"}, {\"id\": 64, \"label\": 64, \"color\": \"Green\", \"font\": {\"background\": \"white\"}, \"title\": \"Finished\"}, {\"id\": 65, \"label\": 65, \"color\": \"Green\", \"font\": {\"background\": \"white\"}, \"title\": \"Finished\"}, {\"id\": 66, \"label\": 66, \"color\": \"Green\", \"font\": {\"background\": \"white\"}, \"title\": \"Finished\"}, {\"id\": 67, \"label\": 67, \"color\": \"Green\", \"font\": {\"background\": \"white\"}, \"title\": \"Finished\"}, {\"id\": 68, \"label\": 68, \"color\": \"Green\", \"font\": {\"background\": \"white\"}, \"title\": \"Finished\"}, {\"id\": 69, \"label\": 69, \"color\": \"Green\", \"font\": {\"background\": \"white\"}, \"title\": \"Finished\"}, {\"id\": 70, \"label\": 70, \"color\": \"Green\", \"font\": {\"background\": \"white\"}, \"title\": \"Finished\"}, {\"id\": 71, \"label\": 71, \"color\": \"Green\", \"font\": {\"background\": \"white\"}, \"title\": \"Finished\"}, {\"id\": 72, \"label\": 72, \"color\": \"Green\", \"font\": {\"background\": \"white\"}, \"title\": \"Finished\"}, {\"id\": 73, \"label\": 73, \"color\": \"Lime\", \"font\": {\"background\": \"white\"}, \"title\": \"Running\"}, {\"id\": 74, \"label\": 74, \"color\": \"Yellow\", \"font\": {\"background\": \"white\"}, \"title\": \"Pending\"}, {\"id\": 75, \"label\": 75, \"color\": \"Yellow\", \"font\": {\"background\": \"white\"}, \"title\": \"Pending\"}, {\"id\": 76, \"label\": 76, \"color\": \"Yellow\", \"font\": {\"background\": \"white\"}, \"title\": \"Pending\"}, {\"id\": 77, \"label\": 77, \"color\": \"Yellow\", \"font\": {\"background\": \"white\"}, \"title\": \"Pending\"}, {\"id\": 78, \"label\": 78, \"color\": \"Yellow\", \"font\": {\"background\": \"white\"}, \"title\": \"Pending\"}, {\"id\": 79, \"label\": 79, \"color\": \"Yellow\", \"font\": {\"background\": \"white\"}, \"title\": \"Pending\"}, {\"id\": 80, \"label\": 80, \"color\": \"Yellow\", \"font\": {\"background\": \"white\"}, \"title\": \"Pending\"}, {\"id\": 81, \"label\": 81, \"color\": \"Yellow\", \"font\": {\"background\": \"white\"}, \"title\": \"Pending\"}, {\"id\": 82, \"label\": 82, \"color\": \"Yellow\", \"font\": {\"background\": \"white\"}, \"title\": \"Pending\"}, {\"id\": 83, \"label\": 83, \"color\": \"Yellow\", \"font\": {\"background\": \"white\"}, \"title\": \"Pending\"}, {\"id\": 84, \"label\": 84, \"color\": \"Yellow\", \"font\": {\"background\": \"white\"}, \"title\": \"Pending\"}, {\"id\": 85, \"label\": 85, \"color\": \"Yellow\", \"font\": {\"background\": \"white\"}, \"title\": \"Pending\"}, {\"id\": 86, \"label\": 86, \"color\": \"Yellow\", \"font\": {\"background\": \"white\"}, \"title\": \"Pending\"}, {\"id\": 87, \"label\": 87, \"color\": \"Yellow\", \"font\": {\"background\": \"white\"}, \"title\": \"Pending\"}, {\"id\": 88, \"label\": 88, \"color\": \"Yellow\", \"font\": {\"background\": \"white\"}, \"title\": \"Pending\"}, {\"id\": 89, \"label\": 89, \"color\": \"Yellow\", \"font\": {\"background\": \"white\"}, \"title\": \"Pending\"}, {\"id\": 90, \"label\": 90, \"color\": \"Yellow\", \"font\": {\"background\": \"white\"}, \"title\": \"Pending\"}, {\"id\": 91, \"label\": 91, \"color\": \"Yellow\", \"font\": {\"background\": \"white\"}, \"title\": \"Pending\"}, {\"id\": 92, \"label\": 92, \"color\": \"Yellow\", \"font\": {\"background\": \"white\"}, \"title\": \"Pending\"}, {\"id\": 93, \"label\": 93, \"color\": \"Yellow\", \"font\": {\"background\": \"white\"}, \"title\": \"Pending\"}, {\"id\": 94, \"label\": 94, \"color\": \"Yellow\", \"font\": {\"background\": \"white\"}, \"title\": \"Pending\"}, {\"id\": 95, \"label\": 95, \"color\": \"Yellow\", \"font\": {\"background\": \"white\"}, \"title\": \"Pending\"}, {\"id\": 96, \"label\": 96, \"color\": \"Yellow\", \"font\": {\"background\": \"white\"}, \"title\": \"Pending\"}, {\"id\": 97, \"label\": 97, \"color\": \"Yellow\", \"font\": {\"background\": \"white\"}, \"title\": \"Pending\"}, {\"id\": 98, \"label\": 98, \"color\": \"Yellow\", \"font\": {\"background\": \"white\"}, \"title\": \"Pending\"}, {\"id\": 0, \"label\": 0, \"color\": \"Green\", \"font\": {\"background\": \"white\"}, \"title\": \"Finished\"}, {\"id\": 1, \"label\": 1, \"color\": \"Green\", \"font\": {\"background\": \"white\"}, \"title\": \"Finished\"}, {\"id\": 2, \"label\": 2, \"color\": \"Green\", \"font\": {\"background\": \"white\"}, \"title\": \"Finished\"}, {\"id\": 3, \"label\": 3, \"color\": \"Green\", \"font\": {\"background\": \"white\"}, \"title\": \"Finished\"}, {\"id\": 4, \"label\": 4, \"color\": \"Green\", \"font\": {\"background\": \"white\"}, \"title\": \"Finished\"}, {\"id\": 5, \"label\": 5, \"color\": \"Green\", \"font\": {\"background\": \"white\"}, \"title\": \"Finished\"}, {\"id\": 6, \"label\": 6, \"color\": \"Green\", \"font\": {\"background\": \"white\"}, \"title\": \"Finished\"}, {\"id\": 7, \"label\": 7, \"color\": \"Green\", \"font\": {\"background\": \"white\"}, \"title\": \"Finished\"}, {\"id\": 8, \"label\": 8, \"color\": \"Green\", \"font\": {\"background\": \"white\"}, \"title\": \"Finished\"}, {\"id\": 9, \"label\": 9, \"color\": \"Green\", \"font\": {\"background\": \"white\"}, \"title\": \"Finished\"}, {\"id\": 10, \"label\": 10, \"color\": \"Green\", \"font\": {\"background\": \"white\"}, \"title\": \"Finished\"}, {\"id\": 11, \"label\": 11, \"color\": \"Green\", \"font\": {\"background\": \"white\"}, \"title\": \"Finished\"}, {\"id\": 12, \"label\": 12, \"color\": \"Green\", \"font\": {\"background\": \"white\"}, \"title\": \"Finished\"}, {\"id\": 13, \"label\": 13, \"color\": \"Green\", \"font\": {\"background\": \"white\"}, \"title\": \"Finished\"}, {\"id\": 14, \"label\": 14, \"color\": \"Green\", \"font\": {\"background\": \"white\"}, \"title\": \"Finished\"}, {\"id\": 15, \"label\": 15, \"color\": \"Green\", \"font\": {\"background\": \"white\"}, \"title\": \"Finished\"}, {\"id\": 16, \"label\": 16, \"color\": \"Green\", \"font\": {\"background\": \"white\"}, \"title\": \"Finished\"}, {\"id\": 17, \"label\": 17, \"color\": \"Green\", \"font\": {\"background\": \"white\"}, \"title\": \"Finished\"}, {\"id\": 18, \"label\": 18, \"color\": \"Green\", \"font\": {\"background\": \"white\"}, \"title\": \"Finished\"}, {\"id\": 19, \"label\": 19, \"color\": \"Green\", \"font\": {\"background\": \"white\"}, \"title\": \"Finished\"}, {\"id\": 20, \"label\": 20, \"color\": \"Green\", \"font\": {\"background\": \"white\"}, \"title\": \"Finished\"}, {\"id\": 21, \"label\": 21, \"color\": \"Green\", \"font\": {\"background\": \"white\"}, \"title\": \"Finished\"}, {\"id\": 22, \"label\": 22, \"color\": \"Green\", \"font\": {\"background\": \"white\"}, \"title\": \"Finished\"}, {\"id\": 23, \"label\": 23, \"color\": \"Green\", \"font\": {\"background\": \"white\"}, \"title\": \"Finished\"}, {\"id\": 24, \"label\": 24, \"color\": \"Green\", \"font\": {\"background\": \"white\"}, \"title\": \"Finished\"}, {\"id\": 25, \"label\": 25, \"color\": \"Green\", \"font\": {\"background\": \"white\"}, \"title\": \"Finished\"}, {\"id\": 26, \"label\": 26, \"color\": \"Green\", \"font\": {\"background\": \"white\"}, \"title\": \"Finished\"}, {\"id\": 27, \"label\": 27, \"color\": \"Green\", \"font\": {\"background\": \"white\"}, \"title\": \"Finished\"}, {\"id\": 28, \"label\": 28, \"color\": \"Green\", \"font\": {\"background\": \"white\"}, \"title\": \"Finished\"}, {\"id\": 29, \"label\": 29, \"color\": \"Green\", \"font\": {\"background\": \"white\"}, \"title\": \"Finished\"}, {\"id\": 30, \"label\": 30, \"color\": \"Green\", \"font\": {\"background\": \"white\"}, \"title\": \"Finished\"}, {\"id\": 31, \"label\": 31, \"color\": \"Green\", \"font\": {\"background\": \"white\"}, \"title\": \"Finished\"}, {\"id\": 32, \"label\": 32, \"color\": \"Green\", \"font\": {\"background\": \"white\"}, \"title\": \"Finished\"}, {\"id\": 33, \"label\": 33, \"color\": \"Green\", \"font\": {\"background\": \"white\"}, \"title\": \"Finished\"}, {\"id\": 34, \"label\": 34, \"color\": \"Green\", \"font\": {\"background\": \"white\"}, \"title\": \"Finished\"}, {\"id\": 35, \"label\": 35, \"color\": \"Green\", \"font\": {\"background\": \"white\"}, \"title\": \"Finished\"}, {\"id\": 36, \"label\": 36, \"color\": \"Green\", \"font\": {\"background\": \"white\"}, \"title\": \"Finished\"}, {\"id\": 37, \"label\": 37, \"color\": \"Green\", \"font\": {\"background\": \"white\"}, \"title\": \"Finished\"}, {\"id\": 38, \"label\": 38, \"color\": \"Green\", \"font\": {\"background\": \"white\"}, \"title\": \"Finished\"}, {\"id\": 39, \"label\": 39, \"color\": \"Green\", \"font\": {\"background\": \"white\"}, \"title\": \"Finished\"}, {\"id\": 40, \"label\": 40, \"color\": \"Green\", \"font\": {\"background\": \"white\"}, \"title\": \"Finished\"}, {\"id\": 41, \"label\": 41, \"color\": \"Green\", \"font\": {\"background\": \"white\"}, \"title\": \"Finished\"}, {\"id\": 42, \"label\": 42, \"color\": \"Green\", \"font\": {\"background\": \"white\"}, \"title\": \"Finished\"}, {\"id\": 43, \"label\": 43, \"color\": \"Green\", \"font\": {\"background\": \"white\"}, \"title\": \"Finished\"}, {\"id\": 44, \"label\": 44, \"color\": \"Green\", \"font\": {\"background\": \"white\"}, \"title\": \"Finished\"}, {\"id\": 45, \"label\": 45, \"color\": \"Green\", \"font\": {\"background\": \"white\"}, \"title\": \"Finished\"}, {\"id\": 46, \"label\": 46, \"color\": \"Green\", \"font\": {\"background\": \"white\"}, \"title\": \"Finished\"}, {\"id\": 47, \"label\": 47, \"color\": \"Green\", \"font\": {\"background\": \"white\"}, \"title\": \"Finished\"}, {\"id\": 48, \"label\": 48, \"color\": \"Green\", \"font\": {\"background\": \"white\"}, \"title\": \"Finished\"}, {\"id\": 49, \"label\": 49, \"color\": \"Green\", \"font\": {\"background\": \"white\"}, \"title\": \"Finished\"}, {\"id\": 50, \"label\": 50, \"color\": \"Green\", \"font\": {\"background\": \"white\"}, \"title\": \"Finished\"}, {\"id\": 51, \"label\": 51, \"color\": \"Green\", \"font\": {\"background\": \"white\"}, \"title\": \"Finished\"}, {\"id\": 52, \"label\": 52, \"color\": \"Green\", \"font\": {\"background\": \"white\"}, \"title\": \"Finished\"}, {\"id\": 53, \"label\": 53, \"color\": \"Green\", \"font\": {\"background\": \"white\"}, \"title\": \"Finished\"}, {\"id\": 54, \"label\": 54, \"color\": \"Green\", \"font\": {\"background\": \"white\"}, \"title\": \"Finished\"}, {\"id\": 55, \"label\": 55, \"color\": \"Green\", \"font\": {\"background\": \"white\"}, \"title\": \"Finished\"}, {\"id\": 56, \"label\": 56, \"color\": \"Green\", \"font\": {\"background\": \"white\"}, \"title\": \"Finished\"}, {\"id\": 57, \"label\": 57, \"color\": \"Green\", \"font\": {\"background\": \"white\"}, \"title\": \"Finished\"}, {\"id\": 58, \"label\": 58, \"color\": \"Green\", \"font\": {\"background\": \"white\"}, \"title\": \"Finished\"}, {\"id\": 59, \"label\": 59, \"color\": \"Green\", \"font\": {\"background\": \"white\"}, \"title\": \"Finished\"}, {\"id\": 60, \"label\": 60, \"color\": \"Green\", \"font\": {\"background\": \"white\"}, \"title\": \"Finished\"}, {\"id\": 61, \"label\": 61, \"color\": \"Green\", \"font\": {\"background\": \"white\"}, \"title\": \"Finished\"}, {\"id\": 62, \"label\": 62, \"color\": \"Green\", \"font\": {\"background\": \"white\"}, \"title\": \"Finished\"}, {\"id\": 63, \"label\": 63, \"color\": \"Green\", \"font\": {\"background\": \"white\"}, \"title\": \"Finished\"}, {\"id\": 64, \"label\": 64, \"color\": \"Green\", \"font\": {\"background\": \"white\"}, \"title\": \"Finished\"}, {\"id\": 65, \"label\": 65, \"color\": \"Green\", \"font\": {\"background\": \"white\"}, \"title\": \"Finished\"}, {\"id\": 66, \"label\": 66, \"color\": \"Green\", \"font\": {\"background\": \"white\"}, \"title\": \"Finished\"}, {\"id\": 67, \"label\": 67, \"color\": \"Green\", \"font\": {\"background\": \"white\"}, \"title\": \"Finished\"}, {\"id\": 68, \"label\": 68, \"color\": \"Green\", \"font\": {\"background\": \"white\"}, \"title\": \"Finished\"}, {\"id\": 69, \"label\": 69, \"color\": \"Green\", \"font\": {\"background\": \"white\"}, \"title\": \"Finished\"}, {\"id\": 70, \"label\": 70, \"color\": \"Green\", \"font\": {\"background\": \"white\"}, \"title\": \"Finished\"}, {\"id\": 71, \"label\": 71, \"color\": \"Green\", \"font\": {\"background\": \"white\"}, \"title\": \"Finished\"}, {\"id\": 72, \"label\": 72, \"color\": \"Green\", \"font\": {\"background\": \"white\"}, \"title\": \"Finished\"}, {\"id\": 73, \"label\": 73, \"color\": \"Green\", \"font\": {\"background\": \"white\"}, \"title\": \"Finished\"}, {\"id\": 74, \"label\": 74, \"color\": \"Green\", \"font\": {\"background\": \"white\"}, \"title\": \"Finished\"}, {\"id\": 75, \"label\": 75, \"color\": \"Green\", \"font\": {\"background\": \"white\"}, \"title\": \"Finished\"}, {\"id\": 76, \"label\": 76, \"color\": \"Green\", \"font\": {\"background\": \"white\"}, \"title\": \"Finished\"}, {\"id\": 77, \"label\": 77, \"color\": \"Green\", \"font\": {\"background\": \"white\"}, \"title\": \"Finished\"}, {\"id\": 78, \"label\": 78, \"color\": \"Green\", \"font\": {\"background\": \"white\"}, \"title\": \"Finished\"}, {\"id\": 79, \"label\": 79, \"color\": \"Green\", \"font\": {\"background\": \"white\"}, \"title\": \"Finished\"}, {\"id\": 80, \"label\": 80, \"color\": \"Green\", \"font\": {\"background\": \"white\"}, \"title\": \"Finished\"}, {\"id\": 81, \"label\": 81, \"color\": \"Green\", \"font\": {\"background\": \"white\"}, \"title\": \"Finished\"}, {\"id\": 82, \"label\": 82, \"color\": \"Green\", \"font\": {\"background\": \"white\"}, \"title\": \"Finished\"}, {\"id\": 83, \"label\": 83, \"color\": \"Green\", \"font\": {\"background\": \"white\"}, \"title\": \"Finished\"}, {\"id\": 84, \"label\": 84, \"color\": \"Green\", \"font\": {\"background\": \"white\"}, \"title\": \"Finished\"}, {\"id\": 85, \"label\": 85, \"color\": \"Green\", \"font\": {\"background\": \"white\"}, \"title\": \"Finished\"}, {\"id\": 86, \"label\": 86, \"color\": \"Lime\", \"font\": {\"background\": \"white\"}, \"title\": \"Running\"}, {\"id\": 87, \"label\": 87, \"color\": \"Yellow\", \"font\": {\"background\": \"white\"}, \"title\": \"Pending\"}, {\"id\": 88, \"label\": 88, \"color\": \"Yellow\", \"font\": {\"background\": \"white\"}, \"title\": \"Pending\"}, {\"id\": 89, \"label\": 89, \"color\": \"Yellow\", \"font\": {\"background\": \"white\"}, \"title\": \"Pending\"}, {\"id\": 90, \"label\": 90, \"color\": \"Yellow\", \"font\": {\"background\": \"white\"}, \"title\": \"Pending\"}, {\"id\": 91, \"label\": 91, \"color\": \"Yellow\", \"font\": {\"background\": \"white\"}, \"title\": \"Pending\"}, {\"id\": 92, \"label\": 92, \"color\": \"Yellow\", \"font\": {\"background\": \"white\"}, \"title\": \"Pending\"}, {\"id\": 93, \"label\": 93, \"color\": \"Yellow\", \"font\": {\"background\": \"white\"}, \"title\": \"Pending\"}, {\"id\": 94, \"label\": 94, \"color\": \"Yellow\", \"font\": {\"background\": \"white\"}, \"title\": \"Pending\"}, {\"id\": 95, \"label\": 95, \"color\": \"Yellow\", \"font\": {\"background\": \"white\"}, \"title\": \"Pending\"}, {\"id\": 96, \"label\": 96, \"color\": \"Yellow\", \"font\": {\"background\": \"white\"}, \"title\": \"Pending\"}, {\"id\": 97, \"label\": 97, \"color\": \"Yellow\", \"font\": {\"background\": \"white\"}, \"title\": \"Pending\"}, {\"id\": 98, \"label\": 98, \"color\": \"Yellow\", \"font\": {\"background\": \"white\"}, \"title\": \"Pending\"}], \"edges\": [{\"from\": 0, \"to\": 1, \"arrows\": \"to\"}, {\"from\": 0, \"to\": 2, \"arrows\": \"to\"}, {\"from\": 1, \"to\": 2, \"arrows\": \"to\"}, {\"from\": 1, \"to\": 3, \"arrows\": \"to\"}, {\"from\": 2, \"to\": 3, \"arrows\": \"to\"}, {\"from\": 2, \"to\": 4, \"arrows\": \"to\"}, {\"from\": 3, \"to\": 4, \"arrows\": \"to\"}, {\"from\": 3, \"to\": 5, \"arrows\": \"to\"}, {\"from\": 4, \"to\": 5, \"arrows\": \"to\"}, {\"from\": 4, \"to\": 6, \"arrows\": \"to\"}, {\"from\": 5, \"to\": 6, \"arrows\": \"to\"}, {\"from\": 5, \"to\": 7, \"arrows\": \"to\"}, {\"from\": 6, \"to\": 7, \"arrows\": \"to\"}, {\"from\": 6, \"to\": 8, \"arrows\": \"to\"}, {\"from\": 7, \"to\": 8, \"arrows\": \"to\"}, {\"from\": 7, \"to\": 9, \"arrows\": \"to\"}, {\"from\": 8, \"to\": 9, \"arrows\": \"to\"}, {\"from\": 8, \"to\": 10, \"arrows\": \"to\"}, {\"from\": 9, \"to\": 10, \"arrows\": \"to\"}, {\"from\": 9, \"to\": 11, \"arrows\": \"to\"}, {\"from\": 10, \"to\": 11, \"arrows\": \"to\"}, {\"from\": 10, \"to\": 12, \"arrows\": \"to\"}, {\"from\": 11, \"to\": 12, \"arrows\": \"to\"}, {\"from\": 11, \"to\": 13, \"arrows\": \"to\"}, {\"from\": 12, \"to\": 13, \"arrows\": \"to\"}, {\"from\": 12, \"to\": 14, \"arrows\": \"to\"}, {\"from\": 13, \"to\": 14, \"arrows\": \"to\"}, {\"from\": 13, \"to\": 15, \"arrows\": \"to\"}, {\"from\": 14, \"to\": 15, \"arrows\": \"to\"}, {\"from\": 14, \"to\": 16, \"arrows\": \"to\"}, {\"from\": 15, \"to\": 16, \"arrows\": \"to\"}, {\"from\": 15, \"to\": 17, \"arrows\": \"to\"}, {\"from\": 16, \"to\": 17, \"arrows\": \"to\"}, {\"from\": 16, \"to\": 18, \"arrows\": \"to\"}, {\"from\": 17, \"to\": 18, \"arrows\": \"to\"}, {\"from\": 17, \"to\": 19, \"arrows\": \"to\"}, {\"from\": 18, \"to\": 19, \"arrows\": \"to\"}, {\"from\": 18, \"to\": 20, \"arrows\": \"to\"}, {\"from\": 19, \"to\": 20, \"arrows\": \"to\"}, {\"from\": 19, \"to\": 21, \"arrows\": \"to\"}, {\"from\": 20, \"to\": 21, \"arrows\": \"to\"}, {\"from\": 20, \"to\": 22, \"arrows\": \"to\"}, {\"from\": 21, \"to\": 22, \"arrows\": \"to\"}, {\"from\": 21, \"to\": 23, \"arrows\": \"to\"}, {\"from\": 22, \"to\": 23, \"arrows\": \"to\"}, {\"from\": 22, \"to\": 24, \"arrows\": \"to\"}, {\"from\": 23, \"to\": 24, \"arrows\": \"to\"}, {\"from\": 23, \"to\": 25, \"arrows\": \"to\"}, {\"from\": 24, \"to\": 25, \"arrows\": \"to\"}, {\"from\": 24, \"to\": 26, \"arrows\": \"to\"}, {\"from\": 25, \"to\": 26, \"arrows\": \"to\"}, {\"from\": 25, \"to\": 27, \"arrows\": \"to\"}, {\"from\": 26, \"to\": 27, \"arrows\": \"to\"}, {\"from\": 26, \"to\": 28, \"arrows\": \"to\"}, {\"from\": 27, \"to\": 28, \"arrows\": \"to\"}, {\"from\": 27, \"to\": 29, \"arrows\": \"to\"}, {\"from\": 28, \"to\": 29, \"arrows\": \"to\"}, {\"from\": 28, \"to\": 30, \"arrows\": \"to\"}, {\"from\": 29, \"to\": 30, \"arrows\": \"to\"}, {\"from\": 29, \"to\": 31, \"arrows\": \"to\"}, {\"from\": 30, \"to\": 31, \"arrows\": \"to\"}, {\"from\": 30, \"to\": 32, \"arrows\": \"to\"}, {\"from\": 31, \"to\": 32, \"arrows\": \"to\"}, {\"from\": 31, \"to\": 33, \"arrows\": \"to\"}, {\"from\": 32, \"to\": 33, \"arrows\": \"to\"}, {\"from\": 32, \"to\": 34, \"arrows\": \"to\"}, {\"from\": 33, \"to\": 34, \"arrows\": \"to\"}, {\"from\": 33, \"to\": 35, \"arrows\": \"to\"}, {\"from\": 34, \"to\": 35, \"arrows\": \"to\"}, {\"from\": 34, \"to\": 36, \"arrows\": \"to\"}, {\"from\": 35, \"to\": 36, \"arrows\": \"to\"}, {\"from\": 35, \"to\": 37, \"arrows\": \"to\"}, {\"from\": 36, \"to\": 37, \"arrows\": \"to\"}, {\"from\": 36, \"to\": 38, \"arrows\": \"to\"}, {\"from\": 37, \"to\": 38, \"arrows\": \"to\"}, {\"from\": 37, \"to\": 39, \"arrows\": \"to\"}, {\"from\": 38, \"to\": 39, \"arrows\": \"to\"}, {\"from\": 38, \"to\": 40, \"arrows\": \"to\"}, {\"from\": 39, \"to\": 40, \"arrows\": \"to\"}, {\"from\": 39, \"to\": 41, \"arrows\": \"to\"}, {\"from\": 40, \"to\": 41, \"arrows\": \"to\"}, {\"from\": 40, \"to\": 42, \"arrows\": \"to\"}, {\"from\": 41, \"to\": 42, \"arrows\": \"to\"}, {\"from\": 41, \"to\": 43, \"arrows\": \"to\"}, {\"from\": 42, \"to\": 43, \"arrows\": \"to\"}, {\"from\": 42, \"to\": 44, \"arrows\": \"to\"}, {\"from\": 43, \"to\": 44, \"arrows\": \"to\"}, {\"from\": 43, \"to\": 45, \"arrows\": \"to\"}, {\"from\": 44, \"to\": 45, \"arrows\": \"to\"}, {\"from\": 44, \"to\": 46, \"arrows\": \"to\"}, {\"from\": 45, \"to\": 46, \"arrows\": \"to\"}, {\"from\": 45, \"to\": 47, \"arrows\": \"to\"}, {\"from\": 46, \"to\": 47, \"arrows\": \"to\"}, {\"from\": 46, \"to\": 48, \"arrows\": \"to\"}, {\"from\": 47, \"to\": 48, \"arrows\": \"to\"}, {\"from\": 47, \"to\": 49, \"arrows\": \"to\"}, {\"from\": 48, \"to\": 49, \"arrows\": \"to\"}, {\"from\": 48, \"to\": 50, \"arrows\": \"to\"}, {\"from\": 49, \"to\": 50, \"arrows\": \"to\"}, {\"from\": 49, \"to\": 51, \"arrows\": \"to\"}, {\"from\": 50, \"to\": 51, \"arrows\": \"to\"}, {\"from\": 50, \"to\": 52, \"arrows\": \"to\"}, {\"from\": 51, \"to\": 52, \"arrows\": \"to\"}, {\"from\": 51, \"to\": 53, \"arrows\": \"to\"}, {\"from\": 52, \"to\": 53, \"arrows\": \"to\"}, {\"from\": 52, \"to\": 54, \"arrows\": \"to\"}, {\"from\": 53, \"to\": 54, \"arrows\": \"to\"}, {\"from\": 53, \"to\": 55, \"arrows\": \"to\"}, {\"from\": 54, \"to\": 55, \"arrows\": \"to\"}, {\"from\": 54, \"to\": 56, \"arrows\": \"to\"}, {\"from\": 55, \"to\": 56, \"arrows\": \"to\"}, {\"from\": 55, \"to\": 57, \"arrows\": \"to\"}, {\"from\": 56, \"to\": 57, \"arrows\": \"to\"}, {\"from\": 56, \"to\": 58, \"arrows\": \"to\"}, {\"from\": 57, \"to\": 58, \"arrows\": \"to\"}, {\"from\": 57, \"to\": 59, \"arrows\": \"to\"}, {\"from\": 58, \"to\": 59, \"arrows\": \"to\"}, {\"from\": 58, \"to\": 60, \"arrows\": \"to\"}, {\"from\": 59, \"to\": 60, \"arrows\": \"to\"}, {\"from\": 59, \"to\": 61, \"arrows\": \"to\"}, {\"from\": 60, \"to\": 61, \"arrows\": \"to\"}, {\"from\": 60, \"to\": 62, \"arrows\": \"to\"}, {\"from\": 61, \"to\": 62, \"arrows\": \"to\"}, {\"from\": 61, \"to\": 63, \"arrows\": \"to\"}, {\"from\": 62, \"to\": 63, \"arrows\": \"to\"}, {\"from\": 62, \"to\": 64, \"arrows\": \"to\"}, {\"from\": 63, \"to\": 64, \"arrows\": \"to\"}, {\"from\": 63, \"to\": 65, \"arrows\": \"to\"}, {\"from\": 64, \"to\": 65, \"arrows\": \"to\"}, {\"from\": 64, \"to\": 66, \"arrows\": \"to\"}, {\"from\": 65, \"to\": 66, \"arrows\": \"to\"}, {\"from\": 65, \"to\": 67, \"arrows\": \"to\"}, {\"from\": 66, \"to\": 67, \"arrows\": \"to\"}, {\"from\": 66, \"to\": 68, \"arrows\": \"to\"}, {\"from\": 67, \"to\": 68, \"arrows\": \"to\"}, {\"from\": 67, \"to\": 69, \"arrows\": \"to\"}, {\"from\": 68, \"to\": 69, \"arrows\": \"to\"}, {\"from\": 68, \"to\": 70, \"arrows\": \"to\"}, {\"from\": 69, \"to\": 70, \"arrows\": \"to\"}, {\"from\": 69, \"to\": 71, \"arrows\": \"to\"}, {\"from\": 70, \"to\": 71, \"arrows\": \"to\"}, {\"from\": 70, \"to\": 72, \"arrows\": \"to\"}, {\"from\": 71, \"to\": 72, \"arrows\": \"to\"}, {\"from\": 71, \"to\": 73, \"arrows\": \"to\"}, {\"from\": 72, \"to\": 73, \"arrows\": \"to\"}, {\"from\": 72, \"to\": 74, \"arrows\": \"to\"}, {\"from\": 73, \"to\": 74, \"arrows\": \"to\"}, {\"from\": 73, \"to\": 75, \"arrows\": \"to\"}, {\"from\": 74, \"to\": 75, \"arrows\": \"to\"}, {\"from\": 74, \"to\": 76, \"arrows\": \"to\"}, {\"from\": 75, \"to\": 76, \"arrows\": \"to\"}, {\"from\": 75, \"to\": 77, \"arrows\": \"to\"}, {\"from\": 76, \"to\": 77, \"arrows\": \"to\"}, {\"from\": 76, \"to\": 78, \"arrows\": \"to\"}, {\"from\": 77, \"to\": 78, \"arrows\": \"to\"}, {\"from\": 77, \"to\": 79, \"arrows\": \"to\"}, {\"from\": 78, \"to\": 79, \"arrows\": \"to\"}, {\"from\": 78, \"to\": 80, \"arrows\": \"to\"}, {\"from\": 79, \"to\": 80, \"arrows\": \"to\"}, {\"from\": 79, \"to\": 81, \"arrows\": \"to\"}, {\"from\": 80, \"to\": 81, \"arrows\": \"to\"}, {\"from\": 80, \"to\": 82, \"arrows\": \"to\"}, {\"from\": 81, \"to\": 82, \"arrows\": \"to\"}, {\"from\": 81, \"to\": 83, \"arrows\": \"to\"}, {\"from\": 82, \"to\": 83, \"arrows\": \"to\"}, {\"from\": 82, \"to\": 84, \"arrows\": \"to\"}, {\"from\": 83, \"to\": 84, \"arrows\": \"to\"}, {\"from\": 83, \"to\": 85, \"arrows\": \"to\"}, {\"from\": 84, \"to\": 85, \"arrows\": \"to\"}, {\"from\": 84, \"to\": 86, \"arrows\": \"to\"}, {\"from\": 85, \"to\": 86, \"arrows\": \"to\"}, {\"from\": 85, \"to\": 87, \"arrows\": \"to\"}, {\"from\": 86, \"to\": 87, \"arrows\": \"to\"}, {\"from\": 86, \"to\": 88, \"arrows\": \"to\"}, {\"from\": 87, \"to\": 88, \"arrows\": \"to\"}, {\"from\": 87, \"to\": 89, \"arrows\": \"to\"}, {\"from\": 88, \"to\": 89, \"arrows\": \"to\"}, {\"from\": 88, \"to\": 90, \"arrows\": \"to\"}, {\"from\": 89, \"to\": 90, \"arrows\": \"to\"}, {\"from\": 89, \"to\": 91, \"arrows\": \"to\"}, {\"from\": 90, \"to\": 91, \"arrows\": \"to\"}, {\"from\": 90, \"to\": 92, \"arrows\": \"to\"}, {\"from\": 91, \"to\": 92, \"arrows\": \"to\"}, {\"from\": 91, \"to\": 93, \"arrows\": \"to\"}, {\"from\": 92, \"to\": 93, \"arrows\": \"to\"}, {\"from\": 92, \"to\": 94, \"arrows\": \"to\"}, {\"from\": 93, \"to\": 94, \"arrows\": \"to\"}, {\"from\": 93, \"to\": 95, \"arrows\": \"to\"}, {\"from\": 94, \"to\": 95, \"arrows\": \"to\"}, {\"from\": 94, \"to\": 96, \"arrows\": \"to\"}, {\"from\": 95, \"to\": 96, \"arrows\": \"to\"}, {\"from\": 95, \"to\": 97, \"arrows\": \"to\"}, {\"from\": 96, \"to\": 97, \"arrows\": \"to\"}, {\"from\": 96, \"to\": 98, \"arrows\": \"to\"}, {\"from\": 97, \"to\": 98, \"arrows\": \"to\"}, {\"from\": 0, \"to\": 1, \"arrows\": \"to\"}, {\"from\": 0, \"to\": 2, \"arrows\": \"to\"}, {\"from\": 1, \"to\": 2, \"arrows\": \"to\"}, {\"from\": 1, \"to\": 3, \"arrows\": \"to\"}, {\"from\": 2, \"to\": 3, \"arrows\": \"to\"}, {\"from\": 2, \"to\": 4, \"arrows\": \"to\"}, {\"from\": 3, \"to\": 4, \"arrows\": \"to\"}, {\"from\": 3, \"to\": 5, \"arrows\": \"to\"}, {\"from\": 4, \"to\": 5, \"arrows\": \"to\"}, {\"from\": 4, \"to\": 6, \"arrows\": \"to\"}, {\"from\": 5, \"to\": 6, \"arrows\": \"to\"}, {\"from\": 5, \"to\": 7, \"arrows\": \"to\"}, {\"from\": 6, \"to\": 7, \"arrows\": \"to\"}, {\"from\": 6, \"to\": 8, \"arrows\": \"to\"}, {\"from\": 7, \"to\": 8, \"arrows\": \"to\"}, {\"from\": 7, \"to\": 9, \"arrows\": \"to\"}, {\"from\": 8, \"to\": 9, \"arrows\": \"to\"}, {\"from\": 8, \"to\": 10, \"arrows\": \"to\"}, {\"from\": 9, \"to\": 10, \"arrows\": \"to\"}, {\"from\": 9, \"to\": 11, \"arrows\": \"to\"}, {\"from\": 10, \"to\": 11, \"arrows\": \"to\"}, {\"from\": 10, \"to\": 12, \"arrows\": \"to\"}, {\"from\": 11, \"to\": 12, \"arrows\": \"to\"}, {\"from\": 11, \"to\": 13, \"arrows\": \"to\"}, {\"from\": 12, \"to\": 13, \"arrows\": \"to\"}, {\"from\": 12, \"to\": 14, \"arrows\": \"to\"}, {\"from\": 13, \"to\": 14, \"arrows\": \"to\"}, {\"from\": 13, \"to\": 15, \"arrows\": \"to\"}, {\"from\": 14, \"to\": 15, \"arrows\": \"to\"}, {\"from\": 14, \"to\": 16, \"arrows\": \"to\"}, {\"from\": 15, \"to\": 16, \"arrows\": \"to\"}, {\"from\": 15, \"to\": 17, \"arrows\": \"to\"}, {\"from\": 16, \"to\": 17, \"arrows\": \"to\"}, {\"from\": 16, \"to\": 18, \"arrows\": \"to\"}, {\"from\": 17, \"to\": 18, \"arrows\": \"to\"}, {\"from\": 17, \"to\": 19, \"arrows\": \"to\"}, {\"from\": 18, \"to\": 19, \"arrows\": \"to\"}, {\"from\": 18, \"to\": 20, \"arrows\": \"to\"}, {\"from\": 19, \"to\": 20, \"arrows\": \"to\"}, {\"from\": 19, \"to\": 21, \"arrows\": \"to\"}, {\"from\": 20, \"to\": 21, \"arrows\": \"to\"}, {\"from\": 20, \"to\": 22, \"arrows\": \"to\"}, {\"from\": 21, \"to\": 22, \"arrows\": \"to\"}, {\"from\": 21, \"to\": 23, \"arrows\": \"to\"}, {\"from\": 22, \"to\": 23, \"arrows\": \"to\"}, {\"from\": 22, \"to\": 24, \"arrows\": \"to\"}, {\"from\": 23, \"to\": 24, \"arrows\": \"to\"}, {\"from\": 23, \"to\": 25, \"arrows\": \"to\"}, {\"from\": 24, \"to\": 25, \"arrows\": \"to\"}, {\"from\": 24, \"to\": 26, \"arrows\": \"to\"}, {\"from\": 25, \"to\": 26, \"arrows\": \"to\"}, {\"from\": 25, \"to\": 27, \"arrows\": \"to\"}, {\"from\": 26, \"to\": 27, \"arrows\": \"to\"}, {\"from\": 26, \"to\": 28, \"arrows\": \"to\"}, {\"from\": 27, \"to\": 28, \"arrows\": \"to\"}, {\"from\": 27, \"to\": 29, \"arrows\": \"to\"}, {\"from\": 28, \"to\": 29, \"arrows\": \"to\"}, {\"from\": 28, \"to\": 30, \"arrows\": \"to\"}, {\"from\": 29, \"to\": 30, \"arrows\": \"to\"}, {\"from\": 29, \"to\": 31, \"arrows\": \"to\"}, {\"from\": 30, \"to\": 31, \"arrows\": \"to\"}, {\"from\": 30, \"to\": 32, \"arrows\": \"to\"}, {\"from\": 31, \"to\": 32, \"arrows\": \"to\"}, {\"from\": 31, \"to\": 33, \"arrows\": \"to\"}, {\"from\": 32, \"to\": 33, \"arrows\": \"to\"}, {\"from\": 32, \"to\": 34, \"arrows\": \"to\"}, {\"from\": 33, \"to\": 34, \"arrows\": \"to\"}, {\"from\": 33, \"to\": 35, \"arrows\": \"to\"}, {\"from\": 34, \"to\": 35, \"arrows\": \"to\"}, {\"from\": 34, \"to\": 36, \"arrows\": \"to\"}, {\"from\": 35, \"to\": 36, \"arrows\": \"to\"}, {\"from\": 35, \"to\": 37, \"arrows\": \"to\"}, {\"from\": 36, \"to\": 37, \"arrows\": \"to\"}, {\"from\": 36, \"to\": 38, \"arrows\": \"to\"}, {\"from\": 37, \"to\": 38, \"arrows\": \"to\"}, {\"from\": 37, \"to\": 39, \"arrows\": \"to\"}, {\"from\": 38, \"to\": 39, \"arrows\": \"to\"}, {\"from\": 38, \"to\": 40, \"arrows\": \"to\"}, {\"from\": 39, \"to\": 40, \"arrows\": \"to\"}, {\"from\": 39, \"to\": 41, \"arrows\": \"to\"}, {\"from\": 40, \"to\": 41, \"arrows\": \"to\"}, {\"from\": 40, \"to\": 42, \"arrows\": \"to\"}, {\"from\": 41, \"to\": 42, \"arrows\": \"to\"}, {\"from\": 41, \"to\": 43, \"arrows\": \"to\"}, {\"from\": 42, \"to\": 43, \"arrows\": \"to\"}, {\"from\": 42, \"to\": 44, \"arrows\": \"to\"}, {\"from\": 43, \"to\": 44, \"arrows\": \"to\"}, {\"from\": 43, \"to\": 45, \"arrows\": \"to\"}, {\"from\": 44, \"to\": 45, \"arrows\": \"to\"}, {\"from\": 44, \"to\": 46, \"arrows\": \"to\"}, {\"from\": 45, \"to\": 46, \"arrows\": \"to\"}, {\"from\": 45, \"to\": 47, \"arrows\": \"to\"}, {\"from\": 46, \"to\": 47, \"arrows\": \"to\"}, {\"from\": 46, \"to\": 48, \"arrows\": \"to\"}, {\"from\": 47, \"to\": 48, \"arrows\": \"to\"}, {\"from\": 47, \"to\": 49, \"arrows\": \"to\"}, {\"from\": 48, \"to\": 49, \"arrows\": \"to\"}, {\"from\": 48, \"to\": 50, \"arrows\": \"to\"}, {\"from\": 49, \"to\": 50, \"arrows\": \"to\"}, {\"from\": 49, \"to\": 51, \"arrows\": \"to\"}, {\"from\": 50, \"to\": 51, \"arrows\": \"to\"}, {\"from\": 50, \"to\": 52, \"arrows\": \"to\"}, {\"from\": 51, \"to\": 52, \"arrows\": \"to\"}, {\"from\": 51, \"to\": 53, \"arrows\": \"to\"}, {\"from\": 52, \"to\": 53, \"arrows\": \"to\"}, {\"from\": 52, \"to\": 54, \"arrows\": \"to\"}, {\"from\": 53, \"to\": 54, \"arrows\": \"to\"}, {\"from\": 53, \"to\": 55, \"arrows\": \"to\"}, {\"from\": 54, \"to\": 55, \"arrows\": \"to\"}, {\"from\": 54, \"to\": 56, \"arrows\": \"to\"}, {\"from\": 55, \"to\": 56, \"arrows\": \"to\"}, {\"from\": 55, \"to\": 57, \"arrows\": \"to\"}, {\"from\": 56, \"to\": 57, \"arrows\": \"to\"}, {\"from\": 56, \"to\": 58, \"arrows\": \"to\"}, {\"from\": 57, \"to\": 58, \"arrows\": \"to\"}, {\"from\": 57, \"to\": 59, \"arrows\": \"to\"}, {\"from\": 58, \"to\": 59, \"arrows\": \"to\"}, {\"from\": 58, \"to\": 60, \"arrows\": \"to\"}, {\"from\": 59, \"to\": 60, \"arrows\": \"to\"}, {\"from\": 59, \"to\": 61, \"arrows\": \"to\"}, {\"from\": 60, \"to\": 61, \"arrows\": \"to\"}, {\"from\": 60, \"to\": 62, \"arrows\": \"to\"}, {\"from\": 61, \"to\": 62, \"arrows\": \"to\"}, {\"from\": 61, \"to\": 63, \"arrows\": \"to\"}, {\"from\": 62, \"to\": 63, \"arrows\": \"to\"}, {\"from\": 62, \"to\": 64, \"arrows\": \"to\"}, {\"from\": 63, \"to\": 64, \"arrows\": \"to\"}, {\"from\": 63, \"to\": 65, \"arrows\": \"to\"}, {\"from\": 64, \"to\": 65, \"arrows\": \"to\"}, {\"from\": 64, \"to\": 66, \"arrows\": \"to\"}, {\"from\": 65, \"to\": 66, \"arrows\": \"to\"}, {\"from\": 65, \"to\": 67, \"arrows\": \"to\"}, {\"from\": 66, \"to\": 67, \"arrows\": \"to\"}, {\"from\": 66, \"to\": 68, \"arrows\": \"to\"}, {\"from\": 67, \"to\": 68, \"arrows\": \"to\"}, {\"from\": 67, \"to\": 69, \"arrows\": \"to\"}, {\"from\": 68, \"to\": 69, \"arrows\": \"to\"}, {\"from\": 68, \"to\": 70, \"arrows\": \"to\"}, {\"from\": 69, \"to\": 70, \"arrows\": \"to\"}, {\"from\": 69, \"to\": 71, \"arrows\": \"to\"}, {\"from\": 70, \"to\": 71, \"arrows\": \"to\"}, {\"from\": 70, \"to\": 72, \"arrows\": \"to\"}, {\"from\": 71, \"to\": 72, \"arrows\": \"to\"}, {\"from\": 71, \"to\": 73, \"arrows\": \"to\"}, {\"from\": 72, \"to\": 73, \"arrows\": \"to\"}, {\"from\": 72, \"to\": 74, \"arrows\": \"to\"}, {\"from\": 73, \"to\": 74, \"arrows\": \"to\"}, {\"from\": 73, \"to\": 75, \"arrows\": \"to\"}, {\"from\": 74, \"to\": 75, \"arrows\": \"to\"}, {\"from\": 74, \"to\": 76, \"arrows\": \"to\"}, {\"from\": 75, \"to\": 76, \"arrows\": \"to\"}, {\"from\": 75, \"to\": 77, \"arrows\": \"to\"}, {\"from\": 76, \"to\": 77, \"arrows\": \"to\"}, {\"from\": 76, \"to\": 78, \"arrows\": \"to\"}, {\"from\": 77, \"to\": 78, \"arrows\": \"to\"}, {\"from\": 77, \"to\": 79, \"arrows\": \"to\"}, {\"from\": 78, \"to\": 79, \"arrows\": \"to\"}, {\"from\": 78, \"to\": 80, \"arrows\": \"to\"}, {\"from\": 79, \"to\": 80, \"arrows\": \"to\"}, {\"from\": 79, \"to\": 81, \"arrows\": \"to\"}, {\"from\": 80, \"to\": 81, \"arrows\": \"to\"}, {\"from\": 80, \"to\": 82, \"arrows\": \"to\"}, {\"from\": 81, \"to\": 82, \"arrows\": \"to\"}, {\"from\": 81, \"to\": 83, \"arrows\": \"to\"}, {\"from\": 82, \"to\": 83, \"arrows\": \"to\"}, {\"from\": 82, \"to\": 84, \"arrows\": \"to\"}, {\"from\": 83, \"to\": 84, \"arrows\": \"to\"}, {\"from\": 83, \"to\": 85, \"arrows\": \"to\"}, {\"from\": 84, \"to\": 85, \"arrows\": \"to\"}, {\"from\": 84, \"to\": 86, \"arrows\": \"to\"}, {\"from\": 85, \"to\": 86, \"arrows\": \"to\"}, {\"from\": 85, \"to\": 87, \"arrows\": \"to\"}, {\"from\": 86, \"to\": 87, \"arrows\": \"to\"}, {\"from\": 86, \"to\": 88, \"arrows\": \"to\"}, {\"from\": 87, \"to\": 88, \"arrows\": \"to\"}, {\"from\": 87, \"to\": 89, \"arrows\": \"to\"}, {\"from\": 88, \"to\": 89, \"arrows\": \"to\"}, {\"from\": 88, \"to\": 90, \"arrows\": \"to\"}, {\"from\": 89, \"to\": 90, \"arrows\": \"to\"}, {\"from\": 89, \"to\": 91, \"arrows\": \"to\"}, {\"from\": 90, \"to\": 91, \"arrows\": \"to\"}, {\"from\": 90, \"to\": 92, \"arrows\": \"to\"}, {\"from\": 91, \"to\": 92, \"arrows\": \"to\"}, {\"from\": 91, \"to\": 93, \"arrows\": \"to\"}, {\"from\": 92, \"to\": 93, \"arrows\": \"to\"}, {\"from\": 92, \"to\": 94, \"arrows\": \"to\"}, {\"from\": 93, \"to\": 94, \"arrows\": \"to\"}, {\"from\": 93, \"to\": 95, \"arrows\": \"to\"}, {\"from\": 94, \"to\": 95, \"arrows\": \"to\"}, {\"from\": 94, \"to\": 96, \"arrows\": \"to\"}, {\"from\": 95, \"to\": 96, \"arrows\": \"to\"}, {\"from\": 95, \"to\": 97, \"arrows\": \"to\"}, {\"from\": 96, \"to\": 97, \"arrows\": \"to\"}, {\"from\": 96, \"to\": 98, \"arrows\": \"to\"}, {\"from\": 97, \"to\": 98, \"arrows\": \"to\"}]}'"
      ]
     },
     "execution_count": 31,
     "metadata": {},
     "output_type": "execute_result"
    }
   ],
   "source": [
    "dfkl.update()\n"
   ]
  },
  {
   "cell_type": "code",
   "execution_count": 35,
   "metadata": {},
   "outputs": [
    {
     "data": {
      "application/javascript": [
       "require.config({\n",
       "  paths: {\n",
       "    vis: 'https://cdnjs.cloudflare.com/ajax/libs/vis/4.18.1/vis'\n",
       "  }\n",
       "});\n",
       "require(['vis'], function (vis) {\n",
       "    element.append('<div id=\"mynetwork\" style=\"width:950px;height:750px;border:1px solid lightgray;\"></div>')\n",
       "    var nodes=0;\n",
       "    var edges=0\n",
       "    nodes = new vis.DataSet(window.nodesList);\n",
       "    edges = new vis.DataSet(window.edgesList);\n",
       "    var container = document.getElementById('mynetwork');\n",
       "    var data = {\n",
       "         nodes: nodes,\n",
       "         edges: edges\n",
       "     };\n",
       "     var options = {interaction:{hover:true}, \n",
       "                   layout: {\n",
       "                    hierarchical: {\n",
       "                        direction: 'UD'\n",
       "                    }}\n",
       "                   };\n",
       "     var network = new vis.Network(container, data, options);\n",
       "     network.on(\"hoverNode\", function (params) {\n",
       "             \n",
       "     });\n",
       "     network.on(\"hoverEdge\", function (params) {\n",
       "            \n",
       "     });\n",
       "     network.on(\"blurNode\", function (params) {\n",
       "             \n",
       "     });\n",
       "     network.on(\"blurEdge\", function (params) {\n",
       "             \n",
       "     });\n",
       "});"
      ],
      "text/plain": [
       "<IPython.core.display.Javascript object>"
      ]
     },
     "metadata": {},
     "output_type": "display_data"
    }
   ],
   "source": [
    "%%javascript\n",
    "require.config({\n",
    "  paths: {\n",
    "    vis: 'https://cdnjs.cloudflare.com/ajax/libs/vis/4.18.1/vis.min'\n",
    "  }\n",
    "});\n",
    "require(['vis'], function (vis) {\n",
    "    element.append('<div id=\"mynetwork\" style=\"width:950px;height:750px;border:1px solid lightgray;\"></div>')\n",
    "    var nodes = new vis.DataSet(window.nodesList);\n",
    "    var edges = new vis.DataSet(window.edgesList);\n",
    "    var container = document.getElementById('mynetwork');\n",
    "    var data = {\n",
    "         nodes: nodes,\n",
    "         edges: edges\n",
    "     };\n",
    "     var options = {interaction:{hover:true}, \n",
    "                   layout: {\n",
    "                    hierarchical: {\n",
    "                        direction: 'UD'\n",
    "                    }}\n",
    "                   };\n",
    "     var network = new vis.Network(container, data, options);\n",
    "     network.on(\"hoverNode\", function (params) {\n",
    "             \n",
    "     });\n",
    "     network.on(\"hoverEdge\", function (params) {\n",
    "            \n",
    "     });\n",
    "     network.on(\"blurNode\", function (params) {\n",
    "             \n",
    "     });\n",
    "     network.on(\"blurEdge\", function (params) {\n",
    "             \n",
    "     });\n",
    "});\n"
   ]
  },
  {
   "cell_type": "code",
   "execution_count": 28,
   "metadata": {},
   "outputs": [
    {
     "data": {
      "application/javascript": [
       "$(\".vis-tooltip\").insertBefore($(\".vis-network\"))"
      ],
      "text/plain": [
       "<IPython.core.display.Javascript object>"
      ]
     },
     "metadata": {},
     "output_type": "display_data"
    }
   ],
   "source": [
    "%%javascript \n",
    "$(\".vis-tooltip\").insertBefore($(\".vis-network\"))"
   ]
  },
  {
   "cell_type": "code",
   "execution_count": null,
   "metadata": {
    "collapsed": true
   },
   "outputs": [],
   "source": []
  },
  {
   "cell_type": "code",
   "execution_count": null,
   "metadata": {
    "collapsed": true
   },
   "outputs": [],
   "source": []
  },
  {
   "cell_type": "code",
   "execution_count": null,
   "metadata": {
    "collapsed": true
   },
   "outputs": [],
   "source": []
  }
 ],
 "metadata": {
  "kernelspec": {
   "display_name": "Python 3",
   "language": "python",
   "name": "python3"
  },
  "language_info": {
   "codemirror_mode": {
    "name": "ipython",
    "version": 3
   },
   "file_extension": ".py",
   "mimetype": "text/x-python",
   "name": "python",
   "nbconvert_exporter": "python",
   "pygments_lexer": "ipython3",
   "version": "3.6.1"
  }
 },
 "nbformat": 4,
 "nbformat_minor": 2
}
